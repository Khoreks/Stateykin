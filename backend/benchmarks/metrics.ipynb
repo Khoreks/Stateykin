{
 "cells": [
  {
   "cell_type": "code",
   "execution_count": 1,
   "id": "e2fcde34-771e-4e6c-8d2a-18e8a90ad270",
   "metadata": {},
   "outputs": [
    {
     "data": {
      "text/html": [
       "<div>\n",
       "<style scoped>\n",
       "    .dataframe tbody tr th:only-of-type {\n",
       "        vertical-align: middle;\n",
       "    }\n",
       "\n",
       "    .dataframe tbody tr th {\n",
       "        vertical-align: top;\n",
       "    }\n",
       "\n",
       "    .dataframe thead th {\n",
       "        text-align: right;\n",
       "    }\n",
       "</style>\n",
       "<table border=\"1\" class=\"dataframe\">\n",
       "  <thead>\n",
       "    <tr style=\"text-align: right;\">\n",
       "      <th></th>\n",
       "      <th>context_precision</th>\n",
       "      <th>faithfulness</th>\n",
       "      <th>answer_relevancy</th>\n",
       "      <th>context_recall</th>\n",
       "      <th>mean</th>\n",
       "    </tr>\n",
       "    <tr>\n",
       "      <th>model</th>\n",
       "      <th></th>\n",
       "      <th></th>\n",
       "      <th></th>\n",
       "      <th></th>\n",
       "      <th></th>\n",
       "    </tr>\n",
       "  </thead>\n",
       "  <tbody>\n",
       "    <tr>\n",
       "      <th>LLAMA3-q8_0.gguf</th>\n",
       "      <td>0.412083</td>\n",
       "      <td>0.367982</td>\n",
       "      <td>0.082075</td>\n",
       "      <td>0.203947</td>\n",
       "      <td>0.266522</td>\n",
       "    </tr>\n",
       "    <tr>\n",
       "      <th>gemma-2-9b-it-Q8_0_L.gguf</th>\n",
       "      <td>0.910417</td>\n",
       "      <td>0.811292</td>\n",
       "      <td>0.170569</td>\n",
       "      <td>0.335954</td>\n",
       "      <td>0.557058</td>\n",
       "    </tr>\n",
       "    <tr>\n",
       "      <th>suzume-llama-3-8b-Q8_0.gguf</th>\n",
       "      <td>0.233333</td>\n",
       "      <td>0.186050</td>\n",
       "      <td>0.043334</td>\n",
       "      <td>0.090972</td>\n",
       "      <td>0.138422</td>\n",
       "    </tr>\n",
       "  </tbody>\n",
       "</table>\n",
       "</div>"
      ],
      "text/plain": [
       "                             context_precision  faithfulness  \\\n",
       "model                                                          \n",
       "LLAMA3-q8_0.gguf                      0.412083      0.367982   \n",
       "gemma-2-9b-it-Q8_0_L.gguf             0.910417      0.811292   \n",
       "suzume-llama-3-8b-Q8_0.gguf           0.233333      0.186050   \n",
       "\n",
       "                             answer_relevancy  context_recall      mean  \n",
       "model                                                                    \n",
       "LLAMA3-q8_0.gguf                     0.082075        0.203947  0.266522  \n",
       "gemma-2-9b-it-Q8_0_L.gguf            0.170569        0.335954  0.557058  \n",
       "suzume-llama-3-8b-Q8_0.gguf          0.043334        0.090972  0.138422  "
      ]
     },
     "execution_count": 1,
     "metadata": {},
     "output_type": "execute_result"
    }
   ],
   "source": [
    "import pandas as pd\n",
    "\n",
    "metrics = pd.read_csv('../benchmarks/metrics.csv')\n",
    "avg_metrics = metrics.groupby(by=\"model\")[[\"context_precision\", \"faithfulness\", \"answer_relevancy\", \"context_recall\"]].mean()\n",
    "avg_metrics['mean'] = avg_metrics.mean(axis=1)\n",
    "avg_metrics"
   ]
  },
  {
   "cell_type": "code",
   "execution_count": null,
   "id": "fec997dd-67d6-4242-b9fa-f57f430005c4",
   "metadata": {},
   "outputs": [],
   "source": []
  }
 ],
 "metadata": {
  "kernelspec": {
   "display_name": "Python 3 (ipykernel)",
   "language": "python",
   "name": "python3"
  },
  "language_info": {
   "codemirror_mode": {
    "name": "ipython",
    "version": 3
   },
   "file_extension": ".py",
   "mimetype": "text/x-python",
   "name": "python",
   "nbconvert_exporter": "python",
   "pygments_lexer": "ipython3",
   "version": "3.12.4"
  }
 },
 "nbformat": 4,
 "nbformat_minor": 5
}
