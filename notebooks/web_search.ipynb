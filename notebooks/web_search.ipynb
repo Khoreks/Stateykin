{
 "cells": [
  {
   "cell_type": "code",
   "execution_count": 1,
   "id": "4940fe7a-a4ce-40a5-8269-e9995a85bdb3",
   "metadata": {},
   "outputs": [
    {
     "data": {
      "text/html": [
       "<div>\n",
       "<style scoped>\n",
       "    .dataframe tbody tr th:only-of-type {\n",
       "        vertical-align: middle;\n",
       "    }\n",
       "\n",
       "    .dataframe tbody tr th {\n",
       "        vertical-align: top;\n",
       "    }\n",
       "\n",
       "    .dataframe thead th {\n",
       "        text-align: right;\n",
       "    }\n",
       "</style>\n",
       "<table border=\"1\" class=\"dataframe\">\n",
       "  <thead>\n",
       "    <tr style=\"text-align: right;\">\n",
       "      <th></th>\n",
       "      <th>Тема</th>\n",
       "      <th>Социальная сеть</th>\n",
       "      <th>Целевая аудитория</th>\n",
       "      <th>Дополнительная информация</th>\n",
       "      <th>num_message</th>\n",
       "      <th>stage</th>\n",
       "      <th>prompt</th>\n",
       "      <th>model</th>\n",
       "    </tr>\n",
       "  </thead>\n",
       "  <tbody>\n",
       "    <tr>\n",
       "      <th>200</th>\n",
       "      <td>Список книг для расширения кругозора и поиска ...</td>\n",
       "      <td>ВКонтакте</td>\n",
       "      <td>Любители литературы, интересующиеся саморазвит...</td>\n",
       "      <td>Предложить список из 5-7 книг разных жанров с ...</td>\n",
       "      <td>0</td>\n",
       "      <td>extract</td>\n",
       "      <td>5</td>\n",
       "      <td>gemma-2-9b-it-Q8_0_L</td>\n",
       "    </tr>\n",
       "    <tr>\n",
       "      <th>201</th>\n",
       "      <td>Сколько книг нужно читать в год?</td>\n",
       "      <td>Telegram</td>\n",
       "      <td>Любой пользователь, интересующийся саморазвити...</td>\n",
       "      <td>Поделиться личным опытом чтения. Дать советы п...</td>\n",
       "      <td>1</td>\n",
       "      <td>extract</td>\n",
       "      <td>5</td>\n",
       "      <td>gemma-2-9b-it-Q8_0_L</td>\n",
       "    </tr>\n",
       "    <tr>\n",
       "      <th>202</th>\n",
       "      <td>Топ-5 упражнений для утренней зарядки</td>\n",
       "      <td>Instagram</td>\n",
       "      <td>Люди, интересующиеся здоровым образом жизни и ...</td>\n",
       "      <td>Использовать визуальный контент: видео или фот...</td>\n",
       "      <td>2</td>\n",
       "      <td>extract</td>\n",
       "      <td>5</td>\n",
       "      <td>gemma-2-9b-it-Q8_0_L</td>\n",
       "    </tr>\n",
       "    <tr>\n",
       "      <th>203</th>\n",
       "      <td>История успеха известного спортсмена: преодоле...</td>\n",
       "      <td>ВКонтакте</td>\n",
       "      <td>Люди всех возрастов, интересующиеся спортом и ...</td>\n",
       "      <td>Рассказать о жизненном пути спортсмена, его пр...</td>\n",
       "      <td>3</td>\n",
       "      <td>extract</td>\n",
       "      <td>5</td>\n",
       "      <td>gemma-2-9b-it-Q8_0_L</td>\n",
       "    </tr>\n",
       "    <tr>\n",
       "      <th>204</th>\n",
       "      <td>Как правильно обрезать плодовые деревья весной...</td>\n",
       "      <td>Telegram</td>\n",
       "      <td>Садоводы и огородники</td>\n",
       "      <td>NaN</td>\n",
       "      <td>4</td>\n",
       "      <td>extract</td>\n",
       "      <td>5</td>\n",
       "      <td>gemma-2-9b-it-Q8_0_L</td>\n",
       "    </tr>\n",
       "    <tr>\n",
       "      <th>...</th>\n",
       "      <td>...</td>\n",
       "      <td>...</td>\n",
       "      <td>...</td>\n",
       "      <td>...</td>\n",
       "      <td>...</td>\n",
       "      <td>...</td>\n",
       "      <td>...</td>\n",
       "      <td>...</td>\n",
       "    </tr>\n",
       "    <tr>\n",
       "      <th>715</th>\n",
       "      <td>Советы по созданию эффективной команды</td>\n",
       "      <td>Telegram</td>\n",
       "      <td>Работники и руководители, интересующиеся вопро...</td>\n",
       "      <td>Использовать формат чата для обмена советами и...</td>\n",
       "      <td>35</td>\n",
       "      <td>extract</td>\n",
       "      <td>5</td>\n",
       "      <td>suzume-llama-3-8b-Q8_0</td>\n",
       "    </tr>\n",
       "    <tr>\n",
       "      <th>716</th>\n",
       "      <td>Влияние окружающей среды на здоровье</td>\n",
       "      <td>ВКонтакте</td>\n",
       "      <td>Люди всех возрастов, интересующиеся вопросами ...</td>\n",
       "      <td>Использовать ссылки на научные исследования и ...</td>\n",
       "      <td>36</td>\n",
       "      <td>extract</td>\n",
       "      <td>5</td>\n",
       "      <td>suzume-llama-3-8b-Q8_0</td>\n",
       "    </tr>\n",
       "    <tr>\n",
       "      <th>717</th>\n",
       "      <td>Как развить навыки общения</td>\n",
       "      <td>Telegram</td>\n",
       "      <td>Люди всех возрастов, заинтересованные в улучше...</td>\n",
       "      <td>Использовать формат чата для обмена советами и...</td>\n",
       "      <td>37</td>\n",
       "      <td>extract</td>\n",
       "      <td>5</td>\n",
       "      <td>suzume-llama-3-8b-Q8_0</td>\n",
       "    </tr>\n",
       "    <tr>\n",
       "      <th>718</th>\n",
       "      <td>Влияние путешествий на личность</td>\n",
       "      <td>Twitter</td>\n",
       "      <td>Люди любящие путешествовать и интересующиеся в...</td>\n",
       "      <td>Использовать хэштеги #путешествия #личностноер...</td>\n",
       "      <td>38</td>\n",
       "      <td>extract</td>\n",
       "      <td>5</td>\n",
       "      <td>suzume-llama-3-8b-Q8_0</td>\n",
       "    </tr>\n",
       "    <tr>\n",
       "      <th>719</th>\n",
       "      <td>Как развить самодисциплину: советы и рекоменда...</td>\n",
       "      <td>Telegram</td>\n",
       "      <td>Люди всех возрастов, стремящиеся улучшить свои...</td>\n",
       "      <td>Использовать формат чата для обмена вопросами ...</td>\n",
       "      <td>39</td>\n",
       "      <td>extract</td>\n",
       "      <td>5</td>\n",
       "      <td>suzume-llama-3-8b-Q8_0</td>\n",
       "    </tr>\n",
       "  </tbody>\n",
       "</table>\n",
       "<p>120 rows × 8 columns</p>\n",
       "</div>"
      ],
      "text/plain": [
       "                                                  Тема Социальная сеть  \\\n",
       "200  Список книг для расширения кругозора и поиска ...       ВКонтакте   \n",
       "201                   Сколько книг нужно читать в год?        Telegram   \n",
       "202              Топ-5 упражнений для утренней зарядки       Instagram   \n",
       "203  История успеха известного спортсмена: преодоле...       ВКонтакте   \n",
       "204  Как правильно обрезать плодовые деревья весной...        Telegram   \n",
       "..                                                 ...             ...   \n",
       "715             Советы по созданию эффективной команды        Telegram   \n",
       "716               Влияние окружающей среды на здоровье       ВКонтакте   \n",
       "717                         Как развить навыки общения        Telegram   \n",
       "718                    Влияние путешествий на личность         Twitter   \n",
       "719  Как развить самодисциплину: советы и рекоменда...        Telegram   \n",
       "\n",
       "                                     Целевая аудитория  \\\n",
       "200  Любители литературы, интересующиеся саморазвит...   \n",
       "201  Любой пользователь, интересующийся саморазвити...   \n",
       "202  Люди, интересующиеся здоровым образом жизни и ...   \n",
       "203  Люди всех возрастов, интересующиеся спортом и ...   \n",
       "204                              Садоводы и огородники   \n",
       "..                                                 ...   \n",
       "715  Работники и руководители, интересующиеся вопро...   \n",
       "716  Люди всех возрастов, интересующиеся вопросами ...   \n",
       "717  Люди всех возрастов, заинтересованные в улучше...   \n",
       "718  Люди любящие путешествовать и интересующиеся в...   \n",
       "719  Люди всех возрастов, стремящиеся улучшить свои...   \n",
       "\n",
       "                             Дополнительная информация  num_message    stage  \\\n",
       "200  Предложить список из 5-7 книг разных жанров с ...            0  extract   \n",
       "201  Поделиться личным опытом чтения. Дать советы п...            1  extract   \n",
       "202  Использовать визуальный контент: видео или фот...            2  extract   \n",
       "203  Рассказать о жизненном пути спортсмена, его пр...            3  extract   \n",
       "204                                                NaN            4  extract   \n",
       "..                                                 ...          ...      ...   \n",
       "715  Использовать формат чата для обмена советами и...           35  extract   \n",
       "716  Использовать ссылки на научные исследования и ...           36  extract   \n",
       "717  Использовать формат чата для обмена советами и...           37  extract   \n",
       "718  Использовать хэштеги #путешествия #личностноер...           38  extract   \n",
       "719  Использовать формат чата для обмена вопросами ...           39  extract   \n",
       "\n",
       "     prompt                   model  \n",
       "200       5    gemma-2-9b-it-Q8_0_L  \n",
       "201       5    gemma-2-9b-it-Q8_0_L  \n",
       "202       5    gemma-2-9b-it-Q8_0_L  \n",
       "203       5    gemma-2-9b-it-Q8_0_L  \n",
       "204       5    gemma-2-9b-it-Q8_0_L  \n",
       "..      ...                     ...  \n",
       "715       5  suzume-llama-3-8b-Q8_0  \n",
       "716       5  suzume-llama-3-8b-Q8_0  \n",
       "717       5  suzume-llama-3-8b-Q8_0  \n",
       "718       5  suzume-llama-3-8b-Q8_0  \n",
       "719       5  suzume-llama-3-8b-Q8_0  \n",
       "\n",
       "[120 rows x 8 columns]"
      ]
     },
     "execution_count": 1,
     "metadata": {},
     "output_type": "execute_result"
    }
   ],
   "source": [
    "import pandas as pd\n",
    "\n",
    "data = pd.read_csv(\"./data/extraction_results.csv\")\n",
    "data = data[data[\"prompt\"] == 5]\n",
    "data"
   ]
  },
  {
   "cell_type": "code",
   "execution_count": 2,
   "id": "f7d15ab2-2f17-4fd5-80cc-253d33e3ccdd",
   "metadata": {},
   "outputs": [
    {
     "name": "stdout",
     "output_type": "stream",
     "text": [
      "['gemma-2-9b-it-Q8_0_L', 'saiga-llama-3-q8_0', 'suzume-llama-3-8b-Q8_0']\n"
     ]
    }
   ],
   "source": [
    "import os\n",
    "\n",
    "def get_models(directory, extension=\".gguf\"):\n",
    "    return [filename.split(\".\")[0] for filename in os.listdir(directory) if filename.endswith(extension)]\n",
    "\n",
    "models = get_models(\"../models\")\n",
    "print(models)"
   ]
  },
  {
   "cell_type": "code",
   "execution_count": 3,
   "id": "c19dc187-d409-4de4-9841-44e065b5730f",
   "metadata": {},
   "outputs": [],
   "source": [
    "from langchain_community.llms import LlamaCpp\n",
    "from langchain_community.chat_models import ChatOllama\n",
    "from langchain_core.callbacks import CallbackManager, StreamingStdOutCallbackHandler\n",
    "\n",
    "\n",
    "llama3_tokens = {\n",
    "    'first_token': '<|begin_of_text|>',\n",
    "    'start_header': '<|start_header_id|>', \n",
    "    'end_header': '<|end_header_id|>', \n",
    "    'end_message': '<|eot_id|>'\n",
    "}\n",
    "gemma2_tokens = {\n",
    "    'first_token': '',\n",
    "    'start_header': '<start_of_turn>',\n",
    "    'end_header': '',\n",
    "    'end_message': '<end_of_turn>'\n",
    "}\n",
    "\n",
    "def get_llm(path):\n",
    "\n",
    "    model = LlamaCpp(\n",
    "        model_path=path,\n",
    "        temperature=0,\n",
    "        n_ctx=8192,\n",
    "        max_tokens=2000,\n",
    "        top_p=1,\n",
    "        repeat_penalty=1.1,\n",
    "        # callback_manager=CallbackManager([StreamingStdOutCallbackHandler()]),\n",
    "        verbose=False,\n",
    "        n_gpu_layers=33\n",
    "    )\n",
    "    return model\n",
    "\n",
    "def get_chat(model_name):\n",
    "    chat = ChatOllama(model=model_name, temperature=0)\n",
    "    return chat"
   ]
  },
  {
   "cell_type": "code",
   "execution_count": 4,
   "id": "89a10d90-73a9-4bca-a56e-9cc10a86a728",
   "metadata": {},
   "outputs": [],
   "source": [
    "web_search_prompt_base = \"\"\"{first_token}{start_header}system{end_header}\n",
    "\n",
    "Ты являешься экспертом в составлении поисковых запросов в Интернете для поиска информации.\n",
    "Твоя задача на основе темы, целевой аудитории и дополнительной информации составить от 1 до 2 поисковых запросов с целью раскрытия выбранной темы.\n",
    "Верни JSON с помощью одного ключа «queries» без преамбулы или объяснения.\n",
    "\n",
    "Пример:\n",
    "{{\n",
    "    «queries» : [«Текст запроса 1», «Текст запроса 2»]\n",
    "}}\n",
    "\n",
    "Информация для составления запроса:\n",
    "Тема: {topic}\n",
    "Целевая аудитория: {audience}\n",
    "Дополнительная информация: {additional_information}\n",
    "\n",
    "{end_message}{start_header}assistant{end_header}\\n\"\"\"\n",
    "\n",
    "web_search_prompt_candidate_1 = \"\"\"{first_token}{start_header}system{end_header}\n",
    "\n",
    "Ты — эксперт в составлении интернет-поисковых запросов. Твоя задача — на основе заданной темы, целевой аудитории и дополнительной информации составить от 1 до 2 релевантных поисковых запросов, чтобы максимально полно раскрыть тему.\n",
    "Верни JSON с ключом «queries», без объяснений.\n",
    "\n",
    "Пример:\n",
    "{{\n",
    "    «queries»: [«Текст запроса 1», «Текст запроса 2»]\n",
    "}}\n",
    "\n",
    "Информация для составления запроса:\n",
    "Тема: {topic}\n",
    "Целевая аудитория: {audience}\n",
    "Дополнительная информация: {additional_information}\n",
    "\n",
    "{end_message}{start_header}assistant{end_header}\\n\"\"\"\n",
    "web_search_prompt_candidate_2 = \"\"\"{first_token}{start_header}system{end_header}\n",
    "\n",
    "Ты — эксперт в составлении интернет-поисковых запросов. Твоя задача — на основе заданной темы, целевой аудитории и дополнительной информации составить от 1 до 2 релевантных поисковых запросов, чтобы максимально полно раскрыть тему.\n",
    "\n",
    "Требования к запросам:\n",
    "- Используй точные и релевантные ключевые слова.\n",
    "- Формат запросов может быть как вопросительным, так и утвердительным.\n",
    "- Учитывай контекст и уровень знаний целевой аудитории.\n",
    "- Используй язык на котором написан контекст.\n",
    "\n",
    "Пример:\n",
    "{{\n",
    "    «queries»: [«Текст запроса 1», «Текст запроса 2»]\n",
    "}}\n",
    "\n",
    "Верни JSON с ключом «queries», без объяснений.\n",
    "\n",
    "Информация для составления запроса:\n",
    "Тема: {topic}\n",
    "Целевая аудитория: {audience}\n",
    "Дополнительная информация: {additional_information}\n",
    "\n",
    "{end_message}{start_header}assistant{end_header}\\n\"\"\"\n",
    "web_search_prompt_candidate_3 = \"\"\"{first_token}{start_header}system{end_header}\n",
    "\n",
    "Ты — эксперт в составлении интернет-поисковых запросов. На основе заданной темы, целевой аудитории и дополнительной информации составь от 1 до 2 релевантных поисковых запросов, чтобы максимально полно раскрыть тему.\n",
    "\n",
    "Требования к запросам:\n",
    "- Используй точные и релевантные ключевые слова.\n",
    "- Формат запросов может быть как вопросительным, так и утвердительным.\n",
    "- Учитывай контекст и уровень знаний целевой аудитории.\n",
    "- Используй язык на котором написан контекст.\n",
    "\n",
    "Пример для конкретной задачи:\n",
    "Тема: \"Технологии в образовании\"\n",
    "Целевая аудитория: Учителя средней школы\n",
    "Дополнительная информация: Обзор применяемых технологий в образовании\n",
    "\n",
    "{{\n",
    "    «queries»: [\"Современные технологии в образовании\", \"Лучшие образовательные технологии для учителей\"]\n",
    "}}\n",
    "\n",
    "Верни JSON с ключом «queries», без объяснений.\n",
    "\n",
    "Информация для составления запроса:\n",
    "Тема: {topic}\n",
    "Целевая аудитория: {audience}\n",
    "Дополнительная информация: {additional_information}\n",
    "\n",
    "{end_message}{start_header}assistant{end_header}\\n\"\"\"\n",
    "\n",
    "web_serach_candidates = [\n",
    "    web_search_prompt_base,\n",
    "    web_search_prompt_candidate_1,\n",
    "    web_search_prompt_candidate_2,\n",
    "    web_search_prompt_candidate_3\n",
    "]"
   ]
  },
  {
   "cell_type": "code",
   "execution_count": 5,
   "id": "902f6446-a6b6-4a62-a379-e6b9ca55796e",
   "metadata": {},
   "outputs": [],
   "source": [
    "from langchain_core.output_parsers import JsonOutputParser, StrOutputParser\n",
    "from langchain_core.prompts import PromptTemplate\n",
    "\n",
    "import pandas as pd\n",
    "import tqdm\n",
    "from langchain_core.exceptions import OutputParserException\n",
    "\n",
    "\n",
    "def get_web_search_prompt(prompt):\n",
    "    web_search_prompt = PromptTemplate(\n",
    "        template=prompt,\n",
    "        input_variables=[\"first_token\", \"start_header\", \"end_header\", \"end_message\", \"topic\", \"audience\", \"additional_information\"],\n",
    "    )\n",
    "    return web_search_prompt"
   ]
  },
  {
   "cell_type": "code",
   "execution_count": 6,
   "id": "821a1756-ef3f-49bb-80d9-149222a8d1bf",
   "metadata": {},
   "outputs": [
    {
     "name": "stdout",
     "output_type": "stream",
     "text": [
      "gemma-2-9b-it-Q8_0_L\n"
     ]
    },
    {
     "name": "stderr",
     "output_type": "stream",
     "text": [
      "100%|███████████████████████████████████████████████████████████████████████████████████| 4/4 [08:19<00:00, 124.94s/it]\n"
     ]
    },
    {
     "name": "stdout",
     "output_type": "stream",
     "text": [
      "saiga-llama-3-q8_0\n"
     ]
    },
    {
     "name": "stderr",
     "output_type": "stream",
     "text": [
      "100%|███████████████████████████████████████████████████████████████████████████████████| 4/4 [07:29<00:00, 112.45s/it]\n"
     ]
    },
    {
     "name": "stdout",
     "output_type": "stream",
     "text": [
      "suzume-llama-3-8b-Q8_0\n"
     ]
    },
    {
     "name": "stderr",
     "output_type": "stream",
     "text": [
      "100%|███████████████████████████████████████████████████████████████████████████████████| 4/4 [07:46<00:00, 116.52s/it]\n"
     ]
    }
   ],
   "source": [
    "results = pd.DataFrame()\n",
    "\n",
    "\n",
    "for model in get_models(\"../models\"):\n",
    "    print(model)\n",
    "    llm = get_chat(model)\n",
    "    input_dict = gemma2_tokens.copy() if \"gemma\" in model else llama3_tokens.copy()\n",
    "    for candidate in tqdm.tqdm(web_serach_candidates, total=len(web_serach_candidates)):\n",
    "        web_search_prompt = get_web_search_prompt(candidate)\n",
    "        web_search_chain = web_search_prompt | llm | JsonOutputParser()\n",
    "        outputs = {}\n",
    "        inputs = data[data['model'] == models[0]].reset_index(drop=True)\n",
    "        for num, row in inputs.iterrows():\n",
    "            input_dict[\"topic\"] = row[\"Тема\"]\n",
    "            input_dict[\"audience\"] = row[\"Целевая аудитория\"]\n",
    "            input_dict[\"additional_information\"] = row[\"Дополнительная информация\"]\n",
    "            try:\n",
    "                output = web_search_chain.invoke(input_dict)\n",
    "            except OutputParserException:\n",
    "                output = {}\n",
    "            output = {key: output.get(key, None) for key in [\"queries\"]}\n",
    " \n",
    "            output[\"num_message\"] = num\n",
    "            for key in output.keys():\n",
    "                outputs[key] = outputs.get(key, []) + [output[key]]\n",
    "\n",
    "        extract_df = pd.DataFrame.from_dict(outputs)\n",
    "        \n",
    "        extract_df['stage'] = \"web_search\"\n",
    "        extract_df['prompt'] = web_serach_candidates.index(candidate)\n",
    "        extract_df['model'] = model.split(\"/\")[-1]\n",
    "        results = pd.concat([results, extract_df], axis=0)\n",
    "        results.to_csv('./data/web_search_results.csv', index=False)"
   ]
  },
  {
   "cell_type": "code",
   "execution_count": 21,
   "id": "e061c9c9-3884-4895-891d-6ca3ddcffcef",
   "metadata": {},
   "outputs": [
    {
     "data": {
      "text/plain": [
       "query_counts\n",
       "2    437\n",
       "0     43\n",
       "Name: count, dtype: int64"
      ]
     },
     "execution_count": 21,
     "metadata": {},
     "output_type": "execute_result"
    }
   ],
   "source": [
    "results[\"query_counts\"] = results[\"queries\"].apply(lambda x: len(x) if isinstance(x, list) else 0)\n",
    "results[\"query_counts\"].value_counts()"
   ]
  },
  {
   "cell_type": "code",
   "execution_count": 23,
   "id": "1778b9b4-8e93-4625-ab3a-05aec6cb4609",
   "metadata": {},
   "outputs": [
    {
     "data": {
      "text/html": [
       "<div>\n",
       "<style scoped>\n",
       "    .dataframe tbody tr th:only-of-type {\n",
       "        vertical-align: middle;\n",
       "    }\n",
       "\n",
       "    .dataframe tbody tr th {\n",
       "        vertical-align: top;\n",
       "    }\n",
       "\n",
       "    .dataframe thead th {\n",
       "        text-align: right;\n",
       "    }\n",
       "</style>\n",
       "<table border=\"1\" class=\"dataframe\">\n",
       "  <thead>\n",
       "    <tr style=\"text-align: right;\">\n",
       "      <th></th>\n",
       "      <th>queries</th>\n",
       "      <th>num_message</th>\n",
       "      <th>stage</th>\n",
       "      <th>prompt</th>\n",
       "      <th>model</th>\n",
       "      <th>query_counts</th>\n",
       "    </tr>\n",
       "  </thead>\n",
       "  <tbody>\n",
       "    <tr>\n",
       "      <th>12</th>\n",
       "      <td>None</td>\n",
       "      <td>12</td>\n",
       "      <td>web_search</td>\n",
       "      <td>0</td>\n",
       "      <td>saiga-llama-3-q8_0</td>\n",
       "      <td>0</td>\n",
       "    </tr>\n",
       "    <tr>\n",
       "      <th>6</th>\n",
       "      <td>None</td>\n",
       "      <td>6</td>\n",
       "      <td>web_search</td>\n",
       "      <td>1</td>\n",
       "      <td>saiga-llama-3-q8_0</td>\n",
       "      <td>0</td>\n",
       "    </tr>\n",
       "    <tr>\n",
       "      <th>24</th>\n",
       "      <td>None</td>\n",
       "      <td>24</td>\n",
       "      <td>web_search</td>\n",
       "      <td>1</td>\n",
       "      <td>saiga-llama-3-q8_0</td>\n",
       "      <td>0</td>\n",
       "    </tr>\n",
       "    <tr>\n",
       "      <th>0</th>\n",
       "      <td>None</td>\n",
       "      <td>0</td>\n",
       "      <td>web_search</td>\n",
       "      <td>3</td>\n",
       "      <td>saiga-llama-3-q8_0</td>\n",
       "      <td>0</td>\n",
       "    </tr>\n",
       "    <tr>\n",
       "      <th>1</th>\n",
       "      <td>None</td>\n",
       "      <td>1</td>\n",
       "      <td>web_search</td>\n",
       "      <td>3</td>\n",
       "      <td>saiga-llama-3-q8_0</td>\n",
       "      <td>0</td>\n",
       "    </tr>\n",
       "    <tr>\n",
       "      <th>2</th>\n",
       "      <td>None</td>\n",
       "      <td>2</td>\n",
       "      <td>web_search</td>\n",
       "      <td>3</td>\n",
       "      <td>saiga-llama-3-q8_0</td>\n",
       "      <td>0</td>\n",
       "    </tr>\n",
       "    <tr>\n",
       "      <th>3</th>\n",
       "      <td>None</td>\n",
       "      <td>3</td>\n",
       "      <td>web_search</td>\n",
       "      <td>3</td>\n",
       "      <td>saiga-llama-3-q8_0</td>\n",
       "      <td>0</td>\n",
       "    </tr>\n",
       "    <tr>\n",
       "      <th>4</th>\n",
       "      <td>None</td>\n",
       "      <td>4</td>\n",
       "      <td>web_search</td>\n",
       "      <td>3</td>\n",
       "      <td>saiga-llama-3-q8_0</td>\n",
       "      <td>0</td>\n",
       "    </tr>\n",
       "    <tr>\n",
       "      <th>5</th>\n",
       "      <td>None</td>\n",
       "      <td>5</td>\n",
       "      <td>web_search</td>\n",
       "      <td>3</td>\n",
       "      <td>saiga-llama-3-q8_0</td>\n",
       "      <td>0</td>\n",
       "    </tr>\n",
       "    <tr>\n",
       "      <th>6</th>\n",
       "      <td>None</td>\n",
       "      <td>6</td>\n",
       "      <td>web_search</td>\n",
       "      <td>3</td>\n",
       "      <td>saiga-llama-3-q8_0</td>\n",
       "      <td>0</td>\n",
       "    </tr>\n",
       "    <tr>\n",
       "      <th>7</th>\n",
       "      <td>None</td>\n",
       "      <td>7</td>\n",
       "      <td>web_search</td>\n",
       "      <td>3</td>\n",
       "      <td>saiga-llama-3-q8_0</td>\n",
       "      <td>0</td>\n",
       "    </tr>\n",
       "    <tr>\n",
       "      <th>8</th>\n",
       "      <td>None</td>\n",
       "      <td>8</td>\n",
       "      <td>web_search</td>\n",
       "      <td>3</td>\n",
       "      <td>saiga-llama-3-q8_0</td>\n",
       "      <td>0</td>\n",
       "    </tr>\n",
       "    <tr>\n",
       "      <th>9</th>\n",
       "      <td>None</td>\n",
       "      <td>9</td>\n",
       "      <td>web_search</td>\n",
       "      <td>3</td>\n",
       "      <td>saiga-llama-3-q8_0</td>\n",
       "      <td>0</td>\n",
       "    </tr>\n",
       "    <tr>\n",
       "      <th>10</th>\n",
       "      <td>None</td>\n",
       "      <td>10</td>\n",
       "      <td>web_search</td>\n",
       "      <td>3</td>\n",
       "      <td>saiga-llama-3-q8_0</td>\n",
       "      <td>0</td>\n",
       "    </tr>\n",
       "    <tr>\n",
       "      <th>11</th>\n",
       "      <td>None</td>\n",
       "      <td>11</td>\n",
       "      <td>web_search</td>\n",
       "      <td>3</td>\n",
       "      <td>saiga-llama-3-q8_0</td>\n",
       "      <td>0</td>\n",
       "    </tr>\n",
       "    <tr>\n",
       "      <th>12</th>\n",
       "      <td>None</td>\n",
       "      <td>12</td>\n",
       "      <td>web_search</td>\n",
       "      <td>3</td>\n",
       "      <td>saiga-llama-3-q8_0</td>\n",
       "      <td>0</td>\n",
       "    </tr>\n",
       "    <tr>\n",
       "      <th>13</th>\n",
       "      <td>None</td>\n",
       "      <td>13</td>\n",
       "      <td>web_search</td>\n",
       "      <td>3</td>\n",
       "      <td>saiga-llama-3-q8_0</td>\n",
       "      <td>0</td>\n",
       "    </tr>\n",
       "    <tr>\n",
       "      <th>14</th>\n",
       "      <td>None</td>\n",
       "      <td>14</td>\n",
       "      <td>web_search</td>\n",
       "      <td>3</td>\n",
       "      <td>saiga-llama-3-q8_0</td>\n",
       "      <td>0</td>\n",
       "    </tr>\n",
       "    <tr>\n",
       "      <th>15</th>\n",
       "      <td>None</td>\n",
       "      <td>15</td>\n",
       "      <td>web_search</td>\n",
       "      <td>3</td>\n",
       "      <td>saiga-llama-3-q8_0</td>\n",
       "      <td>0</td>\n",
       "    </tr>\n",
       "    <tr>\n",
       "      <th>16</th>\n",
       "      <td>None</td>\n",
       "      <td>16</td>\n",
       "      <td>web_search</td>\n",
       "      <td>3</td>\n",
       "      <td>saiga-llama-3-q8_0</td>\n",
       "      <td>0</td>\n",
       "    </tr>\n",
       "    <tr>\n",
       "      <th>17</th>\n",
       "      <td>None</td>\n",
       "      <td>17</td>\n",
       "      <td>web_search</td>\n",
       "      <td>3</td>\n",
       "      <td>saiga-llama-3-q8_0</td>\n",
       "      <td>0</td>\n",
       "    </tr>\n",
       "    <tr>\n",
       "      <th>18</th>\n",
       "      <td>None</td>\n",
       "      <td>18</td>\n",
       "      <td>web_search</td>\n",
       "      <td>3</td>\n",
       "      <td>saiga-llama-3-q8_0</td>\n",
       "      <td>0</td>\n",
       "    </tr>\n",
       "    <tr>\n",
       "      <th>19</th>\n",
       "      <td>None</td>\n",
       "      <td>19</td>\n",
       "      <td>web_search</td>\n",
       "      <td>3</td>\n",
       "      <td>saiga-llama-3-q8_0</td>\n",
       "      <td>0</td>\n",
       "    </tr>\n",
       "    <tr>\n",
       "      <th>20</th>\n",
       "      <td>None</td>\n",
       "      <td>20</td>\n",
       "      <td>web_search</td>\n",
       "      <td>3</td>\n",
       "      <td>saiga-llama-3-q8_0</td>\n",
       "      <td>0</td>\n",
       "    </tr>\n",
       "    <tr>\n",
       "      <th>21</th>\n",
       "      <td>None</td>\n",
       "      <td>21</td>\n",
       "      <td>web_search</td>\n",
       "      <td>3</td>\n",
       "      <td>saiga-llama-3-q8_0</td>\n",
       "      <td>0</td>\n",
       "    </tr>\n",
       "    <tr>\n",
       "      <th>22</th>\n",
       "      <td>None</td>\n",
       "      <td>22</td>\n",
       "      <td>web_search</td>\n",
       "      <td>3</td>\n",
       "      <td>saiga-llama-3-q8_0</td>\n",
       "      <td>0</td>\n",
       "    </tr>\n",
       "    <tr>\n",
       "      <th>23</th>\n",
       "      <td>None</td>\n",
       "      <td>23</td>\n",
       "      <td>web_search</td>\n",
       "      <td>3</td>\n",
       "      <td>saiga-llama-3-q8_0</td>\n",
       "      <td>0</td>\n",
       "    </tr>\n",
       "    <tr>\n",
       "      <th>24</th>\n",
       "      <td>None</td>\n",
       "      <td>24</td>\n",
       "      <td>web_search</td>\n",
       "      <td>3</td>\n",
       "      <td>saiga-llama-3-q8_0</td>\n",
       "      <td>0</td>\n",
       "    </tr>\n",
       "    <tr>\n",
       "      <th>25</th>\n",
       "      <td>None</td>\n",
       "      <td>25</td>\n",
       "      <td>web_search</td>\n",
       "      <td>3</td>\n",
       "      <td>saiga-llama-3-q8_0</td>\n",
       "      <td>0</td>\n",
       "    </tr>\n",
       "    <tr>\n",
       "      <th>26</th>\n",
       "      <td>None</td>\n",
       "      <td>26</td>\n",
       "      <td>web_search</td>\n",
       "      <td>3</td>\n",
       "      <td>saiga-llama-3-q8_0</td>\n",
       "      <td>0</td>\n",
       "    </tr>\n",
       "    <tr>\n",
       "      <th>27</th>\n",
       "      <td>None</td>\n",
       "      <td>27</td>\n",
       "      <td>web_search</td>\n",
       "      <td>3</td>\n",
       "      <td>saiga-llama-3-q8_0</td>\n",
       "      <td>0</td>\n",
       "    </tr>\n",
       "    <tr>\n",
       "      <th>28</th>\n",
       "      <td>None</td>\n",
       "      <td>28</td>\n",
       "      <td>web_search</td>\n",
       "      <td>3</td>\n",
       "      <td>saiga-llama-3-q8_0</td>\n",
       "      <td>0</td>\n",
       "    </tr>\n",
       "    <tr>\n",
       "      <th>29</th>\n",
       "      <td>None</td>\n",
       "      <td>29</td>\n",
       "      <td>web_search</td>\n",
       "      <td>3</td>\n",
       "      <td>saiga-llama-3-q8_0</td>\n",
       "      <td>0</td>\n",
       "    </tr>\n",
       "    <tr>\n",
       "      <th>30</th>\n",
       "      <td>None</td>\n",
       "      <td>30</td>\n",
       "      <td>web_search</td>\n",
       "      <td>3</td>\n",
       "      <td>saiga-llama-3-q8_0</td>\n",
       "      <td>0</td>\n",
       "    </tr>\n",
       "    <tr>\n",
       "      <th>31</th>\n",
       "      <td>None</td>\n",
       "      <td>31</td>\n",
       "      <td>web_search</td>\n",
       "      <td>3</td>\n",
       "      <td>saiga-llama-3-q8_0</td>\n",
       "      <td>0</td>\n",
       "    </tr>\n",
       "    <tr>\n",
       "      <th>32</th>\n",
       "      <td>None</td>\n",
       "      <td>32</td>\n",
       "      <td>web_search</td>\n",
       "      <td>3</td>\n",
       "      <td>saiga-llama-3-q8_0</td>\n",
       "      <td>0</td>\n",
       "    </tr>\n",
       "    <tr>\n",
       "      <th>33</th>\n",
       "      <td>None</td>\n",
       "      <td>33</td>\n",
       "      <td>web_search</td>\n",
       "      <td>3</td>\n",
       "      <td>saiga-llama-3-q8_0</td>\n",
       "      <td>0</td>\n",
       "    </tr>\n",
       "    <tr>\n",
       "      <th>34</th>\n",
       "      <td>None</td>\n",
       "      <td>34</td>\n",
       "      <td>web_search</td>\n",
       "      <td>3</td>\n",
       "      <td>saiga-llama-3-q8_0</td>\n",
       "      <td>0</td>\n",
       "    </tr>\n",
       "    <tr>\n",
       "      <th>35</th>\n",
       "      <td>None</td>\n",
       "      <td>35</td>\n",
       "      <td>web_search</td>\n",
       "      <td>3</td>\n",
       "      <td>saiga-llama-3-q8_0</td>\n",
       "      <td>0</td>\n",
       "    </tr>\n",
       "    <tr>\n",
       "      <th>36</th>\n",
       "      <td>None</td>\n",
       "      <td>36</td>\n",
       "      <td>web_search</td>\n",
       "      <td>3</td>\n",
       "      <td>saiga-llama-3-q8_0</td>\n",
       "      <td>0</td>\n",
       "    </tr>\n",
       "    <tr>\n",
       "      <th>37</th>\n",
       "      <td>None</td>\n",
       "      <td>37</td>\n",
       "      <td>web_search</td>\n",
       "      <td>3</td>\n",
       "      <td>saiga-llama-3-q8_0</td>\n",
       "      <td>0</td>\n",
       "    </tr>\n",
       "    <tr>\n",
       "      <th>38</th>\n",
       "      <td>None</td>\n",
       "      <td>38</td>\n",
       "      <td>web_search</td>\n",
       "      <td>3</td>\n",
       "      <td>saiga-llama-3-q8_0</td>\n",
       "      <td>0</td>\n",
       "    </tr>\n",
       "    <tr>\n",
       "      <th>39</th>\n",
       "      <td>None</td>\n",
       "      <td>39</td>\n",
       "      <td>web_search</td>\n",
       "      <td>3</td>\n",
       "      <td>saiga-llama-3-q8_0</td>\n",
       "      <td>0</td>\n",
       "    </tr>\n",
       "  </tbody>\n",
       "</table>\n",
       "</div>"
      ],
      "text/plain": [
       "   queries  num_message       stage  prompt               model  query_counts\n",
       "12    None           12  web_search       0  saiga-llama-3-q8_0             0\n",
       "6     None            6  web_search       1  saiga-llama-3-q8_0             0\n",
       "24    None           24  web_search       1  saiga-llama-3-q8_0             0\n",
       "0     None            0  web_search       3  saiga-llama-3-q8_0             0\n",
       "1     None            1  web_search       3  saiga-llama-3-q8_0             0\n",
       "2     None            2  web_search       3  saiga-llama-3-q8_0             0\n",
       "3     None            3  web_search       3  saiga-llama-3-q8_0             0\n",
       "4     None            4  web_search       3  saiga-llama-3-q8_0             0\n",
       "5     None            5  web_search       3  saiga-llama-3-q8_0             0\n",
       "6     None            6  web_search       3  saiga-llama-3-q8_0             0\n",
       "7     None            7  web_search       3  saiga-llama-3-q8_0             0\n",
       "8     None            8  web_search       3  saiga-llama-3-q8_0             0\n",
       "9     None            9  web_search       3  saiga-llama-3-q8_0             0\n",
       "10    None           10  web_search       3  saiga-llama-3-q8_0             0\n",
       "11    None           11  web_search       3  saiga-llama-3-q8_0             0\n",
       "12    None           12  web_search       3  saiga-llama-3-q8_0             0\n",
       "13    None           13  web_search       3  saiga-llama-3-q8_0             0\n",
       "14    None           14  web_search       3  saiga-llama-3-q8_0             0\n",
       "15    None           15  web_search       3  saiga-llama-3-q8_0             0\n",
       "16    None           16  web_search       3  saiga-llama-3-q8_0             0\n",
       "17    None           17  web_search       3  saiga-llama-3-q8_0             0\n",
       "18    None           18  web_search       3  saiga-llama-3-q8_0             0\n",
       "19    None           19  web_search       3  saiga-llama-3-q8_0             0\n",
       "20    None           20  web_search       3  saiga-llama-3-q8_0             0\n",
       "21    None           21  web_search       3  saiga-llama-3-q8_0             0\n",
       "22    None           22  web_search       3  saiga-llama-3-q8_0             0\n",
       "23    None           23  web_search       3  saiga-llama-3-q8_0             0\n",
       "24    None           24  web_search       3  saiga-llama-3-q8_0             0\n",
       "25    None           25  web_search       3  saiga-llama-3-q8_0             0\n",
       "26    None           26  web_search       3  saiga-llama-3-q8_0             0\n",
       "27    None           27  web_search       3  saiga-llama-3-q8_0             0\n",
       "28    None           28  web_search       3  saiga-llama-3-q8_0             0\n",
       "29    None           29  web_search       3  saiga-llama-3-q8_0             0\n",
       "30    None           30  web_search       3  saiga-llama-3-q8_0             0\n",
       "31    None           31  web_search       3  saiga-llama-3-q8_0             0\n",
       "32    None           32  web_search       3  saiga-llama-3-q8_0             0\n",
       "33    None           33  web_search       3  saiga-llama-3-q8_0             0\n",
       "34    None           34  web_search       3  saiga-llama-3-q8_0             0\n",
       "35    None           35  web_search       3  saiga-llama-3-q8_0             0\n",
       "36    None           36  web_search       3  saiga-llama-3-q8_0             0\n",
       "37    None           37  web_search       3  saiga-llama-3-q8_0             0\n",
       "38    None           38  web_search       3  saiga-llama-3-q8_0             0\n",
       "39    None           39  web_search       3  saiga-llama-3-q8_0             0"
      ]
     },
     "execution_count": 23,
     "metadata": {},
     "output_type": "execute_result"
    }
   ],
   "source": [
    "results[results[\"query_counts\"] == 0]"
   ]
  },
  {
   "cell_type": "code",
   "execution_count": 22,
   "id": "1e56c639-f94b-4a61-89de-63a55ff1c2bf",
   "metadata": {},
   "outputs": [
    {
     "data": {
      "text/html": [
       "<div>\n",
       "<style scoped>\n",
       "    .dataframe tbody tr th:only-of-type {\n",
       "        vertical-align: middle;\n",
       "    }\n",
       "\n",
       "    .dataframe tbody tr th {\n",
       "        vertical-align: top;\n",
       "    }\n",
       "\n",
       "    .dataframe thead th {\n",
       "        text-align: right;\n",
       "    }\n",
       "</style>\n",
       "<table border=\"1\" class=\"dataframe\">\n",
       "  <thead>\n",
       "    <tr style=\"text-align: right;\">\n",
       "      <th></th>\n",
       "      <th></th>\n",
       "      <th>query_counts</th>\n",
       "      <th>queries</th>\n",
       "    </tr>\n",
       "    <tr>\n",
       "      <th>prompt</th>\n",
       "      <th>model</th>\n",
       "      <th></th>\n",
       "      <th></th>\n",
       "    </tr>\n",
       "  </thead>\n",
       "  <tbody>\n",
       "    <tr>\n",
       "      <th rowspan=\"3\" valign=\"top\">0</th>\n",
       "      <th>gemma-2-9b-it-Q8_0_L</th>\n",
       "      <td>1.0</td>\n",
       "      <td>1.000</td>\n",
       "    </tr>\n",
       "    <tr>\n",
       "      <th>saiga-llama-3-q8_0</th>\n",
       "      <td>1.0</td>\n",
       "      <td>0.975</td>\n",
       "    </tr>\n",
       "    <tr>\n",
       "      <th>suzume-llama-3-8b-Q8_0</th>\n",
       "      <td>1.0</td>\n",
       "      <td>1.000</td>\n",
       "    </tr>\n",
       "    <tr>\n",
       "      <th rowspan=\"3\" valign=\"top\">1</th>\n",
       "      <th>gemma-2-9b-it-Q8_0_L</th>\n",
       "      <td>1.0</td>\n",
       "      <td>1.000</td>\n",
       "    </tr>\n",
       "    <tr>\n",
       "      <th>saiga-llama-3-q8_0</th>\n",
       "      <td>1.0</td>\n",
       "      <td>0.950</td>\n",
       "    </tr>\n",
       "    <tr>\n",
       "      <th>suzume-llama-3-8b-Q8_0</th>\n",
       "      <td>1.0</td>\n",
       "      <td>1.000</td>\n",
       "    </tr>\n",
       "    <tr>\n",
       "      <th rowspan=\"3\" valign=\"top\">2</th>\n",
       "      <th>gemma-2-9b-it-Q8_0_L</th>\n",
       "      <td>1.0</td>\n",
       "      <td>1.000</td>\n",
       "    </tr>\n",
       "    <tr>\n",
       "      <th>saiga-llama-3-q8_0</th>\n",
       "      <td>1.0</td>\n",
       "      <td>1.000</td>\n",
       "    </tr>\n",
       "    <tr>\n",
       "      <th>suzume-llama-3-8b-Q8_0</th>\n",
       "      <td>1.0</td>\n",
       "      <td>1.000</td>\n",
       "    </tr>\n",
       "    <tr>\n",
       "      <th rowspan=\"3\" valign=\"top\">3</th>\n",
       "      <th>gemma-2-9b-it-Q8_0_L</th>\n",
       "      <td>1.0</td>\n",
       "      <td>1.000</td>\n",
       "    </tr>\n",
       "    <tr>\n",
       "      <th>saiga-llama-3-q8_0</th>\n",
       "      <td>1.0</td>\n",
       "      <td>0.000</td>\n",
       "    </tr>\n",
       "    <tr>\n",
       "      <th>suzume-llama-3-8b-Q8_0</th>\n",
       "      <td>1.0</td>\n",
       "      <td>1.000</td>\n",
       "    </tr>\n",
       "  </tbody>\n",
       "</table>\n",
       "</div>"
      ],
      "text/plain": [
       "                               query_counts  queries\n",
       "prompt model                                        \n",
       "0      gemma-2-9b-it-Q8_0_L             1.0    1.000\n",
       "       saiga-llama-3-q8_0               1.0    0.975\n",
       "       suzume-llama-3-8b-Q8_0           1.0    1.000\n",
       "1      gemma-2-9b-it-Q8_0_L             1.0    1.000\n",
       "       saiga-llama-3-q8_0               1.0    0.950\n",
       "       suzume-llama-3-8b-Q8_0           1.0    1.000\n",
       "2      gemma-2-9b-it-Q8_0_L             1.0    1.000\n",
       "       saiga-llama-3-q8_0               1.0    1.000\n",
       "       suzume-llama-3-8b-Q8_0           1.0    1.000\n",
       "3      gemma-2-9b-it-Q8_0_L             1.0    1.000\n",
       "       saiga-llama-3-q8_0               1.0    0.000\n",
       "       suzume-llama-3-8b-Q8_0           1.0    1.000"
      ]
     },
     "execution_count": 22,
     "metadata": {},
     "output_type": "execute_result"
    }
   ],
   "source": [
    "results.set_index(['prompt', 'model']).groupby(level=['prompt', 'model'])[\n",
    "    [\"query_counts\", \"queries\"]].count() / \\\n",
    "    (results.shape[0] / len(web_serach_candidates) / len(models))"
   ]
  },
  {
   "cell_type": "code",
   "execution_count": 24,
   "id": "f12c694f-8123-416b-8e09-8ad3f909180d",
   "metadata": {},
   "outputs": [
    {
     "data": {
      "text/html": [
       "<div>\n",
       "<style scoped>\n",
       "    .dataframe tbody tr th:only-of-type {\n",
       "        vertical-align: middle;\n",
       "    }\n",
       "\n",
       "    .dataframe tbody tr th {\n",
       "        vertical-align: top;\n",
       "    }\n",
       "\n",
       "    .dataframe thead th {\n",
       "        text-align: right;\n",
       "    }\n",
       "</style>\n",
       "<table border=\"1\" class=\"dataframe\">\n",
       "  <thead>\n",
       "    <tr style=\"text-align: right;\">\n",
       "      <th></th>\n",
       "      <th></th>\n",
       "      <th>query_counts</th>\n",
       "    </tr>\n",
       "    <tr>\n",
       "      <th>prompt</th>\n",
       "      <th>model</th>\n",
       "      <th></th>\n",
       "    </tr>\n",
       "  </thead>\n",
       "  <tbody>\n",
       "    <tr>\n",
       "      <th rowspan=\"3\" valign=\"top\">0</th>\n",
       "      <th>gemma-2-9b-it-Q8_0_L</th>\n",
       "      <td>2.00</td>\n",
       "    </tr>\n",
       "    <tr>\n",
       "      <th>saiga-llama-3-q8_0</th>\n",
       "      <td>1.95</td>\n",
       "    </tr>\n",
       "    <tr>\n",
       "      <th>suzume-llama-3-8b-Q8_0</th>\n",
       "      <td>2.00</td>\n",
       "    </tr>\n",
       "    <tr>\n",
       "      <th rowspan=\"3\" valign=\"top\">1</th>\n",
       "      <th>gemma-2-9b-it-Q8_0_L</th>\n",
       "      <td>2.00</td>\n",
       "    </tr>\n",
       "    <tr>\n",
       "      <th>saiga-llama-3-q8_0</th>\n",
       "      <td>1.90</td>\n",
       "    </tr>\n",
       "    <tr>\n",
       "      <th>suzume-llama-3-8b-Q8_0</th>\n",
       "      <td>2.00</td>\n",
       "    </tr>\n",
       "    <tr>\n",
       "      <th rowspan=\"3\" valign=\"top\">2</th>\n",
       "      <th>gemma-2-9b-it-Q8_0_L</th>\n",
       "      <td>2.00</td>\n",
       "    </tr>\n",
       "    <tr>\n",
       "      <th>saiga-llama-3-q8_0</th>\n",
       "      <td>2.00</td>\n",
       "    </tr>\n",
       "    <tr>\n",
       "      <th>suzume-llama-3-8b-Q8_0</th>\n",
       "      <td>2.00</td>\n",
       "    </tr>\n",
       "    <tr>\n",
       "      <th rowspan=\"3\" valign=\"top\">3</th>\n",
       "      <th>gemma-2-9b-it-Q8_0_L</th>\n",
       "      <td>2.00</td>\n",
       "    </tr>\n",
       "    <tr>\n",
       "      <th>saiga-llama-3-q8_0</th>\n",
       "      <td>0.00</td>\n",
       "    </tr>\n",
       "    <tr>\n",
       "      <th>suzume-llama-3-8b-Q8_0</th>\n",
       "      <td>2.00</td>\n",
       "    </tr>\n",
       "  </tbody>\n",
       "</table>\n",
       "</div>"
      ],
      "text/plain": [
       "                               query_counts\n",
       "prompt model                               \n",
       "0      gemma-2-9b-it-Q8_0_L            2.00\n",
       "       saiga-llama-3-q8_0              1.95\n",
       "       suzume-llama-3-8b-Q8_0          2.00\n",
       "1      gemma-2-9b-it-Q8_0_L            2.00\n",
       "       saiga-llama-3-q8_0              1.90\n",
       "       suzume-llama-3-8b-Q8_0          2.00\n",
       "2      gemma-2-9b-it-Q8_0_L            2.00\n",
       "       saiga-llama-3-q8_0              2.00\n",
       "       suzume-llama-3-8b-Q8_0          2.00\n",
       "3      gemma-2-9b-it-Q8_0_L            2.00\n",
       "       saiga-llama-3-q8_0              0.00\n",
       "       suzume-llama-3-8b-Q8_0          2.00"
      ]
     },
     "execution_count": 24,
     "metadata": {},
     "output_type": "execute_result"
    }
   ],
   "source": [
    "results.set_index(['prompt', 'model']).groupby(level=['prompt', 'model'])[\n",
    "    [\"query_counts\"]].mean() "
   ]
  },
  {
   "cell_type": "code",
   "execution_count": 25,
   "id": "d73c774e-33d6-4fe5-9b01-cb5268991c8c",
   "metadata": {},
   "outputs": [],
   "source": [
    "import nest_asyncio\n",
    "nest_asyncio.apply()"
   ]
  },
  {
   "cell_type": "code",
   "execution_count": 30,
   "id": "90f83fde-786f-45c3-8760-51d31531dfca",
   "metadata": {},
   "outputs": [],
   "source": [
    "results = results[results[\"prompt\"] != 3]"
   ]
  },
  {
   "cell_type": "code",
   "execution_count": 54,
   "id": "ffe1c6a4-a59a-4399-8d1e-b4f4aad37e9f",
   "metadata": {},
   "outputs": [
    {
     "name": "stderr",
     "output_type": "stream",
     "text": [
      "  0%|                                                                                          | 0/228 [00:00<?, ?it/s]"
     ]
    },
    {
     "data": {
      "application/vnd.jupyter.widget-view+json": {
       "model_id": "505b80fdc47c41d68f0ef3e5921e85f6",
       "version_major": 2,
       "version_minor": 0
      },
      "text/plain": [
       "Evaluating:   0%|          | 0/2 [00:00<?, ?it/s]"
      ]
     },
     "metadata": {},
     "output_type": "display_data"
    },
    {
     "name": "stderr",
     "output_type": "stream",
     "text": [
      "  1%|▋                                                                                 | 2/228 [00:07<14:55,  3.96s/it]"
     ]
    },
    {
     "data": {
      "application/vnd.jupyter.widget-view+json": {
       "model_id": "588c84b1fbff450483834d08285be87b",
       "version_major": 2,
       "version_minor": 0
      },
      "text/plain": [
       "Evaluating:   0%|          | 0/2 [00:00<?, ?it/s]"
      ]
     },
     "metadata": {},
     "output_type": "display_data"
    },
    {
     "name": "stderr",
     "output_type": "stream",
     "text": [
      "  1%|█                                                                                 | 3/228 [00:12<16:26,  4.39s/it]"
     ]
    },
    {
     "data": {
      "application/vnd.jupyter.widget-view+json": {
       "model_id": "5f4e4d865fd147f484c9ad25fdd777f4",
       "version_major": 2,
       "version_minor": 0
      },
      "text/plain": [
       "Evaluating:   0%|          | 0/2 [00:00<?, ?it/s]"
      ]
     },
     "metadata": {},
     "output_type": "display_data"
    },
    {
     "name": "stderr",
     "output_type": "stream",
     "text": [
      "  2%|█▍                                                                                | 4/228 [00:17<17:02,  4.56s/it]"
     ]
    },
    {
     "data": {
      "application/vnd.jupyter.widget-view+json": {
       "model_id": "61355f533c57401d9f530ce0e472653a",
       "version_major": 2,
       "version_minor": 0
      },
      "text/plain": [
       "Evaluating:   0%|          | 0/2 [00:00<?, ?it/s]"
      ]
     },
     "metadata": {},
     "output_type": "display_data"
    },
    {
     "name": "stderr",
     "output_type": "stream",
     "text": [
      "  2%|█▊                                                                                | 5/228 [00:22<17:35,  4.73s/it]"
     ]
    },
    {
     "data": {
      "application/vnd.jupyter.widget-view+json": {
       "model_id": "a89b2621c3c64e61b5e79900b05c2698",
       "version_major": 2,
       "version_minor": 0
      },
      "text/plain": [
       "Evaluating:   0%|          | 0/2 [00:00<?, ?it/s]"
      ]
     },
     "metadata": {},
     "output_type": "display_data"
    },
    {
     "name": "stderr",
     "output_type": "stream",
     "text": [
      "  3%|██▏                                                                               | 6/228 [00:27<17:55,  4.84s/it]"
     ]
    },
    {
     "data": {
      "application/vnd.jupyter.widget-view+json": {
       "model_id": "0f3284a0939043a3a64bbd08ed1282e6",
       "version_major": 2,
       "version_minor": 0
      },
      "text/plain": [
       "Evaluating:   0%|          | 0/2 [00:00<?, ?it/s]"
      ]
     },
     "metadata": {},
     "output_type": "display_data"
    },
    {
     "name": "stderr",
     "output_type": "stream",
     "text": [
      "  3%|██▌                                                                               | 7/228 [00:32<17:40,  4.80s/it]"
     ]
    },
    {
     "data": {
      "application/vnd.jupyter.widget-view+json": {
       "model_id": "0694bea8fde746d4b3d5c9ea0b7d3d06",
       "version_major": 2,
       "version_minor": 0
      },
      "text/plain": [
       "Evaluating:   0%|          | 0/2 [00:00<?, ?it/s]"
      ]
     },
     "metadata": {},
     "output_type": "display_data"
    },
    {
     "name": "stderr",
     "output_type": "stream",
     "text": [
      "  4%|██▉                                                                               | 8/228 [00:37<17:49,  4.86s/it]"
     ]
    },
    {
     "data": {
      "application/vnd.jupyter.widget-view+json": {
       "model_id": "917a50d761744aa18e612aa9cfe43669",
       "version_major": 2,
       "version_minor": 0
      },
      "text/plain": [
       "Evaluating:   0%|          | 0/2 [00:00<?, ?it/s]"
      ]
     },
     "metadata": {},
     "output_type": "display_data"
    },
    {
     "name": "stderr",
     "output_type": "stream",
     "text": [
      "  4%|███▏                                                                              | 9/228 [00:42<17:52,  4.90s/it]"
     ]
    },
    {
     "data": {
      "application/vnd.jupyter.widget-view+json": {
       "model_id": "af4df862264c4adcb5fc74ea9cd79fe6",
       "version_major": 2,
       "version_minor": 0
      },
      "text/plain": [
       "Evaluating:   0%|          | 0/2 [00:00<?, ?it/s]"
      ]
     },
     "metadata": {},
     "output_type": "display_data"
    },
    {
     "name": "stderr",
     "output_type": "stream",
     "text": [
      "  4%|███▌                                                                             | 10/228 [00:47<17:51,  4.92s/it]"
     ]
    },
    {
     "data": {
      "application/vnd.jupyter.widget-view+json": {
       "model_id": "a38c58faf7e7430daba117efa9b8ecc0",
       "version_major": 2,
       "version_minor": 0
      },
      "text/plain": [
       "Evaluating:   0%|          | 0/2 [00:00<?, ?it/s]"
      ]
     },
     "metadata": {},
     "output_type": "display_data"
    },
    {
     "name": "stderr",
     "output_type": "stream",
     "text": [
      "  5%|███▉                                                                             | 11/228 [00:52<17:32,  4.85s/it]"
     ]
    },
    {
     "data": {
      "application/vnd.jupyter.widget-view+json": {
       "model_id": "be3df3c7149d451d8f5f06a542d55033",
       "version_major": 2,
       "version_minor": 0
      },
      "text/plain": [
       "Evaluating:   0%|          | 0/2 [00:00<?, ?it/s]"
      ]
     },
     "metadata": {},
     "output_type": "display_data"
    },
    {
     "name": "stderr",
     "output_type": "stream",
     "text": [
      "  5%|████▎                                                                            | 12/228 [00:57<17:27,  4.85s/it]"
     ]
    },
    {
     "data": {
      "application/vnd.jupyter.widget-view+json": {
       "model_id": "bb8821fa57384ad999c5919d4d15bb50",
       "version_major": 2,
       "version_minor": 0
      },
      "text/plain": [
       "Evaluating:   0%|          | 0/2 [00:00<?, ?it/s]"
      ]
     },
     "metadata": {},
     "output_type": "display_data"
    },
    {
     "name": "stderr",
     "output_type": "stream",
     "text": [
      "  6%|████▌                                                                            | 13/228 [01:01<17:12,  4.80s/it]"
     ]
    },
    {
     "data": {
      "application/vnd.jupyter.widget-view+json": {
       "model_id": "d0b05ae13a0f4b7f86b13831ff52bf4b",
       "version_major": 2,
       "version_minor": 0
      },
      "text/plain": [
       "Evaluating:   0%|          | 0/2 [00:00<?, ?it/s]"
      ]
     },
     "metadata": {},
     "output_type": "display_data"
    },
    {
     "name": "stderr",
     "output_type": "stream",
     "text": [
      "  6%|████▉                                                                            | 14/228 [01:06<17:09,  4.81s/it]"
     ]
    },
    {
     "data": {
      "application/vnd.jupyter.widget-view+json": {
       "model_id": "aff7f8cc69044beab217e5037e8db738",
       "version_major": 2,
       "version_minor": 0
      },
      "text/plain": [
       "Evaluating:   0%|          | 0/2 [00:00<?, ?it/s]"
      ]
     },
     "metadata": {},
     "output_type": "display_data"
    },
    {
     "name": "stderr",
     "output_type": "stream",
     "text": [
      "  7%|█████▎                                                                           | 15/228 [01:11<17:02,  4.80s/it]"
     ]
    },
    {
     "data": {
      "application/vnd.jupyter.widget-view+json": {
       "model_id": "ae8b203b1cfb4b9ca1f283cdd3cd08fd",
       "version_major": 2,
       "version_minor": 0
      },
      "text/plain": [
       "Evaluating:   0%|          | 0/2 [00:00<?, ?it/s]"
      ]
     },
     "metadata": {},
     "output_type": "display_data"
    },
    {
     "name": "stderr",
     "output_type": "stream",
     "text": [
      "  7%|█████▋                                                                           | 16/228 [01:16<16:59,  4.81s/it]"
     ]
    },
    {
     "data": {
      "application/vnd.jupyter.widget-view+json": {
       "model_id": "6cf16e38d79142f4ac92a03f1c99622e",
       "version_major": 2,
       "version_minor": 0
      },
      "text/plain": [
       "Evaluating:   0%|          | 0/2 [00:00<?, ?it/s]"
      ]
     },
     "metadata": {},
     "output_type": "display_data"
    },
    {
     "name": "stderr",
     "output_type": "stream",
     "text": [
      "  7%|██████                                                                           | 17/228 [01:20<16:49,  4.78s/it]"
     ]
    },
    {
     "data": {
      "application/vnd.jupyter.widget-view+json": {
       "model_id": "292f9b1621294e33b49d8625536111cc",
       "version_major": 2,
       "version_minor": 0
      },
      "text/plain": [
       "Evaluating:   0%|          | 0/2 [00:00<?, ?it/s]"
      ]
     },
     "metadata": {},
     "output_type": "display_data"
    },
    {
     "name": "stderr",
     "output_type": "stream",
     "text": [
      "  8%|██████▍                                                                          | 18/228 [01:25<16:51,  4.82s/it]"
     ]
    },
    {
     "data": {
      "application/vnd.jupyter.widget-view+json": {
       "model_id": "c922bcd7df4247379ba2381cd4492e1c",
       "version_major": 2,
       "version_minor": 0
      },
      "text/plain": [
       "Evaluating:   0%|          | 0/2 [00:00<?, ?it/s]"
      ]
     },
     "metadata": {},
     "output_type": "display_data"
    },
    {
     "name": "stderr",
     "output_type": "stream",
     "text": [
      "  8%|██████▊                                                                          | 19/228 [01:30<16:44,  4.81s/it]"
     ]
    },
    {
     "data": {
      "application/vnd.jupyter.widget-view+json": {
       "model_id": "ee71e02091534306be09d9f9206785c2",
       "version_major": 2,
       "version_minor": 0
      },
      "text/plain": [
       "Evaluating:   0%|          | 0/2 [00:00<?, ?it/s]"
      ]
     },
     "metadata": {},
     "output_type": "display_data"
    },
    {
     "name": "stderr",
     "output_type": "stream",
     "text": [
      "  9%|███████                                                                          | 20/228 [01:35<16:40,  4.81s/it]"
     ]
    },
    {
     "data": {
      "application/vnd.jupyter.widget-view+json": {
       "model_id": "99de2ce59f7f4fbb89f6fe5f82d7ef67",
       "version_major": 2,
       "version_minor": 0
      },
      "text/plain": [
       "Evaluating:   0%|          | 0/2 [00:00<?, ?it/s]"
      ]
     },
     "metadata": {},
     "output_type": "display_data"
    },
    {
     "name": "stderr",
     "output_type": "stream",
     "text": [
      "  9%|███████▍                                                                         | 21/228 [01:40<16:47,  4.87s/it]"
     ]
    },
    {
     "data": {
      "application/vnd.jupyter.widget-view+json": {
       "model_id": "dc039b073e84458dbc361c2c78103035",
       "version_major": 2,
       "version_minor": 0
      },
      "text/plain": [
       "Evaluating:   0%|          | 0/2 [00:00<?, ?it/s]"
      ]
     },
     "metadata": {},
     "output_type": "display_data"
    },
    {
     "name": "stderr",
     "output_type": "stream",
     "text": [
      " 10%|███████▊                                                                         | 22/228 [01:45<16:52,  4.91s/it]"
     ]
    },
    {
     "data": {
      "application/vnd.jupyter.widget-view+json": {
       "model_id": "8b89692931934ffc850bf59b3c1e1a99",
       "version_major": 2,
       "version_minor": 0
      },
      "text/plain": [
       "Evaluating:   0%|          | 0/2 [00:00<?, ?it/s]"
      ]
     },
     "metadata": {},
     "output_type": "display_data"
    },
    {
     "name": "stderr",
     "output_type": "stream",
     "text": [
      " 10%|████████▏                                                                        | 23/228 [01:50<16:48,  4.92s/it]"
     ]
    },
    {
     "data": {
      "application/vnd.jupyter.widget-view+json": {
       "model_id": "ee7e266c9ccc44a78d32624d767a9ae0",
       "version_major": 2,
       "version_minor": 0
      },
      "text/plain": [
       "Evaluating:   0%|          | 0/2 [00:00<?, ?it/s]"
      ]
     },
     "metadata": {},
     "output_type": "display_data"
    },
    {
     "name": "stderr",
     "output_type": "stream",
     "text": [
      " 11%|████████▌                                                                        | 24/228 [01:55<16:32,  4.87s/it]"
     ]
    },
    {
     "data": {
      "application/vnd.jupyter.widget-view+json": {
       "model_id": "bbf3182c99034bf78464078590b33f21",
       "version_major": 2,
       "version_minor": 0
      },
      "text/plain": [
       "Evaluating:   0%|          | 0/2 [00:00<?, ?it/s]"
      ]
     },
     "metadata": {},
     "output_type": "display_data"
    },
    {
     "name": "stderr",
     "output_type": "stream",
     "text": [
      " 11%|████████▉                                                                        | 25/228 [02:00<16:34,  4.90s/it]"
     ]
    },
    {
     "data": {
      "application/vnd.jupyter.widget-view+json": {
       "model_id": "7fc2709d34354ab4af3ceeb72c24ff95",
       "version_major": 2,
       "version_minor": 0
      },
      "text/plain": [
       "Evaluating:   0%|          | 0/2 [00:00<?, ?it/s]"
      ]
     },
     "metadata": {},
     "output_type": "display_data"
    },
    {
     "name": "stderr",
     "output_type": "stream",
     "text": [
      " 11%|█████████▏                                                                       | 26/228 [02:05<16:34,  4.92s/it]"
     ]
    },
    {
     "data": {
      "application/vnd.jupyter.widget-view+json": {
       "model_id": "94a8ad6e286c4a1d93d105e72dfeef13",
       "version_major": 2,
       "version_minor": 0
      },
      "text/plain": [
       "Evaluating:   0%|          | 0/2 [00:00<?, ?it/s]"
      ]
     },
     "metadata": {},
     "output_type": "display_data"
    },
    {
     "name": "stderr",
     "output_type": "stream",
     "text": [
      " 12%|█████████▌                                                                       | 27/228 [02:09<16:16,  4.86s/it]"
     ]
    },
    {
     "data": {
      "application/vnd.jupyter.widget-view+json": {
       "model_id": "5453dc671ae247658466cb18a1c2644d",
       "version_major": 2,
       "version_minor": 0
      },
      "text/plain": [
       "Evaluating:   0%|          | 0/2 [00:00<?, ?it/s]"
      ]
     },
     "metadata": {},
     "output_type": "display_data"
    },
    {
     "name": "stderr",
     "output_type": "stream",
     "text": [
      " 12%|█████████▉                                                                       | 28/228 [02:14<16:17,  4.89s/it]"
     ]
    },
    {
     "data": {
      "application/vnd.jupyter.widget-view+json": {
       "model_id": "92a99e95de4a4b4fb24d6cd809afe79e",
       "version_major": 2,
       "version_minor": 0
      },
      "text/plain": [
       "Evaluating:   0%|          | 0/2 [00:00<?, ?it/s]"
      ]
     },
     "metadata": {},
     "output_type": "display_data"
    },
    {
     "name": "stderr",
     "output_type": "stream",
     "text": [
      " 13%|██████████▎                                                                      | 29/228 [02:19<16:10,  4.88s/it]"
     ]
    },
    {
     "data": {
      "application/vnd.jupyter.widget-view+json": {
       "model_id": "f2ffc4fe4b544621a9ef34e6c4af6398",
       "version_major": 2,
       "version_minor": 0
      },
      "text/plain": [
       "Evaluating:   0%|          | 0/2 [00:00<?, ?it/s]"
      ]
     },
     "metadata": {},
     "output_type": "display_data"
    },
    {
     "name": "stderr",
     "output_type": "stream",
     "text": [
      " 13%|██████████▋                                                                      | 30/228 [02:24<16:02,  4.86s/it]"
     ]
    },
    {
     "data": {
      "application/vnd.jupyter.widget-view+json": {
       "model_id": "ead55a6a224846fd9c10ee7937ce7c9b",
       "version_major": 2,
       "version_minor": 0
      },
      "text/plain": [
       "Evaluating:   0%|          | 0/2 [00:00<?, ?it/s]"
      ]
     },
     "metadata": {},
     "output_type": "display_data"
    },
    {
     "name": "stderr",
     "output_type": "stream",
     "text": [
      " 14%|███████████                                                                      | 31/228 [02:29<15:57,  4.86s/it]"
     ]
    },
    {
     "data": {
      "application/vnd.jupyter.widget-view+json": {
       "model_id": "3e856b21c86a46cc8adb2ae4668fec58",
       "version_major": 2,
       "version_minor": 0
      },
      "text/plain": [
       "Evaluating:   0%|          | 0/2 [00:00<?, ?it/s]"
      ]
     },
     "metadata": {},
     "output_type": "display_data"
    },
    {
     "name": "stderr",
     "output_type": "stream",
     "text": [
      " 14%|███████████▎                                                                     | 32/228 [02:34<16:07,  4.94s/it]"
     ]
    },
    {
     "data": {
      "application/vnd.jupyter.widget-view+json": {
       "model_id": "5bac46c387df4df593cb5363fd637ee5",
       "version_major": 2,
       "version_minor": 0
      },
      "text/plain": [
       "Evaluating:   0%|          | 0/2 [00:00<?, ?it/s]"
      ]
     },
     "metadata": {},
     "output_type": "display_data"
    },
    {
     "name": "stderr",
     "output_type": "stream",
     "text": [
      " 14%|███████████▋                                                                     | 33/228 [02:39<16:01,  4.93s/it]"
     ]
    },
    {
     "data": {
      "application/vnd.jupyter.widget-view+json": {
       "model_id": "9ea1008ea01d45688c277327ec4a0adb",
       "version_major": 2,
       "version_minor": 0
      },
      "text/plain": [
       "Evaluating:   0%|          | 0/2 [00:00<?, ?it/s]"
      ]
     },
     "metadata": {},
     "output_type": "display_data"
    },
    {
     "name": "stderr",
     "output_type": "stream",
     "text": [
      " 15%|████████████                                                                     | 34/228 [02:44<15:55,  4.93s/it]"
     ]
    },
    {
     "data": {
      "application/vnd.jupyter.widget-view+json": {
       "model_id": "419080ca84244459a3e3419400692c72",
       "version_major": 2,
       "version_minor": 0
      },
      "text/plain": [
       "Evaluating:   0%|          | 0/2 [00:00<?, ?it/s]"
      ]
     },
     "metadata": {},
     "output_type": "display_data"
    },
    {
     "name": "stderr",
     "output_type": "stream",
     "text": [
      " 16%|████████████▊                                                                    | 36/228 [02:49<12:04,  3.77s/it]"
     ]
    },
    {
     "data": {
      "application/vnd.jupyter.widget-view+json": {
       "model_id": "ad8f740cd62d40728ba0ce0af5a71154",
       "version_major": 2,
       "version_minor": 0
      },
      "text/plain": [
       "Evaluating:   0%|          | 0/2 [00:00<?, ?it/s]"
      ]
     },
     "metadata": {},
     "output_type": "display_data"
    },
    {
     "name": "stderr",
     "output_type": "stream",
     "text": [
      " 16%|█████████████▏                                                                   | 37/228 [02:53<12:51,  4.04s/it]"
     ]
    },
    {
     "data": {
      "application/vnd.jupyter.widget-view+json": {
       "model_id": "a7d7722d7e0e43f6b14e601b7a55a4f7",
       "version_major": 2,
       "version_minor": 0
      },
      "text/plain": [
       "Evaluating:   0%|          | 0/2 [00:00<?, ?it/s]"
      ]
     },
     "metadata": {},
     "output_type": "display_data"
    },
    {
     "name": "stderr",
     "output_type": "stream",
     "text": [
      " 17%|█████████████▌                                                                   | 38/228 [02:58<13:27,  4.25s/it]"
     ]
    },
    {
     "data": {
      "application/vnd.jupyter.widget-view+json": {
       "model_id": "c7e29d1671824daeaeaa4e1897669e5c",
       "version_major": 2,
       "version_minor": 0
      },
      "text/plain": [
       "Evaluating:   0%|          | 0/2 [00:00<?, ?it/s]"
      ]
     },
     "metadata": {},
     "output_type": "display_data"
    },
    {
     "name": "stderr",
     "output_type": "stream",
     "text": [
      " 17%|█████████████▊                                                                   | 39/228 [03:03<13:56,  4.42s/it]"
     ]
    },
    {
     "data": {
      "application/vnd.jupyter.widget-view+json": {
       "model_id": "13a51255841d4f26b23eb9675eb3d02f",
       "version_major": 2,
       "version_minor": 0
      },
      "text/plain": [
       "Evaluating:   0%|          | 0/2 [00:00<?, ?it/s]"
      ]
     },
     "metadata": {},
     "output_type": "display_data"
    },
    {
     "name": "stderr",
     "output_type": "stream",
     "text": [
      " 18%|██████████████▏                                                                  | 40/228 [03:08<14:08,  4.51s/it]"
     ]
    },
    {
     "data": {
      "application/vnd.jupyter.widget-view+json": {
       "model_id": "368576b15b934967aa9e6a31a4365015",
       "version_major": 2,
       "version_minor": 0
      },
      "text/plain": [
       "Evaluating:   0%|          | 0/2 [00:00<?, ?it/s]"
      ]
     },
     "metadata": {},
     "output_type": "display_data"
    },
    {
     "name": "stderr",
     "output_type": "stream",
     "text": [
      " 18%|██████████████▌                                                                  | 41/228 [03:13<14:13,  4.56s/it]"
     ]
    },
    {
     "data": {
      "application/vnd.jupyter.widget-view+json": {
       "model_id": "92808540c6234760ab725404d8e9749b",
       "version_major": 2,
       "version_minor": 0
      },
      "text/plain": [
       "Evaluating:   0%|          | 0/2 [00:00<?, ?it/s]"
      ]
     },
     "metadata": {},
     "output_type": "display_data"
    },
    {
     "name": "stderr",
     "output_type": "stream",
     "text": [
      " 18%|██████████████▉                                                                  | 42/228 [03:18<14:27,  4.66s/it]"
     ]
    },
    {
     "data": {
      "application/vnd.jupyter.widget-view+json": {
       "model_id": "aaf42577573e4e998e42098b9b151af0",
       "version_major": 2,
       "version_minor": 0
      },
      "text/plain": [
       "Evaluating:   0%|          | 0/2 [00:00<?, ?it/s]"
      ]
     },
     "metadata": {},
     "output_type": "display_data"
    },
    {
     "name": "stderr",
     "output_type": "stream",
     "text": [
      " 19%|███████████████▎                                                                 | 43/228 [03:22<14:36,  4.74s/it]"
     ]
    },
    {
     "data": {
      "application/vnd.jupyter.widget-view+json": {
       "model_id": "2986b628f705457e97f88e9e1f1b40db",
       "version_major": 2,
       "version_minor": 0
      },
      "text/plain": [
       "Evaluating:   0%|          | 0/2 [00:00<?, ?it/s]"
      ]
     },
     "metadata": {},
     "output_type": "display_data"
    },
    {
     "name": "stderr",
     "output_type": "stream",
     "text": [
      " 19%|███████████████▋                                                                 | 44/228 [03:27<14:38,  4.78s/it]"
     ]
    },
    {
     "data": {
      "application/vnd.jupyter.widget-view+json": {
       "model_id": "5b98e64a5ae04a50a770ca6a2161e6a0",
       "version_major": 2,
       "version_minor": 0
      },
      "text/plain": [
       "Evaluating:   0%|          | 0/2 [00:00<?, ?it/s]"
      ]
     },
     "metadata": {},
     "output_type": "display_data"
    },
    {
     "name": "stderr",
     "output_type": "stream",
     "text": [
      " 20%|███████████████▉                                                                 | 45/228 [03:32<14:46,  4.84s/it]"
     ]
    },
    {
     "data": {
      "application/vnd.jupyter.widget-view+json": {
       "model_id": "a639829531d54216a611cbdeb44d2d88",
       "version_major": 2,
       "version_minor": 0
      },
      "text/plain": [
       "Evaluating:   0%|          | 0/2 [00:00<?, ?it/s]"
      ]
     },
     "metadata": {},
     "output_type": "display_data"
    },
    {
     "name": "stderr",
     "output_type": "stream",
     "text": [
      " 20%|████████████████▎                                                                | 46/228 [03:37<14:51,  4.90s/it]"
     ]
    },
    {
     "data": {
      "application/vnd.jupyter.widget-view+json": {
       "model_id": "df967a8ed8334010bc207e77be8ed887",
       "version_major": 2,
       "version_minor": 0
      },
      "text/plain": [
       "Evaluating:   0%|          | 0/2 [00:00<?, ?it/s]"
      ]
     },
     "metadata": {},
     "output_type": "display_data"
    },
    {
     "name": "stderr",
     "output_type": "stream",
     "text": [
      " 21%|████████████████▋                                                                | 47/228 [03:42<14:49,  4.92s/it]"
     ]
    },
    {
     "data": {
      "application/vnd.jupyter.widget-view+json": {
       "model_id": "689841ace7d54bcaab6adb4b5b864007",
       "version_major": 2,
       "version_minor": 0
      },
      "text/plain": [
       "Evaluating:   0%|          | 0/2 [00:00<?, ?it/s]"
      ]
     },
     "metadata": {},
     "output_type": "display_data"
    },
    {
     "name": "stderr",
     "output_type": "stream",
     "text": [
      " 21%|█████████████████                                                                | 48/228 [03:47<14:37,  4.88s/it]"
     ]
    },
    {
     "data": {
      "application/vnd.jupyter.widget-view+json": {
       "model_id": "329d359e453346728fbd440a8e34b3cc",
       "version_major": 2,
       "version_minor": 0
      },
      "text/plain": [
       "Evaluating:   0%|          | 0/2 [00:00<?, ?it/s]"
      ]
     },
     "metadata": {},
     "output_type": "display_data"
    },
    {
     "name": "stderr",
     "output_type": "stream",
     "text": [
      " 21%|█████████████████▍                                                               | 49/228 [03:52<14:34,  4.89s/it]"
     ]
    },
    {
     "data": {
      "application/vnd.jupyter.widget-view+json": {
       "model_id": "c1289f5572a64d79ad877048fc33e080",
       "version_major": 2,
       "version_minor": 0
      },
      "text/plain": [
       "Evaluating:   0%|          | 0/2 [00:00<?, ?it/s]"
      ]
     },
     "metadata": {},
     "output_type": "display_data"
    },
    {
     "name": "stderr",
     "output_type": "stream",
     "text": [
      " 22%|█████████████████▊                                                               | 50/228 [03:57<14:35,  4.92s/it]"
     ]
    },
    {
     "data": {
      "application/vnd.jupyter.widget-view+json": {
       "model_id": "04df724a81494cfb9cf1dfbea550ef46",
       "version_major": 2,
       "version_minor": 0
      },
      "text/plain": [
       "Evaluating:   0%|          | 0/2 [00:00<?, ?it/s]"
      ]
     },
     "metadata": {},
     "output_type": "display_data"
    },
    {
     "name": "stderr",
     "output_type": "stream",
     "text": [
      " 22%|██████████████████                                                               | 51/228 [04:02<14:32,  4.93s/it]"
     ]
    },
    {
     "data": {
      "application/vnd.jupyter.widget-view+json": {
       "model_id": "867aa5e8e9bd496da95fa3f94b9ba24c",
       "version_major": 2,
       "version_minor": 0
      },
      "text/plain": [
       "Evaluating:   0%|          | 0/2 [00:00<?, ?it/s]"
      ]
     },
     "metadata": {},
     "output_type": "display_data"
    },
    {
     "name": "stderr",
     "output_type": "stream",
     "text": [
      " 23%|██████████████████▍                                                              | 52/228 [04:07<14:20,  4.89s/it]"
     ]
    },
    {
     "data": {
      "application/vnd.jupyter.widget-view+json": {
       "model_id": "f3920d421ad343a58883639e88747584",
       "version_major": 2,
       "version_minor": 0
      },
      "text/plain": [
       "Evaluating:   0%|          | 0/2 [00:00<?, ?it/s]"
      ]
     },
     "metadata": {},
     "output_type": "display_data"
    },
    {
     "name": "stderr",
     "output_type": "stream",
     "text": [
      " 24%|███████████████████▏                                                             | 54/228 [04:12<10:53,  3.76s/it]"
     ]
    },
    {
     "data": {
      "application/vnd.jupyter.widget-view+json": {
       "model_id": "e40acc510f2d4363b8f92203d682878e",
       "version_major": 2,
       "version_minor": 0
      },
      "text/plain": [
       "Evaluating:   0%|          | 0/2 [00:00<?, ?it/s]"
      ]
     },
     "metadata": {},
     "output_type": "display_data"
    },
    {
     "name": "stderr",
     "output_type": "stream",
     "text": [
      " 24%|███████████████████▌                                                             | 55/228 [04:16<11:38,  4.04s/it]"
     ]
    },
    {
     "data": {
      "application/vnd.jupyter.widget-view+json": {
       "model_id": "062d313f65c04faaafef31af3ed8c07f",
       "version_major": 2,
       "version_minor": 0
      },
      "text/plain": [
       "Evaluating:   0%|          | 0/2 [00:00<?, ?it/s]"
      ]
     },
     "metadata": {},
     "output_type": "display_data"
    },
    {
     "name": "stderr",
     "output_type": "stream",
     "text": [
      " 25%|███████████████████▉                                                             | 56/228 [04:21<12:14,  4.27s/it]"
     ]
    },
    {
     "data": {
      "application/vnd.jupyter.widget-view+json": {
       "model_id": "a704edff9dc44a0abef3486ea6b784c6",
       "version_major": 2,
       "version_minor": 0
      },
      "text/plain": [
       "Evaluating:   0%|          | 0/2 [00:00<?, ?it/s]"
      ]
     },
     "metadata": {},
     "output_type": "display_data"
    },
    {
     "name": "stderr",
     "output_type": "stream",
     "text": [
      " 25%|████████████████████▎                                                            | 57/228 [04:26<12:40,  4.45s/it]"
     ]
    },
    {
     "data": {
      "application/vnd.jupyter.widget-view+json": {
       "model_id": "bfd22afc200d4a1382915d829b5c81ba",
       "version_major": 2,
       "version_minor": 0
      },
      "text/plain": [
       "Evaluating:   0%|          | 0/2 [00:00<?, ?it/s]"
      ]
     },
     "metadata": {},
     "output_type": "display_data"
    },
    {
     "name": "stderr",
     "output_type": "stream",
     "text": [
      " 25%|████████████████████▌                                                            | 58/228 [04:31<12:55,  4.56s/it]"
     ]
    },
    {
     "data": {
      "application/vnd.jupyter.widget-view+json": {
       "model_id": "524a1549019a40b8b313bad498de53b4",
       "version_major": 2,
       "version_minor": 0
      },
      "text/plain": [
       "Evaluating:   0%|          | 0/2 [00:00<?, ?it/s]"
      ]
     },
     "metadata": {},
     "output_type": "display_data"
    },
    {
     "name": "stderr",
     "output_type": "stream",
     "text": [
      " 26%|████████████████████▉                                                            | 59/228 [04:36<13:07,  4.66s/it]"
     ]
    },
    {
     "data": {
      "application/vnd.jupyter.widget-view+json": {
       "model_id": "a21cb12c2d524c619b132006c98c77d4",
       "version_major": 2,
       "version_minor": 0
      },
      "text/plain": [
       "Evaluating:   0%|          | 0/2 [00:00<?, ?it/s]"
      ]
     },
     "metadata": {},
     "output_type": "display_data"
    },
    {
     "name": "stderr",
     "output_type": "stream",
     "text": [
      " 26%|█████████████████████▎                                                           | 60/228 [04:41<13:09,  4.70s/it]"
     ]
    },
    {
     "data": {
      "application/vnd.jupyter.widget-view+json": {
       "model_id": "584662d9aaaf4fcfb456fe93cba1b149",
       "version_major": 2,
       "version_minor": 0
      },
      "text/plain": [
       "Evaluating:   0%|          | 0/2 [00:00<?, ?it/s]"
      ]
     },
     "metadata": {},
     "output_type": "display_data"
    },
    {
     "name": "stderr",
     "output_type": "stream",
     "text": [
      " 27%|█████████████████████▋                                                           | 61/228 [04:46<13:08,  4.72s/it]"
     ]
    },
    {
     "data": {
      "application/vnd.jupyter.widget-view+json": {
       "model_id": "2dbe8549f80b485ca50f5ea279d621ca",
       "version_major": 2,
       "version_minor": 0
      },
      "text/plain": [
       "Evaluating:   0%|          | 0/2 [00:00<?, ?it/s]"
      ]
     },
     "metadata": {},
     "output_type": "display_data"
    },
    {
     "name": "stderr",
     "output_type": "stream",
     "text": [
      " 27%|██████████████████████                                                           | 62/228 [04:51<13:12,  4.77s/it]"
     ]
    },
    {
     "data": {
      "application/vnd.jupyter.widget-view+json": {
       "model_id": "7277e30fff39401c894bc7cdc21c8c78",
       "version_major": 2,
       "version_minor": 0
      },
      "text/plain": [
       "Evaluating:   0%|          | 0/2 [00:00<?, ?it/s]"
      ]
     },
     "metadata": {},
     "output_type": "display_data"
    },
    {
     "name": "stderr",
     "output_type": "stream",
     "text": [
      " 28%|██████████████████████▍                                                          | 63/228 [04:56<13:18,  4.84s/it]"
     ]
    },
    {
     "data": {
      "application/vnd.jupyter.widget-view+json": {
       "model_id": "d1c5f600daf24ace895f1afc36002e2d",
       "version_major": 2,
       "version_minor": 0
      },
      "text/plain": [
       "Evaluating:   0%|          | 0/2 [00:00<?, ?it/s]"
      ]
     },
     "metadata": {},
     "output_type": "display_data"
    },
    {
     "name": "stderr",
     "output_type": "stream",
     "text": [
      " 28%|██████████████████████▋                                                          | 64/228 [05:00<13:15,  4.85s/it]"
     ]
    },
    {
     "data": {
      "application/vnd.jupyter.widget-view+json": {
       "model_id": "9b96b5c4f9194e08802ea4c266eed7b1",
       "version_major": 2,
       "version_minor": 0
      },
      "text/plain": [
       "Evaluating:   0%|          | 0/2 [00:00<?, ?it/s]"
      ]
     },
     "metadata": {},
     "output_type": "display_data"
    },
    {
     "name": "stderr",
     "output_type": "stream",
     "text": [
      " 29%|███████████████████████                                                          | 65/228 [05:05<13:20,  4.91s/it]"
     ]
    },
    {
     "data": {
      "application/vnd.jupyter.widget-view+json": {
       "model_id": "f3a2cb03458c4168b6e075daed42e6fa",
       "version_major": 2,
       "version_minor": 0
      },
      "text/plain": [
       "Evaluating:   0%|          | 0/2 [00:00<?, ?it/s]"
      ]
     },
     "metadata": {},
     "output_type": "display_data"
    },
    {
     "name": "stderr",
     "output_type": "stream",
     "text": [
      " 29%|███████████████████████▍                                                         | 66/228 [05:10<13:19,  4.94s/it]"
     ]
    },
    {
     "data": {
      "application/vnd.jupyter.widget-view+json": {
       "model_id": "e2b05dd681534568ba6cdc42f54391fb",
       "version_major": 2,
       "version_minor": 0
      },
      "text/plain": [
       "Evaluating:   0%|          | 0/2 [00:00<?, ?it/s]"
      ]
     },
     "metadata": {},
     "output_type": "display_data"
    },
    {
     "name": "stderr",
     "output_type": "stream",
     "text": [
      " 29%|███████████████████████▊                                                         | 67/228 [05:15<13:12,  4.92s/it]"
     ]
    },
    {
     "data": {
      "application/vnd.jupyter.widget-view+json": {
       "model_id": "7bfc36d43df54fd4898bb8d39d9ce8cd",
       "version_major": 2,
       "version_minor": 0
      },
      "text/plain": [
       "Evaluating:   0%|          | 0/2 [00:00<?, ?it/s]"
      ]
     },
     "metadata": {},
     "output_type": "display_data"
    },
    {
     "name": "stderr",
     "output_type": "stream",
     "text": [
      " 30%|████████████████████████▏                                                        | 68/228 [05:20<13:07,  4.92s/it]"
     ]
    },
    {
     "data": {
      "application/vnd.jupyter.widget-view+json": {
       "model_id": "66f5b71f9269489c90d0144f78e87a7e",
       "version_major": 2,
       "version_minor": 0
      },
      "text/plain": [
       "Evaluating:   0%|          | 0/2 [00:00<?, ?it/s]"
      ]
     },
     "metadata": {},
     "output_type": "display_data"
    },
    {
     "name": "stderr",
     "output_type": "stream",
     "text": [
      " 30%|████████████████████████▌                                                        | 69/228 [05:25<13:02,  4.92s/it]"
     ]
    },
    {
     "data": {
      "application/vnd.jupyter.widget-view+json": {
       "model_id": "e80d82afc51048598da878c9391cb310",
       "version_major": 2,
       "version_minor": 0
      },
      "text/plain": [
       "Evaluating:   0%|          | 0/2 [00:00<?, ?it/s]"
      ]
     },
     "metadata": {},
     "output_type": "display_data"
    },
    {
     "name": "stderr",
     "output_type": "stream",
     "text": [
      " 31%|████████████████████████▊                                                        | 70/228 [05:30<13:04,  4.97s/it]"
     ]
    },
    {
     "data": {
      "application/vnd.jupyter.widget-view+json": {
       "model_id": "3228a73230204f65a80803079fbedd3a",
       "version_major": 2,
       "version_minor": 0
      },
      "text/plain": [
       "Evaluating:   0%|          | 0/2 [00:00<?, ?it/s]"
      ]
     },
     "metadata": {},
     "output_type": "display_data"
    },
    {
     "name": "stderr",
     "output_type": "stream",
     "text": [
      " 31%|█████████████████████████▏                                                       | 71/228 [05:35<12:57,  4.95s/it]"
     ]
    },
    {
     "data": {
      "application/vnd.jupyter.widget-view+json": {
       "model_id": "6ea68fe0d3644476a97a9ef479bf7011",
       "version_major": 2,
       "version_minor": 0
      },
      "text/plain": [
       "Evaluating:   0%|          | 0/2 [00:00<?, ?it/s]"
      ]
     },
     "metadata": {},
     "output_type": "display_data"
    },
    {
     "name": "stderr",
     "output_type": "stream",
     "text": [
      " 32%|█████████████████████████▌                                                       | 72/228 [05:40<12:49,  4.93s/it]"
     ]
    },
    {
     "data": {
      "application/vnd.jupyter.widget-view+json": {
       "model_id": "8ed725ae4be84822a7521c7832da8650",
       "version_major": 2,
       "version_minor": 0
      },
      "text/plain": [
       "Evaluating:   0%|          | 0/2 [00:00<?, ?it/s]"
      ]
     },
     "metadata": {},
     "output_type": "display_data"
    },
    {
     "name": "stderr",
     "output_type": "stream",
     "text": [
      " 32%|█████████████████████████▉                                                       | 73/228 [05:45<12:37,  4.89s/it]"
     ]
    },
    {
     "data": {
      "application/vnd.jupyter.widget-view+json": {
       "model_id": "903812e9d7a44065ad307c9ec2e0f3f9",
       "version_major": 2,
       "version_minor": 0
      },
      "text/plain": [
       "Evaluating:   0%|          | 0/2 [00:00<?, ?it/s]"
      ]
     },
     "metadata": {},
     "output_type": "display_data"
    },
    {
     "name": "stderr",
     "output_type": "stream",
     "text": [
      " 32%|██████████████████████████▎                                                      | 74/228 [05:50<12:28,  4.86s/it]"
     ]
    },
    {
     "data": {
      "application/vnd.jupyter.widget-view+json": {
       "model_id": "8f681d97028540a895502525b135426c",
       "version_major": 2,
       "version_minor": 0
      },
      "text/plain": [
       "Evaluating:   0%|          | 0/2 [00:00<?, ?it/s]"
      ]
     },
     "metadata": {},
     "output_type": "display_data"
    },
    {
     "name": "stderr",
     "output_type": "stream",
     "text": [
      " 33%|██████████████████████████▋                                                      | 75/228 [05:55<12:24,  4.87s/it]"
     ]
    },
    {
     "data": {
      "application/vnd.jupyter.widget-view+json": {
       "model_id": "eaa03ebccdca49df9a9e73efff8959ff",
       "version_major": 2,
       "version_minor": 0
      },
      "text/plain": [
       "Evaluating:   0%|          | 0/2 [00:00<?, ?it/s]"
      ]
     },
     "metadata": {},
     "output_type": "display_data"
    },
    {
     "name": "stderr",
     "output_type": "stream",
     "text": [
      " 33%|███████████████████████████                                                      | 76/228 [05:59<12:20,  4.87s/it]"
     ]
    },
    {
     "data": {
      "application/vnd.jupyter.widget-view+json": {
       "model_id": "5bb28fe4242442e89319c242a71a2763",
       "version_major": 2,
       "version_minor": 0
      },
      "text/plain": [
       "Evaluating:   0%|          | 0/2 [00:00<?, ?it/s]"
      ]
     },
     "metadata": {},
     "output_type": "display_data"
    },
    {
     "name": "stderr",
     "output_type": "stream",
     "text": [
      " 34%|███████████████████████████▎                                                     | 77/228 [06:04<12:21,  4.91s/it]"
     ]
    },
    {
     "data": {
      "application/vnd.jupyter.widget-view+json": {
       "model_id": "ed90e46552784c31876049babb540044",
       "version_major": 2,
       "version_minor": 0
      },
      "text/plain": [
       "Evaluating:   0%|          | 0/2 [00:00<?, ?it/s]"
      ]
     },
     "metadata": {},
     "output_type": "display_data"
    },
    {
     "name": "stderr",
     "output_type": "stream",
     "text": [
      " 34%|███████████████████████████▋                                                     | 78/228 [06:10<12:25,  4.97s/it]"
     ]
    },
    {
     "data": {
      "application/vnd.jupyter.widget-view+json": {
       "model_id": "64348af780594e149ae7dc5feaf35283",
       "version_major": 2,
       "version_minor": 0
      },
      "text/plain": [
       "Evaluating:   0%|          | 0/2 [00:00<?, ?it/s]"
      ]
     },
     "metadata": {},
     "output_type": "display_data"
    },
    {
     "name": "stderr",
     "output_type": "stream",
     "text": [
      " 35%|████████████████████████████                                                     | 79/228 [06:14<12:18,  4.96s/it]"
     ]
    },
    {
     "data": {
      "application/vnd.jupyter.widget-view+json": {
       "model_id": "dc1cfb0712d54e028e767fc5fa11e4ac",
       "version_major": 2,
       "version_minor": 0
      },
      "text/plain": [
       "Evaluating:   0%|          | 0/2 [00:00<?, ?it/s]"
      ]
     },
     "metadata": {},
     "output_type": "display_data"
    },
    {
     "name": "stderr",
     "output_type": "stream",
     "text": [
      " 35%|████████████████████████████▍                                                    | 80/228 [06:19<12:04,  4.90s/it]"
     ]
    },
    {
     "data": {
      "application/vnd.jupyter.widget-view+json": {
       "model_id": "0f0ef40d6edf4a418d68f10b5419e265",
       "version_major": 2,
       "version_minor": 0
      },
      "text/plain": [
       "Evaluating:   0%|          | 0/2 [00:00<?, ?it/s]"
      ]
     },
     "metadata": {},
     "output_type": "display_data"
    },
    {
     "name": "stderr",
     "output_type": "stream",
     "text": [
      " 36%|████████████████████████████▊                                                    | 81/228 [06:24<11:58,  4.89s/it]"
     ]
    },
    {
     "data": {
      "application/vnd.jupyter.widget-view+json": {
       "model_id": "a19780c0308e41c08d422ceda603652a",
       "version_major": 2,
       "version_minor": 0
      },
      "text/plain": [
       "Evaluating:   0%|          | 0/2 [00:00<?, ?it/s]"
      ]
     },
     "metadata": {},
     "output_type": "display_data"
    },
    {
     "name": "stderr",
     "output_type": "stream",
     "text": [
      " 36%|█████████████████████████████▏                                                   | 82/228 [06:29<11:45,  4.83s/it]"
     ]
    },
    {
     "data": {
      "application/vnd.jupyter.widget-view+json": {
       "model_id": "896e2a29112e4e75b30edc8584396536",
       "version_major": 2,
       "version_minor": 0
      },
      "text/plain": [
       "Evaluating:   0%|          | 0/2 [00:00<?, ?it/s]"
      ]
     },
     "metadata": {},
     "output_type": "display_data"
    },
    {
     "name": "stderr",
     "output_type": "stream",
     "text": [
      " 36%|█████████████████████████████▍                                                   | 83/228 [06:34<11:46,  4.87s/it]"
     ]
    },
    {
     "data": {
      "application/vnd.jupyter.widget-view+json": {
       "model_id": "2819563caf3c46eb931fa930b089c605",
       "version_major": 2,
       "version_minor": 0
      },
      "text/plain": [
       "Evaluating:   0%|          | 0/2 [00:00<?, ?it/s]"
      ]
     },
     "metadata": {},
     "output_type": "display_data"
    },
    {
     "name": "stderr",
     "output_type": "stream",
     "text": [
      " 37%|█████████████████████████████▊                                                   | 84/228 [06:38<11:34,  4.82s/it]"
     ]
    },
    {
     "data": {
      "application/vnd.jupyter.widget-view+json": {
       "model_id": "c319cd6b8c4440caad41c7f259b572fe",
       "version_major": 2,
       "version_minor": 0
      },
      "text/plain": [
       "Evaluating:   0%|          | 0/2 [00:00<?, ?it/s]"
      ]
     },
     "metadata": {},
     "output_type": "display_data"
    },
    {
     "name": "stderr",
     "output_type": "stream",
     "text": [
      " 37%|██████████████████████████████▏                                                  | 85/228 [06:43<11:29,  4.82s/it]"
     ]
    },
    {
     "data": {
      "application/vnd.jupyter.widget-view+json": {
       "model_id": "6d16c5552aab474b90012735203f7ba9",
       "version_major": 2,
       "version_minor": 0
      },
      "text/plain": [
       "Evaluating:   0%|          | 0/2 [00:00<?, ?it/s]"
      ]
     },
     "metadata": {},
     "output_type": "display_data"
    },
    {
     "name": "stderr",
     "output_type": "stream",
     "text": [
      " 38%|██████████████████████████████▌                                                  | 86/228 [06:48<11:23,  4.81s/it]"
     ]
    },
    {
     "data": {
      "application/vnd.jupyter.widget-view+json": {
       "model_id": "5a36831f715842c28c9c2efbc66a900f",
       "version_major": 2,
       "version_minor": 0
      },
      "text/plain": [
       "Evaluating:   0%|          | 0/2 [00:00<?, ?it/s]"
      ]
     },
     "metadata": {},
     "output_type": "display_data"
    },
    {
     "name": "stderr",
     "output_type": "stream",
     "text": [
      " 38%|██████████████████████████████▉                                                  | 87/228 [06:53<11:23,  4.85s/it]"
     ]
    },
    {
     "data": {
      "application/vnd.jupyter.widget-view+json": {
       "model_id": "e40df02619b646bda55cb0339c23ff44",
       "version_major": 2,
       "version_minor": 0
      },
      "text/plain": [
       "Evaluating:   0%|          | 0/2 [00:00<?, ?it/s]"
      ]
     },
     "metadata": {},
     "output_type": "display_data"
    },
    {
     "name": "stderr",
     "output_type": "stream",
     "text": [
      " 39%|███████████████████████████████▎                                                 | 88/228 [06:58<11:16,  4.83s/it]"
     ]
    },
    {
     "data": {
      "application/vnd.jupyter.widget-view+json": {
       "model_id": "f78e1e93ca4349a19028ce41e82fee61",
       "version_major": 2,
       "version_minor": 0
      },
      "text/plain": [
       "Evaluating:   0%|          | 0/2 [00:00<?, ?it/s]"
      ]
     },
     "metadata": {},
     "output_type": "display_data"
    },
    {
     "name": "stderr",
     "output_type": "stream",
     "text": [
      " 39%|███████████████████████████████▌                                                 | 89/228 [07:03<11:16,  4.87s/it]"
     ]
    },
    {
     "data": {
      "application/vnd.jupyter.widget-view+json": {
       "model_id": "29ba37f16f0f45889b40bc16b1356642",
       "version_major": 2,
       "version_minor": 0
      },
      "text/plain": [
       "Evaluating:   0%|          | 0/2 [00:00<?, ?it/s]"
      ]
     },
     "metadata": {},
     "output_type": "display_data"
    },
    {
     "name": "stderr",
     "output_type": "stream",
     "text": [
      " 39%|███████████████████████████████▉                                                 | 90/228 [07:08<11:16,  4.90s/it]"
     ]
    },
    {
     "data": {
      "application/vnd.jupyter.widget-view+json": {
       "model_id": "a176e38723634f53887cf66119f1cb00",
       "version_major": 2,
       "version_minor": 0
      },
      "text/plain": [
       "Evaluating:   0%|          | 0/2 [00:00<?, ?it/s]"
      ]
     },
     "metadata": {},
     "output_type": "display_data"
    },
    {
     "name": "stderr",
     "output_type": "stream",
     "text": [
      " 40%|████████████████████████████████▎                                                | 91/228 [07:13<11:10,  4.90s/it]"
     ]
    },
    {
     "data": {
      "application/vnd.jupyter.widget-view+json": {
       "model_id": "791f8163764245dfb0268709afc8e037",
       "version_major": 2,
       "version_minor": 0
      },
      "text/plain": [
       "Evaluating:   0%|          | 0/2 [00:00<?, ?it/s]"
      ]
     },
     "metadata": {},
     "output_type": "display_data"
    },
    {
     "name": "stderr",
     "output_type": "stream",
     "text": [
      " 40%|████████████████████████████████▋                                                | 92/228 [07:17<11:03,  4.88s/it]"
     ]
    },
    {
     "data": {
      "application/vnd.jupyter.widget-view+json": {
       "model_id": "666fb730fbbe4ecbaa879cfc6eee2201",
       "version_major": 2,
       "version_minor": 0
      },
      "text/plain": [
       "Evaluating:   0%|          | 0/2 [00:00<?, ?it/s]"
      ]
     },
     "metadata": {},
     "output_type": "display_data"
    },
    {
     "name": "stderr",
     "output_type": "stream",
     "text": [
      " 41%|█████████████████████████████████                                                | 93/228 [07:22<10:58,  4.88s/it]"
     ]
    },
    {
     "data": {
      "application/vnd.jupyter.widget-view+json": {
       "model_id": "d4c7659ac27f40efbbda7263ac9f35cc",
       "version_major": 2,
       "version_minor": 0
      },
      "text/plain": [
       "Evaluating:   0%|          | 0/2 [00:00<?, ?it/s]"
      ]
     },
     "metadata": {},
     "output_type": "display_data"
    },
    {
     "name": "stderr",
     "output_type": "stream",
     "text": [
      " 41%|█████████████████████████████████▍                                               | 94/228 [07:27<11:01,  4.94s/it]"
     ]
    },
    {
     "data": {
      "application/vnd.jupyter.widget-view+json": {
       "model_id": "4d1774acb25440a6b8b4eccdfcab8e1b",
       "version_major": 2,
       "version_minor": 0
      },
      "text/plain": [
       "Evaluating:   0%|          | 0/2 [00:00<?, ?it/s]"
      ]
     },
     "metadata": {},
     "output_type": "display_data"
    },
    {
     "name": "stderr",
     "output_type": "stream",
     "text": [
      " 42%|█████████████████████████████████▊                                               | 95/228 [07:32<11:00,  4.97s/it]"
     ]
    },
    {
     "data": {
      "application/vnd.jupyter.widget-view+json": {
       "model_id": "3e871e2e56514705b11516ee95b52a3a",
       "version_major": 2,
       "version_minor": 0
      },
      "text/plain": [
       "Evaluating:   0%|          | 0/2 [00:00<?, ?it/s]"
      ]
     },
     "metadata": {},
     "output_type": "display_data"
    },
    {
     "name": "stderr",
     "output_type": "stream",
     "text": [
      " 42%|██████████████████████████████████                                               | 96/228 [07:37<10:56,  4.97s/it]"
     ]
    },
    {
     "data": {
      "application/vnd.jupyter.widget-view+json": {
       "model_id": "514939206e1a4aeca0f89da5d9155277",
       "version_major": 2,
       "version_minor": 0
      },
      "text/plain": [
       "Evaluating:   0%|          | 0/2 [00:00<?, ?it/s]"
      ]
     },
     "metadata": {},
     "output_type": "display_data"
    },
    {
     "name": "stderr",
     "output_type": "stream",
     "text": [
      " 43%|██████████████████████████████████▍                                              | 97/228 [07:42<10:42,  4.91s/it]"
     ]
    },
    {
     "data": {
      "application/vnd.jupyter.widget-view+json": {
       "model_id": "437655bf0fd5483aa322f89978f5c246",
       "version_major": 2,
       "version_minor": 0
      },
      "text/plain": [
       "Evaluating:   0%|          | 0/2 [00:00<?, ?it/s]"
      ]
     },
     "metadata": {},
     "output_type": "display_data"
    },
    {
     "name": "stderr",
     "output_type": "stream",
     "text": [
      " 43%|██████████████████████████████████▊                                              | 98/228 [07:47<10:28,  4.83s/it]"
     ]
    },
    {
     "data": {
      "application/vnd.jupyter.widget-view+json": {
       "model_id": "f88c10311498466cb32c22213220a59f",
       "version_major": 2,
       "version_minor": 0
      },
      "text/plain": [
       "Evaluating:   0%|          | 0/2 [00:00<?, ?it/s]"
      ]
     },
     "metadata": {},
     "output_type": "display_data"
    },
    {
     "name": "stderr",
     "output_type": "stream",
     "text": [
      " 43%|███████████████████████████████████▏                                             | 99/228 [07:52<10:27,  4.86s/it]"
     ]
    },
    {
     "data": {
      "application/vnd.jupyter.widget-view+json": {
       "model_id": "0664d193a5b34b589a289aebd015e069",
       "version_major": 2,
       "version_minor": 0
      },
      "text/plain": [
       "Evaluating:   0%|          | 0/2 [00:00<?, ?it/s]"
      ]
     },
     "metadata": {},
     "output_type": "display_data"
    },
    {
     "name": "stderr",
     "output_type": "stream",
     "text": [
      " 44%|███████████████████████████████████                                             | 100/228 [07:57<10:24,  4.88s/it]"
     ]
    },
    {
     "data": {
      "application/vnd.jupyter.widget-view+json": {
       "model_id": "f5c9bdcae16e45a6882f7efcedbe6071",
       "version_major": 2,
       "version_minor": 0
      },
      "text/plain": [
       "Evaluating:   0%|          | 0/2 [00:00<?, ?it/s]"
      ]
     },
     "metadata": {},
     "output_type": "display_data"
    },
    {
     "name": "stderr",
     "output_type": "stream",
     "text": [
      " 44%|███████████████████████████████████▍                                            | 101/228 [08:01<10:13,  4.83s/it]"
     ]
    },
    {
     "data": {
      "application/vnd.jupyter.widget-view+json": {
       "model_id": "31e08556be874fc38d2873f307d13cb8",
       "version_major": 2,
       "version_minor": 0
      },
      "text/plain": [
       "Evaluating:   0%|          | 0/2 [00:00<?, ?it/s]"
      ]
     },
     "metadata": {},
     "output_type": "display_data"
    },
    {
     "name": "stderr",
     "output_type": "stream",
     "text": [
      " 45%|███████████████████████████████████▊                                            | 102/228 [08:06<10:08,  4.83s/it]"
     ]
    },
    {
     "data": {
      "application/vnd.jupyter.widget-view+json": {
       "model_id": "a880b9a30cfa4720b9e29b9e9a1066ed",
       "version_major": 2,
       "version_minor": 0
      },
      "text/plain": [
       "Evaluating:   0%|          | 0/2 [00:00<?, ?it/s]"
      ]
     },
     "metadata": {},
     "output_type": "display_data"
    },
    {
     "name": "stderr",
     "output_type": "stream",
     "text": [
      " 45%|████████████████████████████████████▏                                           | 103/228 [08:11<10:08,  4.87s/it]"
     ]
    },
    {
     "data": {
      "application/vnd.jupyter.widget-view+json": {
       "model_id": "772b67434fec48cfb3840e69696d56c2",
       "version_major": 2,
       "version_minor": 0
      },
      "text/plain": [
       "Evaluating:   0%|          | 0/2 [00:00<?, ?it/s]"
      ]
     },
     "metadata": {},
     "output_type": "display_data"
    },
    {
     "name": "stderr",
     "output_type": "stream",
     "text": [
      " 46%|████████████████████████████████████▍                                           | 104/228 [08:16<10:05,  4.88s/it]"
     ]
    },
    {
     "data": {
      "application/vnd.jupyter.widget-view+json": {
       "model_id": "f146c99f99fd4bfb9dd79f64cbc8812c",
       "version_major": 2,
       "version_minor": 0
      },
      "text/plain": [
       "Evaluating:   0%|          | 0/2 [00:00<?, ?it/s]"
      ]
     },
     "metadata": {},
     "output_type": "display_data"
    },
    {
     "name": "stderr",
     "output_type": "stream",
     "text": [
      " 46%|████████████████████████████████████▊                                           | 105/228 [08:21<10:11,  4.97s/it]"
     ]
    },
    {
     "data": {
      "application/vnd.jupyter.widget-view+json": {
       "model_id": "a8ab56fcec1447c497eadc6cbeb19f4f",
       "version_major": 2,
       "version_minor": 0
      },
      "text/plain": [
       "Evaluating:   0%|          | 0/2 [00:00<?, ?it/s]"
      ]
     },
     "metadata": {},
     "output_type": "display_data"
    },
    {
     "name": "stderr",
     "output_type": "stream",
     "text": [
      " 46%|█████████████████████████████████████▏                                          | 106/228 [08:26<09:59,  4.92s/it]"
     ]
    },
    {
     "data": {
      "application/vnd.jupyter.widget-view+json": {
       "model_id": "fbd8111a96fd49a88afb24fac14aad54",
       "version_major": 2,
       "version_minor": 0
      },
      "text/plain": [
       "Evaluating:   0%|          | 0/2 [00:00<?, ?it/s]"
      ]
     },
     "metadata": {},
     "output_type": "display_data"
    },
    {
     "name": "stderr",
     "output_type": "stream",
     "text": [
      " 47%|█████████████████████████████████████▌                                          | 107/228 [08:31<09:53,  4.90s/it]"
     ]
    },
    {
     "data": {
      "application/vnd.jupyter.widget-view+json": {
       "model_id": "2fd19f82c489441c9a635777690b6c67",
       "version_major": 2,
       "version_minor": 0
      },
      "text/plain": [
       "Evaluating:   0%|          | 0/2 [00:00<?, ?it/s]"
      ]
     },
     "metadata": {},
     "output_type": "display_data"
    },
    {
     "name": "stderr",
     "output_type": "stream",
     "text": [
      " 47%|█████████████████████████████████████▉                                          | 108/228 [08:36<09:48,  4.90s/it]"
     ]
    },
    {
     "data": {
      "application/vnd.jupyter.widget-view+json": {
       "model_id": "edb2ae15976e4c41a9feac038f90e3e6",
       "version_major": 2,
       "version_minor": 0
      },
      "text/plain": [
       "Evaluating:   0%|          | 0/2 [00:00<?, ?it/s]"
      ]
     },
     "metadata": {},
     "output_type": "display_data"
    },
    {
     "name": "stderr",
     "output_type": "stream",
     "text": [
      " 48%|██████████████████████████████████████▏                                         | 109/228 [08:41<09:39,  4.87s/it]"
     ]
    },
    {
     "data": {
      "application/vnd.jupyter.widget-view+json": {
       "model_id": "7d0bb40ae3fb4295b0c5ccb53b898042",
       "version_major": 2,
       "version_minor": 0
      },
      "text/plain": [
       "Evaluating:   0%|          | 0/2 [00:00<?, ?it/s]"
      ]
     },
     "metadata": {},
     "output_type": "display_data"
    },
    {
     "name": "stderr",
     "output_type": "stream",
     "text": [
      " 48%|██████████████████████████████████████▌                                         | 110/228 [08:46<09:39,  4.91s/it]"
     ]
    },
    {
     "data": {
      "application/vnd.jupyter.widget-view+json": {
       "model_id": "71c078f3aa6847889d93a68198a337ac",
       "version_major": 2,
       "version_minor": 0
      },
      "text/plain": [
       "Evaluating:   0%|          | 0/2 [00:00<?, ?it/s]"
      ]
     },
     "metadata": {},
     "output_type": "display_data"
    },
    {
     "name": "stderr",
     "output_type": "stream",
     "text": [
      " 49%|██████████████████████████████████████▉                                         | 111/228 [08:51<09:34,  4.91s/it]"
     ]
    },
    {
     "data": {
      "application/vnd.jupyter.widget-view+json": {
       "model_id": "52364c72fe084ba5a80ee2fc88562138",
       "version_major": 2,
       "version_minor": 0
      },
      "text/plain": [
       "Evaluating:   0%|          | 0/2 [00:00<?, ?it/s]"
      ]
     },
     "metadata": {},
     "output_type": "display_data"
    },
    {
     "name": "stderr",
     "output_type": "stream",
     "text": [
      " 49%|███████████████████████████████████████▎                                        | 112/228 [08:55<09:25,  4.88s/it]"
     ]
    },
    {
     "data": {
      "application/vnd.jupyter.widget-view+json": {
       "model_id": "583917d1fb3340e1bf14044f9c9e34c0",
       "version_major": 2,
       "version_minor": 0
      },
      "text/plain": [
       "Evaluating:   0%|          | 0/2 [00:00<?, ?it/s]"
      ]
     },
     "metadata": {},
     "output_type": "display_data"
    },
    {
     "name": "stderr",
     "output_type": "stream",
     "text": [
      " 50%|███████████████████████████████████████▋                                        | 113/228 [09:00<09:28,  4.95s/it]"
     ]
    },
    {
     "data": {
      "application/vnd.jupyter.widget-view+json": {
       "model_id": "b2b846eec1954683808d04ade36047b4",
       "version_major": 2,
       "version_minor": 0
      },
      "text/plain": [
       "Evaluating:   0%|          | 0/2 [00:00<?, ?it/s]"
      ]
     },
     "metadata": {},
     "output_type": "display_data"
    },
    {
     "name": "stderr",
     "output_type": "stream",
     "text": [
      " 50%|████████████████████████████████████████                                        | 114/228 [09:05<09:21,  4.92s/it]"
     ]
    },
    {
     "data": {
      "application/vnd.jupyter.widget-view+json": {
       "model_id": "cd042ae9c9ce49f68470cc7d396a524c",
       "version_major": 2,
       "version_minor": 0
      },
      "text/plain": [
       "Evaluating:   0%|          | 0/2 [00:00<?, ?it/s]"
      ]
     },
     "metadata": {},
     "output_type": "display_data"
    },
    {
     "name": "stderr",
     "output_type": "stream",
     "text": [
      " 50%|████████████████████████████████████████▎                                       | 115/228 [09:10<09:21,  4.97s/it]"
     ]
    },
    {
     "data": {
      "application/vnd.jupyter.widget-view+json": {
       "model_id": "009a70c7655d4bd4b696148abb6f05de",
       "version_major": 2,
       "version_minor": 0
      },
      "text/plain": [
       "Evaluating:   0%|          | 0/2 [00:00<?, ?it/s]"
      ]
     },
     "metadata": {},
     "output_type": "display_data"
    },
    {
     "name": "stderr",
     "output_type": "stream",
     "text": [
      " 51%|████████████████████████████████████████▋                                       | 116/228 [09:15<09:06,  4.88s/it]"
     ]
    },
    {
     "data": {
      "application/vnd.jupyter.widget-view+json": {
       "model_id": "15d070ec72b3460e871e8bfcee94e6ca",
       "version_major": 2,
       "version_minor": 0
      },
      "text/plain": [
       "Evaluating:   0%|          | 0/2 [00:00<?, ?it/s]"
      ]
     },
     "metadata": {},
     "output_type": "display_data"
    },
    {
     "name": "stderr",
     "output_type": "stream",
     "text": [
      " 51%|█████████████████████████████████████████                                       | 117/228 [09:20<09:01,  4.87s/it]"
     ]
    },
    {
     "data": {
      "application/vnd.jupyter.widget-view+json": {
       "model_id": "ee65834516f2499995776a864783eb02",
       "version_major": 2,
       "version_minor": 0
      },
      "text/plain": [
       "Evaluating:   0%|          | 0/2 [00:00<?, ?it/s]"
      ]
     },
     "metadata": {},
     "output_type": "display_data"
    },
    {
     "name": "stderr",
     "output_type": "stream",
     "text": [
      " 52%|█████████████████████████████████████████▍                                      | 118/228 [09:25<08:56,  4.88s/it]"
     ]
    },
    {
     "data": {
      "application/vnd.jupyter.widget-view+json": {
       "model_id": "0d42af2f638b47b681a421c04fa58398",
       "version_major": 2,
       "version_minor": 0
      },
      "text/plain": [
       "Evaluating:   0%|          | 0/2 [00:00<?, ?it/s]"
      ]
     },
     "metadata": {},
     "output_type": "display_data"
    },
    {
     "name": "stderr",
     "output_type": "stream",
     "text": [
      " 52%|█████████████████████████████████████████▊                                      | 119/228 [09:30<08:55,  4.92s/it]"
     ]
    },
    {
     "data": {
      "application/vnd.jupyter.widget-view+json": {
       "model_id": "44ba33ea69184727a177bca7dbc9a576",
       "version_major": 2,
       "version_minor": 0
      },
      "text/plain": [
       "Evaluating:   0%|          | 0/2 [00:00<?, ?it/s]"
      ]
     },
     "metadata": {},
     "output_type": "display_data"
    },
    {
     "name": "stderr",
     "output_type": "stream",
     "text": [
      " 53%|██████████████████████████████████████████                                      | 120/228 [09:35<08:46,  4.88s/it]"
     ]
    },
    {
     "data": {
      "application/vnd.jupyter.widget-view+json": {
       "model_id": "7fc67af643f14244b43af647badafe3a",
       "version_major": 2,
       "version_minor": 0
      },
      "text/plain": [
       "Evaluating:   0%|          | 0/2 [00:00<?, ?it/s]"
      ]
     },
     "metadata": {},
     "output_type": "display_data"
    },
    {
     "name": "stderr",
     "output_type": "stream",
     "text": [
      " 53%|██████████████████████████████████████████▍                                     | 121/228 [09:40<08:43,  4.89s/it]"
     ]
    },
    {
     "data": {
      "application/vnd.jupyter.widget-view+json": {
       "model_id": "f97ca1720a464468b2d0f39dff8751b4",
       "version_major": 2,
       "version_minor": 0
      },
      "text/plain": [
       "Evaluating:   0%|          | 0/2 [00:00<?, ?it/s]"
      ]
     },
     "metadata": {},
     "output_type": "display_data"
    },
    {
     "name": "stderr",
     "output_type": "stream",
     "text": [
      " 54%|██████████████████████████████████████████▊                                     | 122/228 [09:44<08:40,  4.91s/it]"
     ]
    },
    {
     "data": {
      "application/vnd.jupyter.widget-view+json": {
       "model_id": "4d1e82fc64d249528e45d7bfc7e54cf4",
       "version_major": 2,
       "version_minor": 0
      },
      "text/plain": [
       "Evaluating:   0%|          | 0/2 [00:00<?, ?it/s]"
      ]
     },
     "metadata": {},
     "output_type": "display_data"
    },
    {
     "name": "stderr",
     "output_type": "stream",
     "text": [
      " 54%|███████████████████████████████████████████▏                                    | 123/228 [09:49<08:34,  4.90s/it]"
     ]
    },
    {
     "data": {
      "application/vnd.jupyter.widget-view+json": {
       "model_id": "3da9e5af22ec45b695c72c8692ba84dc",
       "version_major": 2,
       "version_minor": 0
      },
      "text/plain": [
       "Evaluating:   0%|          | 0/2 [00:00<?, ?it/s]"
      ]
     },
     "metadata": {},
     "output_type": "display_data"
    },
    {
     "name": "stderr",
     "output_type": "stream",
     "text": [
      " 54%|███████████████████████████████████████████▌                                    | 124/228 [09:54<08:32,  4.93s/it]"
     ]
    },
    {
     "data": {
      "application/vnd.jupyter.widget-view+json": {
       "model_id": "bf31cd01478c4349a2738252ad3d3b2a",
       "version_major": 2,
       "version_minor": 0
      },
      "text/plain": [
       "Evaluating:   0%|          | 0/2 [00:00<?, ?it/s]"
      ]
     },
     "metadata": {},
     "output_type": "display_data"
    },
    {
     "name": "stderr",
     "output_type": "stream",
     "text": [
      " 55%|███████████████████████████████████████████▊                                    | 125/228 [09:59<08:23,  4.89s/it]"
     ]
    },
    {
     "data": {
      "application/vnd.jupyter.widget-view+json": {
       "model_id": "27fdf63dabd74f4f88dbc24cf7d9fdf5",
       "version_major": 2,
       "version_minor": 0
      },
      "text/plain": [
       "Evaluating:   0%|          | 0/2 [00:00<?, ?it/s]"
      ]
     },
     "metadata": {},
     "output_type": "display_data"
    },
    {
     "name": "stderr",
     "output_type": "stream",
     "text": [
      " 55%|████████████████████████████████████████████▏                                   | 126/228 [10:04<08:24,  4.94s/it]"
     ]
    },
    {
     "data": {
      "application/vnd.jupyter.widget-view+json": {
       "model_id": "580d3ac50742447da8d3b7ad86b7d30d",
       "version_major": 2,
       "version_minor": 0
      },
      "text/plain": [
       "Evaluating:   0%|          | 0/2 [00:00<?, ?it/s]"
      ]
     },
     "metadata": {},
     "output_type": "display_data"
    },
    {
     "name": "stderr",
     "output_type": "stream",
     "text": [
      " 56%|████████████████████████████████████████████▌                                   | 127/228 [10:09<08:15,  4.91s/it]"
     ]
    },
    {
     "data": {
      "application/vnd.jupyter.widget-view+json": {
       "model_id": "65071d176f574dd6ba8e53eae97175ab",
       "version_major": 2,
       "version_minor": 0
      },
      "text/plain": [
       "Evaluating:   0%|          | 0/2 [00:00<?, ?it/s]"
      ]
     },
     "metadata": {},
     "output_type": "display_data"
    },
    {
     "name": "stderr",
     "output_type": "stream",
     "text": [
      " 56%|████████████████████████████████████████████▉                                   | 128/228 [10:14<08:21,  5.01s/it]"
     ]
    },
    {
     "data": {
      "application/vnd.jupyter.widget-view+json": {
       "model_id": "fc43502365e34ce9b13a9a9dbcaaf319",
       "version_major": 2,
       "version_minor": 0
      },
      "text/plain": [
       "Evaluating:   0%|          | 0/2 [00:00<?, ?it/s]"
      ]
     },
     "metadata": {},
     "output_type": "display_data"
    },
    {
     "name": "stderr",
     "output_type": "stream",
     "text": [
      " 57%|█████████████████████████████████████████████▎                                  | 129/228 [10:19<08:13,  4.98s/it]"
     ]
    },
    {
     "data": {
      "application/vnd.jupyter.widget-view+json": {
       "model_id": "4c75f060656d4eae8cf9a6c9cd99a95b",
       "version_major": 2,
       "version_minor": 0
      },
      "text/plain": [
       "Evaluating:   0%|          | 0/2 [00:00<?, ?it/s]"
      ]
     },
     "metadata": {},
     "output_type": "display_data"
    },
    {
     "name": "stderr",
     "output_type": "stream",
     "text": [
      " 57%|█████████████████████████████████████████████▌                                  | 130/228 [10:24<08:03,  4.94s/it]"
     ]
    },
    {
     "data": {
      "application/vnd.jupyter.widget-view+json": {
       "model_id": "1d0fbbda5fc54f62848d6cd4815e60ab",
       "version_major": 2,
       "version_minor": 0
      },
      "text/plain": [
       "Evaluating:   0%|          | 0/2 [00:00<?, ?it/s]"
      ]
     },
     "metadata": {},
     "output_type": "display_data"
    },
    {
     "name": "stderr",
     "output_type": "stream",
     "text": [
      " 57%|█████████████████████████████████████████████▉                                  | 131/228 [10:29<08:00,  4.95s/it]"
     ]
    },
    {
     "data": {
      "application/vnd.jupyter.widget-view+json": {
       "model_id": "6aae926540ae44e39b391dc003050737",
       "version_major": 2,
       "version_minor": 0
      },
      "text/plain": [
       "Evaluating:   0%|          | 0/2 [00:00<?, ?it/s]"
      ]
     },
     "metadata": {},
     "output_type": "display_data"
    },
    {
     "name": "stderr",
     "output_type": "stream",
     "text": [
      " 58%|██████████████████████████████████████████████▎                                 | 132/228 [10:34<07:50,  4.90s/it]"
     ]
    },
    {
     "data": {
      "application/vnd.jupyter.widget-view+json": {
       "model_id": "dca17ec7f7414d51bd32947c31ca43ba",
       "version_major": 2,
       "version_minor": 0
      },
      "text/plain": [
       "Evaluating:   0%|          | 0/2 [00:00<?, ?it/s]"
      ]
     },
     "metadata": {},
     "output_type": "display_data"
    },
    {
     "name": "stderr",
     "output_type": "stream",
     "text": [
      " 58%|██████████████████████████████████████████████▋                                 | 133/228 [10:39<07:42,  4.86s/it]"
     ]
    },
    {
     "data": {
      "application/vnd.jupyter.widget-view+json": {
       "model_id": "1ce7dc6c96ed49e0a60793caa871cadc",
       "version_major": 2,
       "version_minor": 0
      },
      "text/plain": [
       "Evaluating:   0%|          | 0/2 [00:00<?, ?it/s]"
      ]
     },
     "metadata": {},
     "output_type": "display_data"
    },
    {
     "name": "stderr",
     "output_type": "stream",
     "text": [
      " 59%|███████████████████████████████████████████████                                 | 134/228 [10:43<07:34,  4.83s/it]"
     ]
    },
    {
     "data": {
      "application/vnd.jupyter.widget-view+json": {
       "model_id": "f2dca414d57c4df6b010a76baeca1f2a",
       "version_major": 2,
       "version_minor": 0
      },
      "text/plain": [
       "Evaluating:   0%|          | 0/2 [00:00<?, ?it/s]"
      ]
     },
     "metadata": {},
     "output_type": "display_data"
    },
    {
     "name": "stderr",
     "output_type": "stream",
     "text": [
      " 59%|███████████████████████████████████████████████▎                                | 135/228 [10:48<07:33,  4.88s/it]"
     ]
    },
    {
     "data": {
      "application/vnd.jupyter.widget-view+json": {
       "model_id": "c43caf267b2749c2b7f7ce29c45a414a",
       "version_major": 2,
       "version_minor": 0
      },
      "text/plain": [
       "Evaluating:   0%|          | 0/2 [00:00<?, ?it/s]"
      ]
     },
     "metadata": {},
     "output_type": "display_data"
    },
    {
     "name": "stderr",
     "output_type": "stream",
     "text": [
      " 60%|███████████████████████████████████████████████▋                                | 136/228 [10:53<07:30,  4.89s/it]"
     ]
    },
    {
     "data": {
      "application/vnd.jupyter.widget-view+json": {
       "model_id": "9b0ea0672c844be1813e44d98c79aca2",
       "version_major": 2,
       "version_minor": 0
      },
      "text/plain": [
       "Evaluating:   0%|          | 0/2 [00:00<?, ?it/s]"
      ]
     },
     "metadata": {},
     "output_type": "display_data"
    },
    {
     "name": "stderr",
     "output_type": "stream",
     "text": [
      " 60%|████████████████████████████████████████████████                                | 137/228 [10:58<07:30,  4.95s/it]"
     ]
    },
    {
     "data": {
      "application/vnd.jupyter.widget-view+json": {
       "model_id": "ebd2f90caa7e49c19b82a1ac203d19ff",
       "version_major": 2,
       "version_minor": 0
      },
      "text/plain": [
       "Evaluating:   0%|          | 0/2 [00:00<?, ?it/s]"
      ]
     },
     "metadata": {},
     "output_type": "display_data"
    },
    {
     "name": "stderr",
     "output_type": "stream",
     "text": [
      " 61%|████████████████████████████████████████████████▍                               | 138/228 [11:03<07:27,  4.97s/it]"
     ]
    },
    {
     "data": {
      "application/vnd.jupyter.widget-view+json": {
       "model_id": "cc9531c6a75645de9e37dacde4af70f1",
       "version_major": 2,
       "version_minor": 0
      },
      "text/plain": [
       "Evaluating:   0%|          | 0/2 [00:00<?, ?it/s]"
      ]
     },
     "metadata": {},
     "output_type": "display_data"
    },
    {
     "name": "stderr",
     "output_type": "stream",
     "text": [
      " 61%|████████████████████████████████████████████████▊                               | 139/228 [11:08<07:18,  4.92s/it]"
     ]
    },
    {
     "data": {
      "application/vnd.jupyter.widget-view+json": {
       "model_id": "cbf6557ff9f54a69a3dac73ac9a6870c",
       "version_major": 2,
       "version_minor": 0
      },
      "text/plain": [
       "Evaluating:   0%|          | 0/2 [00:00<?, ?it/s]"
      ]
     },
     "metadata": {},
     "output_type": "display_data"
    },
    {
     "name": "stderr",
     "output_type": "stream",
     "text": [
      " 61%|█████████████████████████████████████████████████                               | 140/228 [11:13<07:13,  4.93s/it]"
     ]
    },
    {
     "data": {
      "application/vnd.jupyter.widget-view+json": {
       "model_id": "bcb7a134731542d1aaa09265f400f71f",
       "version_major": 2,
       "version_minor": 0
      },
      "text/plain": [
       "Evaluating:   0%|          | 0/2 [00:00<?, ?it/s]"
      ]
     },
     "metadata": {},
     "output_type": "display_data"
    },
    {
     "name": "stderr",
     "output_type": "stream",
     "text": [
      " 62%|█████████████████████████████████████████████████▍                              | 141/228 [11:18<07:12,  4.97s/it]"
     ]
    },
    {
     "data": {
      "application/vnd.jupyter.widget-view+json": {
       "model_id": "4761e2893d714cdb93c159fc4c2cc7c8",
       "version_major": 2,
       "version_minor": 0
      },
      "text/plain": [
       "Evaluating:   0%|          | 0/2 [00:00<?, ?it/s]"
      ]
     },
     "metadata": {},
     "output_type": "display_data"
    },
    {
     "name": "stderr",
     "output_type": "stream",
     "text": [
      " 62%|█████████████████████████████████████████████████▊                              | 142/228 [11:23<07:00,  4.89s/it]"
     ]
    },
    {
     "data": {
      "application/vnd.jupyter.widget-view+json": {
       "model_id": "5f90d9221f13447aa3856e29ca3681f6",
       "version_major": 2,
       "version_minor": 0
      },
      "text/plain": [
       "Evaluating:   0%|          | 0/2 [00:00<?, ?it/s]"
      ]
     },
     "metadata": {},
     "output_type": "display_data"
    },
    {
     "name": "stderr",
     "output_type": "stream",
     "text": [
      " 63%|██████████████████████████████████████████████████▏                             | 143/228 [11:28<06:59,  4.93s/it]"
     ]
    },
    {
     "data": {
      "application/vnd.jupyter.widget-view+json": {
       "model_id": "26676df90ecf4f9fb28ace8bc8df7bd5",
       "version_major": 2,
       "version_minor": 0
      },
      "text/plain": [
       "Evaluating:   0%|          | 0/2 [00:00<?, ?it/s]"
      ]
     },
     "metadata": {},
     "output_type": "display_data"
    },
    {
     "name": "stderr",
     "output_type": "stream",
     "text": [
      " 63%|██████████████████████████████████████████████████▌                             | 144/228 [11:33<06:53,  4.93s/it]"
     ]
    },
    {
     "data": {
      "application/vnd.jupyter.widget-view+json": {
       "model_id": "e4ae3a8d521a4acd88a64552eea725f1",
       "version_major": 2,
       "version_minor": 0
      },
      "text/plain": [
       "Evaluating:   0%|          | 0/2 [00:00<?, ?it/s]"
      ]
     },
     "metadata": {},
     "output_type": "display_data"
    },
    {
     "name": "stderr",
     "output_type": "stream",
     "text": [
      " 64%|██████████████████████████████████████████████████▉                             | 145/228 [11:38<06:46,  4.90s/it]"
     ]
    },
    {
     "data": {
      "application/vnd.jupyter.widget-view+json": {
       "model_id": "aa4f0aaba42b4d0dbe0d8640b57fc955",
       "version_major": 2,
       "version_minor": 0
      },
      "text/plain": [
       "Evaluating:   0%|          | 0/2 [00:00<?, ?it/s]"
      ]
     },
     "metadata": {},
     "output_type": "display_data"
    },
    {
     "name": "stderr",
     "output_type": "stream",
     "text": [
      " 64%|███████████████████████████████████████████████████▏                            | 146/228 [11:43<06:46,  4.96s/it]"
     ]
    },
    {
     "data": {
      "application/vnd.jupyter.widget-view+json": {
       "model_id": "dda34c692d534144bef4af2ee06c7e73",
       "version_major": 2,
       "version_minor": 0
      },
      "text/plain": [
       "Evaluating:   0%|          | 0/2 [00:00<?, ?it/s]"
      ]
     },
     "metadata": {},
     "output_type": "display_data"
    },
    {
     "name": "stderr",
     "output_type": "stream",
     "text": [
      " 64%|███████████████████████████████████████████████████▌                            | 147/228 [11:48<06:39,  4.94s/it]"
     ]
    },
    {
     "data": {
      "application/vnd.jupyter.widget-view+json": {
       "model_id": "df8c47eabc2448628c6e252513847a17",
       "version_major": 2,
       "version_minor": 0
      },
      "text/plain": [
       "Evaluating:   0%|          | 0/2 [00:00<?, ?it/s]"
      ]
     },
     "metadata": {},
     "output_type": "display_data"
    },
    {
     "name": "stderr",
     "output_type": "stream",
     "text": [
      " 65%|███████████████████████████████████████████████████▉                            | 148/228 [11:53<06:33,  4.92s/it]"
     ]
    },
    {
     "data": {
      "application/vnd.jupyter.widget-view+json": {
       "model_id": "e4a0674b397c4b51967f2294f5a92599",
       "version_major": 2,
       "version_minor": 0
      },
      "text/plain": [
       "Evaluating:   0%|          | 0/2 [00:00<?, ?it/s]"
      ]
     },
     "metadata": {},
     "output_type": "display_data"
    },
    {
     "name": "stderr",
     "output_type": "stream",
     "text": [
      " 65%|████████████████████████████████████████████████████▎                           | 149/228 [11:58<06:30,  4.94s/it]"
     ]
    },
    {
     "data": {
      "application/vnd.jupyter.widget-view+json": {
       "model_id": "305c0c9fa8014b20bb319a83a8b31f9c",
       "version_major": 2,
       "version_minor": 0
      },
      "text/plain": [
       "Evaluating:   0%|          | 0/2 [00:00<?, ?it/s]"
      ]
     },
     "metadata": {},
     "output_type": "display_data"
    },
    {
     "name": "stderr",
     "output_type": "stream",
     "text": [
      " 66%|████████████████████████████████████████████████████▋                           | 150/228 [12:02<06:24,  4.93s/it]"
     ]
    },
    {
     "data": {
      "application/vnd.jupyter.widget-view+json": {
       "model_id": "e6f8e7fb5e1448c98b3177f30c324303",
       "version_major": 2,
       "version_minor": 0
      },
      "text/plain": [
       "Evaluating:   0%|          | 0/2 [00:00<?, ?it/s]"
      ]
     },
     "metadata": {},
     "output_type": "display_data"
    },
    {
     "name": "stderr",
     "output_type": "stream",
     "text": [
      " 66%|████████████████████████████████████████████████████▉                           | 151/228 [12:07<06:15,  4.88s/it]"
     ]
    },
    {
     "data": {
      "application/vnd.jupyter.widget-view+json": {
       "model_id": "c211d906f7594f2caa7ef7ce6267752e",
       "version_major": 2,
       "version_minor": 0
      },
      "text/plain": [
       "Evaluating:   0%|          | 0/2 [00:00<?, ?it/s]"
      ]
     },
     "metadata": {},
     "output_type": "display_data"
    },
    {
     "name": "stderr",
     "output_type": "stream",
     "text": [
      " 67%|█████████████████████████████████████████████████████▎                          | 152/228 [12:12<06:10,  4.88s/it]"
     ]
    },
    {
     "data": {
      "application/vnd.jupyter.widget-view+json": {
       "model_id": "b2ea5f4611dd4e46b3b381a89c5c212a",
       "version_major": 2,
       "version_minor": 0
      },
      "text/plain": [
       "Evaluating:   0%|          | 0/2 [00:00<?, ?it/s]"
      ]
     },
     "metadata": {},
     "output_type": "display_data"
    },
    {
     "name": "stderr",
     "output_type": "stream",
     "text": [
      " 67%|█████████████████████████████████████████████████████▋                          | 153/228 [12:17<06:01,  4.83s/it]"
     ]
    },
    {
     "data": {
      "application/vnd.jupyter.widget-view+json": {
       "model_id": "15010db07bf246128cc1bfa85610a298",
       "version_major": 2,
       "version_minor": 0
      },
      "text/plain": [
       "Evaluating:   0%|          | 0/2 [00:00<?, ?it/s]"
      ]
     },
     "metadata": {},
     "output_type": "display_data"
    },
    {
     "name": "stderr",
     "output_type": "stream",
     "text": [
      " 68%|██████████████████████████████████████████████████████                          | 154/228 [12:22<05:58,  4.85s/it]"
     ]
    },
    {
     "data": {
      "application/vnd.jupyter.widget-view+json": {
       "model_id": "b006f7050d1244ec87f25f7fabf3f776",
       "version_major": 2,
       "version_minor": 0
      },
      "text/plain": [
       "Evaluating:   0%|          | 0/2 [00:00<?, ?it/s]"
      ]
     },
     "metadata": {},
     "output_type": "display_data"
    },
    {
     "name": "stderr",
     "output_type": "stream",
     "text": [
      " 68%|██████████████████████████████████████████████████████▍                         | 155/228 [12:27<05:55,  4.88s/it]"
     ]
    },
    {
     "data": {
      "application/vnd.jupyter.widget-view+json": {
       "model_id": "42e65bba84db477b8965ecd9af91b737",
       "version_major": 2,
       "version_minor": 0
      },
      "text/plain": [
       "Evaluating:   0%|          | 0/2 [00:00<?, ?it/s]"
      ]
     },
     "metadata": {},
     "output_type": "display_data"
    },
    {
     "name": "stderr",
     "output_type": "stream",
     "text": [
      " 68%|██████████████████████████████████████████████████████▋                         | 156/228 [12:31<05:47,  4.82s/it]"
     ]
    },
    {
     "data": {
      "application/vnd.jupyter.widget-view+json": {
       "model_id": "00ad762fd2f2442b9b614ab69d5899b2",
       "version_major": 2,
       "version_minor": 0
      },
      "text/plain": [
       "Evaluating:   0%|          | 0/2 [00:00<?, ?it/s]"
      ]
     },
     "metadata": {},
     "output_type": "display_data"
    },
    {
     "name": "stderr",
     "output_type": "stream",
     "text": [
      " 69%|███████████████████████████████████████████████████████                         | 157/228 [12:36<05:43,  4.84s/it]"
     ]
    },
    {
     "data": {
      "application/vnd.jupyter.widget-view+json": {
       "model_id": "d42d42aa1a064deeb19ddb62dbcae09f",
       "version_major": 2,
       "version_minor": 0
      },
      "text/plain": [
       "Evaluating:   0%|          | 0/2 [00:00<?, ?it/s]"
      ]
     },
     "metadata": {},
     "output_type": "display_data"
    },
    {
     "name": "stderr",
     "output_type": "stream",
     "text": [
      " 69%|███████████████████████████████████████████████████████▍                        | 158/228 [12:41<05:39,  4.86s/it]"
     ]
    },
    {
     "data": {
      "application/vnd.jupyter.widget-view+json": {
       "model_id": "d24c0272449e41b79bbbc177e94dd0c1",
       "version_major": 2,
       "version_minor": 0
      },
      "text/plain": [
       "Evaluating:   0%|          | 0/2 [00:00<?, ?it/s]"
      ]
     },
     "metadata": {},
     "output_type": "display_data"
    },
    {
     "name": "stderr",
     "output_type": "stream",
     "text": [
      " 70%|███████████████████████████████████████████████████████▊                        | 159/228 [12:46<05:37,  4.89s/it]"
     ]
    },
    {
     "data": {
      "application/vnd.jupyter.widget-view+json": {
       "model_id": "e3863479d2434d6aaa2e7ba46be7c077",
       "version_major": 2,
       "version_minor": 0
      },
      "text/plain": [
       "Evaluating:   0%|          | 0/2 [00:00<?, ?it/s]"
      ]
     },
     "metadata": {},
     "output_type": "display_data"
    },
    {
     "name": "stderr",
     "output_type": "stream",
     "text": [
      " 70%|████████████████████████████████████████████████████████▏                       | 160/228 [12:51<05:35,  4.93s/it]"
     ]
    },
    {
     "data": {
      "application/vnd.jupyter.widget-view+json": {
       "model_id": "3f63128fa43e4745b882d3325522b5cd",
       "version_major": 2,
       "version_minor": 0
      },
      "text/plain": [
       "Evaluating:   0%|          | 0/2 [00:00<?, ?it/s]"
      ]
     },
     "metadata": {},
     "output_type": "display_data"
    },
    {
     "name": "stderr",
     "output_type": "stream",
     "text": [
      " 71%|████████████████████████████████████████████████████████▍                       | 161/228 [12:56<05:29,  4.93s/it]"
     ]
    },
    {
     "data": {
      "application/vnd.jupyter.widget-view+json": {
       "model_id": "1d418bd8362d43cc8b32e2745bd26a3a",
       "version_major": 2,
       "version_minor": 0
      },
      "text/plain": [
       "Evaluating:   0%|          | 0/2 [00:00<?, ?it/s]"
      ]
     },
     "metadata": {},
     "output_type": "display_data"
    },
    {
     "name": "stderr",
     "output_type": "stream",
     "text": [
      " 71%|████████████████████████████████████████████████████████▊                       | 162/228 [13:01<05:22,  4.88s/it]"
     ]
    },
    {
     "data": {
      "application/vnd.jupyter.widget-view+json": {
       "model_id": "9fcfd1c2306b45d79649e1acfc907b4a",
       "version_major": 2,
       "version_minor": 0
      },
      "text/plain": [
       "Evaluating:   0%|          | 0/2 [00:00<?, ?it/s]"
      ]
     },
     "metadata": {},
     "output_type": "display_data"
    },
    {
     "name": "stderr",
     "output_type": "stream",
     "text": [
      " 71%|█████████████████████████████████████████████████████████▏                      | 163/228 [13:06<05:17,  4.88s/it]"
     ]
    },
    {
     "data": {
      "application/vnd.jupyter.widget-view+json": {
       "model_id": "14ee0446d7774d75b1af1b98d31513ca",
       "version_major": 2,
       "version_minor": 0
      },
      "text/plain": [
       "Evaluating:   0%|          | 0/2 [00:00<?, ?it/s]"
      ]
     },
     "metadata": {},
     "output_type": "display_data"
    },
    {
     "name": "stderr",
     "output_type": "stream",
     "text": [
      " 72%|█████████████████████████████████████████████████████████▌                      | 164/228 [13:11<05:15,  4.92s/it]"
     ]
    },
    {
     "data": {
      "application/vnd.jupyter.widget-view+json": {
       "model_id": "2bba17f18c0840bea6c0d8d18f7a60a1",
       "version_major": 2,
       "version_minor": 0
      },
      "text/plain": [
       "Evaluating:   0%|          | 0/2 [00:00<?, ?it/s]"
      ]
     },
     "metadata": {},
     "output_type": "display_data"
    },
    {
     "name": "stderr",
     "output_type": "stream",
     "text": [
      " 72%|█████████████████████████████████████████████████████████▉                      | 165/228 [13:16<05:14,  4.99s/it]"
     ]
    },
    {
     "data": {
      "application/vnd.jupyter.widget-view+json": {
       "model_id": "aa0745d293dd4c079937fa0d6c1d8b18",
       "version_major": 2,
       "version_minor": 0
      },
      "text/plain": [
       "Evaluating:   0%|          | 0/2 [00:00<?, ?it/s]"
      ]
     },
     "metadata": {},
     "output_type": "display_data"
    },
    {
     "name": "stderr",
     "output_type": "stream",
     "text": [
      " 73%|██████████████████████████████████████████████████████████▏                     | 166/228 [13:21<05:05,  4.92s/it]"
     ]
    },
    {
     "data": {
      "application/vnd.jupyter.widget-view+json": {
       "model_id": "6887725efdb7422f86b371c20177c346",
       "version_major": 2,
       "version_minor": 0
      },
      "text/plain": [
       "Evaluating:   0%|          | 0/2 [00:00<?, ?it/s]"
      ]
     },
     "metadata": {},
     "output_type": "display_data"
    },
    {
     "name": "stderr",
     "output_type": "stream",
     "text": [
      " 73%|██████████████████████████████████████████████████████████▌                     | 167/228 [13:25<04:59,  4.91s/it]"
     ]
    },
    {
     "data": {
      "application/vnd.jupyter.widget-view+json": {
       "model_id": "d45acf0b93874a51bbe547e37a1dc2f5",
       "version_major": 2,
       "version_minor": 0
      },
      "text/plain": [
       "Evaluating:   0%|          | 0/2 [00:00<?, ?it/s]"
      ]
     },
     "metadata": {},
     "output_type": "display_data"
    },
    {
     "name": "stderr",
     "output_type": "stream",
     "text": [
      " 74%|██████████████████████████████████████████████████████████▉                     | 168/228 [13:30<04:54,  4.91s/it]"
     ]
    },
    {
     "data": {
      "application/vnd.jupyter.widget-view+json": {
       "model_id": "ed4f11a4072243149bc03acbdff0cf36",
       "version_major": 2,
       "version_minor": 0
      },
      "text/plain": [
       "Evaluating:   0%|          | 0/2 [00:00<?, ?it/s]"
      ]
     },
     "metadata": {},
     "output_type": "display_data"
    },
    {
     "name": "stderr",
     "output_type": "stream",
     "text": [
      " 74%|███████████████████████████████████████████████████████████▎                    | 169/228 [13:35<04:48,  4.89s/it]"
     ]
    },
    {
     "data": {
      "application/vnd.jupyter.widget-view+json": {
       "model_id": "73c0faeb66fa4a58976edec337a4b47d",
       "version_major": 2,
       "version_minor": 0
      },
      "text/plain": [
       "Evaluating:   0%|          | 0/2 [00:00<?, ?it/s]"
      ]
     },
     "metadata": {},
     "output_type": "display_data"
    },
    {
     "name": "stderr",
     "output_type": "stream",
     "text": [
      " 75%|███████████████████████████████████████████████████████████▋                    | 170/228 [13:40<04:46,  4.93s/it]"
     ]
    },
    {
     "data": {
      "application/vnd.jupyter.widget-view+json": {
       "model_id": "c7c1ac9844c646ac8d0955e6ed6fb5d9",
       "version_major": 2,
       "version_minor": 0
      },
      "text/plain": [
       "Evaluating:   0%|          | 0/2 [00:00<?, ?it/s]"
      ]
     },
     "metadata": {},
     "output_type": "display_data"
    },
    {
     "name": "stderr",
     "output_type": "stream",
     "text": [
      " 75%|████████████████████████████████████████████████████████████                    | 171/228 [13:45<04:39,  4.90s/it]"
     ]
    },
    {
     "data": {
      "application/vnd.jupyter.widget-view+json": {
       "model_id": "326cba3cf61a46348ce35bf697384218",
       "version_major": 2,
       "version_minor": 0
      },
      "text/plain": [
       "Evaluating:   0%|          | 0/2 [00:00<?, ?it/s]"
      ]
     },
     "metadata": {},
     "output_type": "display_data"
    },
    {
     "name": "stderr",
     "output_type": "stream",
     "text": [
      " 75%|████████████████████████████████████████████████████████████▎                   | 172/228 [13:50<04:31,  4.86s/it]"
     ]
    },
    {
     "data": {
      "application/vnd.jupyter.widget-view+json": {
       "model_id": "3514e1699f754a5e81be6c45ef53065d",
       "version_major": 2,
       "version_minor": 0
      },
      "text/plain": [
       "Evaluating:   0%|          | 0/2 [00:00<?, ?it/s]"
      ]
     },
     "metadata": {},
     "output_type": "display_data"
    },
    {
     "name": "stderr",
     "output_type": "stream",
     "text": [
      " 76%|████████████████████████████████████████████████████████████▋                   | 173/228 [13:55<04:28,  4.89s/it]"
     ]
    },
    {
     "data": {
      "application/vnd.jupyter.widget-view+json": {
       "model_id": "a8150aaf0e2b49c594ddc3cd94a7e00c",
       "version_major": 2,
       "version_minor": 0
      },
      "text/plain": [
       "Evaluating:   0%|          | 0/2 [00:00<?, ?it/s]"
      ]
     },
     "metadata": {},
     "output_type": "display_data"
    },
    {
     "name": "stderr",
     "output_type": "stream",
     "text": [
      " 76%|█████████████████████████████████████████████████████████████                   | 174/228 [14:00<04:23,  4.87s/it]"
     ]
    },
    {
     "data": {
      "application/vnd.jupyter.widget-view+json": {
       "model_id": "614ce9bb0c994406aa289a8d08a992bc",
       "version_major": 2,
       "version_minor": 0
      },
      "text/plain": [
       "Evaluating:   0%|          | 0/2 [00:00<?, ?it/s]"
      ]
     },
     "metadata": {},
     "output_type": "display_data"
    },
    {
     "name": "stderr",
     "output_type": "stream",
     "text": [
      " 77%|█████████████████████████████████████████████████████████████▍                  | 175/228 [14:04<04:14,  4.81s/it]"
     ]
    },
    {
     "data": {
      "application/vnd.jupyter.widget-view+json": {
       "model_id": "3917a6bf39a749629e0bfda83f07323b",
       "version_major": 2,
       "version_minor": 0
      },
      "text/plain": [
       "Evaluating:   0%|          | 0/2 [00:00<?, ?it/s]"
      ]
     },
     "metadata": {},
     "output_type": "display_data"
    },
    {
     "name": "stderr",
     "output_type": "stream",
     "text": [
      " 77%|█████████████████████████████████████████████████████████████▊                  | 176/228 [14:09<04:12,  4.86s/it]"
     ]
    },
    {
     "data": {
      "application/vnd.jupyter.widget-view+json": {
       "model_id": "b28385337b13471f958c9a5ae9897d1d",
       "version_major": 2,
       "version_minor": 0
      },
      "text/plain": [
       "Evaluating:   0%|          | 0/2 [00:00<?, ?it/s]"
      ]
     },
     "metadata": {},
     "output_type": "display_data"
    },
    {
     "name": "stderr",
     "output_type": "stream",
     "text": [
      " 78%|██████████████████████████████████████████████████████████████                  | 177/228 [14:14<04:06,  4.84s/it]"
     ]
    },
    {
     "data": {
      "application/vnd.jupyter.widget-view+json": {
       "model_id": "abfa189b5aaf47c6840c2fc13a064b62",
       "version_major": 2,
       "version_minor": 0
      },
      "text/plain": [
       "Evaluating:   0%|          | 0/2 [00:00<?, ?it/s]"
      ]
     },
     "metadata": {},
     "output_type": "display_data"
    },
    {
     "name": "stderr",
     "output_type": "stream",
     "text": [
      " 78%|██████████████████████████████████████████████████████████████▍                 | 178/228 [14:19<04:01,  4.82s/it]"
     ]
    },
    {
     "data": {
      "application/vnd.jupyter.widget-view+json": {
       "model_id": "a3a193c2051741e5a0ee81c651e3a4bb",
       "version_major": 2,
       "version_minor": 0
      },
      "text/plain": [
       "Evaluating:   0%|          | 0/2 [00:00<?, ?it/s]"
      ]
     },
     "metadata": {},
     "output_type": "display_data"
    },
    {
     "name": "stderr",
     "output_type": "stream",
     "text": [
      " 79%|██████████████████████████████████████████████████████████████▊                 | 179/228 [14:24<03:55,  4.81s/it]"
     ]
    },
    {
     "data": {
      "application/vnd.jupyter.widget-view+json": {
       "model_id": "7cfb66c2e6c742709c6cb1d01b1c71ba",
       "version_major": 2,
       "version_minor": 0
      },
      "text/plain": [
       "Evaluating:   0%|          | 0/2 [00:00<?, ?it/s]"
      ]
     },
     "metadata": {},
     "output_type": "display_data"
    },
    {
     "name": "stderr",
     "output_type": "stream",
     "text": [
      " 79%|███████████████████████████████████████████████████████████████▏                | 180/228 [14:28<03:51,  4.82s/it]"
     ]
    },
    {
     "data": {
      "application/vnd.jupyter.widget-view+json": {
       "model_id": "0fb871e7c2e94b2bbd8683771dbfe2e0",
       "version_major": 2,
       "version_minor": 0
      },
      "text/plain": [
       "Evaluating:   0%|          | 0/2 [00:00<?, ?it/s]"
      ]
     },
     "metadata": {},
     "output_type": "display_data"
    },
    {
     "name": "stderr",
     "output_type": "stream",
     "text": [
      " 79%|███████████████████████████████████████████████████████████████▌                | 181/228 [14:33<03:47,  4.84s/it]"
     ]
    },
    {
     "data": {
      "application/vnd.jupyter.widget-view+json": {
       "model_id": "40294ec217ae4e2bb3f6a87850caea6e",
       "version_major": 2,
       "version_minor": 0
      },
      "text/plain": [
       "Evaluating:   0%|          | 0/2 [00:00<?, ?it/s]"
      ]
     },
     "metadata": {},
     "output_type": "display_data"
    },
    {
     "name": "stderr",
     "output_type": "stream",
     "text": [
      " 80%|███████████████████████████████████████████████████████████████▊                | 182/228 [14:38<03:40,  4.79s/it]"
     ]
    },
    {
     "data": {
      "application/vnd.jupyter.widget-view+json": {
       "model_id": "7d1def1619464dd2844cb13e13854b2c",
       "version_major": 2,
       "version_minor": 0
      },
      "text/plain": [
       "Evaluating:   0%|          | 0/2 [00:00<?, ?it/s]"
      ]
     },
     "metadata": {},
     "output_type": "display_data"
    },
    {
     "name": "stderr",
     "output_type": "stream",
     "text": [
      " 80%|████████████████████████████████████████████████████████████████▏               | 183/228 [14:43<03:33,  4.75s/it]"
     ]
    },
    {
     "data": {
      "application/vnd.jupyter.widget-view+json": {
       "model_id": "476e737b27774d818184798c4d610bf1",
       "version_major": 2,
       "version_minor": 0
      },
      "text/plain": [
       "Evaluating:   0%|          | 0/2 [00:00<?, ?it/s]"
      ]
     },
     "metadata": {},
     "output_type": "display_data"
    },
    {
     "name": "stderr",
     "output_type": "stream",
     "text": [
      " 81%|████████████████████████████████████████████████████████████████▌               | 184/228 [14:48<03:31,  4.80s/it]"
     ]
    },
    {
     "data": {
      "application/vnd.jupyter.widget-view+json": {
       "model_id": "3cbc7c64ff4948a3b3fbc90658ee1fcd",
       "version_major": 2,
       "version_minor": 0
      },
      "text/plain": [
       "Evaluating:   0%|          | 0/2 [00:00<?, ?it/s]"
      ]
     },
     "metadata": {},
     "output_type": "display_data"
    },
    {
     "name": "stderr",
     "output_type": "stream",
     "text": [
      " 81%|████████████████████████████████████████████████████████████████▉               | 185/228 [14:52<03:24,  4.76s/it]"
     ]
    },
    {
     "data": {
      "application/vnd.jupyter.widget-view+json": {
       "model_id": "fe20c28848194c35b7e53b6e74f32a7f",
       "version_major": 2,
       "version_minor": 0
      },
      "text/plain": [
       "Evaluating:   0%|          | 0/2 [00:00<?, ?it/s]"
      ]
     },
     "metadata": {},
     "output_type": "display_data"
    },
    {
     "name": "stderr",
     "output_type": "stream",
     "text": [
      " 82%|█████████████████████████████████████████████████████████████████▎              | 186/228 [14:57<03:18,  4.74s/it]"
     ]
    },
    {
     "data": {
      "application/vnd.jupyter.widget-view+json": {
       "model_id": "d3f342b7d1294e318340f74be0d3f232",
       "version_major": 2,
       "version_minor": 0
      },
      "text/plain": [
       "Evaluating:   0%|          | 0/2 [00:00<?, ?it/s]"
      ]
     },
     "metadata": {},
     "output_type": "display_data"
    },
    {
     "name": "stderr",
     "output_type": "stream",
     "text": [
      " 82%|█████████████████████████████████████████████████████████████████▌              | 187/228 [15:02<03:13,  4.73s/it]"
     ]
    },
    {
     "data": {
      "application/vnd.jupyter.widget-view+json": {
       "model_id": "09be4686c735445d9d11612cbb1adac7",
       "version_major": 2,
       "version_minor": 0
      },
      "text/plain": [
       "Evaluating:   0%|          | 0/2 [00:00<?, ?it/s]"
      ]
     },
     "metadata": {},
     "output_type": "display_data"
    },
    {
     "name": "stderr",
     "output_type": "stream",
     "text": [
      " 82%|█████████████████████████████████████████████████████████████████▉              | 188/228 [15:06<03:09,  4.74s/it]"
     ]
    },
    {
     "data": {
      "application/vnd.jupyter.widget-view+json": {
       "model_id": "5b2cd2fa7a6248f58fb6ca415430ad3e",
       "version_major": 2,
       "version_minor": 0
      },
      "text/plain": [
       "Evaluating:   0%|          | 0/2 [00:00<?, ?it/s]"
      ]
     },
     "metadata": {},
     "output_type": "display_data"
    },
    {
     "name": "stderr",
     "output_type": "stream",
     "text": [
      " 83%|██████████████████████████████████████████████████████████████████▎             | 189/228 [15:11<03:04,  4.73s/it]"
     ]
    },
    {
     "data": {
      "application/vnd.jupyter.widget-view+json": {
       "model_id": "19dfd472a00a499cb94374fd2fb21eea",
       "version_major": 2,
       "version_minor": 0
      },
      "text/plain": [
       "Evaluating:   0%|          | 0/2 [00:00<?, ?it/s]"
      ]
     },
     "metadata": {},
     "output_type": "display_data"
    },
    {
     "name": "stderr",
     "output_type": "stream",
     "text": [
      " 83%|██████████████████████████████████████████████████████████████████▋             | 190/228 [15:16<03:00,  4.74s/it]"
     ]
    },
    {
     "data": {
      "application/vnd.jupyter.widget-view+json": {
       "model_id": "c16eec8f2a274523b89c48aa31360e4c",
       "version_major": 2,
       "version_minor": 0
      },
      "text/plain": [
       "Evaluating:   0%|          | 0/2 [00:00<?, ?it/s]"
      ]
     },
     "metadata": {},
     "output_type": "display_data"
    },
    {
     "name": "stderr",
     "output_type": "stream",
     "text": [
      " 84%|███████████████████████████████████████████████████████████████████             | 191/228 [15:21<02:54,  4.71s/it]"
     ]
    },
    {
     "data": {
      "application/vnd.jupyter.widget-view+json": {
       "model_id": "10091df2c9c94880a6bf816610cf9a23",
       "version_major": 2,
       "version_minor": 0
      },
      "text/plain": [
       "Evaluating:   0%|          | 0/2 [00:00<?, ?it/s]"
      ]
     },
     "metadata": {},
     "output_type": "display_data"
    },
    {
     "name": "stderr",
     "output_type": "stream",
     "text": [
      " 84%|███████████████████████████████████████████████████████████████████▎            | 192/228 [15:25<02:50,  4.73s/it]"
     ]
    },
    {
     "data": {
      "application/vnd.jupyter.widget-view+json": {
       "model_id": "05667eaff27a4148b818486fadcd49b4",
       "version_major": 2,
       "version_minor": 0
      },
      "text/plain": [
       "Evaluating:   0%|          | 0/2 [00:00<?, ?it/s]"
      ]
     },
     "metadata": {},
     "output_type": "display_data"
    },
    {
     "name": "stderr",
     "output_type": "stream",
     "text": [
      " 85%|███████████████████████████████████████████████████████████████████▋            | 193/228 [15:30<02:45,  4.74s/it]"
     ]
    },
    {
     "data": {
      "application/vnd.jupyter.widget-view+json": {
       "model_id": "85343a0317724389b8543092919f71e7",
       "version_major": 2,
       "version_minor": 0
      },
      "text/plain": [
       "Evaluating:   0%|          | 0/2 [00:00<?, ?it/s]"
      ]
     },
     "metadata": {},
     "output_type": "display_data"
    },
    {
     "name": "stderr",
     "output_type": "stream",
     "text": [
      " 85%|████████████████████████████████████████████████████████████████████            | 194/228 [15:35<02:42,  4.79s/it]"
     ]
    },
    {
     "data": {
      "application/vnd.jupyter.widget-view+json": {
       "model_id": "219dda33558a419f87ec743843bd40dd",
       "version_major": 2,
       "version_minor": 0
      },
      "text/plain": [
       "Evaluating:   0%|          | 0/2 [00:00<?, ?it/s]"
      ]
     },
     "metadata": {},
     "output_type": "display_data"
    },
    {
     "name": "stderr",
     "output_type": "stream",
     "text": [
      " 86%|████████████████████████████████████████████████████████████████████▍           | 195/228 [15:40<02:37,  4.78s/it]"
     ]
    },
    {
     "data": {
      "application/vnd.jupyter.widget-view+json": {
       "model_id": "5a993402352b45ac85f18c9aa62f3686",
       "version_major": 2,
       "version_minor": 0
      },
      "text/plain": [
       "Evaluating:   0%|          | 0/2 [00:00<?, ?it/s]"
      ]
     },
     "metadata": {},
     "output_type": "display_data"
    },
    {
     "name": "stderr",
     "output_type": "stream",
     "text": [
      " 86%|████████████████████████████████████████████████████████████████████▊           | 196/228 [15:45<02:33,  4.80s/it]"
     ]
    },
    {
     "data": {
      "application/vnd.jupyter.widget-view+json": {
       "model_id": "70993826714d4aabb0422f6b5210a6b5",
       "version_major": 2,
       "version_minor": 0
      },
      "text/plain": [
       "Evaluating:   0%|          | 0/2 [00:00<?, ?it/s]"
      ]
     },
     "metadata": {},
     "output_type": "display_data"
    },
    {
     "name": "stderr",
     "output_type": "stream",
     "text": [
      " 86%|█████████████████████████████████████████████████████████████████████           | 197/228 [15:49<02:28,  4.79s/it]"
     ]
    },
    {
     "data": {
      "application/vnd.jupyter.widget-view+json": {
       "model_id": "54f0477adc3348919e711f839d8e509e",
       "version_major": 2,
       "version_minor": 0
      },
      "text/plain": [
       "Evaluating:   0%|          | 0/2 [00:00<?, ?it/s]"
      ]
     },
     "metadata": {},
     "output_type": "display_data"
    },
    {
     "name": "stderr",
     "output_type": "stream",
     "text": [
      " 87%|█████████████████████████████████████████████████████████████████████▍          | 198/228 [15:54<02:22,  4.76s/it]"
     ]
    },
    {
     "data": {
      "application/vnd.jupyter.widget-view+json": {
       "model_id": "af6e4e5b98694794b8e7ca8c55d64230",
       "version_major": 2,
       "version_minor": 0
      },
      "text/plain": [
       "Evaluating:   0%|          | 0/2 [00:00<?, ?it/s]"
      ]
     },
     "metadata": {},
     "output_type": "display_data"
    },
    {
     "name": "stderr",
     "output_type": "stream",
     "text": [
      " 87%|█████████████████████████████████████████████████████████████████████▊          | 199/228 [15:59<02:18,  4.78s/it]"
     ]
    },
    {
     "data": {
      "application/vnd.jupyter.widget-view+json": {
       "model_id": "4a7cd862b8354b4ea7236b7f9988316b",
       "version_major": 2,
       "version_minor": 0
      },
      "text/plain": [
       "Evaluating:   0%|          | 0/2 [00:00<?, ?it/s]"
      ]
     },
     "metadata": {},
     "output_type": "display_data"
    },
    {
     "name": "stderr",
     "output_type": "stream",
     "text": [
      " 88%|██████████████████████████████████████████████████████████████████████▏         | 200/228 [16:04<02:14,  4.81s/it]"
     ]
    },
    {
     "data": {
      "application/vnd.jupyter.widget-view+json": {
       "model_id": "e77324541a354f29ad086f9d90954a95",
       "version_major": 2,
       "version_minor": 0
      },
      "text/plain": [
       "Evaluating:   0%|          | 0/2 [00:00<?, ?it/s]"
      ]
     },
     "metadata": {},
     "output_type": "display_data"
    },
    {
     "name": "stderr",
     "output_type": "stream",
     "text": [
      " 88%|██████████████████████████████████████████████████████████████████████▌         | 201/228 [16:08<02:09,  4.78s/it]"
     ]
    },
    {
     "data": {
      "application/vnd.jupyter.widget-view+json": {
       "model_id": "e93143c6088e47a08d285c122d844598",
       "version_major": 2,
       "version_minor": 0
      },
      "text/plain": [
       "Evaluating:   0%|          | 0/2 [00:00<?, ?it/s]"
      ]
     },
     "metadata": {},
     "output_type": "display_data"
    },
    {
     "name": "stderr",
     "output_type": "stream",
     "text": [
      " 89%|██████████████████████████████████████████████████████████████████████▉         | 202/228 [16:13<02:05,  4.82s/it]"
     ]
    },
    {
     "data": {
      "application/vnd.jupyter.widget-view+json": {
       "model_id": "f8c00e2fb5854b258a9ecfc9985921bc",
       "version_major": 2,
       "version_minor": 0
      },
      "text/plain": [
       "Evaluating:   0%|          | 0/2 [00:00<?, ?it/s]"
      ]
     },
     "metadata": {},
     "output_type": "display_data"
    },
    {
     "name": "stderr",
     "output_type": "stream",
     "text": [
      " 89%|███████████████████████████████████████████████████████████████████████▏        | 203/228 [16:18<02:01,  4.84s/it]"
     ]
    },
    {
     "data": {
      "application/vnd.jupyter.widget-view+json": {
       "model_id": "3f500d6519e54341b98af924a81ffd2f",
       "version_major": 2,
       "version_minor": 0
      },
      "text/plain": [
       "Evaluating:   0%|          | 0/2 [00:00<?, ?it/s]"
      ]
     },
     "metadata": {},
     "output_type": "display_data"
    },
    {
     "name": "stderr",
     "output_type": "stream",
     "text": [
      " 89%|███████████████████████████████████████████████████████████████████████▌        | 204/228 [16:23<01:56,  4.86s/it]"
     ]
    },
    {
     "data": {
      "application/vnd.jupyter.widget-view+json": {
       "model_id": "1cc5da86644b49f7b1eeb9551457f12e",
       "version_major": 2,
       "version_minor": 0
      },
      "text/plain": [
       "Evaluating:   0%|          | 0/2 [00:00<?, ?it/s]"
      ]
     },
     "metadata": {},
     "output_type": "display_data"
    },
    {
     "name": "stderr",
     "output_type": "stream",
     "text": [
      " 90%|███████████████████████████████████████████████████████████████████████▉        | 205/228 [16:28<01:51,  4.86s/it]"
     ]
    },
    {
     "data": {
      "application/vnd.jupyter.widget-view+json": {
       "model_id": "ab1c3c5c0e434a909987149968c14a4e",
       "version_major": 2,
       "version_minor": 0
      },
      "text/plain": [
       "Evaluating:   0%|          | 0/2 [00:00<?, ?it/s]"
      ]
     },
     "metadata": {},
     "output_type": "display_data"
    },
    {
     "name": "stderr",
     "output_type": "stream",
     "text": [
      " 90%|████████████████████████████████████████████████████████████████████████▎       | 206/228 [16:33<01:46,  4.84s/it]"
     ]
    },
    {
     "data": {
      "application/vnd.jupyter.widget-view+json": {
       "model_id": "20cf74dbb3ad4f14886f3187c2daa29d",
       "version_major": 2,
       "version_minor": 0
      },
      "text/plain": [
       "Evaluating:   0%|          | 0/2 [00:00<?, ?it/s]"
      ]
     },
     "metadata": {},
     "output_type": "display_data"
    },
    {
     "name": "stderr",
     "output_type": "stream",
     "text": [
      " 91%|████████████████████████████████████████████████████████████████████████▋       | 207/228 [16:37<01:40,  4.77s/it]"
     ]
    },
    {
     "data": {
      "application/vnd.jupyter.widget-view+json": {
       "model_id": "68aa8c37a1b84f819d87ec3764815f95",
       "version_major": 2,
       "version_minor": 0
      },
      "text/plain": [
       "Evaluating:   0%|          | 0/2 [00:00<?, ?it/s]"
      ]
     },
     "metadata": {},
     "output_type": "display_data"
    },
    {
     "name": "stderr",
     "output_type": "stream",
     "text": [
      " 91%|████████████████████████████████████████████████████████████████████████▉       | 208/228 [16:42<01:36,  4.80s/it]"
     ]
    },
    {
     "data": {
      "application/vnd.jupyter.widget-view+json": {
       "model_id": "fbba044285364779b10565cb7a7f0dfe",
       "version_major": 2,
       "version_minor": 0
      },
      "text/plain": [
       "Evaluating:   0%|          | 0/2 [00:00<?, ?it/s]"
      ]
     },
     "metadata": {},
     "output_type": "display_data"
    },
    {
     "name": "stderr",
     "output_type": "stream",
     "text": [
      " 92%|█████████████████████████████████████████████████████████████████████████▎      | 209/228 [16:47<01:31,  4.82s/it]"
     ]
    },
    {
     "data": {
      "application/vnd.jupyter.widget-view+json": {
       "model_id": "026e30a8931644efb2ada508bb2e8eaf",
       "version_major": 2,
       "version_minor": 0
      },
      "text/plain": [
       "Evaluating:   0%|          | 0/2 [00:00<?, ?it/s]"
      ]
     },
     "metadata": {},
     "output_type": "display_data"
    },
    {
     "name": "stderr",
     "output_type": "stream",
     "text": [
      " 92%|█████████████████████████████████████████████████████████████████████████▋      | 210/228 [16:52<01:27,  4.85s/it]"
     ]
    },
    {
     "data": {
      "application/vnd.jupyter.widget-view+json": {
       "model_id": "a7945845dfeb4315ada2a29d7446ebc0",
       "version_major": 2,
       "version_minor": 0
      },
      "text/plain": [
       "Evaluating:   0%|          | 0/2 [00:00<?, ?it/s]"
      ]
     },
     "metadata": {},
     "output_type": "display_data"
    },
    {
     "name": "stderr",
     "output_type": "stream",
     "text": [
      " 93%|██████████████████████████████████████████████████████████████████████████      | 211/228 [16:57<01:22,  4.87s/it]"
     ]
    },
    {
     "data": {
      "application/vnd.jupyter.widget-view+json": {
       "model_id": "455e00390ee84975ab6a40171f8e0255",
       "version_major": 2,
       "version_minor": 0
      },
      "text/plain": [
       "Evaluating:   0%|          | 0/2 [00:00<?, ?it/s]"
      ]
     },
     "metadata": {},
     "output_type": "display_data"
    },
    {
     "name": "stderr",
     "output_type": "stream",
     "text": [
      " 93%|██████████████████████████████████████████████████████████████████████████▍     | 212/228 [17:02<01:17,  4.84s/it]"
     ]
    },
    {
     "data": {
      "application/vnd.jupyter.widget-view+json": {
       "model_id": "795a2e1630474064a266d81c2b96cdbf",
       "version_major": 2,
       "version_minor": 0
      },
      "text/plain": [
       "Evaluating:   0%|          | 0/2 [00:00<?, ?it/s]"
      ]
     },
     "metadata": {},
     "output_type": "display_data"
    },
    {
     "name": "stderr",
     "output_type": "stream",
     "text": [
      " 93%|██████████████████████████████████████████████████████████████████████████▋     | 213/228 [17:07<01:12,  4.81s/it]"
     ]
    },
    {
     "data": {
      "application/vnd.jupyter.widget-view+json": {
       "model_id": "7a3f96079baf466687511f9f5e0211c8",
       "version_major": 2,
       "version_minor": 0
      },
      "text/plain": [
       "Evaluating:   0%|          | 0/2 [00:00<?, ?it/s]"
      ]
     },
     "metadata": {},
     "output_type": "display_data"
    },
    {
     "name": "stderr",
     "output_type": "stream",
     "text": [
      " 94%|███████████████████████████████████████████████████████████████████████████     | 214/228 [17:11<01:07,  4.81s/it]"
     ]
    },
    {
     "data": {
      "application/vnd.jupyter.widget-view+json": {
       "model_id": "2dd45c9879194748abe20cf9b66a521f",
       "version_major": 2,
       "version_minor": 0
      },
      "text/plain": [
       "Evaluating:   0%|          | 0/2 [00:00<?, ?it/s]"
      ]
     },
     "metadata": {},
     "output_type": "display_data"
    },
    {
     "name": "stderr",
     "output_type": "stream",
     "text": [
      " 94%|███████████████████████████████████████████████████████████████████████████▍    | 215/228 [17:16<01:02,  4.83s/it]"
     ]
    },
    {
     "data": {
      "application/vnd.jupyter.widget-view+json": {
       "model_id": "83cf6ca33c1544c2b6980df8e8ca1357",
       "version_major": 2,
       "version_minor": 0
      },
      "text/plain": [
       "Evaluating:   0%|          | 0/2 [00:00<?, ?it/s]"
      ]
     },
     "metadata": {},
     "output_type": "display_data"
    },
    {
     "name": "stderr",
     "output_type": "stream",
     "text": [
      " 95%|███████████████████████████████████████████████████████████████████████████▊    | 216/228 [17:21<00:57,  4.80s/it]"
     ]
    },
    {
     "data": {
      "application/vnd.jupyter.widget-view+json": {
       "model_id": "418e39ea7af34fe3beb10bdff4f48f21",
       "version_major": 2,
       "version_minor": 0
      },
      "text/plain": [
       "Evaluating:   0%|          | 0/2 [00:00<?, ?it/s]"
      ]
     },
     "metadata": {},
     "output_type": "display_data"
    },
    {
     "name": "stderr",
     "output_type": "stream",
     "text": [
      " 95%|████████████████████████████████████████████████████████████████████████████▏   | 217/228 [17:26<00:52,  4.76s/it]"
     ]
    },
    {
     "data": {
      "application/vnd.jupyter.widget-view+json": {
       "model_id": "8eea952ea81a463aaca3b3b5c289a43b",
       "version_major": 2,
       "version_minor": 0
      },
      "text/plain": [
       "Evaluating:   0%|          | 0/2 [00:00<?, ?it/s]"
      ]
     },
     "metadata": {},
     "output_type": "display_data"
    },
    {
     "name": "stderr",
     "output_type": "stream",
     "text": [
      " 96%|████████████████████████████████████████████████████████████████████████████▍   | 218/228 [17:30<00:47,  4.79s/it]"
     ]
    },
    {
     "data": {
      "application/vnd.jupyter.widget-view+json": {
       "model_id": "cce7d5ae84774ddfb22532db26ec1c9c",
       "version_major": 2,
       "version_minor": 0
      },
      "text/plain": [
       "Evaluating:   0%|          | 0/2 [00:00<?, ?it/s]"
      ]
     },
     "metadata": {},
     "output_type": "display_data"
    },
    {
     "name": "stderr",
     "output_type": "stream",
     "text": [
      " 96%|████████████████████████████████████████████████████████████████████████████▊   | 219/228 [17:35<00:43,  4.78s/it]"
     ]
    },
    {
     "data": {
      "application/vnd.jupyter.widget-view+json": {
       "model_id": "f91be3bdf4bf4b08b89c1b84920b0070",
       "version_major": 2,
       "version_minor": 0
      },
      "text/plain": [
       "Evaluating:   0%|          | 0/2 [00:00<?, ?it/s]"
      ]
     },
     "metadata": {},
     "output_type": "display_data"
    },
    {
     "name": "stderr",
     "output_type": "stream",
     "text": [
      " 96%|█████████████████████████████████████████████████████████████████████████████▏  | 220/228 [17:40<00:38,  4.77s/it]"
     ]
    },
    {
     "data": {
      "application/vnd.jupyter.widget-view+json": {
       "model_id": "235ddd8814df4813ba1636e8119b11d5",
       "version_major": 2,
       "version_minor": 0
      },
      "text/plain": [
       "Evaluating:   0%|          | 0/2 [00:00<?, ?it/s]"
      ]
     },
     "metadata": {},
     "output_type": "display_data"
    },
    {
     "name": "stderr",
     "output_type": "stream",
     "text": [
      " 97%|█████████████████████████████████████████████████████████████████████████████▌  | 221/228 [17:45<00:33,  4.80s/it]"
     ]
    },
    {
     "data": {
      "application/vnd.jupyter.widget-view+json": {
       "model_id": "2fd5081335b3486f81dc732253357670",
       "version_major": 2,
       "version_minor": 0
      },
      "text/plain": [
       "Evaluating:   0%|          | 0/2 [00:00<?, ?it/s]"
      ]
     },
     "metadata": {},
     "output_type": "display_data"
    },
    {
     "name": "stderr",
     "output_type": "stream",
     "text": [
      " 97%|█████████████████████████████████████████████████████████████████████████████▉  | 222/228 [17:50<00:28,  4.78s/it]"
     ]
    },
    {
     "data": {
      "application/vnd.jupyter.widget-view+json": {
       "model_id": "988479d4f2ec43069761cc2a8e20a7af",
       "version_major": 2,
       "version_minor": 0
      },
      "text/plain": [
       "Evaluating:   0%|          | 0/2 [00:00<?, ?it/s]"
      ]
     },
     "metadata": {},
     "output_type": "display_data"
    },
    {
     "name": "stderr",
     "output_type": "stream",
     "text": [
      " 98%|██████████████████████████████████████████████████████████████████████████████▏ | 223/228 [17:54<00:24,  4.82s/it]"
     ]
    },
    {
     "data": {
      "application/vnd.jupyter.widget-view+json": {
       "model_id": "92f59ad57c444538bd473ede1b2921b6",
       "version_major": 2,
       "version_minor": 0
      },
      "text/plain": [
       "Evaluating:   0%|          | 0/2 [00:00<?, ?it/s]"
      ]
     },
     "metadata": {},
     "output_type": "display_data"
    },
    {
     "name": "stderr",
     "output_type": "stream",
     "text": [
      " 98%|██████████████████████████████████████████████████████████████████████████████▌ | 224/228 [17:59<00:19,  4.83s/it]"
     ]
    },
    {
     "data": {
      "application/vnd.jupyter.widget-view+json": {
       "model_id": "e6d54f3d192c4a2598e7ec2379385148",
       "version_major": 2,
       "version_minor": 0
      },
      "text/plain": [
       "Evaluating:   0%|          | 0/2 [00:00<?, ?it/s]"
      ]
     },
     "metadata": {},
     "output_type": "display_data"
    },
    {
     "name": "stderr",
     "output_type": "stream",
     "text": [
      " 99%|██████████████████████████████████████████████████████████████████████████████▉ | 225/228 [18:04<00:14,  4.87s/it]"
     ]
    },
    {
     "data": {
      "application/vnd.jupyter.widget-view+json": {
       "model_id": "3e00e22f0e8a4b98a2e35fd6713ced7c",
       "version_major": 2,
       "version_minor": 0
      },
      "text/plain": [
       "Evaluating:   0%|          | 0/2 [00:00<?, ?it/s]"
      ]
     },
     "metadata": {},
     "output_type": "display_data"
    },
    {
     "name": "stderr",
     "output_type": "stream",
     "text": [
      " 99%|███████████████████████████████████████████████████████████████████████████████▎| 226/228 [18:09<00:09,  4.82s/it]"
     ]
    },
    {
     "data": {
      "application/vnd.jupyter.widget-view+json": {
       "model_id": "c9e53b682ed34b048aa53832f311b6af",
       "version_major": 2,
       "version_minor": 0
      },
      "text/plain": [
       "Evaluating:   0%|          | 0/2 [00:00<?, ?it/s]"
      ]
     },
     "metadata": {},
     "output_type": "display_data"
    },
    {
     "name": "stderr",
     "output_type": "stream",
     "text": [
      "100%|███████████████████████████████████████████████████████████████████████████████▋| 227/228 [18:14<00:04,  4.80s/it]"
     ]
    },
    {
     "data": {
      "application/vnd.jupyter.widget-view+json": {
       "model_id": "f986ede0c6ea42e88b0f3706a10f4b0e",
       "version_major": 2,
       "version_minor": 0
      },
      "text/plain": [
       "Evaluating:   0%|          | 0/2 [00:00<?, ?it/s]"
      ]
     },
     "metadata": {},
     "output_type": "display_data"
    },
    {
     "name": "stderr",
     "output_type": "stream",
     "text": [
      "100%|████████████████████████████████████████████████████████████████████████████████| 228/228 [18:18<00:00,  4.82s/it]\n"
     ]
    }
   ],
   "source": [
    "from tqdm import tqdm\n",
    "from ragas.metrics import (\n",
    "    answer_similarity\n",
    ")\n",
    "from ragas import evaluate\n",
    "from langchain_community.embeddings import OllamaEmbeddings\n",
    "from datasets import Dataset\n",
    "\n",
    "metrics = pd.DataFrame(\n",
    "    columns=[\"answer_similarity\"])\n",
    "\n",
    "critic_model = \"gemma-2-27b-it-Q6_K_L\"\n",
    "langchain_llm = ChatOllama(model=critic_model, temperature=0)\n",
    "langchain_embeddings = OllamaEmbeddings(model=critic_model)\n",
    "\n",
    "for idx, row in tqdm(results.iterrows(), total=len(results)):\n",
    "\n",
    "    if  isinstance(row[\"queries\"], type(None)):\n",
    "        metrics = pd.concat([metrics, pd.DataFrame([{\"answer_similarity\": 0.0}])], axis=0)\n",
    "        continue\n",
    "    \n",
    "    sample = data[(data.model == row.model) & (data.num_message == row.num_message)]\n",
    "    message = f\"Информация для составления запроса:\\nТема: {sample['Тема'].iloc[0]}\\nЦелевая аудитория: {sample['Целевая аудитория'].iloc[0]}\\\n",
    "    \\nДополнительная информация: {sample['Дополнительная информация'].iloc[0]}\"\n",
    "\n",
    "    sample = pd.DataFrame().from_dict({k: v if k in [\"queries\"] else [v] * row.query_counts for k, v in row.to_dict().items()})\n",
    "    sample[\"ground_truth\"] = message\n",
    "    sample.rename(columns={\"queries\": \"answer\"}, inplace=True)\n",
    "\n",
    "    r = evaluate(\n",
    "        Dataset.from_pandas(sample[['answer', 'ground_truth']]),\n",
    "        metrics=[answer_similarity],\n",
    "        llm=langchain_llm,\n",
    "        embeddings=langchain_embeddings,\n",
    "        raise_exceptions=False\n",
    "    )\n",
    "\n",
    "    r = dict(r)\n",
    "    metrics = pd.concat([metrics, pd.DataFrame([r])], axis=0)"
   ]
  },
  {
   "cell_type": "code",
   "execution_count": 56,
   "id": "12b8ce5c-12ce-4ffc-ab58-a02e39c27ef4",
   "metadata": {},
   "outputs": [
    {
     "data": {
      "text/html": [
       "<div>\n",
       "<style scoped>\n",
       "    .dataframe tbody tr th:only-of-type {\n",
       "        vertical-align: middle;\n",
       "    }\n",
       "\n",
       "    .dataframe tbody tr th {\n",
       "        vertical-align: top;\n",
       "    }\n",
       "\n",
       "    .dataframe thead th {\n",
       "        text-align: right;\n",
       "    }\n",
       "</style>\n",
       "<table border=\"1\" class=\"dataframe\">\n",
       "  <thead>\n",
       "    <tr style=\"text-align: right;\">\n",
       "      <th></th>\n",
       "      <th>answer_similarity</th>\n",
       "    </tr>\n",
       "  </thead>\n",
       "  <tbody>\n",
       "    <tr>\n",
       "      <th>0</th>\n",
       "      <td>0.706136</td>\n",
       "    </tr>\n",
       "    <tr>\n",
       "      <th>0</th>\n",
       "      <td>0.811711</td>\n",
       "    </tr>\n",
       "    <tr>\n",
       "      <th>0</th>\n",
       "      <td>0.817909</td>\n",
       "    </tr>\n",
       "    <tr>\n",
       "      <th>0</th>\n",
       "      <td>0.716549</td>\n",
       "    </tr>\n",
       "    <tr>\n",
       "      <th>0</th>\n",
       "      <td>0.574703</td>\n",
       "    </tr>\n",
       "    <tr>\n",
       "      <th>...</th>\n",
       "      <td>...</td>\n",
       "    </tr>\n",
       "    <tr>\n",
       "      <th>0</th>\n",
       "      <td>0.707698</td>\n",
       "    </tr>\n",
       "    <tr>\n",
       "      <th>0</th>\n",
       "      <td>0.747172</td>\n",
       "    </tr>\n",
       "    <tr>\n",
       "      <th>0</th>\n",
       "      <td>0.807445</td>\n",
       "    </tr>\n",
       "    <tr>\n",
       "      <th>0</th>\n",
       "      <td>0.719724</td>\n",
       "    </tr>\n",
       "    <tr>\n",
       "      <th>0</th>\n",
       "      <td>0.837922</td>\n",
       "    </tr>\n",
       "  </tbody>\n",
       "</table>\n",
       "<p>360 rows × 1 columns</p>\n",
       "</div>"
      ],
      "text/plain": [
       "    answer_similarity\n",
       "0            0.706136\n",
       "0            0.811711\n",
       "0            0.817909\n",
       "0            0.716549\n",
       "0            0.574703\n",
       "..                ...\n",
       "0            0.707698\n",
       "0            0.747172\n",
       "0            0.807445\n",
       "0            0.719724\n",
       "0            0.837922\n",
       "\n",
       "[360 rows x 1 columns]"
      ]
     },
     "execution_count": 56,
     "metadata": {},
     "output_type": "execute_result"
    }
   ],
   "source": [
    "metrics"
   ]
  },
  {
   "cell_type": "code",
   "execution_count": 57,
   "id": "aa06ca7c-a0ab-4a56-8c64-e6f9926a9736",
   "metadata": {},
   "outputs": [
    {
     "data": {
      "text/html": [
       "<div>\n",
       "<style scoped>\n",
       "    .dataframe tbody tr th:only-of-type {\n",
       "        vertical-align: middle;\n",
       "    }\n",
       "\n",
       "    .dataframe tbody tr th {\n",
       "        vertical-align: top;\n",
       "    }\n",
       "\n",
       "    .dataframe thead th {\n",
       "        text-align: right;\n",
       "    }\n",
       "</style>\n",
       "<table border=\"1\" class=\"dataframe\">\n",
       "  <thead>\n",
       "    <tr style=\"text-align: right;\">\n",
       "      <th></th>\n",
       "      <th>queries</th>\n",
       "      <th>num_message</th>\n",
       "      <th>stage</th>\n",
       "      <th>prompt</th>\n",
       "      <th>model</th>\n",
       "      <th>query_counts</th>\n",
       "      <th>answer_similarity</th>\n",
       "    </tr>\n",
       "  </thead>\n",
       "  <tbody>\n",
       "    <tr>\n",
       "      <th>0</th>\n",
       "      <td>[книги для расширения кругозора и вдохновения ...</td>\n",
       "      <td>0</td>\n",
       "      <td>web_search</td>\n",
       "      <td>0</td>\n",
       "      <td>gemma-2-9b-it-Q8_0_L</td>\n",
       "      <td>2</td>\n",
       "      <td>0.706136</td>\n",
       "    </tr>\n",
       "    <tr>\n",
       "      <th>1</th>\n",
       "      <td>[сколько книг читать в год для саморазвития, к...</td>\n",
       "      <td>1</td>\n",
       "      <td>web_search</td>\n",
       "      <td>0</td>\n",
       "      <td>gemma-2-9b-it-Q8_0_L</td>\n",
       "      <td>2</td>\n",
       "      <td>0.811711</td>\n",
       "    </tr>\n",
       "    <tr>\n",
       "      <th>2</th>\n",
       "      <td>[топ 5 упражнений для утренней зарядки видео, ...</td>\n",
       "      <td>2</td>\n",
       "      <td>web_search</td>\n",
       "      <td>0</td>\n",
       "      <td>gemma-2-9b-it-Q8_0_L</td>\n",
       "      <td>2</td>\n",
       "      <td>0.817909</td>\n",
       "    </tr>\n",
       "    <tr>\n",
       "      <th>3</th>\n",
       "      <td>[история успеха известного спортсмена преодоле...</td>\n",
       "      <td>3</td>\n",
       "      <td>web_search</td>\n",
       "      <td>0</td>\n",
       "      <td>gemma-2-9b-it-Q8_0_L</td>\n",
       "      <td>2</td>\n",
       "      <td>0.716549</td>\n",
       "    </tr>\n",
       "    <tr>\n",
       "      <th>4</th>\n",
       "      <td>[правила весенней обрезки плодовых деревьев дл...</td>\n",
       "      <td>4</td>\n",
       "      <td>web_search</td>\n",
       "      <td>0</td>\n",
       "      <td>gemma-2-9b-it-Q8_0_L</td>\n",
       "      <td>2</td>\n",
       "      <td>0.574703</td>\n",
       "    </tr>\n",
       "    <tr>\n",
       "      <th>...</th>\n",
       "      <td>...</td>\n",
       "      <td>...</td>\n",
       "      <td>...</td>\n",
       "      <td>...</td>\n",
       "      <td>...</td>\n",
       "      <td>...</td>\n",
       "      <td>...</td>\n",
       "    </tr>\n",
       "    <tr>\n",
       "      <th>355</th>\n",
       "      <td>[Как создать эффективную команду для работы, П...</td>\n",
       "      <td>35</td>\n",
       "      <td>web_search</td>\n",
       "      <td>2</td>\n",
       "      <td>suzume-llama-3-8b-Q8_0</td>\n",
       "      <td>2</td>\n",
       "      <td>0.707698</td>\n",
       "    </tr>\n",
       "    <tr>\n",
       "      <th>356</th>\n",
       "      <td>[Как окружающая среда влияет на моё физическое...</td>\n",
       "      <td>36</td>\n",
       "      <td>web_search</td>\n",
       "      <td>2</td>\n",
       "      <td>suzume-llama-3-8b-Q8_0</td>\n",
       "      <td>2</td>\n",
       "      <td>0.747172</td>\n",
       "    </tr>\n",
       "    <tr>\n",
       "      <th>357</th>\n",
       "      <td>[Как развить навыки общения?, Методы для улучш...</td>\n",
       "      <td>37</td>\n",
       "      <td>web_search</td>\n",
       "      <td>2</td>\n",
       "      <td>suzume-llama-3-8b-Q8_0</td>\n",
       "      <td>2</td>\n",
       "      <td>0.807445</td>\n",
       "    </tr>\n",
       "    <tr>\n",
       "      <th>358</th>\n",
       "      <td>[Как путешествия влияют на личность?, Путешест...</td>\n",
       "      <td>38</td>\n",
       "      <td>web_search</td>\n",
       "      <td>2</td>\n",
       "      <td>suzume-llama-3-8b-Q8_0</td>\n",
       "      <td>2</td>\n",
       "      <td>0.719724</td>\n",
       "    </tr>\n",
       "    <tr>\n",
       "      <th>359</th>\n",
       "      <td>[Как развить самодисциплину для достижения цел...</td>\n",
       "      <td>39</td>\n",
       "      <td>web_search</td>\n",
       "      <td>2</td>\n",
       "      <td>suzume-llama-3-8b-Q8_0</td>\n",
       "      <td>2</td>\n",
       "      <td>0.837922</td>\n",
       "    </tr>\n",
       "  </tbody>\n",
       "</table>\n",
       "<p>360 rows × 7 columns</p>\n",
       "</div>"
      ],
      "text/plain": [
       "                                               queries  num_message  \\\n",
       "0    [книги для расширения кругозора и вдохновения ...            0   \n",
       "1    [сколько книг читать в год для саморазвития, к...            1   \n",
       "2    [топ 5 упражнений для утренней зарядки видео, ...            2   \n",
       "3    [история успеха известного спортсмена преодоле...            3   \n",
       "4    [правила весенней обрезки плодовых деревьев дл...            4   \n",
       "..                                                 ...          ...   \n",
       "355  [Как создать эффективную команду для работы, П...           35   \n",
       "356  [Как окружающая среда влияет на моё физическое...           36   \n",
       "357  [Как развить навыки общения?, Методы для улучш...           37   \n",
       "358  [Как путешествия влияют на личность?, Путешест...           38   \n",
       "359  [Как развить самодисциплину для достижения цел...           39   \n",
       "\n",
       "          stage  prompt                   model  query_counts  \\\n",
       "0    web_search       0    gemma-2-9b-it-Q8_0_L             2   \n",
       "1    web_search       0    gemma-2-9b-it-Q8_0_L             2   \n",
       "2    web_search       0    gemma-2-9b-it-Q8_0_L             2   \n",
       "3    web_search       0    gemma-2-9b-it-Q8_0_L             2   \n",
       "4    web_search       0    gemma-2-9b-it-Q8_0_L             2   \n",
       "..          ...     ...                     ...           ...   \n",
       "355  web_search       2  suzume-llama-3-8b-Q8_0             2   \n",
       "356  web_search       2  suzume-llama-3-8b-Q8_0             2   \n",
       "357  web_search       2  suzume-llama-3-8b-Q8_0             2   \n",
       "358  web_search       2  suzume-llama-3-8b-Q8_0             2   \n",
       "359  web_search       2  suzume-llama-3-8b-Q8_0             2   \n",
       "\n",
       "     answer_similarity  \n",
       "0             0.706136  \n",
       "1             0.811711  \n",
       "2             0.817909  \n",
       "3             0.716549  \n",
       "4             0.574703  \n",
       "..                 ...  \n",
       "355           0.707698  \n",
       "356           0.747172  \n",
       "357           0.807445  \n",
       "358           0.719724  \n",
       "359           0.837922  \n",
       "\n",
       "[360 rows x 7 columns]"
      ]
     },
     "execution_count": 57,
     "metadata": {},
     "output_type": "execute_result"
    }
   ],
   "source": [
    "results = pd.concat([results.reset_index(drop=True), metrics.reset_index(drop=True)], axis=1)\n",
    "results"
   ]
  },
  {
   "cell_type": "code",
   "execution_count": 60,
   "id": "476b2603-6251-4800-951a-de566dd050ce",
   "metadata": {},
   "outputs": [
    {
     "data": {
      "text/html": [
       "<div>\n",
       "<style scoped>\n",
       "    .dataframe tbody tr th:only-of-type {\n",
       "        vertical-align: middle;\n",
       "    }\n",
       "\n",
       "    .dataframe tbody tr th {\n",
       "        vertical-align: top;\n",
       "    }\n",
       "\n",
       "    .dataframe thead th {\n",
       "        text-align: right;\n",
       "    }\n",
       "</style>\n",
       "<table border=\"1\" class=\"dataframe\">\n",
       "  <thead>\n",
       "    <tr style=\"text-align: right;\">\n",
       "      <th></th>\n",
       "      <th></th>\n",
       "      <th>queries</th>\n",
       "      <th>query_counts</th>\n",
       "      <th>answer_similarity</th>\n",
       "    </tr>\n",
       "    <tr>\n",
       "      <th>prompt</th>\n",
       "      <th>model</th>\n",
       "      <th></th>\n",
       "      <th></th>\n",
       "      <th></th>\n",
       "    </tr>\n",
       "  </thead>\n",
       "  <tbody>\n",
       "    <tr>\n",
       "      <th rowspan=\"3\" valign=\"top\">0</th>\n",
       "      <th>gemma-2-9b-it-Q8_0_L</th>\n",
       "      <td>1.000</td>\n",
       "      <td>1.0</td>\n",
       "      <td>1.0</td>\n",
       "    </tr>\n",
       "    <tr>\n",
       "      <th>saiga-llama-3-q8_0</th>\n",
       "      <td>0.975</td>\n",
       "      <td>1.0</td>\n",
       "      <td>1.0</td>\n",
       "    </tr>\n",
       "    <tr>\n",
       "      <th>suzume-llama-3-8b-Q8_0</th>\n",
       "      <td>1.000</td>\n",
       "      <td>1.0</td>\n",
       "      <td>1.0</td>\n",
       "    </tr>\n",
       "    <tr>\n",
       "      <th rowspan=\"3\" valign=\"top\">1</th>\n",
       "      <th>gemma-2-9b-it-Q8_0_L</th>\n",
       "      <td>1.000</td>\n",
       "      <td>1.0</td>\n",
       "      <td>1.0</td>\n",
       "    </tr>\n",
       "    <tr>\n",
       "      <th>saiga-llama-3-q8_0</th>\n",
       "      <td>0.950</td>\n",
       "      <td>1.0</td>\n",
       "      <td>1.0</td>\n",
       "    </tr>\n",
       "    <tr>\n",
       "      <th>suzume-llama-3-8b-Q8_0</th>\n",
       "      <td>1.000</td>\n",
       "      <td>1.0</td>\n",
       "      <td>1.0</td>\n",
       "    </tr>\n",
       "    <tr>\n",
       "      <th rowspan=\"3\" valign=\"top\">2</th>\n",
       "      <th>gemma-2-9b-it-Q8_0_L</th>\n",
       "      <td>1.000</td>\n",
       "      <td>1.0</td>\n",
       "      <td>1.0</td>\n",
       "    </tr>\n",
       "    <tr>\n",
       "      <th>saiga-llama-3-q8_0</th>\n",
       "      <td>1.000</td>\n",
       "      <td>1.0</td>\n",
       "      <td>1.0</td>\n",
       "    </tr>\n",
       "    <tr>\n",
       "      <th>suzume-llama-3-8b-Q8_0</th>\n",
       "      <td>1.000</td>\n",
       "      <td>1.0</td>\n",
       "      <td>1.0</td>\n",
       "    </tr>\n",
       "  </tbody>\n",
       "</table>\n",
       "</div>"
      ],
      "text/plain": [
       "                               queries  query_counts  answer_similarity\n",
       "prompt model                                                           \n",
       "0      gemma-2-9b-it-Q8_0_L      1.000           1.0                1.0\n",
       "       saiga-llama-3-q8_0        0.975           1.0                1.0\n",
       "       suzume-llama-3-8b-Q8_0    1.000           1.0                1.0\n",
       "1      gemma-2-9b-it-Q8_0_L      1.000           1.0                1.0\n",
       "       saiga-llama-3-q8_0        0.950           1.0                1.0\n",
       "       suzume-llama-3-8b-Q8_0    1.000           1.0                1.0\n",
       "2      gemma-2-9b-it-Q8_0_L      1.000           1.0                1.0\n",
       "       saiga-llama-3-q8_0        1.000           1.0                1.0\n",
       "       suzume-llama-3-8b-Q8_0    1.000           1.0                1.0"
      ]
     },
     "execution_count": 60,
     "metadata": {},
     "output_type": "execute_result"
    }
   ],
   "source": [
    "results.set_index(['prompt', 'model']).groupby(level=['prompt', 'model'])[\n",
    "    [\"queries\", \"query_counts\", \"answer_similarity\"]].count() / \\\n",
    "    (results.shape[0] / (len(web_serach_candidates) -1 ) / len(models))"
   ]
  },
  {
   "cell_type": "code",
   "execution_count": 61,
   "id": "87b90345-a6cb-49a0-ad5d-476a1ae00fd0",
   "metadata": {},
   "outputs": [
    {
     "data": {
      "text/html": [
       "<div>\n",
       "<style scoped>\n",
       "    .dataframe tbody tr th:only-of-type {\n",
       "        vertical-align: middle;\n",
       "    }\n",
       "\n",
       "    .dataframe tbody tr th {\n",
       "        vertical-align: top;\n",
       "    }\n",
       "\n",
       "    .dataframe thead th {\n",
       "        text-align: right;\n",
       "    }\n",
       "</style>\n",
       "<table border=\"1\" class=\"dataframe\">\n",
       "  <thead>\n",
       "    <tr style=\"text-align: right;\">\n",
       "      <th></th>\n",
       "      <th></th>\n",
       "      <th>query_counts</th>\n",
       "      <th>answer_similarity</th>\n",
       "    </tr>\n",
       "    <tr>\n",
       "      <th>prompt</th>\n",
       "      <th>model</th>\n",
       "      <th></th>\n",
       "      <th></th>\n",
       "    </tr>\n",
       "  </thead>\n",
       "  <tbody>\n",
       "    <tr>\n",
       "      <th rowspan=\"3\" valign=\"top\">0</th>\n",
       "      <th>gemma-2-9b-it-Q8_0_L</th>\n",
       "      <td>2.00</td>\n",
       "      <td>0.733937</td>\n",
       "    </tr>\n",
       "    <tr>\n",
       "      <th>saiga-llama-3-q8_0</th>\n",
       "      <td>1.95</td>\n",
       "      <td>0.803451</td>\n",
       "    </tr>\n",
       "    <tr>\n",
       "      <th>suzume-llama-3-8b-Q8_0</th>\n",
       "      <td>2.00</td>\n",
       "      <td>0.779369</td>\n",
       "    </tr>\n",
       "    <tr>\n",
       "      <th rowspan=\"3\" valign=\"top\">1</th>\n",
       "      <th>gemma-2-9b-it-Q8_0_L</th>\n",
       "      <td>2.00</td>\n",
       "      <td>0.764456</td>\n",
       "    </tr>\n",
       "    <tr>\n",
       "      <th>saiga-llama-3-q8_0</th>\n",
       "      <td>1.90</td>\n",
       "      <td>0.795817</td>\n",
       "    </tr>\n",
       "    <tr>\n",
       "      <th>suzume-llama-3-8b-Q8_0</th>\n",
       "      <td>2.00</td>\n",
       "      <td>0.783453</td>\n",
       "    </tr>\n",
       "    <tr>\n",
       "      <th rowspan=\"3\" valign=\"top\">2</th>\n",
       "      <th>gemma-2-9b-it-Q8_0_L</th>\n",
       "      <td>2.00</td>\n",
       "      <td>0.755251</td>\n",
       "    </tr>\n",
       "    <tr>\n",
       "      <th>saiga-llama-3-q8_0</th>\n",
       "      <td>2.00</td>\n",
       "      <td>0.809786</td>\n",
       "    </tr>\n",
       "    <tr>\n",
       "      <th>suzume-llama-3-8b-Q8_0</th>\n",
       "      <td>2.00</td>\n",
       "      <td>0.762233</td>\n",
       "    </tr>\n",
       "  </tbody>\n",
       "</table>\n",
       "</div>"
      ],
      "text/plain": [
       "                               query_counts  answer_similarity\n",
       "prompt model                                                  \n",
       "0      gemma-2-9b-it-Q8_0_L            2.00           0.733937\n",
       "       saiga-llama-3-q8_0              1.95           0.803451\n",
       "       suzume-llama-3-8b-Q8_0          2.00           0.779369\n",
       "1      gemma-2-9b-it-Q8_0_L            2.00           0.764456\n",
       "       saiga-llama-3-q8_0              1.90           0.795817\n",
       "       suzume-llama-3-8b-Q8_0          2.00           0.783453\n",
       "2      gemma-2-9b-it-Q8_0_L            2.00           0.755251\n",
       "       saiga-llama-3-q8_0              2.00           0.809786\n",
       "       suzume-llama-3-8b-Q8_0          2.00           0.762233"
      ]
     },
     "execution_count": 61,
     "metadata": {},
     "output_type": "execute_result"
    }
   ],
   "source": [
    "results.set_index(['prompt', 'model']).groupby(level=['prompt', 'model'])[\n",
    "    [\"query_counts\", \"answer_similarity\"]].mean()"
   ]
  },
  {
   "cell_type": "code",
   "execution_count": 62,
   "id": "62ef6918-d5e8-4eb9-b6e3-e69c7ca4095d",
   "metadata": {},
   "outputs": [
    {
     "data": {
      "text/html": [
       "<div>\n",
       "<style scoped>\n",
       "    .dataframe tbody tr th:only-of-type {\n",
       "        vertical-align: middle;\n",
       "    }\n",
       "\n",
       "    .dataframe tbody tr th {\n",
       "        vertical-align: top;\n",
       "    }\n",
       "\n",
       "    .dataframe thead th {\n",
       "        text-align: right;\n",
       "    }\n",
       "</style>\n",
       "<table border=\"1\" class=\"dataframe\">\n",
       "  <thead>\n",
       "    <tr style=\"text-align: right;\">\n",
       "      <th></th>\n",
       "      <th>query_counts</th>\n",
       "      <th>answer_similarity</th>\n",
       "    </tr>\n",
       "    <tr>\n",
       "      <th>prompt</th>\n",
       "      <th></th>\n",
       "      <th></th>\n",
       "    </tr>\n",
       "  </thead>\n",
       "  <tbody>\n",
       "    <tr>\n",
       "      <th>0</th>\n",
       "      <td>1.983333</td>\n",
       "      <td>0.772252</td>\n",
       "    </tr>\n",
       "    <tr>\n",
       "      <th>1</th>\n",
       "      <td>1.966667</td>\n",
       "      <td>0.781242</td>\n",
       "    </tr>\n",
       "    <tr>\n",
       "      <th>2</th>\n",
       "      <td>2.000000</td>\n",
       "      <td>0.775757</td>\n",
       "    </tr>\n",
       "  </tbody>\n",
       "</table>\n",
       "</div>"
      ],
      "text/plain": [
       "        query_counts  answer_similarity\n",
       "prompt                                 \n",
       "0           1.983333           0.772252\n",
       "1           1.966667           0.781242\n",
       "2           2.000000           0.775757"
      ]
     },
     "execution_count": 62,
     "metadata": {},
     "output_type": "execute_result"
    }
   ],
   "source": [
    "results.set_index(['prompt']).groupby(level=['prompt'])[\n",
    "    [\"query_counts\", \"answer_similarity\"]].mean()"
   ]
  },
  {
   "cell_type": "code",
   "execution_count": 63,
   "id": "7404801c-9240-438b-8d23-245b75602da8",
   "metadata": {},
   "outputs": [
    {
     "data": {
      "text/html": [
       "<div>\n",
       "<style scoped>\n",
       "    .dataframe tbody tr th:only-of-type {\n",
       "        vertical-align: middle;\n",
       "    }\n",
       "\n",
       "    .dataframe tbody tr th {\n",
       "        vertical-align: top;\n",
       "    }\n",
       "\n",
       "    .dataframe thead th {\n",
       "        text-align: right;\n",
       "    }\n",
       "</style>\n",
       "<table border=\"1\" class=\"dataframe\">\n",
       "  <thead>\n",
       "    <tr style=\"text-align: right;\">\n",
       "      <th></th>\n",
       "      <th>query_counts</th>\n",
       "      <th>answer_similarity</th>\n",
       "    </tr>\n",
       "    <tr>\n",
       "      <th>model</th>\n",
       "      <th></th>\n",
       "      <th></th>\n",
       "    </tr>\n",
       "  </thead>\n",
       "  <tbody>\n",
       "    <tr>\n",
       "      <th>gemma-2-9b-it-Q8_0_L</th>\n",
       "      <td>2.00</td>\n",
       "      <td>0.751214</td>\n",
       "    </tr>\n",
       "    <tr>\n",
       "      <th>saiga-llama-3-q8_0</th>\n",
       "      <td>1.95</td>\n",
       "      <td>0.803018</td>\n",
       "    </tr>\n",
       "    <tr>\n",
       "      <th>suzume-llama-3-8b-Q8_0</th>\n",
       "      <td>2.00</td>\n",
       "      <td>0.775018</td>\n",
       "    </tr>\n",
       "  </tbody>\n",
       "</table>\n",
       "</div>"
      ],
      "text/plain": [
       "                        query_counts  answer_similarity\n",
       "model                                                  \n",
       "gemma-2-9b-it-Q8_0_L            2.00           0.751214\n",
       "saiga-llama-3-q8_0              1.95           0.803018\n",
       "suzume-llama-3-8b-Q8_0          2.00           0.775018"
      ]
     },
     "execution_count": 63,
     "metadata": {},
     "output_type": "execute_result"
    }
   ],
   "source": [
    "results.set_index(['model']).groupby(level=['model'])[\n",
    "    [\"query_counts\", \"answer_similarity\"]].mean()"
   ]
  },
  {
   "cell_type": "code",
   "execution_count": 69,
   "id": "e537570a-2be6-457f-8b2e-b5cc00063d62",
   "metadata": {},
   "outputs": [
    {
     "data": {
      "text/html": [
       "<div>\n",
       "<style scoped>\n",
       "    .dataframe tbody tr th:only-of-type {\n",
       "        vertical-align: middle;\n",
       "    }\n",
       "\n",
       "    .dataframe tbody tr th {\n",
       "        vertical-align: top;\n",
       "    }\n",
       "\n",
       "    .dataframe thead th {\n",
       "        text-align: right;\n",
       "    }\n",
       "</style>\n",
       "<table border=\"1\" class=\"dataframe\">\n",
       "  <thead>\n",
       "    <tr style=\"text-align: right;\">\n",
       "      <th></th>\n",
       "      <th>Тема</th>\n",
       "      <th>Социальная сеть</th>\n",
       "      <th>Целевая аудитория</th>\n",
       "      <th>Дополнительная информация</th>\n",
       "      <th>num_message</th>\n",
       "      <th>stage</th>\n",
       "      <th>prompt</th>\n",
       "      <th>model</th>\n",
       "    </tr>\n",
       "  </thead>\n",
       "  <tbody>\n",
       "    <tr>\n",
       "      <th>232</th>\n",
       "      <td>Влияние искусства на эмоциональное состояние</td>\n",
       "      <td>ВКонтакте</td>\n",
       "      <td>Любознательные пользователи, интересующиеся ис...</td>\n",
       "      <td>NaN</td>\n",
       "      <td>32</td>\n",
       "      <td>extract</td>\n",
       "      <td>5</td>\n",
       "      <td>gemma-2-9b-it-Q8_0_L</td>\n",
       "    </tr>\n",
       "    <tr>\n",
       "      <th>472</th>\n",
       "      <td>Влияние искусства на эмоциональное состояние</td>\n",
       "      <td>ВКонтакте</td>\n",
       "      <td>Люди всех возрастов, интересующиеся вопросами ...</td>\n",
       "      <td>Использовать хэштеги #искусство #психология #э...</td>\n",
       "      <td>32</td>\n",
       "      <td>extract</td>\n",
       "      <td>5</td>\n",
       "      <td>saiga-llama-3-q8_0</td>\n",
       "    </tr>\n",
       "    <tr>\n",
       "      <th>712</th>\n",
       "      <td>Влияние искусства на эмоциональное состояние</td>\n",
       "      <td>ВКонтакте</td>\n",
       "      <td>Люди всех возрастов, интересующиеся искусством...</td>\n",
       "      <td>Использовать ссылки на известные произведения ...</td>\n",
       "      <td>32</td>\n",
       "      <td>extract</td>\n",
       "      <td>5</td>\n",
       "      <td>suzume-llama-3-8b-Q8_0</td>\n",
       "    </tr>\n",
       "  </tbody>\n",
       "</table>\n",
       "</div>"
      ],
      "text/plain": [
       "                                             Тема Социальная сеть  \\\n",
       "232  Влияние искусства на эмоциональное состояние       ВКонтакте   \n",
       "472  Влияние искусства на эмоциональное состояние       ВКонтакте   \n",
       "712  Влияние искусства на эмоциональное состояние       ВКонтакте   \n",
       "\n",
       "                                     Целевая аудитория  \\\n",
       "232  Любознательные пользователи, интересующиеся ис...   \n",
       "472  Люди всех возрастов, интересующиеся вопросами ...   \n",
       "712  Люди всех возрастов, интересующиеся искусством...   \n",
       "\n",
       "                             Дополнительная информация  num_message    stage  \\\n",
       "232                                                NaN           32  extract   \n",
       "472  Использовать хэштеги #искусство #психология #э...           32  extract   \n",
       "712  Использовать ссылки на известные произведения ...           32  extract   \n",
       "\n",
       "     prompt                   model  \n",
       "232       5    gemma-2-9b-it-Q8_0_L  \n",
       "472       5      saiga-llama-3-q8_0  \n",
       "712       5  suzume-llama-3-8b-Q8_0  "
      ]
     },
     "execution_count": 69,
     "metadata": {},
     "output_type": "execute_result"
    }
   ],
   "source": [
    "data[data[\"num_message\"] == 32]"
   ]
  },
  {
   "cell_type": "code",
   "execution_count": 76,
   "id": "15b9f12e-cf9e-4ca5-92b9-dba93b21ceba",
   "metadata": {},
   "outputs": [
    {
     "data": {
      "text/html": [
       "<div>\n",
       "<style scoped>\n",
       "    .dataframe tbody tr th:only-of-type {\n",
       "        vertical-align: middle;\n",
       "    }\n",
       "\n",
       "    .dataframe tbody tr th {\n",
       "        vertical-align: top;\n",
       "    }\n",
       "\n",
       "    .dataframe thead th {\n",
       "        text-align: right;\n",
       "    }\n",
       "</style>\n",
       "<table border=\"1\" class=\"dataframe\">\n",
       "  <thead>\n",
       "    <tr style=\"text-align: right;\">\n",
       "      <th></th>\n",
       "      <th>queries</th>\n",
       "      <th>num_message</th>\n",
       "      <th>stage</th>\n",
       "      <th>prompt</th>\n",
       "      <th>model</th>\n",
       "      <th>query_counts</th>\n",
       "      <th>answer_similarity</th>\n",
       "    </tr>\n",
       "  </thead>\n",
       "  <tbody>\n",
       "    <tr>\n",
       "      <th>8</th>\n",
       "      <td>[case studies big data optimization business p...</td>\n",
       "      <td>8</td>\n",
       "      <td>web_search</td>\n",
       "      <td>0</td>\n",
       "      <td>gemma-2-9b-it-Q8_0_L</td>\n",
       "      <td>2</td>\n",
       "      <td>0.288132</td>\n",
       "    </tr>\n",
       "    <tr>\n",
       "      <th>9</th>\n",
       "      <td>[future trends in big data analytics for data ...</td>\n",
       "      <td>9</td>\n",
       "      <td>web_search</td>\n",
       "      <td>0</td>\n",
       "      <td>gemma-2-9b-it-Q8_0_L</td>\n",
       "      <td>2</td>\n",
       "      <td>0.372730</td>\n",
       "    </tr>\n",
       "    <tr>\n",
       "      <th>132</th>\n",
       "      <td>None</td>\n",
       "      <td>12</td>\n",
       "      <td>web_search</td>\n",
       "      <td>0</td>\n",
       "      <td>saiga-llama-3-q8_0</td>\n",
       "      <td>0</td>\n",
       "      <td>0.000000</td>\n",
       "    </tr>\n",
       "    <tr>\n",
       "      <th>134</th>\n",
       "      <td>[techniques of meditation for stress relief, b...</td>\n",
       "      <td>14</td>\n",
       "      <td>web_search</td>\n",
       "      <td>0</td>\n",
       "      <td>saiga-llama-3-q8_0</td>\n",
       "      <td>2</td>\n",
       "      <td>0.278385</td>\n",
       "    </tr>\n",
       "    <tr>\n",
       "      <th>166</th>\n",
       "      <td>None</td>\n",
       "      <td>6</td>\n",
       "      <td>web_search</td>\n",
       "      <td>1</td>\n",
       "      <td>saiga-llama-3-q8_0</td>\n",
       "      <td>0</td>\n",
       "      <td>0.000000</td>\n",
       "    </tr>\n",
       "    <tr>\n",
       "      <th>184</th>\n",
       "      <td>None</td>\n",
       "      <td>24</td>\n",
       "      <td>web_search</td>\n",
       "      <td>1</td>\n",
       "      <td>saiga-llama-3-q8_0</td>\n",
       "      <td>0</td>\n",
       "      <td>0.000000</td>\n",
       "    </tr>\n",
       "    <tr>\n",
       "      <th>254</th>\n",
       "      <td>[techniques of meditation for stress relief, b...</td>\n",
       "      <td>14</td>\n",
       "      <td>web_search</td>\n",
       "      <td>0</td>\n",
       "      <td>suzume-llama-3-8b-Q8_0</td>\n",
       "      <td>2</td>\n",
       "      <td>0.371221</td>\n",
       "    </tr>\n",
       "  </tbody>\n",
       "</table>\n",
       "</div>"
      ],
      "text/plain": [
       "                                               queries  num_message  \\\n",
       "8    [case studies big data optimization business p...            8   \n",
       "9    [future trends in big data analytics for data ...            9   \n",
       "132                                               None           12   \n",
       "134  [techniques of meditation for stress relief, b...           14   \n",
       "166                                               None            6   \n",
       "184                                               None           24   \n",
       "254  [techniques of meditation for stress relief, b...           14   \n",
       "\n",
       "          stage  prompt                   model  query_counts  \\\n",
       "8    web_search       0    gemma-2-9b-it-Q8_0_L             2   \n",
       "9    web_search       0    gemma-2-9b-it-Q8_0_L             2   \n",
       "132  web_search       0      saiga-llama-3-q8_0             0   \n",
       "134  web_search       0      saiga-llama-3-q8_0             2   \n",
       "166  web_search       1      saiga-llama-3-q8_0             0   \n",
       "184  web_search       1      saiga-llama-3-q8_0             0   \n",
       "254  web_search       0  suzume-llama-3-8b-Q8_0             2   \n",
       "\n",
       "     answer_similarity  \n",
       "8             0.288132  \n",
       "9             0.372730  \n",
       "132           0.000000  \n",
       "134           0.278385  \n",
       "166           0.000000  \n",
       "184           0.000000  \n",
       "254           0.371221  "
      ]
     },
     "execution_count": 76,
     "metadata": {},
     "output_type": "execute_result"
    }
   ],
   "source": [
    "results[results[\"answer_similarity\"] < 0.5]"
   ]
  },
  {
   "cell_type": "code",
   "execution_count": 75,
   "id": "13aaa01f-11a3-44c2-9a31-25c7198b6f01",
   "metadata": {},
   "outputs": [
    {
     "data": {
      "text/plain": [
       "['как искусство влияет на эмоции', 'психология восприятия искусства']"
      ]
     },
     "execution_count": 75,
     "metadata": {},
     "output_type": "execute_result"
    }
   ],
   "source": [
    "# min score\n",
    "results[results[\"num_message\"] == 32].iloc[0].queries"
   ]
  },
  {
   "cell_type": "code",
   "execution_count": 72,
   "id": "fe9e05fe-3b1c-4971-954d-3d3a27171c4f",
   "metadata": {},
   "outputs": [
    {
     "data": {
      "text/plain": [
       "['влияние искусства на эмоциональное состояние',\n",
       " 'роль искусства в формировании эмоционального состояния']"
      ]
     },
     "execution_count": 72,
     "metadata": {},
     "output_type": "execute_result"
    }
   ],
   "source": [
    "# max score\n",
    "results[results[\"num_message\"] == 32].iloc[4].queries"
   ]
  },
  {
   "cell_type": "code",
   "execution_count": 77,
   "id": "f31f6064-2bb2-4930-aed0-a31aa73a9dec",
   "metadata": {},
   "outputs": [
    {
     "data": {
      "text/plain": [
       "array([0, 1, 2], dtype=int64)"
      ]
     },
     "execution_count": 77,
     "metadata": {},
     "output_type": "execute_result"
    }
   ],
   "source": [
    "results.prompt.unique()"
   ]
  },
  {
   "cell_type": "code",
   "execution_count": 78,
   "id": "8f035be5-9cf5-4fb7-8653-6009a5569be6",
   "metadata": {},
   "outputs": [
    {
     "name": "stdout",
     "output_type": "stream",
     "text": [
      "gemma-2-9b-it-Q8_0_L  :  ['лучшие сорта томатов для открытого грунта в Сибири с описанием', 'томаты для Сибири: урожайность, сроки созревания, устойчивость к болезням']\n",
      "\n",
      "saiga-llama-3-q8_0  :  ['сорт томатов для открытого грунта в Сибири', 'томаты для сибирского климата: лучшие сорта и особенности']\n",
      "\n",
      "suzume-llama-3-8b-Q8_0  :  ['Лучшие сорта томатов для открытого грунта в Сибири', 'Сорты томатов для выращивания в открытом грунте в Сибири']\n",
      "\n"
     ]
    }
   ],
   "source": [
    "num_message = 5\n",
    "prompt = 0\n",
    "\n",
    "for _, row in results[(results[\"num_message\"] == num_message) & (results[\"prompt\"] == prompt)][[\"model\", \"queries\"]].iterrows():\n",
    "    print(row.model, \" : \", row[\"queries\"])\n",
    "    print()"
   ]
  },
  {
   "cell_type": "code",
   "execution_count": 79,
   "id": "7084cf80-0e03-4800-bc9f-2082c1409547",
   "metadata": {},
   "outputs": [
    {
     "name": "stdout",
     "output_type": "stream",
     "text": [
      "gemma-2-9b-it-Q8_0_L  :  ['методы развития креативности', 'упражнения для повышения креативного мышления']\n",
      "\n",
      "saiga-llama-3-q8_0  :  ['Методы развития креативности', 'Упражнения для мыслительного процесса']\n",
      "\n",
      "suzume-llama-3-8b-Q8_0  :  ['Как развить креативность и мыслить нестандартно?', 'Методы и упражнения для развития креативности: что работает?']\n",
      "\n"
     ]
    }
   ],
   "source": [
    "num_message = 29\n",
    "prompt = 2\n",
    "\n",
    "for _, row in results[(results[\"num_message\"] == num_message) & (results[\"prompt\"] == prompt)][[\"model\", \"queries\"]].iterrows():\n",
    "    print(row.model, \" : \", row[\"queries\"])\n",
    "    print()"
   ]
  },
  {
   "cell_type": "code",
   "execution_count": 80,
   "id": "178eeebf-7908-4b6d-846e-115a41590493",
   "metadata": {},
   "outputs": [],
   "source": [
    "results.to_csv('./data/web_search_metrics.csv', index=False)"
   ]
  },
  {
   "cell_type": "markdown",
   "id": "14bde9f0-210a-4450-86c6-b79419fcb786",
   "metadata": {},
   "source": [
    "### Результаты stage web_search  \n",
    "\n",
    "#### Промпт  \n",
    "***№ 1.*** Слабый вариант, не гарантирует до 5 запросов + бывают запросы с хештегами. Были кейсы с генерацией на другом языке(англ и испанский).  \n",
    "***№ 2.*** Вариант с самым простым описанием. Не хватает инструкций, запросы простые и сильно разнонаправленные. + ламает сайгу  \n",
    "***№ 3.*** Лучший вариант, запросы помогают изучить тему с разных сторон и учитывают уровень целевой аудитории.  \n",
    "***№ 4.*** Вариант с примером заполнения JSON сломал сайгу полностью, поэтому был исключен до тестирования.\n"
   ]
  },
  {
   "cell_type": "code",
   "execution_count": null,
   "id": "46358db6-4ca5-44dc-9567-2f1ce2f0e03e",
   "metadata": {},
   "outputs": [],
   "source": []
  }
 ],
 "metadata": {
  "kernelspec": {
   "display_name": "Python 3 (ipykernel)",
   "language": "python",
   "name": "python3"
  },
  "language_info": {
   "codemirror_mode": {
    "name": "ipython",
    "version": 3
   },
   "file_extension": ".py",
   "mimetype": "text/x-python",
   "name": "python",
   "nbconvert_exporter": "python",
   "pygments_lexer": "ipython3",
   "version": "3.12.4"
  }
 },
 "nbformat": 4,
 "nbformat_minor": 5
}
