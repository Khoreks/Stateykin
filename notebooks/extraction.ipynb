{
 "cells": [
  {
   "cell_type": "markdown",
   "id": "4634fe1b-6b3a-486c-91bf-c5616936fcbc",
   "metadata": {},
   "source": [
    "# Stage 1: Extraction"
   ]
  },
  {
   "cell_type": "markdown",
   "id": "4f134cb3-08ca-42d0-a0bf-fcc09e218370",
   "metadata": {},
   "source": [
    "### Было написано 40 кейсов для разработки и тестирования агента"
   ]
  },
  {
   "cell_type": "code",
   "execution_count": 1,
   "id": "1c858892-536b-4527-8a7d-847f93080722",
   "metadata": {},
   "outputs": [],
   "source": [
    "with open(\"../data/user_messages.txt\", \"r\", encoding='UTF-8') as file:\n",
    "    message_samples = [line.rstrip() for line in file]"
   ]
  },
  {
   "cell_type": "code",
   "execution_count": 2,
   "id": "c32ecdcd-be64-4191-8bdc-d0804025acb9",
   "metadata": {},
   "outputs": [
    {
     "name": "stdout",
     "output_type": "stream",
     "text": [
      "Какие книги стоит прочитать каждому? - Эта тема заинтересует любителей литературы, стремящихся расширить свой кругозор и найти вдохновение. Публикация в социальной сети поможет привлечь внимание к книгам, которые могут изменить жизнь читателя. ВК\n"
     ]
    }
   ],
   "source": [
    "print(message_samples[0])"
   ]
  },
  {
   "cell_type": "code",
   "execution_count": 3,
   "id": "c1280c5c-6811-4a1e-a4ae-11951531e3a4",
   "metadata": {},
   "outputs": [
    {
     "name": "stdout",
     "output_type": "stream",
     "text": [
      "['gemma-2-9b-it-Q8_0_L', 'saiga-llama-3-q8_0', 'suzume-llama-3-8b-Q8_0']\n"
     ]
    }
   ],
   "source": [
    "import os\n",
    "\n",
    "def get_models(directory, extension=\".gguf\"):\n",
    "    return [filename.split(\".\")[0] for filename in os.listdir(directory) if filename.endswith(extension)]\n",
    "\n",
    "models = get_models(\"../models\")\n",
    "print(models)"
   ]
  },
  {
   "cell_type": "code",
   "execution_count": 4,
   "id": "8ab454ff-5b19-4bee-aaf4-88ff17d522cb",
   "metadata": {},
   "outputs": [],
   "source": [
    "from langchain_community.llms import LlamaCpp\n",
    "from langchain_community.chat_models import ChatOllama\n",
    "from langchain_core.callbacks import CallbackManager, StreamingStdOutCallbackHandler\n",
    "\n",
    "\n",
    "llama3_tokens = {\n",
    "    'first_token': '<|begin_of_text|>',\n",
    "    'start_header': '<|start_header_id|>', \n",
    "    'end_header': '<|end_header_id|>', \n",
    "    'end_message': '<|eot_id|>'\n",
    "}\n",
    "gemma2_tokens = {\n",
    "    'first_token': '',\n",
    "    'start_header': '<start_of_turn>',\n",
    "    'end_header': '',\n",
    "    'end_message': '<end_of_turn>'\n",
    "}\n",
    "\n",
    "def get_llm(path):\n",
    "\n",
    "    model = LlamaCpp(\n",
    "        model_path=path,\n",
    "        temperature=0,\n",
    "        n_ctx=8192,\n",
    "        max_tokens=2000,\n",
    "        top_p=1,\n",
    "        repeat_penalty=1.1,\n",
    "        # callback_manager=CallbackManager([StreamingStdOutCallbackHandler()]),\n",
    "        verbose=False,\n",
    "        n_gpu_layers=33\n",
    "    )\n",
    "    return model\n",
    "\n",
    "def get_chat(model_name):\n",
    "    chat = ChatOllama(model=model_name, temperature=0)\n",
    "    return chat"
   ]
  },
  {
   "cell_type": "code",
   "execution_count": 5,
   "id": "d925b28f-30e5-4dbf-96d4-7550b6296445",
   "metadata": {},
   "outputs": [],
   "source": [
    "extraction_prompt_base = \"\"\"{first_token}{start_header}system{end_header}\n",
    "\n",
    "Ты являешься экспертом службы поддержки заполняющим пользовательскую форму для составления заявки.\n",
    "Пользователь описывает заявку на генерацию текстового контента для социальных сетей.\n",
    "Твоя задача - заполнить формальную заявку в формате JSON с ключами «Тема», «Социальная сеть», «Целевая аудитория», «Дополнительная информация» исходя из описания пользователя.\n",
    "Верни JSON без преамбулы или объяснения. Используй язык, на котором пользователь обращается.\n",
    "\n",
    "Сообщение пользователя для заявки: {user_message}\n",
    "\n",
    "{end_message}{start_header}assistant{end_header}\\n\"\"\"\n",
    "\n",
    "extraction_prompt_candidate_2 = \"\"\"{first_token}{start_header}system{end_header}\n",
    "\n",
    "Ты эксперт службы поддержки, заполняющий заявку на генерацию текстового контента для социальных сетей. \n",
    "Из описания пользователя заполни формальную заявку в формате JSON с ключами «Тема», «Социальная сеть», «Целевая аудитория», «Дополнительная информация».\n",
    "Верни JSON без объяснений на языке пользователя.\n",
    "\n",
    "Сообщение пользователя для заявки: {user_message}\n",
    "\n",
    "{end_message}{start_header}assistant{end_header}\\n\"\"\"\n",
    "\n",
    "extraction_prompt_candidate_3 = \"\"\"{first_token}{start_header}system{end_header}\n",
    "\n",
    "Ты эксперт службы поддержки, заполняющий заявку на генерацию текстового контента для социальных сетей.\n",
    "На основе описания пользователя заполни формальную заявку в формате JSON с ключами: «Тема» (описание основного содержания и целей поста), «Социальная сеть» (указание конкретной платформы), «Целевая аудитория» (детальное описание целевой группы), «Дополнительная информация» (вся прочая важная информация).\n",
    "Верни JSON без объяснений на языке пользователя.\n",
    "\n",
    "\n",
    "Сообщение пользователя для заявки: {user_message}\n",
    "\n",
    "{end_message}{start_header}assistant{end_header}\\n\"\"\"\n",
    "\n",
    "\n",
    "extraction_prompt_candidate_4 = \"\"\"{first_token}{start_header}system{end_header}\n",
    "\n",
    "Ты эксперт службы поддержки, заполняющий заявку на генерацию текстового контента для социальных сетей. \n",
    "На основе описания пользователя заполни формальную заявку в формате JSON с ключами «Тема», «Социальная сеть», «Целевая аудитория», «Дополнительная информация».\n",
    "Сохраняй язык пользователя. Пример заполненной заявки:\n",
    "\n",
    "{{\n",
    "  \\\"Тема\\\": \\\"Проблемы образования в 21 веке\\\",\n",
    "  \\\"Социальная сеть\\\": \\\"Instagram\\\",\n",
    "  \\\"Целевая аудитория\\\": \\\"Молодежь 15-25 лет решающие куда поступать\\\",\n",
    "  \\\"Дополнительная информация\\\": \\\"Использовать хэштеги #образование #университет . Дать советы по выбору образовательного учережденияи его уровня\\\"\n",
    "}}\n",
    "\n",
    "Верни JSON без объяснений.\n",
    "\n",
    "Сообщение пользователя для заявки: {user_message}\n",
    "\n",
    "{end_message}{start_header}assistant{end_header}\\n\"\"\"\n",
    "\n",
    "extraction_prompt_candidate_5 = \"\"\"{first_token}{start_header}system{end_header}\n",
    "\n",
    "Ты эксперт службы поддержки, заполняющий заявку на генерацию текстового контента для социальных сетей. \n",
    "На основе описания пользователя заполни формальную заявку в формате JSON с ключами «Тема», «Социальная сеть», «Целевая аудитория», «Дополнительная информация». \n",
    "Учитывай особенности каждой социальной сети (например, формат постов в Instagram отличается от формата в Twitter). Разверни все сокращения и аббревиатуры, чтобы обеспечить ясность. \n",
    "Сохраняй язык пользователя и верни JSON без объяснений.\n",
    "\n",
    "Сообщение пользователя для заявки: {user_message}\n",
    "\n",
    "{end_message}{start_header}assistant{end_header}\\n\"\"\"\n",
    "\n",
    "extraction_prompt_candidate_6 = \"\"\"{first_token}{start_header}system{end_header}\n",
    "\n",
    "Ты эксперт службы поддержки, заполняющий заявку на генерацию текстового контента для социальных сетей.\n",
    "На основе описания пользователя заполни формальную заявку в формате JSON с ключами: «Тема» (описание основного содержания и целей поста), «Социальная сеть» (указание конкретной платформы), «Целевая аудитория» (детальное описание целевой группы), «Дополнительная информация» (вся прочая важная информация).\n",
    "Учитывай особенности каждой социальной сети (например, формат постов в Instagram отличается от формата в Twitter). Разверни все сокращения и аббревиатуры, чтобы обеспечить ясность. \n",
    "Верни JSON без объяснений на языке пользователя. Пример заполненной заявки:\n",
    "\n",
    "{{\n",
    "  \\\"Тема\\\": \\\"Проблемы образования в 21 веке\\\",\n",
    "  \\\"Социальная сеть\\\": \\\"Instagram\\\",\n",
    "  \\\"Целевая аудитория\\\": \\\"Молодежь 15-25 лет решающие куда поступать\\\",\n",
    "  \\\"Дополнительная информация\\\": \\\"Использовать хэштеги #образование #университет . Дать советы по выбору образовательного учережденияи его уровня\\\"\n",
    "}}\n",
    "\n",
    "Сообщение пользователя для заявки: {user_message}\n",
    "\n",
    "{end_message}{start_header}assistant{end_header}\\n\"\"\"\n",
    "\n",
    "\n",
    "extract_candidates = [\n",
    "    extraction_prompt_base,\n",
    "    extraction_prompt_candidate_2,\n",
    "    extraction_prompt_candidate_3,\n",
    "    extraction_prompt_candidate_4,\n",
    "    extraction_prompt_candidate_5,\n",
    "    extraction_prompt_candidate_6\n",
    "]"
   ]
  },
  {
   "cell_type": "code",
   "execution_count": 6,
   "id": "099b8717-6273-44d0-8850-887333604713",
   "metadata": {},
   "outputs": [],
   "source": [
    "from langchain_core.output_parsers import JsonOutputParser, StrOutputParser\n",
    "from langchain_core.prompts import PromptTemplate\n",
    "\n",
    "import pandas as pd\n",
    "import tqdm\n",
    "from langchain_core.exceptions import OutputParserException\n",
    "\n",
    "\n",
    "def get_extract_prompt(prompt):\n",
    "    extract_prompt = PromptTemplate(\n",
    "        template=prompt,\n",
    "        input_variables=[\"first_token\", \"start_header\", \"end_header\", \"end_message\", \"user_message\"],\n",
    "    )\n",
    "    return extract_prompt\n",
    "\n",
    "# extraction_chain = extract_prompt | llm | JsonOutputParser()"
   ]
  },
  {
   "cell_type": "code",
   "execution_count": 9,
   "id": "0cd5f53e-d87b-44fd-b6a8-2929f60ca8ca",
   "metadata": {},
   "outputs": [
    {
     "name": "stdout",
     "output_type": "stream",
     "text": [
      "gemma-2-9b-it-Q8_0_L\n"
     ]
    },
    {
     "name": "stderr",
     "output_type": "stream",
     "text": [
      "14:28<00:00\n"
     ]
    },
    {
     "name": "stdout",
     "output_type": "stream",
     "text": [
      "saiga-llama-3-q8_0\n"
     ]
    },
    {
     "name": "stderr",
     "output_type": "stream",
     "text": [
      "13:40<00:00\n"
     ]
    },
    {
     "name": "stdout",
     "output_type": "stream",
     "text": [
      "suzume-llama-3-8b-Q8_0\n"
     ]
    },
    {
     "name": "stderr",
     "output_type": "stream",
     "text": [
      "14:52<00:00\n"
     ]
    }
   ],
   "source": [
    "results = pd.DataFrame()\n",
    "\n",
    "\n",
    "for model in get_models(\"../models\"):\n",
    "    print(model)\n",
    "    llm = get_chat(model)\n",
    "    input_dict = gemma2_tokens.copy() if \"gemma\" in model else llama3_tokens.copy()\n",
    "    for candidate in tqdm.tqdm(extract_candidates, bar_format='{elapsed}<{remaining}', total=len(extract_candidates)):\n",
    "        extract_prompt = get_extract_prompt(candidate)\n",
    "        extraction_chain = extract_prompt | llm | JsonOutputParser()\n",
    "        outputs = {}\n",
    "        for num, user_message in enumerate(message_samples):\n",
    "            input_dict[\"user_message\"] = user_message\n",
    "            try:\n",
    "                output = extraction_chain.invoke(input_dict)\n",
    "            except OutputParserException:\n",
    "                output = {}\n",
    "            output = {key: output.get(key, None) for key in [\"Тема\", \"Социальная сеть\", \"Целевая аудитория\", \"Дополнительная информация\"]}\n",
    " \n",
    "            output[\"num_message\"] = num\n",
    "            for key in output.keys():\n",
    "                outputs[key] = outputs.get(key, []) + [output[key]]\n",
    "\n",
    "        extract_df = pd.DataFrame.from_dict(outputs)\n",
    "        \n",
    "        extract_df['stage'] = \"extract\"\n",
    "        extract_df['prompt'] = extract_candidates.index(candidate)\n",
    "        extract_df['model'] = model.split(\"/\")[-1]\n",
    "        results = pd.concat([results, extract_df], axis=0)"
   ]
  },
  {
   "cell_type": "code",
   "execution_count": 7,
   "id": "ae657fcb-d644-4cf2-bc04-8a1ebf88e3ea",
   "metadata": {},
   "outputs": [
    {
     "data": {
      "text/html": [
       "<div>\n",
       "<style scoped>\n",
       "    .dataframe tbody tr th:only-of-type {\n",
       "        vertical-align: middle;\n",
       "    }\n",
       "\n",
       "    .dataframe tbody tr th {\n",
       "        vertical-align: top;\n",
       "    }\n",
       "\n",
       "    .dataframe thead th {\n",
       "        text-align: right;\n",
       "    }\n",
       "</style>\n",
       "<table border=\"1\" class=\"dataframe\">\n",
       "  <thead>\n",
       "    <tr style=\"text-align: right;\">\n",
       "      <th></th>\n",
       "      <th>Тема</th>\n",
       "      <th>Социальная сеть</th>\n",
       "      <th>Целевая аудитория</th>\n",
       "      <th>Дополнительная информация</th>\n",
       "      <th>num_message</th>\n",
       "      <th>stage</th>\n",
       "      <th>prompt</th>\n",
       "      <th>model</th>\n",
       "    </tr>\n",
       "  </thead>\n",
       "  <tbody>\n",
       "    <tr>\n",
       "      <th>0</th>\n",
       "      <td>Какие книги стоит прочитать каждому?</td>\n",
       "      <td>ВК</td>\n",
       "      <td>Любители литературы, стремящиеся расширить сво...</td>\n",
       "      <td>Публикация поможет привлечь внимание к книгам,...</td>\n",
       "      <td>0</td>\n",
       "      <td>extract</td>\n",
       "      <td>0</td>\n",
       "      <td>gemma-2-9b-it-Q8_0_L</td>\n",
       "    </tr>\n",
       "    <tr>\n",
       "      <th>1</th>\n",
       "      <td>Сколько книг нужно читать в год?</td>\n",
       "      <td>Телеграм</td>\n",
       "      <td>Люди, интересующиеся интеллектуальным развитие...</td>\n",
       "      <td>Публикация будет содержать личный опыт и совет...</td>\n",
       "      <td>1</td>\n",
       "      <td>extract</td>\n",
       "      <td>0</td>\n",
       "      <td>gemma-2-9b-it-Q8_0_L</td>\n",
       "    </tr>\n",
       "    <tr>\n",
       "      <th>2</th>\n",
       "      <td>Топ-5 упражнений для утренней зарядки</td>\n",
       "      <td>Инстаграм</td>\n",
       "      <td>Люди, стремящиеся начать день с бодрости и эне...</td>\n",
       "      <td>Публикация должна мотивировать аудиторию к зан...</td>\n",
       "      <td>2</td>\n",
       "      <td>extract</td>\n",
       "      <td>0</td>\n",
       "      <td>gemma-2-9b-it-Q8_0_L</td>\n",
       "    </tr>\n",
       "    <tr>\n",
       "      <th>3</th>\n",
       "      <td>История успеха известного спортсмена: как прео...</td>\n",
       "      <td>ВКонтакте</td>\n",
       "      <td>Люди, сталкивающиеся с трудностями в жизни</td>\n",
       "      <td>Рассказ о преодолении препятствий и достижении...</td>\n",
       "      <td>3</td>\n",
       "      <td>extract</td>\n",
       "      <td>0</td>\n",
       "      <td>gemma-2-9b-it-Q8_0_L</td>\n",
       "    </tr>\n",
       "    <tr>\n",
       "      <th>4</th>\n",
       "      <td>Как правильно обрезать плодовые деревья весной...</td>\n",
       "      <td>Телеграм</td>\n",
       "      <td>Садоводы и огородники</td>\n",
       "      <td>Публикация поможет поделиться знаниями и опытом</td>\n",
       "      <td>4</td>\n",
       "      <td>extract</td>\n",
       "      <td>0</td>\n",
       "      <td>gemma-2-9b-it-Q8_0_L</td>\n",
       "    </tr>\n",
       "    <tr>\n",
       "      <th>...</th>\n",
       "      <td>...</td>\n",
       "      <td>...</td>\n",
       "      <td>...</td>\n",
       "      <td>...</td>\n",
       "      <td>...</td>\n",
       "      <td>...</td>\n",
       "      <td>...</td>\n",
       "      <td>...</td>\n",
       "    </tr>\n",
       "    <tr>\n",
       "      <th>715</th>\n",
       "      <td>Советы по созданию эффективной команды</td>\n",
       "      <td>Telegram</td>\n",
       "      <td>Работники и руководители, интересующиеся вопро...</td>\n",
       "      <td>Использовать формат чата для обмена советами и...</td>\n",
       "      <td>35</td>\n",
       "      <td>extract</td>\n",
       "      <td>5</td>\n",
       "      <td>suzume-llama-3-8b-Q8_0</td>\n",
       "    </tr>\n",
       "    <tr>\n",
       "      <th>716</th>\n",
       "      <td>Влияние окружающей среды на здоровье</td>\n",
       "      <td>ВКонтакте</td>\n",
       "      <td>Люди всех возрастов, интересующиеся вопросами ...</td>\n",
       "      <td>Использовать ссылки на научные исследования и ...</td>\n",
       "      <td>36</td>\n",
       "      <td>extract</td>\n",
       "      <td>5</td>\n",
       "      <td>suzume-llama-3-8b-Q8_0</td>\n",
       "    </tr>\n",
       "    <tr>\n",
       "      <th>717</th>\n",
       "      <td>Как развить навыки общения</td>\n",
       "      <td>Telegram</td>\n",
       "      <td>Люди всех возрастов, заинтересованные в улучше...</td>\n",
       "      <td>Использовать формат чата для обмена советами и...</td>\n",
       "      <td>37</td>\n",
       "      <td>extract</td>\n",
       "      <td>5</td>\n",
       "      <td>suzume-llama-3-8b-Q8_0</td>\n",
       "    </tr>\n",
       "    <tr>\n",
       "      <th>718</th>\n",
       "      <td>Влияние путешествий на личность</td>\n",
       "      <td>Twitter</td>\n",
       "      <td>Люди любящие путешествовать и интересующиеся в...</td>\n",
       "      <td>Использовать хэштеги #путешествия #личностноер...</td>\n",
       "      <td>38</td>\n",
       "      <td>extract</td>\n",
       "      <td>5</td>\n",
       "      <td>suzume-llama-3-8b-Q8_0</td>\n",
       "    </tr>\n",
       "    <tr>\n",
       "      <th>719</th>\n",
       "      <td>Как развить самодисциплину: советы и рекоменда...</td>\n",
       "      <td>Telegram</td>\n",
       "      <td>Люди всех возрастов, стремящиеся улучшить свои...</td>\n",
       "      <td>Использовать формат чата для обмена вопросами ...</td>\n",
       "      <td>39</td>\n",
       "      <td>extract</td>\n",
       "      <td>5</td>\n",
       "      <td>suzume-llama-3-8b-Q8_0</td>\n",
       "    </tr>\n",
       "  </tbody>\n",
       "</table>\n",
       "<p>720 rows × 8 columns</p>\n",
       "</div>"
      ],
      "text/plain": [
       "                                                  Тема Социальная сеть  \\\n",
       "0                 Какие книги стоит прочитать каждому?              ВК   \n",
       "1                     Сколько книг нужно читать в год?        Телеграм   \n",
       "2                Топ-5 упражнений для утренней зарядки       Инстаграм   \n",
       "3    История успеха известного спортсмена: как прео...       ВКонтакте   \n",
       "4    Как правильно обрезать плодовые деревья весной...        Телеграм   \n",
       "..                                                 ...             ...   \n",
       "715             Советы по созданию эффективной команды        Telegram   \n",
       "716               Влияние окружающей среды на здоровье       ВКонтакте   \n",
       "717                         Как развить навыки общения        Telegram   \n",
       "718                    Влияние путешествий на личность         Twitter   \n",
       "719  Как развить самодисциплину: советы и рекоменда...        Telegram   \n",
       "\n",
       "                                     Целевая аудитория  \\\n",
       "0    Любители литературы, стремящиеся расширить сво...   \n",
       "1    Люди, интересующиеся интеллектуальным развитие...   \n",
       "2    Люди, стремящиеся начать день с бодрости и эне...   \n",
       "3           Люди, сталкивающиеся с трудностями в жизни   \n",
       "4                                Садоводы и огородники   \n",
       "..                                                 ...   \n",
       "715  Работники и руководители, интересующиеся вопро...   \n",
       "716  Люди всех возрастов, интересующиеся вопросами ...   \n",
       "717  Люди всех возрастов, заинтересованные в улучше...   \n",
       "718  Люди любящие путешествовать и интересующиеся в...   \n",
       "719  Люди всех возрастов, стремящиеся улучшить свои...   \n",
       "\n",
       "                             Дополнительная информация  num_message    stage  \\\n",
       "0    Публикация поможет привлечь внимание к книгам,...            0  extract   \n",
       "1    Публикация будет содержать личный опыт и совет...            1  extract   \n",
       "2    Публикация должна мотивировать аудиторию к зан...            2  extract   \n",
       "3    Рассказ о преодолении препятствий и достижении...            3  extract   \n",
       "4      Публикация поможет поделиться знаниями и опытом            4  extract   \n",
       "..                                                 ...          ...      ...   \n",
       "715  Использовать формат чата для обмена советами и...           35  extract   \n",
       "716  Использовать ссылки на научные исследования и ...           36  extract   \n",
       "717  Использовать формат чата для обмена советами и...           37  extract   \n",
       "718  Использовать хэштеги #путешествия #личностноер...           38  extract   \n",
       "719  Использовать формат чата для обмена вопросами ...           39  extract   \n",
       "\n",
       "     prompt                   model  \n",
       "0         0    gemma-2-9b-it-Q8_0_L  \n",
       "1         0    gemma-2-9b-it-Q8_0_L  \n",
       "2         0    gemma-2-9b-it-Q8_0_L  \n",
       "3         0    gemma-2-9b-it-Q8_0_L  \n",
       "4         0    gemma-2-9b-it-Q8_0_L  \n",
       "..      ...                     ...  \n",
       "715       5  suzume-llama-3-8b-Q8_0  \n",
       "716       5  suzume-llama-3-8b-Q8_0  \n",
       "717       5  suzume-llama-3-8b-Q8_0  \n",
       "718       5  suzume-llama-3-8b-Q8_0  \n",
       "719       5  suzume-llama-3-8b-Q8_0  \n",
       "\n",
       "[720 rows x 8 columns]"
      ]
     },
     "execution_count": 7,
     "metadata": {},
     "output_type": "execute_result"
    }
   ],
   "source": [
    "#results.to_csv('./extraction_results.csv', index=False)\n",
    "results = pd.read_csv('./extraction_results.csv')\n",
    "results"
   ]
  },
  {
   "cell_type": "code",
   "execution_count": 8,
   "id": "c0bf4f1a-4661-491c-9d17-9e21c84e6167",
   "metadata": {},
   "outputs": [
    {
     "data": {
      "text/html": [
       "<div>\n",
       "<style scoped>\n",
       "    .dataframe tbody tr th:only-of-type {\n",
       "        vertical-align: middle;\n",
       "    }\n",
       "\n",
       "    .dataframe tbody tr th {\n",
       "        vertical-align: top;\n",
       "    }\n",
       "\n",
       "    .dataframe thead th {\n",
       "        text-align: right;\n",
       "    }\n",
       "</style>\n",
       "<table border=\"1\" class=\"dataframe\">\n",
       "  <thead>\n",
       "    <tr style=\"text-align: right;\">\n",
       "      <th></th>\n",
       "      <th></th>\n",
       "      <th>Тема</th>\n",
       "      <th>Социальная сеть</th>\n",
       "      <th>Целевая аудитория</th>\n",
       "      <th>Дополнительная информация</th>\n",
       "    </tr>\n",
       "    <tr>\n",
       "      <th>prompt</th>\n",
       "      <th>model</th>\n",
       "      <th></th>\n",
       "      <th></th>\n",
       "      <th></th>\n",
       "      <th></th>\n",
       "    </tr>\n",
       "  </thead>\n",
       "  <tbody>\n",
       "    <tr>\n",
       "      <th rowspan=\"3\" valign=\"top\">0</th>\n",
       "      <th>gemma-2-9b-it-Q8_0_L</th>\n",
       "      <td>1.000</td>\n",
       "      <td>1.000</td>\n",
       "      <td>1.000</td>\n",
       "      <td>1.000</td>\n",
       "    </tr>\n",
       "    <tr>\n",
       "      <th>saiga-llama-3-q8_0</th>\n",
       "      <td>1.000</td>\n",
       "      <td>1.000</td>\n",
       "      <td>0.975</td>\n",
       "      <td>0.700</td>\n",
       "    </tr>\n",
       "    <tr>\n",
       "      <th>suzume-llama-3-8b-Q8_0</th>\n",
       "      <td>1.000</td>\n",
       "      <td>1.000</td>\n",
       "      <td>1.000</td>\n",
       "      <td>0.750</td>\n",
       "    </tr>\n",
       "    <tr>\n",
       "      <th rowspan=\"3\" valign=\"top\">1</th>\n",
       "      <th>gemma-2-9b-it-Q8_0_L</th>\n",
       "      <td>1.000</td>\n",
       "      <td>1.000</td>\n",
       "      <td>1.000</td>\n",
       "      <td>0.975</td>\n",
       "    </tr>\n",
       "    <tr>\n",
       "      <th>saiga-llama-3-q8_0</th>\n",
       "      <td>1.000</td>\n",
       "      <td>1.000</td>\n",
       "      <td>0.975</td>\n",
       "      <td>0.325</td>\n",
       "    </tr>\n",
       "    <tr>\n",
       "      <th>suzume-llama-3-8b-Q8_0</th>\n",
       "      <td>1.000</td>\n",
       "      <td>1.000</td>\n",
       "      <td>1.000</td>\n",
       "      <td>0.600</td>\n",
       "    </tr>\n",
       "    <tr>\n",
       "      <th rowspan=\"3\" valign=\"top\">2</th>\n",
       "      <th>gemma-2-9b-it-Q8_0_L</th>\n",
       "      <td>1.000</td>\n",
       "      <td>1.000</td>\n",
       "      <td>1.000</td>\n",
       "      <td>0.200</td>\n",
       "    </tr>\n",
       "    <tr>\n",
       "      <th>saiga-llama-3-q8_0</th>\n",
       "      <td>0.925</td>\n",
       "      <td>0.925</td>\n",
       "      <td>0.875</td>\n",
       "      <td>0.125</td>\n",
       "    </tr>\n",
       "    <tr>\n",
       "      <th>suzume-llama-3-8b-Q8_0</th>\n",
       "      <td>1.000</td>\n",
       "      <td>1.000</td>\n",
       "      <td>1.000</td>\n",
       "      <td>0.875</td>\n",
       "    </tr>\n",
       "    <tr>\n",
       "      <th rowspan=\"3\" valign=\"top\">3</th>\n",
       "      <th>gemma-2-9b-it-Q8_0_L</th>\n",
       "      <td>1.000</td>\n",
       "      <td>1.000</td>\n",
       "      <td>1.000</td>\n",
       "      <td>1.000</td>\n",
       "    </tr>\n",
       "    <tr>\n",
       "      <th>saiga-llama-3-q8_0</th>\n",
       "      <td>1.000</td>\n",
       "      <td>1.000</td>\n",
       "      <td>1.000</td>\n",
       "      <td>0.650</td>\n",
       "    </tr>\n",
       "    <tr>\n",
       "      <th>suzume-llama-3-8b-Q8_0</th>\n",
       "      <td>1.000</td>\n",
       "      <td>1.000</td>\n",
       "      <td>1.000</td>\n",
       "      <td>0.975</td>\n",
       "    </tr>\n",
       "    <tr>\n",
       "      <th rowspan=\"3\" valign=\"top\">4</th>\n",
       "      <th>gemma-2-9b-it-Q8_0_L</th>\n",
       "      <td>1.000</td>\n",
       "      <td>1.000</td>\n",
       "      <td>1.000</td>\n",
       "      <td>1.000</td>\n",
       "    </tr>\n",
       "    <tr>\n",
       "      <th>saiga-llama-3-q8_0</th>\n",
       "      <td>1.000</td>\n",
       "      <td>1.000</td>\n",
       "      <td>1.000</td>\n",
       "      <td>0.425</td>\n",
       "    </tr>\n",
       "    <tr>\n",
       "      <th>suzume-llama-3-8b-Q8_0</th>\n",
       "      <td>1.000</td>\n",
       "      <td>1.000</td>\n",
       "      <td>1.000</td>\n",
       "      <td>0.925</td>\n",
       "    </tr>\n",
       "    <tr>\n",
       "      <th rowspan=\"3\" valign=\"top\">5</th>\n",
       "      <th>gemma-2-9b-it-Q8_0_L</th>\n",
       "      <td>1.000</td>\n",
       "      <td>1.000</td>\n",
       "      <td>1.000</td>\n",
       "      <td>0.900</td>\n",
       "    </tr>\n",
       "    <tr>\n",
       "      <th>saiga-llama-3-q8_0</th>\n",
       "      <td>1.000</td>\n",
       "      <td>1.000</td>\n",
       "      <td>1.000</td>\n",
       "      <td>1.000</td>\n",
       "    </tr>\n",
       "    <tr>\n",
       "      <th>suzume-llama-3-8b-Q8_0</th>\n",
       "      <td>1.000</td>\n",
       "      <td>1.000</td>\n",
       "      <td>1.000</td>\n",
       "      <td>1.000</td>\n",
       "    </tr>\n",
       "  </tbody>\n",
       "</table>\n",
       "</div>"
      ],
      "text/plain": [
       "                                Тема  Социальная сеть  Целевая аудитория  \\\n",
       "prompt model                                                               \n",
       "0      gemma-2-9b-it-Q8_0_L    1.000            1.000              1.000   \n",
       "       saiga-llama-3-q8_0      1.000            1.000              0.975   \n",
       "       suzume-llama-3-8b-Q8_0  1.000            1.000              1.000   \n",
       "1      gemma-2-9b-it-Q8_0_L    1.000            1.000              1.000   \n",
       "       saiga-llama-3-q8_0      1.000            1.000              0.975   \n",
       "       suzume-llama-3-8b-Q8_0  1.000            1.000              1.000   \n",
       "2      gemma-2-9b-it-Q8_0_L    1.000            1.000              1.000   \n",
       "       saiga-llama-3-q8_0      0.925            0.925              0.875   \n",
       "       suzume-llama-3-8b-Q8_0  1.000            1.000              1.000   \n",
       "3      gemma-2-9b-it-Q8_0_L    1.000            1.000              1.000   \n",
       "       saiga-llama-3-q8_0      1.000            1.000              1.000   \n",
       "       suzume-llama-3-8b-Q8_0  1.000            1.000              1.000   \n",
       "4      gemma-2-9b-it-Q8_0_L    1.000            1.000              1.000   \n",
       "       saiga-llama-3-q8_0      1.000            1.000              1.000   \n",
       "       suzume-llama-3-8b-Q8_0  1.000            1.000              1.000   \n",
       "5      gemma-2-9b-it-Q8_0_L    1.000            1.000              1.000   \n",
       "       saiga-llama-3-q8_0      1.000            1.000              1.000   \n",
       "       suzume-llama-3-8b-Q8_0  1.000            1.000              1.000   \n",
       "\n",
       "                               Дополнительная информация  \n",
       "prompt model                                              \n",
       "0      gemma-2-9b-it-Q8_0_L                        1.000  \n",
       "       saiga-llama-3-q8_0                          0.700  \n",
       "       suzume-llama-3-8b-Q8_0                      0.750  \n",
       "1      gemma-2-9b-it-Q8_0_L                        0.975  \n",
       "       saiga-llama-3-q8_0                          0.325  \n",
       "       suzume-llama-3-8b-Q8_0                      0.600  \n",
       "2      gemma-2-9b-it-Q8_0_L                        0.200  \n",
       "       saiga-llama-3-q8_0                          0.125  \n",
       "       suzume-llama-3-8b-Q8_0                      0.875  \n",
       "3      gemma-2-9b-it-Q8_0_L                        1.000  \n",
       "       saiga-llama-3-q8_0                          0.650  \n",
       "       suzume-llama-3-8b-Q8_0                      0.975  \n",
       "4      gemma-2-9b-it-Q8_0_L                        1.000  \n",
       "       saiga-llama-3-q8_0                          0.425  \n",
       "       suzume-llama-3-8b-Q8_0                      0.925  \n",
       "5      gemma-2-9b-it-Q8_0_L                        0.900  \n",
       "       saiga-llama-3-q8_0                          1.000  \n",
       "       suzume-llama-3-8b-Q8_0                      1.000  "
      ]
     },
     "execution_count": 8,
     "metadata": {},
     "output_type": "execute_result"
    }
   ],
   "source": [
    "results.set_index(['prompt', 'model']).groupby(level=['prompt', 'model'])[\n",
    "    [\"Тема\", \"Социальная сеть\", \"Целевая аудитория\", \"Дополнительная информация\"]].count() / \\\n",
    "    (results.shape[0] / len(extract_candidates) / len(models))"
   ]
  },
  {
   "cell_type": "markdown",
   "id": "a7628656-3491-4ea9-ad4b-e627b2cb20f2",
   "metadata": {},
   "source": [
    "### Исключаем промпт №2, он может ломать JSON структуру ответа."
   ]
  },
  {
   "cell_type": "code",
   "execution_count": 9,
   "id": "86064ffe-4ceb-46c7-bbf6-f5b4bdba540f",
   "metadata": {},
   "outputs": [],
   "source": [
    "import numpy as np \n",
    "import warnings\n",
    "warnings.filterwarnings('ignore')\n",
    "\n",
    "available_promts = np.delete(results[\"prompt\"].unique(), 2)\n",
    "results = results[results[\"prompt\"].isin(available_promts)]"
   ]
  },
  {
   "cell_type": "code",
   "execution_count": 18,
   "id": "82efd74a-5ac1-477c-9232-6bc2e369baac",
   "metadata": {},
   "outputs": [],
   "source": [
    "test_dataset = pd.DataFrame()\n",
    "test_dataset[\"contexts\"] = results[\"num_message\"].apply(lambda x: message_samples[int(x)].split(\"...\"))#.astype(str)\n",
    "test_dataset[\"answer\"] =  \"Тема - \" + results[\"Тема\"].astype(str) + \"Социальная сеть - \" + results[\"Социальная сеть\"].astype(str) + \\\n",
    "    \"Целевая аудитория - \" + results[\"Целевая аудитория\"].astype(str) + \"Дополнительная информация - \" + results[\"Дополнительная информация\"].astype(str)\n",
    "test_dataset[\"question\"] = results[\"num_message\"].apply(lambda x: message_samples[int(x)]).astype(str)"
   ]
  },
  {
   "cell_type": "code",
   "execution_count": 11,
   "id": "8c0f5e73-ece5-42d0-82c3-fe1d3046a1f5",
   "metadata": {},
   "outputs": [],
   "source": [
    "import nest_asyncio\n",
    "nest_asyncio.apply()"
   ]
  },
  {
   "cell_type": "code",
   "execution_count": 31,
   "id": "16d7bb3c-57ed-4f74-b25c-3bcdf57b24b1",
   "metadata": {
    "scrolled": true
   },
   "outputs": [
    {
     "data": {
      "application/vnd.jupyter.widget-view+json": {
       "model_id": "25e109b8ca474a62beaa54a10c92e36a",
       "version_major": 2,
       "version_minor": 0
      },
      "text/plain": [
       "Evaluating:   0%|          | 0/1 [00:00<?, ?it/s]"
      ]
     },
     "metadata": {},
     "output_type": "display_data"
    },
    {
     "data": {
      "application/vnd.jupyter.widget-view+json": {
       "model_id": "ab26bff3071647a5a70024cea8ed8aa5",
       "version_major": 2,
       "version_minor": 0
      },
      "text/plain": [
       "Evaluating:   0%|          | 0/1 [00:00<?, ?it/s]"
      ]
     },
     "metadata": {},
     "output_type": "display_data"
    },
    {
     "data": {
      "application/vnd.jupyter.widget-view+json": {
       "model_id": "c08df7571f15459a958e5eb0f9bc72b0",
       "version_major": 2,
       "version_minor": 0
      },
      "text/plain": [
       "Evaluating:   0%|          | 0/1 [00:00<?, ?it/s]"
      ]
     },
     "metadata": {},
     "output_type": "display_data"
    },
    {
     "data": {
      "application/vnd.jupyter.widget-view+json": {
       "model_id": "e80f6d41051a4f3199c76d7db20549b3",
       "version_major": 2,
       "version_minor": 0
      },
      "text/plain": [
       "Evaluating:   0%|          | 0/1 [00:00<?, ?it/s]"
      ]
     },
     "metadata": {},
     "output_type": "display_data"
    },
    {
     "data": {
      "application/vnd.jupyter.widget-view+json": {
       "model_id": "ee6bfd255ca8448e8dcb5b53b0b4eb8e",
       "version_major": 2,
       "version_minor": 0
      },
      "text/plain": [
       "Evaluating:   0%|          | 0/1 [00:00<?, ?it/s]"
      ]
     },
     "metadata": {},
     "output_type": "display_data"
    },
    {
     "data": {
      "application/vnd.jupyter.widget-view+json": {
       "model_id": "7094cf7ae8084858b4d500b3e7efdc13",
       "version_major": 2,
       "version_minor": 0
      },
      "text/plain": [
       "Evaluating:   0%|          | 0/1 [00:00<?, ?it/s]"
      ]
     },
     "metadata": {},
     "output_type": "display_data"
    },
    {
     "data": {
      "application/vnd.jupyter.widget-view+json": {
       "model_id": "85d82b2414dc4c6582e2ff2d628b9bd5",
       "version_major": 2,
       "version_minor": 0
      },
      "text/plain": [
       "Evaluating:   0%|          | 0/1 [00:00<?, ?it/s]"
      ]
     },
     "metadata": {},
     "output_type": "display_data"
    },
    {
     "data": {
      "application/vnd.jupyter.widget-view+json": {
       "model_id": "1f55a8b1011b4f8aa334d121ebd6e104",
       "version_major": 2,
       "version_minor": 0
      },
      "text/plain": [
       "Evaluating:   0%|          | 0/1 [00:00<?, ?it/s]"
      ]
     },
     "metadata": {},
     "output_type": "display_data"
    },
    {
     "data": {
      "application/vnd.jupyter.widget-view+json": {
       "model_id": "cdad1048fd8a4207befa12f87fa7e053",
       "version_major": 2,
       "version_minor": 0
      },
      "text/plain": [
       "Evaluating:   0%|          | 0/1 [00:00<?, ?it/s]"
      ]
     },
     "metadata": {},
     "output_type": "display_data"
    },
    {
     "name": "stderr",
     "output_type": "stream",
     "text": [
      "Failed to parse output. Returning None.\n"
     ]
    },
    {
     "data": {
      "application/vnd.jupyter.widget-view+json": {
       "model_id": "369090f4918e40fcae3279e7e81b3c2f",
       "version_major": 2,
       "version_minor": 0
      },
      "text/plain": [
       "Evaluating:   0%|          | 0/1 [00:00<?, ?it/s]"
      ]
     },
     "metadata": {},
     "output_type": "display_data"
    },
    {
     "data": {
      "application/vnd.jupyter.widget-view+json": {
       "model_id": "28674d2e1ff64de4a9d4fae52a38dc7c",
       "version_major": 2,
       "version_minor": 0
      },
      "text/plain": [
       "Evaluating:   0%|          | 0/1 [00:00<?, ?it/s]"
      ]
     },
     "metadata": {},
     "output_type": "display_data"
    },
    {
     "data": {
      "application/vnd.jupyter.widget-view+json": {
       "model_id": "9125ba1fce6b4aa3be545d1972a59dbb",
       "version_major": 2,
       "version_minor": 0
      },
      "text/plain": [
       "Evaluating:   0%|          | 0/1 [00:00<?, ?it/s]"
      ]
     },
     "metadata": {},
     "output_type": "display_data"
    },
    {
     "data": {
      "application/vnd.jupyter.widget-view+json": {
       "model_id": "c26bb83ced314175a838ad24f984ff9d",
       "version_major": 2,
       "version_minor": 0
      },
      "text/plain": [
       "Evaluating:   0%|          | 0/1 [00:00<?, ?it/s]"
      ]
     },
     "metadata": {},
     "output_type": "display_data"
    },
    {
     "data": {
      "application/vnd.jupyter.widget-view+json": {
       "model_id": "a17b1c77240b4a34abca0a1fb6528853",
       "version_major": 2,
       "version_minor": 0
      },
      "text/plain": [
       "Evaluating:   0%|          | 0/1 [00:00<?, ?it/s]"
      ]
     },
     "metadata": {},
     "output_type": "display_data"
    },
    {
     "data": {
      "application/vnd.jupyter.widget-view+json": {
       "model_id": "5db347ade11b403ebfb47d2bf525e7b4",
       "version_major": 2,
       "version_minor": 0
      },
      "text/plain": [
       "Evaluating:   0%|          | 0/1 [00:00<?, ?it/s]"
      ]
     },
     "metadata": {},
     "output_type": "display_data"
    },
    {
     "data": {
      "application/vnd.jupyter.widget-view+json": {
       "model_id": "60fda7b8bcb2483493cb33713e1ca74b",
       "version_major": 2,
       "version_minor": 0
      },
      "text/plain": [
       "Evaluating:   0%|          | 0/1 [00:00<?, ?it/s]"
      ]
     },
     "metadata": {},
     "output_type": "display_data"
    },
    {
     "name": "stderr",
     "output_type": "stream",
     "text": [
      "Failed to parse output. Returning None.\n"
     ]
    },
    {
     "data": {
      "application/vnd.jupyter.widget-view+json": {
       "model_id": "740f7c1c9e7d4264945c21f663b2dc87",
       "version_major": 2,
       "version_minor": 0
      },
      "text/plain": [
       "Evaluating:   0%|          | 0/1 [00:00<?, ?it/s]"
      ]
     },
     "metadata": {},
     "output_type": "display_data"
    },
    {
     "data": {
      "application/vnd.jupyter.widget-view+json": {
       "model_id": "9bde889cc8ef4bc9a85d7082caf43d09",
       "version_major": 2,
       "version_minor": 0
      },
      "text/plain": [
       "Evaluating:   0%|          | 0/1 [00:00<?, ?it/s]"
      ]
     },
     "metadata": {},
     "output_type": "display_data"
    },
    {
     "data": {
      "application/vnd.jupyter.widget-view+json": {
       "model_id": "3ab9f7c3ee8f479cba11b618f0d7b60d",
       "version_major": 2,
       "version_minor": 0
      },
      "text/plain": [
       "Evaluating:   0%|          | 0/1 [00:00<?, ?it/s]"
      ]
     },
     "metadata": {},
     "output_type": "display_data"
    },
    {
     "data": {
      "application/vnd.jupyter.widget-view+json": {
       "model_id": "712d1e8f8d7a46f4bec316006d10493d",
       "version_major": 2,
       "version_minor": 0
      },
      "text/plain": [
       "Evaluating:   0%|          | 0/1 [00:00<?, ?it/s]"
      ]
     },
     "metadata": {},
     "output_type": "display_data"
    },
    {
     "data": {
      "application/vnd.jupyter.widget-view+json": {
       "model_id": "3b3bd31dbbcf4f1b82ba445464240088",
       "version_major": 2,
       "version_minor": 0
      },
      "text/plain": [
       "Evaluating:   0%|          | 0/1 [00:00<?, ?it/s]"
      ]
     },
     "metadata": {},
     "output_type": "display_data"
    },
    {
     "data": {
      "application/vnd.jupyter.widget-view+json": {
       "model_id": "a915cbc790c84202aaaec4c26344f5ff",
       "version_major": 2,
       "version_minor": 0
      },
      "text/plain": [
       "Evaluating:   0%|          | 0/1 [00:00<?, ?it/s]"
      ]
     },
     "metadata": {},
     "output_type": "display_data"
    },
    {
     "data": {
      "application/vnd.jupyter.widget-view+json": {
       "model_id": "e6d6c2aa4ae44a198ba53f05a6249fe1",
       "version_major": 2,
       "version_minor": 0
      },
      "text/plain": [
       "Evaluating:   0%|          | 0/1 [00:00<?, ?it/s]"
      ]
     },
     "metadata": {},
     "output_type": "display_data"
    },
    {
     "data": {
      "application/vnd.jupyter.widget-view+json": {
       "model_id": "f62a061d7a864427bc8c2ee6f79c2443",
       "version_major": 2,
       "version_minor": 0
      },
      "text/plain": [
       "Evaluating:   0%|          | 0/1 [00:00<?, ?it/s]"
      ]
     },
     "metadata": {},
     "output_type": "display_data"
    },
    {
     "data": {
      "application/vnd.jupyter.widget-view+json": {
       "model_id": "ab32ce370b8a4414834342da381153bc",
       "version_major": 2,
       "version_minor": 0
      },
      "text/plain": [
       "Evaluating:   0%|          | 0/1 [00:00<?, ?it/s]"
      ]
     },
     "metadata": {},
     "output_type": "display_data"
    },
    {
     "name": "stderr",
     "output_type": "stream",
     "text": [
      "Failed to parse output. Returning None.\n"
     ]
    },
    {
     "data": {
      "application/vnd.jupyter.widget-view+json": {
       "model_id": "f397276f417743e0a88908b9383c9b6c",
       "version_major": 2,
       "version_minor": 0
      },
      "text/plain": [
       "Evaluating:   0%|          | 0/1 [00:00<?, ?it/s]"
      ]
     },
     "metadata": {},
     "output_type": "display_data"
    },
    {
     "data": {
      "application/vnd.jupyter.widget-view+json": {
       "model_id": "b494195fe57d4376bb7884fad00c5342",
       "version_major": 2,
       "version_minor": 0
      },
      "text/plain": [
       "Evaluating:   0%|          | 0/1 [00:00<?, ?it/s]"
      ]
     },
     "metadata": {},
     "output_type": "display_data"
    },
    {
     "data": {
      "application/vnd.jupyter.widget-view+json": {
       "model_id": "ff06853ad30341e6a338e210aa05db5c",
       "version_major": 2,
       "version_minor": 0
      },
      "text/plain": [
       "Evaluating:   0%|          | 0/1 [00:00<?, ?it/s]"
      ]
     },
     "metadata": {},
     "output_type": "display_data"
    },
    {
     "data": {
      "application/vnd.jupyter.widget-view+json": {
       "model_id": "ae8203d2eff94f61bd475f46a4e68af2",
       "version_major": 2,
       "version_minor": 0
      },
      "text/plain": [
       "Evaluating:   0%|          | 0/1 [00:00<?, ?it/s]"
      ]
     },
     "metadata": {},
     "output_type": "display_data"
    },
    {
     "data": {
      "application/vnd.jupyter.widget-view+json": {
       "model_id": "4998389d3b904683ae12fc2b0507da19",
       "version_major": 2,
       "version_minor": 0
      },
      "text/plain": [
       "Evaluating:   0%|          | 0/1 [00:00<?, ?it/s]"
      ]
     },
     "metadata": {},
     "output_type": "display_data"
    },
    {
     "data": {
      "application/vnd.jupyter.widget-view+json": {
       "model_id": "3825abffa09d426d98be723c2ba1744c",
       "version_major": 2,
       "version_minor": 0
      },
      "text/plain": [
       "Evaluating:   0%|          | 0/1 [00:00<?, ?it/s]"
      ]
     },
     "metadata": {},
     "output_type": "display_data"
    },
    {
     "data": {
      "application/vnd.jupyter.widget-view+json": {
       "model_id": "4aa5bda27bb94648bb215c03ee3a2a08",
       "version_major": 2,
       "version_minor": 0
      },
      "text/plain": [
       "Evaluating:   0%|          | 0/1 [00:00<?, ?it/s]"
      ]
     },
     "metadata": {},
     "output_type": "display_data"
    },
    {
     "data": {
      "application/vnd.jupyter.widget-view+json": {
       "model_id": "1628fd5566fe480d8fdbe90c20ea564d",
       "version_major": 2,
       "version_minor": 0
      },
      "text/plain": [
       "Evaluating:   0%|          | 0/1 [00:00<?, ?it/s]"
      ]
     },
     "metadata": {},
     "output_type": "display_data"
    },
    {
     "name": "stderr",
     "output_type": "stream",
     "text": [
      "Failed to parse output. Returning None.\n"
     ]
    },
    {
     "data": {
      "application/vnd.jupyter.widget-view+json": {
       "model_id": "a2842f1356df432f8819dd5a05b30ed8",
       "version_major": 2,
       "version_minor": 0
      },
      "text/plain": [
       "Evaluating:   0%|          | 0/1 [00:00<?, ?it/s]"
      ]
     },
     "metadata": {},
     "output_type": "display_data"
    },
    {
     "data": {
      "application/vnd.jupyter.widget-view+json": {
       "model_id": "81124eb003e5421fbcb57ce1a86e9f3a",
       "version_major": 2,
       "version_minor": 0
      },
      "text/plain": [
       "Evaluating:   0%|          | 0/1 [00:00<?, ?it/s]"
      ]
     },
     "metadata": {},
     "output_type": "display_data"
    },
    {
     "data": {
      "application/vnd.jupyter.widget-view+json": {
       "model_id": "8af6f5a8510e4eff9390bc96bcb3836d",
       "version_major": 2,
       "version_minor": 0
      },
      "text/plain": [
       "Evaluating:   0%|          | 0/1 [00:00<?, ?it/s]"
      ]
     },
     "metadata": {},
     "output_type": "display_data"
    },
    {
     "data": {
      "application/vnd.jupyter.widget-view+json": {
       "model_id": "b1d9b69de88f4c5a9e1cf96b59b004c1",
       "version_major": 2,
       "version_minor": 0
      },
      "text/plain": [
       "Evaluating:   0%|          | 0/1 [00:00<?, ?it/s]"
      ]
     },
     "metadata": {},
     "output_type": "display_data"
    },
    {
     "data": {
      "application/vnd.jupyter.widget-view+json": {
       "model_id": "4107009904e64381839a2bf1c867af46",
       "version_major": 2,
       "version_minor": 0
      },
      "text/plain": [
       "Evaluating:   0%|          | 0/1 [00:00<?, ?it/s]"
      ]
     },
     "metadata": {},
     "output_type": "display_data"
    },
    {
     "name": "stderr",
     "output_type": "stream",
     "text": [
      "Failed to parse output. Returning None.\n"
     ]
    },
    {
     "data": {
      "application/vnd.jupyter.widget-view+json": {
       "model_id": "e0c0b2f2bc184756a9b78614638255f0",
       "version_major": 2,
       "version_minor": 0
      },
      "text/plain": [
       "Evaluating:   0%|          | 0/1 [00:00<?, ?it/s]"
      ]
     },
     "metadata": {},
     "output_type": "display_data"
    },
    {
     "data": {
      "application/vnd.jupyter.widget-view+json": {
       "model_id": "406aa089a9c943bfa5bb15414490836c",
       "version_major": 2,
       "version_minor": 0
      },
      "text/plain": [
       "Evaluating:   0%|          | 0/1 [00:00<?, ?it/s]"
      ]
     },
     "metadata": {},
     "output_type": "display_data"
    },
    {
     "name": "stderr",
     "output_type": "stream",
     "text": [
      "Failed to parse output. Returning None.\n"
     ]
    },
    {
     "data": {
      "application/vnd.jupyter.widget-view+json": {
       "model_id": "0f9086ad11414df3bcbe245051243e27",
       "version_major": 2,
       "version_minor": 0
      },
      "text/plain": [
       "Evaluating:   0%|          | 0/1 [00:00<?, ?it/s]"
      ]
     },
     "metadata": {},
     "output_type": "display_data"
    },
    {
     "data": {
      "application/vnd.jupyter.widget-view+json": {
       "model_id": "9f02353d181548b8a4c4d20119fb8cb3",
       "version_major": 2,
       "version_minor": 0
      },
      "text/plain": [
       "Evaluating:   0%|          | 0/1 [00:00<?, ?it/s]"
      ]
     },
     "metadata": {},
     "output_type": "display_data"
    },
    {
     "data": {
      "application/vnd.jupyter.widget-view+json": {
       "model_id": "1a34ebcba9ac456386ba1c48bef5d570",
       "version_major": 2,
       "version_minor": 0
      },
      "text/plain": [
       "Evaluating:   0%|          | 0/1 [00:00<?, ?it/s]"
      ]
     },
     "metadata": {},
     "output_type": "display_data"
    },
    {
     "data": {
      "application/vnd.jupyter.widget-view+json": {
       "model_id": "b201753a805a4d96906ab6921a48a637",
       "version_major": 2,
       "version_minor": 0
      },
      "text/plain": [
       "Evaluating:   0%|          | 0/1 [00:00<?, ?it/s]"
      ]
     },
     "metadata": {},
     "output_type": "display_data"
    },
    {
     "data": {
      "application/vnd.jupyter.widget-view+json": {
       "model_id": "289c17637a0f460bbcaa335775e08473",
       "version_major": 2,
       "version_minor": 0
      },
      "text/plain": [
       "Evaluating:   0%|          | 0/1 [00:00<?, ?it/s]"
      ]
     },
     "metadata": {},
     "output_type": "display_data"
    },
    {
     "data": {
      "application/vnd.jupyter.widget-view+json": {
       "model_id": "f03dd4d9bde34b4bbf044fd7f31620e3",
       "version_major": 2,
       "version_minor": 0
      },
      "text/plain": [
       "Evaluating:   0%|          | 0/1 [00:00<?, ?it/s]"
      ]
     },
     "metadata": {},
     "output_type": "display_data"
    },
    {
     "data": {
      "application/vnd.jupyter.widget-view+json": {
       "model_id": "45d9c8a8b4144a93a181516f47708fa1",
       "version_major": 2,
       "version_minor": 0
      },
      "text/plain": [
       "Evaluating:   0%|          | 0/1 [00:00<?, ?it/s]"
      ]
     },
     "metadata": {},
     "output_type": "display_data"
    },
    {
     "data": {
      "application/vnd.jupyter.widget-view+json": {
       "model_id": "03340cb969f045329cd1369d10fb2244",
       "version_major": 2,
       "version_minor": 0
      },
      "text/plain": [
       "Evaluating:   0%|          | 0/1 [00:00<?, ?it/s]"
      ]
     },
     "metadata": {},
     "output_type": "display_data"
    },
    {
     "data": {
      "application/vnd.jupyter.widget-view+json": {
       "model_id": "f0e77271bb3049f98406740f8ab12af3",
       "version_major": 2,
       "version_minor": 0
      },
      "text/plain": [
       "Evaluating:   0%|          | 0/1 [00:00<?, ?it/s]"
      ]
     },
     "metadata": {},
     "output_type": "display_data"
    },
    {
     "data": {
      "application/vnd.jupyter.widget-view+json": {
       "model_id": "d6cc24c8c0ac4fe283909a68defd1090",
       "version_major": 2,
       "version_minor": 0
      },
      "text/plain": [
       "Evaluating:   0%|          | 0/1 [00:00<?, ?it/s]"
      ]
     },
     "metadata": {},
     "output_type": "display_data"
    },
    {
     "data": {
      "application/vnd.jupyter.widget-view+json": {
       "model_id": "f46fc1a9cc7e47318267d5ec23e8de4b",
       "version_major": 2,
       "version_minor": 0
      },
      "text/plain": [
       "Evaluating:   0%|          | 0/1 [00:00<?, ?it/s]"
      ]
     },
     "metadata": {},
     "output_type": "display_data"
    },
    {
     "data": {
      "application/vnd.jupyter.widget-view+json": {
       "model_id": "012e45dc935d4b0ea1b44eb02ee2e6b5",
       "version_major": 2,
       "version_minor": 0
      },
      "text/plain": [
       "Evaluating:   0%|          | 0/1 [00:00<?, ?it/s]"
      ]
     },
     "metadata": {},
     "output_type": "display_data"
    },
    {
     "data": {
      "application/vnd.jupyter.widget-view+json": {
       "model_id": "b166f9ac2b274ac2af4ea45e48672391",
       "version_major": 2,
       "version_minor": 0
      },
      "text/plain": [
       "Evaluating:   0%|          | 0/1 [00:00<?, ?it/s]"
      ]
     },
     "metadata": {},
     "output_type": "display_data"
    },
    {
     "data": {
      "application/vnd.jupyter.widget-view+json": {
       "model_id": "67be96ac8024432c8dd55437b84777cf",
       "version_major": 2,
       "version_minor": 0
      },
      "text/plain": [
       "Evaluating:   0%|          | 0/1 [00:00<?, ?it/s]"
      ]
     },
     "metadata": {},
     "output_type": "display_data"
    },
    {
     "data": {
      "application/vnd.jupyter.widget-view+json": {
       "model_id": "1c1011d711e04780a40e49d46b6222d4",
       "version_major": 2,
       "version_minor": 0
      },
      "text/plain": [
       "Evaluating:   0%|          | 0/1 [00:00<?, ?it/s]"
      ]
     },
     "metadata": {},
     "output_type": "display_data"
    },
    {
     "name": "stderr",
     "output_type": "stream",
     "text": [
      "Failed to parse output. Returning None.\n"
     ]
    },
    {
     "data": {
      "application/vnd.jupyter.widget-view+json": {
       "model_id": "3f83335f240c4965a7f3a85da3f5f59a",
       "version_major": 2,
       "version_minor": 0
      },
      "text/plain": [
       "Evaluating:   0%|          | 0/1 [00:00<?, ?it/s]"
      ]
     },
     "metadata": {},
     "output_type": "display_data"
    },
    {
     "data": {
      "application/vnd.jupyter.widget-view+json": {
       "model_id": "b0e35298925d4bc39a34d41c7c772a82",
       "version_major": 2,
       "version_minor": 0
      },
      "text/plain": [
       "Evaluating:   0%|          | 0/1 [00:00<?, ?it/s]"
      ]
     },
     "metadata": {},
     "output_type": "display_data"
    },
    {
     "data": {
      "application/vnd.jupyter.widget-view+json": {
       "model_id": "480b359b4fb440868313d26a681f4eee",
       "version_major": 2,
       "version_minor": 0
      },
      "text/plain": [
       "Evaluating:   0%|          | 0/1 [00:00<?, ?it/s]"
      ]
     },
     "metadata": {},
     "output_type": "display_data"
    },
    {
     "data": {
      "application/vnd.jupyter.widget-view+json": {
       "model_id": "d1c0e194cc6a40d49d3c7f81b28447a7",
       "version_major": 2,
       "version_minor": 0
      },
      "text/plain": [
       "Evaluating:   0%|          | 0/1 [00:00<?, ?it/s]"
      ]
     },
     "metadata": {},
     "output_type": "display_data"
    },
    {
     "data": {
      "application/vnd.jupyter.widget-view+json": {
       "model_id": "701b7f933a1c48459dfa95f4b6363f27",
       "version_major": 2,
       "version_minor": 0
      },
      "text/plain": [
       "Evaluating:   0%|          | 0/1 [00:00<?, ?it/s]"
      ]
     },
     "metadata": {},
     "output_type": "display_data"
    },
    {
     "data": {
      "application/vnd.jupyter.widget-view+json": {
       "model_id": "f196b361c1e24ec88e4cf625cdbac5bf",
       "version_major": 2,
       "version_minor": 0
      },
      "text/plain": [
       "Evaluating:   0%|          | 0/1 [00:00<?, ?it/s]"
      ]
     },
     "metadata": {},
     "output_type": "display_data"
    },
    {
     "data": {
      "application/vnd.jupyter.widget-view+json": {
       "model_id": "20d35a42b1ef4c07b01b665bf4b56f67",
       "version_major": 2,
       "version_minor": 0
      },
      "text/plain": [
       "Evaluating:   0%|          | 0/1 [00:00<?, ?it/s]"
      ]
     },
     "metadata": {},
     "output_type": "display_data"
    },
    {
     "data": {
      "application/vnd.jupyter.widget-view+json": {
       "model_id": "dc825afcd519415484e669cace406152",
       "version_major": 2,
       "version_minor": 0
      },
      "text/plain": [
       "Evaluating:   0%|          | 0/1 [00:00<?, ?it/s]"
      ]
     },
     "metadata": {},
     "output_type": "display_data"
    },
    {
     "data": {
      "application/vnd.jupyter.widget-view+json": {
       "model_id": "f6eed5ee75d243578c037c9e8c10891d",
       "version_major": 2,
       "version_minor": 0
      },
      "text/plain": [
       "Evaluating:   0%|          | 0/1 [00:00<?, ?it/s]"
      ]
     },
     "metadata": {},
     "output_type": "display_data"
    },
    {
     "data": {
      "application/vnd.jupyter.widget-view+json": {
       "model_id": "b55c823fd05241fca728ac3a7728237d",
       "version_major": 2,
       "version_minor": 0
      },
      "text/plain": [
       "Evaluating:   0%|          | 0/1 [00:00<?, ?it/s]"
      ]
     },
     "metadata": {},
     "output_type": "display_data"
    },
    {
     "name": "stderr",
     "output_type": "stream",
     "text": [
      "Failed to parse output. Returning None.\n"
     ]
    },
    {
     "data": {
      "application/vnd.jupyter.widget-view+json": {
       "model_id": "3a0120ebdec848178ac121bb3459d135",
       "version_major": 2,
       "version_minor": 0
      },
      "text/plain": [
       "Evaluating:   0%|          | 0/1 [00:00<?, ?it/s]"
      ]
     },
     "metadata": {},
     "output_type": "display_data"
    },
    {
     "data": {
      "application/vnd.jupyter.widget-view+json": {
       "model_id": "f50a26d0eeec47f5ba6f17fa95ab9a89",
       "version_major": 2,
       "version_minor": 0
      },
      "text/plain": [
       "Evaluating:   0%|          | 0/1 [00:00<?, ?it/s]"
      ]
     },
     "metadata": {},
     "output_type": "display_data"
    },
    {
     "data": {
      "application/vnd.jupyter.widget-view+json": {
       "model_id": "daba87c1c97f47b4bd6ff21b51f6acdf",
       "version_major": 2,
       "version_minor": 0
      },
      "text/plain": [
       "Evaluating:   0%|          | 0/1 [00:00<?, ?it/s]"
      ]
     },
     "metadata": {},
     "output_type": "display_data"
    },
    {
     "data": {
      "application/vnd.jupyter.widget-view+json": {
       "model_id": "4f9d72c095044e12a39a1656fee71d2a",
       "version_major": 2,
       "version_minor": 0
      },
      "text/plain": [
       "Evaluating:   0%|          | 0/1 [00:00<?, ?it/s]"
      ]
     },
     "metadata": {},
     "output_type": "display_data"
    },
    {
     "data": {
      "application/vnd.jupyter.widget-view+json": {
       "model_id": "2ea1853774834e15a749ae9bbbea7c1e",
       "version_major": 2,
       "version_minor": 0
      },
      "text/plain": [
       "Evaluating:   0%|          | 0/1 [00:00<?, ?it/s]"
      ]
     },
     "metadata": {},
     "output_type": "display_data"
    },
    {
     "data": {
      "application/vnd.jupyter.widget-view+json": {
       "model_id": "56ef276b42d64c84baf2b6d0ff679e2f",
       "version_major": 2,
       "version_minor": 0
      },
      "text/plain": [
       "Evaluating:   0%|          | 0/1 [00:00<?, ?it/s]"
      ]
     },
     "metadata": {},
     "output_type": "display_data"
    },
    {
     "data": {
      "application/vnd.jupyter.widget-view+json": {
       "model_id": "e55e6495df0949c3aabe5f951bdf3340",
       "version_major": 2,
       "version_minor": 0
      },
      "text/plain": [
       "Evaluating:   0%|          | 0/1 [00:00<?, ?it/s]"
      ]
     },
     "metadata": {},
     "output_type": "display_data"
    },
    {
     "data": {
      "application/vnd.jupyter.widget-view+json": {
       "model_id": "1872fa65cce94df58362611082dd3def",
       "version_major": 2,
       "version_minor": 0
      },
      "text/plain": [
       "Evaluating:   0%|          | 0/1 [00:00<?, ?it/s]"
      ]
     },
     "metadata": {},
     "output_type": "display_data"
    },
    {
     "name": "stderr",
     "output_type": "stream",
     "text": [
      "Failed to parse output. Returning None.\n"
     ]
    },
    {
     "data": {
      "application/vnd.jupyter.widget-view+json": {
       "model_id": "861cf41f10374d59ac5c84d9f77beb51",
       "version_major": 2,
       "version_minor": 0
      },
      "text/plain": [
       "Evaluating:   0%|          | 0/1 [00:00<?, ?it/s]"
      ]
     },
     "metadata": {},
     "output_type": "display_data"
    },
    {
     "data": {
      "application/vnd.jupyter.widget-view+json": {
       "model_id": "95e94a72a19a433d84c8ce8633e5f18c",
       "version_major": 2,
       "version_minor": 0
      },
      "text/plain": [
       "Evaluating:   0%|          | 0/1 [00:00<?, ?it/s]"
      ]
     },
     "metadata": {},
     "output_type": "display_data"
    },
    {
     "data": {
      "application/vnd.jupyter.widget-view+json": {
       "model_id": "10e38c7454804edabc44529b4546e94c",
       "version_major": 2,
       "version_minor": 0
      },
      "text/plain": [
       "Evaluating:   0%|          | 0/1 [00:00<?, ?it/s]"
      ]
     },
     "metadata": {},
     "output_type": "display_data"
    },
    {
     "data": {
      "application/vnd.jupyter.widget-view+json": {
       "model_id": "3d6405c235f048e1bdaa2927b3501ec8",
       "version_major": 2,
       "version_minor": 0
      },
      "text/plain": [
       "Evaluating:   0%|          | 0/1 [00:00<?, ?it/s]"
      ]
     },
     "metadata": {},
     "output_type": "display_data"
    },
    {
     "data": {
      "application/vnd.jupyter.widget-view+json": {
       "model_id": "8d14f3389f85458486a702c51ac667fb",
       "version_major": 2,
       "version_minor": 0
      },
      "text/plain": [
       "Evaluating:   0%|          | 0/1 [00:00<?, ?it/s]"
      ]
     },
     "metadata": {},
     "output_type": "display_data"
    },
    {
     "data": {
      "application/vnd.jupyter.widget-view+json": {
       "model_id": "1488f7eff03a4c099d861778c4105099",
       "version_major": 2,
       "version_minor": 0
      },
      "text/plain": [
       "Evaluating:   0%|          | 0/1 [00:00<?, ?it/s]"
      ]
     },
     "metadata": {},
     "output_type": "display_data"
    },
    {
     "data": {
      "application/vnd.jupyter.widget-view+json": {
       "model_id": "251cbeca73c1450f93f466e4e1423b41",
       "version_major": 2,
       "version_minor": 0
      },
      "text/plain": [
       "Evaluating:   0%|          | 0/1 [00:00<?, ?it/s]"
      ]
     },
     "metadata": {},
     "output_type": "display_data"
    },
    {
     "name": "stderr",
     "output_type": "stream",
     "text": [
      "Failed to parse output. Returning None.\n"
     ]
    },
    {
     "data": {
      "application/vnd.jupyter.widget-view+json": {
       "model_id": "fb36856487e24a65ab8bda880207393f",
       "version_major": 2,
       "version_minor": 0
      },
      "text/plain": [
       "Evaluating:   0%|          | 0/1 [00:00<?, ?it/s]"
      ]
     },
     "metadata": {},
     "output_type": "display_data"
    },
    {
     "data": {
      "application/vnd.jupyter.widget-view+json": {
       "model_id": "03f8c8b9e3344154bf2c65371deb7d95",
       "version_major": 2,
       "version_minor": 0
      },
      "text/plain": [
       "Evaluating:   0%|          | 0/1 [00:00<?, ?it/s]"
      ]
     },
     "metadata": {},
     "output_type": "display_data"
    },
    {
     "data": {
      "application/vnd.jupyter.widget-view+json": {
       "model_id": "6d7e25d1c87a466a85e6d3d7fd3b7e51",
       "version_major": 2,
       "version_minor": 0
      },
      "text/plain": [
       "Evaluating:   0%|          | 0/1 [00:00<?, ?it/s]"
      ]
     },
     "metadata": {},
     "output_type": "display_data"
    },
    {
     "data": {
      "application/vnd.jupyter.widget-view+json": {
       "model_id": "a3fef06b2b164408aa9599cdda8f4c43",
       "version_major": 2,
       "version_minor": 0
      },
      "text/plain": [
       "Evaluating:   0%|          | 0/1 [00:00<?, ?it/s]"
      ]
     },
     "metadata": {},
     "output_type": "display_data"
    },
    {
     "data": {
      "application/vnd.jupyter.widget-view+json": {
       "model_id": "f192d383190e4681a9ace692939a41f4",
       "version_major": 2,
       "version_minor": 0
      },
      "text/plain": [
       "Evaluating:   0%|          | 0/1 [00:00<?, ?it/s]"
      ]
     },
     "metadata": {},
     "output_type": "display_data"
    },
    {
     "data": {
      "application/vnd.jupyter.widget-view+json": {
       "model_id": "91b2d81624934c8da15cf3ad88654b1a",
       "version_major": 2,
       "version_minor": 0
      },
      "text/plain": [
       "Evaluating:   0%|          | 0/1 [00:00<?, ?it/s]"
      ]
     },
     "metadata": {},
     "output_type": "display_data"
    },
    {
     "name": "stderr",
     "output_type": "stream",
     "text": [
      "Failed to parse output. Returning None.\n"
     ]
    },
    {
     "data": {
      "application/vnd.jupyter.widget-view+json": {
       "model_id": "45b778012f034ba4b0ee95629ddff0f3",
       "version_major": 2,
       "version_minor": 0
      },
      "text/plain": [
       "Evaluating:   0%|          | 0/1 [00:00<?, ?it/s]"
      ]
     },
     "metadata": {},
     "output_type": "display_data"
    },
    {
     "data": {
      "application/vnd.jupyter.widget-view+json": {
       "model_id": "fa94e7653b574cd8ae10ce2b39a07089",
       "version_major": 2,
       "version_minor": 0
      },
      "text/plain": [
       "Evaluating:   0%|          | 0/1 [00:00<?, ?it/s]"
      ]
     },
     "metadata": {},
     "output_type": "display_data"
    },
    {
     "data": {
      "application/vnd.jupyter.widget-view+json": {
       "model_id": "0dcd8085d28549fbb99c4f3987b799a9",
       "version_major": 2,
       "version_minor": 0
      },
      "text/plain": [
       "Evaluating:   0%|          | 0/1 [00:00<?, ?it/s]"
      ]
     },
     "metadata": {},
     "output_type": "display_data"
    },
    {
     "data": {
      "application/vnd.jupyter.widget-view+json": {
       "model_id": "d49e9ffe1fde41cd8ee3a0e9a8ea3b23",
       "version_major": 2,
       "version_minor": 0
      },
      "text/plain": [
       "Evaluating:   0%|          | 0/1 [00:00<?, ?it/s]"
      ]
     },
     "metadata": {},
     "output_type": "display_data"
    },
    {
     "data": {
      "application/vnd.jupyter.widget-view+json": {
       "model_id": "6ffdca9cf7c74c11879be5a0b0ab5e50",
       "version_major": 2,
       "version_minor": 0
      },
      "text/plain": [
       "Evaluating:   0%|          | 0/1 [00:00<?, ?it/s]"
      ]
     },
     "metadata": {},
     "output_type": "display_data"
    },
    {
     "data": {
      "application/vnd.jupyter.widget-view+json": {
       "model_id": "b3c004433d374fa88759ba43543c72f0",
       "version_major": 2,
       "version_minor": 0
      },
      "text/plain": [
       "Evaluating:   0%|          | 0/1 [00:00<?, ?it/s]"
      ]
     },
     "metadata": {},
     "output_type": "display_data"
    },
    {
     "data": {
      "application/vnd.jupyter.widget-view+json": {
       "model_id": "712a9ca494d44a4db7541ddbdda2b7be",
       "version_major": 2,
       "version_minor": 0
      },
      "text/plain": [
       "Evaluating:   0%|          | 0/1 [00:00<?, ?it/s]"
      ]
     },
     "metadata": {},
     "output_type": "display_data"
    },
    {
     "data": {
      "application/vnd.jupyter.widget-view+json": {
       "model_id": "44bf1639eb61402fae016810b2fb57e8",
       "version_major": 2,
       "version_minor": 0
      },
      "text/plain": [
       "Evaluating:   0%|          | 0/1 [00:00<?, ?it/s]"
      ]
     },
     "metadata": {},
     "output_type": "display_data"
    },
    {
     "name": "stderr",
     "output_type": "stream",
     "text": [
      "Failed to parse output. Returning None.\n"
     ]
    },
    {
     "data": {
      "application/vnd.jupyter.widget-view+json": {
       "model_id": "615dee216c684312805b2a379c20f73b",
       "version_major": 2,
       "version_minor": 0
      },
      "text/plain": [
       "Evaluating:   0%|          | 0/1 [00:00<?, ?it/s]"
      ]
     },
     "metadata": {},
     "output_type": "display_data"
    },
    {
     "data": {
      "application/vnd.jupyter.widget-view+json": {
       "model_id": "2894926d3cb04942905a80883e62cd6b",
       "version_major": 2,
       "version_minor": 0
      },
      "text/plain": [
       "Evaluating:   0%|          | 0/1 [00:00<?, ?it/s]"
      ]
     },
     "metadata": {},
     "output_type": "display_data"
    },
    {
     "data": {
      "application/vnd.jupyter.widget-view+json": {
       "model_id": "f596be324b284aef9d467d112dab4384",
       "version_major": 2,
       "version_minor": 0
      },
      "text/plain": [
       "Evaluating:   0%|          | 0/1 [00:00<?, ?it/s]"
      ]
     },
     "metadata": {},
     "output_type": "display_data"
    },
    {
     "name": "stderr",
     "output_type": "stream",
     "text": [
      "Failed to parse output. Returning None.\n"
     ]
    },
    {
     "data": {
      "application/vnd.jupyter.widget-view+json": {
       "model_id": "923e2bb00d4848dbbd8f9bffc9b45a2a",
       "version_major": 2,
       "version_minor": 0
      },
      "text/plain": [
       "Evaluating:   0%|          | 0/1 [00:00<?, ?it/s]"
      ]
     },
     "metadata": {},
     "output_type": "display_data"
    },
    {
     "data": {
      "application/vnd.jupyter.widget-view+json": {
       "model_id": "5a2cf18120c04ce6b818ed5d79e83cfa",
       "version_major": 2,
       "version_minor": 0
      },
      "text/plain": [
       "Evaluating:   0%|          | 0/1 [00:00<?, ?it/s]"
      ]
     },
     "metadata": {},
     "output_type": "display_data"
    },
    {
     "data": {
      "application/vnd.jupyter.widget-view+json": {
       "model_id": "2867446eed0040898aa80a944589432b",
       "version_major": 2,
       "version_minor": 0
      },
      "text/plain": [
       "Evaluating:   0%|          | 0/1 [00:00<?, ?it/s]"
      ]
     },
     "metadata": {},
     "output_type": "display_data"
    },
    {
     "data": {
      "application/vnd.jupyter.widget-view+json": {
       "model_id": "c629a7f446fa43c081c9df95cfb9517b",
       "version_major": 2,
       "version_minor": 0
      },
      "text/plain": [
       "Evaluating:   0%|          | 0/1 [00:00<?, ?it/s]"
      ]
     },
     "metadata": {},
     "output_type": "display_data"
    },
    {
     "name": "stderr",
     "output_type": "stream",
     "text": [
      "Failed to parse output. Returning None.\n"
     ]
    },
    {
     "data": {
      "application/vnd.jupyter.widget-view+json": {
       "model_id": "de1481e93c914c22a4731d929bdf8b78",
       "version_major": 2,
       "version_minor": 0
      },
      "text/plain": [
       "Evaluating:   0%|          | 0/1 [00:00<?, ?it/s]"
      ]
     },
     "metadata": {},
     "output_type": "display_data"
    },
    {
     "data": {
      "application/vnd.jupyter.widget-view+json": {
       "model_id": "0a4bbffc5ae64c5ea06700aab677559f",
       "version_major": 2,
       "version_minor": 0
      },
      "text/plain": [
       "Evaluating:   0%|          | 0/1 [00:00<?, ?it/s]"
      ]
     },
     "metadata": {},
     "output_type": "display_data"
    },
    {
     "data": {
      "application/vnd.jupyter.widget-view+json": {
       "model_id": "0ed8c1466df6480b831418e047c8fc2e",
       "version_major": 2,
       "version_minor": 0
      },
      "text/plain": [
       "Evaluating:   0%|          | 0/1 [00:00<?, ?it/s]"
      ]
     },
     "metadata": {},
     "output_type": "display_data"
    },
    {
     "data": {
      "application/vnd.jupyter.widget-view+json": {
       "model_id": "5f38361fbe0e4601a225637a5c9a2b42",
       "version_major": 2,
       "version_minor": 0
      },
      "text/plain": [
       "Evaluating:   0%|          | 0/1 [00:00<?, ?it/s]"
      ]
     },
     "metadata": {},
     "output_type": "display_data"
    },
    {
     "name": "stderr",
     "output_type": "stream",
     "text": [
      "Failed to parse output. Returning None.\n"
     ]
    },
    {
     "data": {
      "application/vnd.jupyter.widget-view+json": {
       "model_id": "a9a43303d6c4495b99c252924952075f",
       "version_major": 2,
       "version_minor": 0
      },
      "text/plain": [
       "Evaluating:   0%|          | 0/1 [00:00<?, ?it/s]"
      ]
     },
     "metadata": {},
     "output_type": "display_data"
    },
    {
     "name": "stderr",
     "output_type": "stream",
     "text": [
      "Failed to parse output. Returning None.\n"
     ]
    },
    {
     "data": {
      "application/vnd.jupyter.widget-view+json": {
       "model_id": "cc09711a304e443b8ff19603f68cde68",
       "version_major": 2,
       "version_minor": 0
      },
      "text/plain": [
       "Evaluating:   0%|          | 0/1 [00:00<?, ?it/s]"
      ]
     },
     "metadata": {},
     "output_type": "display_data"
    },
    {
     "data": {
      "application/vnd.jupyter.widget-view+json": {
       "model_id": "41de6bedc815416f93a72aeac1a244d2",
       "version_major": 2,
       "version_minor": 0
      },
      "text/plain": [
       "Evaluating:   0%|          | 0/1 [00:00<?, ?it/s]"
      ]
     },
     "metadata": {},
     "output_type": "display_data"
    },
    {
     "data": {
      "application/vnd.jupyter.widget-view+json": {
       "model_id": "400a137ca2be43b8867f1e6214098340",
       "version_major": 2,
       "version_minor": 0
      },
      "text/plain": [
       "Evaluating:   0%|          | 0/1 [00:00<?, ?it/s]"
      ]
     },
     "metadata": {},
     "output_type": "display_data"
    },
    {
     "name": "stderr",
     "output_type": "stream",
     "text": [
      "Failed to parse output. Returning None.\n"
     ]
    },
    {
     "data": {
      "application/vnd.jupyter.widget-view+json": {
       "model_id": "d0a14b02dc054cbcb5489053f59d408d",
       "version_major": 2,
       "version_minor": 0
      },
      "text/plain": [
       "Evaluating:   0%|          | 0/1 [00:00<?, ?it/s]"
      ]
     },
     "metadata": {},
     "output_type": "display_data"
    },
    {
     "data": {
      "application/vnd.jupyter.widget-view+json": {
       "model_id": "a5c7b2fec8da436cac830834301bbab2",
       "version_major": 2,
       "version_minor": 0
      },
      "text/plain": [
       "Evaluating:   0%|          | 0/1 [00:00<?, ?it/s]"
      ]
     },
     "metadata": {},
     "output_type": "display_data"
    },
    {
     "data": {
      "application/vnd.jupyter.widget-view+json": {
       "model_id": "e08bc9ca33064731b01a931ac00d9654",
       "version_major": 2,
       "version_minor": 0
      },
      "text/plain": [
       "Evaluating:   0%|          | 0/1 [00:00<?, ?it/s]"
      ]
     },
     "metadata": {},
     "output_type": "display_data"
    },
    {
     "data": {
      "application/vnd.jupyter.widget-view+json": {
       "model_id": "3ddb1a1c7ca34d8da5dbf1dc8b875ae8",
       "version_major": 2,
       "version_minor": 0
      },
      "text/plain": [
       "Evaluating:   0%|          | 0/1 [00:00<?, ?it/s]"
      ]
     },
     "metadata": {},
     "output_type": "display_data"
    },
    {
     "data": {
      "application/vnd.jupyter.widget-view+json": {
       "model_id": "92f9ddbb589a427c8ada0f328ba938f3",
       "version_major": 2,
       "version_minor": 0
      },
      "text/plain": [
       "Evaluating:   0%|          | 0/1 [00:00<?, ?it/s]"
      ]
     },
     "metadata": {},
     "output_type": "display_data"
    },
    {
     "data": {
      "application/vnd.jupyter.widget-view+json": {
       "model_id": "606282a512084cff9b02e2230402d6c7",
       "version_major": 2,
       "version_minor": 0
      },
      "text/plain": [
       "Evaluating:   0%|          | 0/1 [00:00<?, ?it/s]"
      ]
     },
     "metadata": {},
     "output_type": "display_data"
    },
    {
     "data": {
      "application/vnd.jupyter.widget-view+json": {
       "model_id": "2742327e222b46a480fca64ff1bf3d8c",
       "version_major": 2,
       "version_minor": 0
      },
      "text/plain": [
       "Evaluating:   0%|          | 0/1 [00:00<?, ?it/s]"
      ]
     },
     "metadata": {},
     "output_type": "display_data"
    },
    {
     "data": {
      "application/vnd.jupyter.widget-view+json": {
       "model_id": "429e6c2af0ac48189e29c1e51d1d6db7",
       "version_major": 2,
       "version_minor": 0
      },
      "text/plain": [
       "Evaluating:   0%|          | 0/1 [00:00<?, ?it/s]"
      ]
     },
     "metadata": {},
     "output_type": "display_data"
    },
    {
     "data": {
      "application/vnd.jupyter.widget-view+json": {
       "model_id": "cfeacc9b5eea4093a890a004c8a4391c",
       "version_major": 2,
       "version_minor": 0
      },
      "text/plain": [
       "Evaluating:   0%|          | 0/1 [00:00<?, ?it/s]"
      ]
     },
     "metadata": {},
     "output_type": "display_data"
    },
    {
     "data": {
      "application/vnd.jupyter.widget-view+json": {
       "model_id": "6dc5cd9475ab4b8eb65b2d0e0caced8a",
       "version_major": 2,
       "version_minor": 0
      },
      "text/plain": [
       "Evaluating:   0%|          | 0/1 [00:00<?, ?it/s]"
      ]
     },
     "metadata": {},
     "output_type": "display_data"
    },
    {
     "data": {
      "application/vnd.jupyter.widget-view+json": {
       "model_id": "2988530546be4e9f831499d23b312429",
       "version_major": 2,
       "version_minor": 0
      },
      "text/plain": [
       "Evaluating:   0%|          | 0/1 [00:00<?, ?it/s]"
      ]
     },
     "metadata": {},
     "output_type": "display_data"
    },
    {
     "data": {
      "application/vnd.jupyter.widget-view+json": {
       "model_id": "ca477c09f4534d1eb47e40f607a81cd5",
       "version_major": 2,
       "version_minor": 0
      },
      "text/plain": [
       "Evaluating:   0%|          | 0/1 [00:00<?, ?it/s]"
      ]
     },
     "metadata": {},
     "output_type": "display_data"
    },
    {
     "data": {
      "application/vnd.jupyter.widget-view+json": {
       "model_id": "57c1bd09135d43d1a69a858152987c4d",
       "version_major": 2,
       "version_minor": 0
      },
      "text/plain": [
       "Evaluating:   0%|          | 0/1 [00:00<?, ?it/s]"
      ]
     },
     "metadata": {},
     "output_type": "display_data"
    },
    {
     "data": {
      "application/vnd.jupyter.widget-view+json": {
       "model_id": "67eeec2c4a8249f69ef59234aa485fc6",
       "version_major": 2,
       "version_minor": 0
      },
      "text/plain": [
       "Evaluating:   0%|          | 0/1 [00:00<?, ?it/s]"
      ]
     },
     "metadata": {},
     "output_type": "display_data"
    },
    {
     "data": {
      "application/vnd.jupyter.widget-view+json": {
       "model_id": "83e8b4407ac64581b482d54111e0423a",
       "version_major": 2,
       "version_minor": 0
      },
      "text/plain": [
       "Evaluating:   0%|          | 0/1 [00:00<?, ?it/s]"
      ]
     },
     "metadata": {},
     "output_type": "display_data"
    },
    {
     "data": {
      "application/vnd.jupyter.widget-view+json": {
       "model_id": "288b9741394b4364a51d50961bb151e6",
       "version_major": 2,
       "version_minor": 0
      },
      "text/plain": [
       "Evaluating:   0%|          | 0/1 [00:00<?, ?it/s]"
      ]
     },
     "metadata": {},
     "output_type": "display_data"
    },
    {
     "data": {
      "application/vnd.jupyter.widget-view+json": {
       "model_id": "307bd8594d5545d997b3f13460dad96f",
       "version_major": 2,
       "version_minor": 0
      },
      "text/plain": [
       "Evaluating:   0%|          | 0/1 [00:00<?, ?it/s]"
      ]
     },
     "metadata": {},
     "output_type": "display_data"
    },
    {
     "data": {
      "application/vnd.jupyter.widget-view+json": {
       "model_id": "994167930cf94a74aa0799f88fb0f60f",
       "version_major": 2,
       "version_minor": 0
      },
      "text/plain": [
       "Evaluating:   0%|          | 0/1 [00:00<?, ?it/s]"
      ]
     },
     "metadata": {},
     "output_type": "display_data"
    },
    {
     "data": {
      "application/vnd.jupyter.widget-view+json": {
       "model_id": "b0020df7ed1545ffba0917a399176f0d",
       "version_major": 2,
       "version_minor": 0
      },
      "text/plain": [
       "Evaluating:   0%|          | 0/1 [00:00<?, ?it/s]"
      ]
     },
     "metadata": {},
     "output_type": "display_data"
    },
    {
     "data": {
      "application/vnd.jupyter.widget-view+json": {
       "model_id": "8b202c3532854ac98f6087afed21a511",
       "version_major": 2,
       "version_minor": 0
      },
      "text/plain": [
       "Evaluating:   0%|          | 0/1 [00:00<?, ?it/s]"
      ]
     },
     "metadata": {},
     "output_type": "display_data"
    },
    {
     "data": {
      "application/vnd.jupyter.widget-view+json": {
       "model_id": "af878ba27a4946cf8ff0250cf4be8151",
       "version_major": 2,
       "version_minor": 0
      },
      "text/plain": [
       "Evaluating:   0%|          | 0/1 [00:00<?, ?it/s]"
      ]
     },
     "metadata": {},
     "output_type": "display_data"
    },
    {
     "data": {
      "application/vnd.jupyter.widget-view+json": {
       "model_id": "f38209acc6b54e4c9d1a484c8c2f0749",
       "version_major": 2,
       "version_minor": 0
      },
      "text/plain": [
       "Evaluating:   0%|          | 0/1 [00:00<?, ?it/s]"
      ]
     },
     "metadata": {},
     "output_type": "display_data"
    },
    {
     "data": {
      "application/vnd.jupyter.widget-view+json": {
       "model_id": "d9c3d6271fdd4c91b60f742475887771",
       "version_major": 2,
       "version_minor": 0
      },
      "text/plain": [
       "Evaluating:   0%|          | 0/1 [00:00<?, ?it/s]"
      ]
     },
     "metadata": {},
     "output_type": "display_data"
    },
    {
     "data": {
      "application/vnd.jupyter.widget-view+json": {
       "model_id": "d4de99eecebf4ab2a8fef9d909b7407f",
       "version_major": 2,
       "version_minor": 0
      },
      "text/plain": [
       "Evaluating:   0%|          | 0/1 [00:00<?, ?it/s]"
      ]
     },
     "metadata": {},
     "output_type": "display_data"
    },
    {
     "data": {
      "application/vnd.jupyter.widget-view+json": {
       "model_id": "955a840598694801881a98bbe0e5e03f",
       "version_major": 2,
       "version_minor": 0
      },
      "text/plain": [
       "Evaluating:   0%|          | 0/1 [00:00<?, ?it/s]"
      ]
     },
     "metadata": {},
     "output_type": "display_data"
    },
    {
     "data": {
      "application/vnd.jupyter.widget-view+json": {
       "model_id": "3b4b5b4185634de3a9d2ee372f8948dd",
       "version_major": 2,
       "version_minor": 0
      },
      "text/plain": [
       "Evaluating:   0%|          | 0/1 [00:00<?, ?it/s]"
      ]
     },
     "metadata": {},
     "output_type": "display_data"
    },
    {
     "data": {
      "application/vnd.jupyter.widget-view+json": {
       "model_id": "3d35b73ad96246eaa21d03c8360195c0",
       "version_major": 2,
       "version_minor": 0
      },
      "text/plain": [
       "Evaluating:   0%|          | 0/1 [00:00<?, ?it/s]"
      ]
     },
     "metadata": {},
     "output_type": "display_data"
    },
    {
     "data": {
      "application/vnd.jupyter.widget-view+json": {
       "model_id": "8bcf3c2f822249c6a1f68055468dbeda",
       "version_major": 2,
       "version_minor": 0
      },
      "text/plain": [
       "Evaluating:   0%|          | 0/1 [00:00<?, ?it/s]"
      ]
     },
     "metadata": {},
     "output_type": "display_data"
    },
    {
     "data": {
      "application/vnd.jupyter.widget-view+json": {
       "model_id": "c381626ebb894846b21d63ce63a93241",
       "version_major": 2,
       "version_minor": 0
      },
      "text/plain": [
       "Evaluating:   0%|          | 0/1 [00:00<?, ?it/s]"
      ]
     },
     "metadata": {},
     "output_type": "display_data"
    },
    {
     "data": {
      "application/vnd.jupyter.widget-view+json": {
       "model_id": "79c48085ba8e4a1e85153d595b1fa416",
       "version_major": 2,
       "version_minor": 0
      },
      "text/plain": [
       "Evaluating:   0%|          | 0/1 [00:00<?, ?it/s]"
      ]
     },
     "metadata": {},
     "output_type": "display_data"
    },
    {
     "data": {
      "application/vnd.jupyter.widget-view+json": {
       "model_id": "adfe991ed7b14900a78260e3eb00e7c2",
       "version_major": 2,
       "version_minor": 0
      },
      "text/plain": [
       "Evaluating:   0%|          | 0/1 [00:00<?, ?it/s]"
      ]
     },
     "metadata": {},
     "output_type": "display_data"
    },
    {
     "name": "stderr",
     "output_type": "stream",
     "text": [
      "Failed to parse output. Returning None.\n"
     ]
    },
    {
     "data": {
      "application/vnd.jupyter.widget-view+json": {
       "model_id": "52698ef41d454b2cba602efadb7dbab5",
       "version_major": 2,
       "version_minor": 0
      },
      "text/plain": [
       "Evaluating:   0%|          | 0/1 [00:00<?, ?it/s]"
      ]
     },
     "metadata": {},
     "output_type": "display_data"
    },
    {
     "data": {
      "application/vnd.jupyter.widget-view+json": {
       "model_id": "212999c437e34cd98cad4239e69b330b",
       "version_major": 2,
       "version_minor": 0
      },
      "text/plain": [
       "Evaluating:   0%|          | 0/1 [00:00<?, ?it/s]"
      ]
     },
     "metadata": {},
     "output_type": "display_data"
    },
    {
     "data": {
      "application/vnd.jupyter.widget-view+json": {
       "model_id": "59a81296e07c4d0baf64e49a29fe702c",
       "version_major": 2,
       "version_minor": 0
      },
      "text/plain": [
       "Evaluating:   0%|          | 0/1 [00:00<?, ?it/s]"
      ]
     },
     "metadata": {},
     "output_type": "display_data"
    },
    {
     "data": {
      "application/vnd.jupyter.widget-view+json": {
       "model_id": "7da57055f7e44035bb709e0296958d84",
       "version_major": 2,
       "version_minor": 0
      },
      "text/plain": [
       "Evaluating:   0%|          | 0/1 [00:00<?, ?it/s]"
      ]
     },
     "metadata": {},
     "output_type": "display_data"
    },
    {
     "name": "stderr",
     "output_type": "stream",
     "text": [
      "Failed to parse output. Returning None.\n"
     ]
    },
    {
     "data": {
      "application/vnd.jupyter.widget-view+json": {
       "model_id": "30b68952e9024c2d9ab6ce9c958bd00f",
       "version_major": 2,
       "version_minor": 0
      },
      "text/plain": [
       "Evaluating:   0%|          | 0/1 [00:00<?, ?it/s]"
      ]
     },
     "metadata": {},
     "output_type": "display_data"
    },
    {
     "name": "stderr",
     "output_type": "stream",
     "text": [
      "Failed to parse output. Returning None.\n"
     ]
    },
    {
     "data": {
      "application/vnd.jupyter.widget-view+json": {
       "model_id": "2d296f5665f1447d9170fa0d20028f1c",
       "version_major": 2,
       "version_minor": 0
      },
      "text/plain": [
       "Evaluating:   0%|          | 0/1 [00:00<?, ?it/s]"
      ]
     },
     "metadata": {},
     "output_type": "display_data"
    },
    {
     "data": {
      "application/vnd.jupyter.widget-view+json": {
       "model_id": "beb96dbc8505439d96fd5c13ffb4a067",
       "version_major": 2,
       "version_minor": 0
      },
      "text/plain": [
       "Evaluating:   0%|          | 0/1 [00:00<?, ?it/s]"
      ]
     },
     "metadata": {},
     "output_type": "display_data"
    },
    {
     "data": {
      "application/vnd.jupyter.widget-view+json": {
       "model_id": "9f1d472490bb46eabcd71048c8eb40ea",
       "version_major": 2,
       "version_minor": 0
      },
      "text/plain": [
       "Evaluating:   0%|          | 0/1 [00:00<?, ?it/s]"
      ]
     },
     "metadata": {},
     "output_type": "display_data"
    },
    {
     "data": {
      "application/vnd.jupyter.widget-view+json": {
       "model_id": "486cac0cf99343d9b5e44a8c75afda70",
       "version_major": 2,
       "version_minor": 0
      },
      "text/plain": [
       "Evaluating:   0%|          | 0/1 [00:00<?, ?it/s]"
      ]
     },
     "metadata": {},
     "output_type": "display_data"
    },
    {
     "data": {
      "application/vnd.jupyter.widget-view+json": {
       "model_id": "5fab6e3ec5764dafb81f2c0e6ea5fcac",
       "version_major": 2,
       "version_minor": 0
      },
      "text/plain": [
       "Evaluating:   0%|          | 0/1 [00:00<?, ?it/s]"
      ]
     },
     "metadata": {},
     "output_type": "display_data"
    },
    {
     "data": {
      "application/vnd.jupyter.widget-view+json": {
       "model_id": "653591e03ca34b6387b7e61168afa70b",
       "version_major": 2,
       "version_minor": 0
      },
      "text/plain": [
       "Evaluating:   0%|          | 0/1 [00:00<?, ?it/s]"
      ]
     },
     "metadata": {},
     "output_type": "display_data"
    },
    {
     "data": {
      "application/vnd.jupyter.widget-view+json": {
       "model_id": "e9ddc13408e1466faf6f0b33d0844629",
       "version_major": 2,
       "version_minor": 0
      },
      "text/plain": [
       "Evaluating:   0%|          | 0/1 [00:00<?, ?it/s]"
      ]
     },
     "metadata": {},
     "output_type": "display_data"
    },
    {
     "data": {
      "application/vnd.jupyter.widget-view+json": {
       "model_id": "09a7417154bd46cba9af989bf4db3797",
       "version_major": 2,
       "version_minor": 0
      },
      "text/plain": [
       "Evaluating:   0%|          | 0/1 [00:00<?, ?it/s]"
      ]
     },
     "metadata": {},
     "output_type": "display_data"
    },
    {
     "name": "stderr",
     "output_type": "stream",
     "text": [
      "Failed to parse output. Returning None.\n"
     ]
    },
    {
     "data": {
      "application/vnd.jupyter.widget-view+json": {
       "model_id": "b05f2233a4e24b2983e888ccc1a84c98",
       "version_major": 2,
       "version_minor": 0
      },
      "text/plain": [
       "Evaluating:   0%|          | 0/1 [00:00<?, ?it/s]"
      ]
     },
     "metadata": {},
     "output_type": "display_data"
    },
    {
     "data": {
      "application/vnd.jupyter.widget-view+json": {
       "model_id": "0572027dbffe454183fdd202b2283ff6",
       "version_major": 2,
       "version_minor": 0
      },
      "text/plain": [
       "Evaluating:   0%|          | 0/1 [00:00<?, ?it/s]"
      ]
     },
     "metadata": {},
     "output_type": "display_data"
    },
    {
     "data": {
      "application/vnd.jupyter.widget-view+json": {
       "model_id": "133a90ed9bb5404abbebb387d37f742c",
       "version_major": 2,
       "version_minor": 0
      },
      "text/plain": [
       "Evaluating:   0%|          | 0/1 [00:00<?, ?it/s]"
      ]
     },
     "metadata": {},
     "output_type": "display_data"
    },
    {
     "name": "stderr",
     "output_type": "stream",
     "text": [
      "Failed to parse output. Returning None.\n"
     ]
    },
    {
     "data": {
      "application/vnd.jupyter.widget-view+json": {
       "model_id": "4f53b542cf6f4382b709f024958c15f3",
       "version_major": 2,
       "version_minor": 0
      },
      "text/plain": [
       "Evaluating:   0%|          | 0/1 [00:00<?, ?it/s]"
      ]
     },
     "metadata": {},
     "output_type": "display_data"
    },
    {
     "data": {
      "application/vnd.jupyter.widget-view+json": {
       "model_id": "c85ccefac70644ecaf48051b81fae8b5",
       "version_major": 2,
       "version_minor": 0
      },
      "text/plain": [
       "Evaluating:   0%|          | 0/1 [00:00<?, ?it/s]"
      ]
     },
     "metadata": {},
     "output_type": "display_data"
    },
    {
     "data": {
      "application/vnd.jupyter.widget-view+json": {
       "model_id": "c9fca08537f242108fae6ad4860c72ca",
       "version_major": 2,
       "version_minor": 0
      },
      "text/plain": [
       "Evaluating:   0%|          | 0/1 [00:00<?, ?it/s]"
      ]
     },
     "metadata": {},
     "output_type": "display_data"
    },
    {
     "name": "stderr",
     "output_type": "stream",
     "text": [
      "Failed to parse output. Returning None.\n"
     ]
    },
    {
     "data": {
      "application/vnd.jupyter.widget-view+json": {
       "model_id": "9fedbd106e5847bd8b19fd6aa6bf230b",
       "version_major": 2,
       "version_minor": 0
      },
      "text/plain": [
       "Evaluating:   0%|          | 0/1 [00:00<?, ?it/s]"
      ]
     },
     "metadata": {},
     "output_type": "display_data"
    },
    {
     "data": {
      "application/vnd.jupyter.widget-view+json": {
       "model_id": "4aaea8d17dc1486ca516c363d3160607",
       "version_major": 2,
       "version_minor": 0
      },
      "text/plain": [
       "Evaluating:   0%|          | 0/1 [00:00<?, ?it/s]"
      ]
     },
     "metadata": {},
     "output_type": "display_data"
    },
    {
     "data": {
      "application/vnd.jupyter.widget-view+json": {
       "model_id": "cde9b05fe9f240a09555d236722fd565",
       "version_major": 2,
       "version_minor": 0
      },
      "text/plain": [
       "Evaluating:   0%|          | 0/1 [00:00<?, ?it/s]"
      ]
     },
     "metadata": {},
     "output_type": "display_data"
    },
    {
     "name": "stderr",
     "output_type": "stream",
     "text": [
      "Failed to parse output. Returning None.\n"
     ]
    },
    {
     "data": {
      "application/vnd.jupyter.widget-view+json": {
       "model_id": "133d4195774a4b6fbc6e7a5cf58edba3",
       "version_major": 2,
       "version_minor": 0
      },
      "text/plain": [
       "Evaluating:   0%|          | 0/1 [00:00<?, ?it/s]"
      ]
     },
     "metadata": {},
     "output_type": "display_data"
    },
    {
     "data": {
      "application/vnd.jupyter.widget-view+json": {
       "model_id": "5f6becbf3b994df6b499ce40d3179941",
       "version_major": 2,
       "version_minor": 0
      },
      "text/plain": [
       "Evaluating:   0%|          | 0/1 [00:00<?, ?it/s]"
      ]
     },
     "metadata": {},
     "output_type": "display_data"
    },
    {
     "name": "stderr",
     "output_type": "stream",
     "text": [
      "Failed to parse output. Returning None.\n"
     ]
    },
    {
     "data": {
      "application/vnd.jupyter.widget-view+json": {
       "model_id": "3aa7bb44a37344e2895c89547b85c4b3",
       "version_major": 2,
       "version_minor": 0
      },
      "text/plain": [
       "Evaluating:   0%|          | 0/1 [00:00<?, ?it/s]"
      ]
     },
     "metadata": {},
     "output_type": "display_data"
    },
    {
     "data": {
      "application/vnd.jupyter.widget-view+json": {
       "model_id": "9fe2b6a7d3874deea6799a85920c6dd6",
       "version_major": 2,
       "version_minor": 0
      },
      "text/plain": [
       "Evaluating:   0%|          | 0/1 [00:00<?, ?it/s]"
      ]
     },
     "metadata": {},
     "output_type": "display_data"
    },
    {
     "data": {
      "application/vnd.jupyter.widget-view+json": {
       "model_id": "ccf484f59862476cab2456b0e55e8a2f",
       "version_major": 2,
       "version_minor": 0
      },
      "text/plain": [
       "Evaluating:   0%|          | 0/1 [00:00<?, ?it/s]"
      ]
     },
     "metadata": {},
     "output_type": "display_data"
    },
    {
     "name": "stderr",
     "output_type": "stream",
     "text": [
      "Failed to parse output. Returning None.\n"
     ]
    },
    {
     "data": {
      "application/vnd.jupyter.widget-view+json": {
       "model_id": "adfbc70afaba498f96294612d335ae9c",
       "version_major": 2,
       "version_minor": 0
      },
      "text/plain": [
       "Evaluating:   0%|          | 0/1 [00:00<?, ?it/s]"
      ]
     },
     "metadata": {},
     "output_type": "display_data"
    },
    {
     "name": "stderr",
     "output_type": "stream",
     "text": [
      "Failed to parse output. Returning None.\n"
     ]
    },
    {
     "data": {
      "application/vnd.jupyter.widget-view+json": {
       "model_id": "b62ff4ffd3ed404dbca497d07bf217aa",
       "version_major": 2,
       "version_minor": 0
      },
      "text/plain": [
       "Evaluating:   0%|          | 0/1 [00:00<?, ?it/s]"
      ]
     },
     "metadata": {},
     "output_type": "display_data"
    },
    {
     "data": {
      "application/vnd.jupyter.widget-view+json": {
       "model_id": "c38cbc754d3b4503a28e8fd8694290a9",
       "version_major": 2,
       "version_minor": 0
      },
      "text/plain": [
       "Evaluating:   0%|          | 0/1 [00:00<?, ?it/s]"
      ]
     },
     "metadata": {},
     "output_type": "display_data"
    },
    {
     "data": {
      "application/vnd.jupyter.widget-view+json": {
       "model_id": "9aad0d03a4384ffbb5f1ca919fa4bec8",
       "version_major": 2,
       "version_minor": 0
      },
      "text/plain": [
       "Evaluating:   0%|          | 0/1 [00:00<?, ?it/s]"
      ]
     },
     "metadata": {},
     "output_type": "display_data"
    },
    {
     "data": {
      "application/vnd.jupyter.widget-view+json": {
       "model_id": "1db1bef6591b42f89164b490348a477a",
       "version_major": 2,
       "version_minor": 0
      },
      "text/plain": [
       "Evaluating:   0%|          | 0/1 [00:00<?, ?it/s]"
      ]
     },
     "metadata": {},
     "output_type": "display_data"
    },
    {
     "data": {
      "application/vnd.jupyter.widget-view+json": {
       "model_id": "86c9aa7065ba43739395c3a1c1918aaa",
       "version_major": 2,
       "version_minor": 0
      },
      "text/plain": [
       "Evaluating:   0%|          | 0/1 [00:00<?, ?it/s]"
      ]
     },
     "metadata": {},
     "output_type": "display_data"
    },
    {
     "data": {
      "application/vnd.jupyter.widget-view+json": {
       "model_id": "711aecc2a96447f390ce1052cb406e95",
       "version_major": 2,
       "version_minor": 0
      },
      "text/plain": [
       "Evaluating:   0%|          | 0/1 [00:00<?, ?it/s]"
      ]
     },
     "metadata": {},
     "output_type": "display_data"
    },
    {
     "data": {
      "application/vnd.jupyter.widget-view+json": {
       "model_id": "935bfb8c36a34b9582cca5cf7fed6e25",
       "version_major": 2,
       "version_minor": 0
      },
      "text/plain": [
       "Evaluating:   0%|          | 0/1 [00:00<?, ?it/s]"
      ]
     },
     "metadata": {},
     "output_type": "display_data"
    },
    {
     "data": {
      "application/vnd.jupyter.widget-view+json": {
       "model_id": "71dd31e220114cfcb7cbde76a11abe05",
       "version_major": 2,
       "version_minor": 0
      },
      "text/plain": [
       "Evaluating:   0%|          | 0/1 [00:00<?, ?it/s]"
      ]
     },
     "metadata": {},
     "output_type": "display_data"
    },
    {
     "data": {
      "application/vnd.jupyter.widget-view+json": {
       "model_id": "bf1538c028a840a182d7dc5fdec340e0",
       "version_major": 2,
       "version_minor": 0
      },
      "text/plain": [
       "Evaluating:   0%|          | 0/1 [00:00<?, ?it/s]"
      ]
     },
     "metadata": {},
     "output_type": "display_data"
    },
    {
     "data": {
      "application/vnd.jupyter.widget-view+json": {
       "model_id": "f7c490aa1a10422680bdf17906781609",
       "version_major": 2,
       "version_minor": 0
      },
      "text/plain": [
       "Evaluating:   0%|          | 0/1 [00:00<?, ?it/s]"
      ]
     },
     "metadata": {},
     "output_type": "display_data"
    },
    {
     "data": {
      "application/vnd.jupyter.widget-view+json": {
       "model_id": "b54dfd1108434849aafae5a4d4f310c3",
       "version_major": 2,
       "version_minor": 0
      },
      "text/plain": [
       "Evaluating:   0%|          | 0/1 [00:00<?, ?it/s]"
      ]
     },
     "metadata": {},
     "output_type": "display_data"
    },
    {
     "data": {
      "application/vnd.jupyter.widget-view+json": {
       "model_id": "345604a865cb4ac4bb951ab4c64ab31d",
       "version_major": 2,
       "version_minor": 0
      },
      "text/plain": [
       "Evaluating:   0%|          | 0/1 [00:00<?, ?it/s]"
      ]
     },
     "metadata": {},
     "output_type": "display_data"
    },
    {
     "name": "stderr",
     "output_type": "stream",
     "text": [
      "Failed to parse output. Returning None.\n"
     ]
    },
    {
     "data": {
      "application/vnd.jupyter.widget-view+json": {
       "model_id": "abf1fec72dac49d5be4e8d727f7c6065",
       "version_major": 2,
       "version_minor": 0
      },
      "text/plain": [
       "Evaluating:   0%|          | 0/1 [00:00<?, ?it/s]"
      ]
     },
     "metadata": {},
     "output_type": "display_data"
    },
    {
     "data": {
      "application/vnd.jupyter.widget-view+json": {
       "model_id": "76879b111eb6415081b1b4b269a7bf09",
       "version_major": 2,
       "version_minor": 0
      },
      "text/plain": [
       "Evaluating:   0%|          | 0/1 [00:00<?, ?it/s]"
      ]
     },
     "metadata": {},
     "output_type": "display_data"
    },
    {
     "data": {
      "application/vnd.jupyter.widget-view+json": {
       "model_id": "5606cffc05024ca992e55bf66d5241d7",
       "version_major": 2,
       "version_minor": 0
      },
      "text/plain": [
       "Evaluating:   0%|          | 0/1 [00:00<?, ?it/s]"
      ]
     },
     "metadata": {},
     "output_type": "display_data"
    },
    {
     "name": "stderr",
     "output_type": "stream",
     "text": [
      "Failed to parse output. Returning None.\n"
     ]
    },
    {
     "data": {
      "application/vnd.jupyter.widget-view+json": {
       "model_id": "8f276ff57c524f11a8e25697e72bf52a",
       "version_major": 2,
       "version_minor": 0
      },
      "text/plain": [
       "Evaluating:   0%|          | 0/1 [00:00<?, ?it/s]"
      ]
     },
     "metadata": {},
     "output_type": "display_data"
    },
    {
     "data": {
      "application/vnd.jupyter.widget-view+json": {
       "model_id": "60352901fe1f4c18be33a2efa70a88db",
       "version_major": 2,
       "version_minor": 0
      },
      "text/plain": [
       "Evaluating:   0%|          | 0/1 [00:00<?, ?it/s]"
      ]
     },
     "metadata": {},
     "output_type": "display_data"
    },
    {
     "data": {
      "application/vnd.jupyter.widget-view+json": {
       "model_id": "67aaa6331c2347dcaab28cb52e8c2e2e",
       "version_major": 2,
       "version_minor": 0
      },
      "text/plain": [
       "Evaluating:   0%|          | 0/1 [00:00<?, ?it/s]"
      ]
     },
     "metadata": {},
     "output_type": "display_data"
    },
    {
     "data": {
      "application/vnd.jupyter.widget-view+json": {
       "model_id": "9ebf28f73d554db29f26fa6b4eb7e642",
       "version_major": 2,
       "version_minor": 0
      },
      "text/plain": [
       "Evaluating:   0%|          | 0/1 [00:00<?, ?it/s]"
      ]
     },
     "metadata": {},
     "output_type": "display_data"
    },
    {
     "data": {
      "application/vnd.jupyter.widget-view+json": {
       "model_id": "c9ba662318824dbcb8b00c1e3b93b9c5",
       "version_major": 2,
       "version_minor": 0
      },
      "text/plain": [
       "Evaluating:   0%|          | 0/1 [00:00<?, ?it/s]"
      ]
     },
     "metadata": {},
     "output_type": "display_data"
    },
    {
     "data": {
      "application/vnd.jupyter.widget-view+json": {
       "model_id": "e1318915a98d40edb16e95a10b975393",
       "version_major": 2,
       "version_minor": 0
      },
      "text/plain": [
       "Evaluating:   0%|          | 0/1 [00:00<?, ?it/s]"
      ]
     },
     "metadata": {},
     "output_type": "display_data"
    },
    {
     "name": "stderr",
     "output_type": "stream",
     "text": [
      "Failed to parse output. Returning None.\n"
     ]
    },
    {
     "data": {
      "application/vnd.jupyter.widget-view+json": {
       "model_id": "d5992ed2d4cc4eb69ec889bc48d24030",
       "version_major": 2,
       "version_minor": 0
      },
      "text/plain": [
       "Evaluating:   0%|          | 0/1 [00:00<?, ?it/s]"
      ]
     },
     "metadata": {},
     "output_type": "display_data"
    },
    {
     "name": "stderr",
     "output_type": "stream",
     "text": [
      "Failed to parse output. Returning None.\n"
     ]
    },
    {
     "data": {
      "application/vnd.jupyter.widget-view+json": {
       "model_id": "b78e49152f14420285f7047df3c0dcfe",
       "version_major": 2,
       "version_minor": 0
      },
      "text/plain": [
       "Evaluating:   0%|          | 0/1 [00:00<?, ?it/s]"
      ]
     },
     "metadata": {},
     "output_type": "display_data"
    },
    {
     "data": {
      "application/vnd.jupyter.widget-view+json": {
       "model_id": "99d2cc7fcbf24607815b60b528abb06c",
       "version_major": 2,
       "version_minor": 0
      },
      "text/plain": [
       "Evaluating:   0%|          | 0/1 [00:00<?, ?it/s]"
      ]
     },
     "metadata": {},
     "output_type": "display_data"
    },
    {
     "data": {
      "application/vnd.jupyter.widget-view+json": {
       "model_id": "54dfa0480e2648a2a6478bdb49160e14",
       "version_major": 2,
       "version_minor": 0
      },
      "text/plain": [
       "Evaluating:   0%|          | 0/1 [00:00<?, ?it/s]"
      ]
     },
     "metadata": {},
     "output_type": "display_data"
    },
    {
     "data": {
      "application/vnd.jupyter.widget-view+json": {
       "model_id": "9b27fbcf4ada42648f0caf5a9c54abdf",
       "version_major": 2,
       "version_minor": 0
      },
      "text/plain": [
       "Evaluating:   0%|          | 0/1 [00:00<?, ?it/s]"
      ]
     },
     "metadata": {},
     "output_type": "display_data"
    },
    {
     "data": {
      "application/vnd.jupyter.widget-view+json": {
       "model_id": "b9ff4759603345a19fdd85dbe445adf3",
       "version_major": 2,
       "version_minor": 0
      },
      "text/plain": [
       "Evaluating:   0%|          | 0/1 [00:00<?, ?it/s]"
      ]
     },
     "metadata": {},
     "output_type": "display_data"
    },
    {
     "data": {
      "application/vnd.jupyter.widget-view+json": {
       "model_id": "1c8d115fe71f4a568c7c2e2680fdb2fc",
       "version_major": 2,
       "version_minor": 0
      },
      "text/plain": [
       "Evaluating:   0%|          | 0/1 [00:00<?, ?it/s]"
      ]
     },
     "metadata": {},
     "output_type": "display_data"
    },
    {
     "data": {
      "application/vnd.jupyter.widget-view+json": {
       "model_id": "5531f051bf044377835941f60a3d5f57",
       "version_major": 2,
       "version_minor": 0
      },
      "text/plain": [
       "Evaluating:   0%|          | 0/1 [00:00<?, ?it/s]"
      ]
     },
     "metadata": {},
     "output_type": "display_data"
    }
   ],
   "source": [
    "from ragas.metrics import (\n",
    "    answer_relevancy,\n",
    "    faithfulness,\n",
    "    context_recall,\n",
    "    context_precision,\n",
    ")\n",
    "from ragas import evaluate\n",
    "from langchain_community.embeddings import OllamaEmbeddings\n",
    "from datasets import Dataset\n",
    "\n",
    "metrics = pd.DataFrame(\n",
    "    columns=[\"faithfulness\"])\n",
    "\n",
    "critic_model = \"gemma-2-27b-it-Q6_K_L\"\n",
    "langchain_llm = ChatOllama(model=critic_model, temperature=0)\n",
    "langchain_embeddings = OllamaEmbeddings(model=critic_model)\n",
    "\n",
    "for idx, sample in test_dataset.iterrows():\n",
    "    \n",
    "\n",
    "    r = evaluate(\n",
    "        Dataset.from_pandas(pd.DataFrame(sample).T[['question', 'answer', 'contexts']]),\n",
    "        metrics=[faithfulness],\n",
    "        llm=langchain_llm,\n",
    "        embeddings=langchain_embeddings,\n",
    "        raise_exceptions=False\n",
    "    )\n",
    "\n",
    "    r = dict(r)\n",
    "    metrics = pd.concat([metrics, pd.DataFrame([r])], axis=0)"
   ]
  },
  {
   "cell_type": "code",
   "execution_count": 33,
   "id": "a3a4db62-ef64-4cae-acf9-c8f5e32d9a6a",
   "metadata": {},
   "outputs": [],
   "source": [
    "metrics.to_csv('./extraction_metrics.csv', index=False)\n",
    "# metrics = pd.read_csv('./extraction_metrics.csv')\n",
    "# metrics"
   ]
  },
  {
   "cell_type": "code",
   "execution_count": 32,
   "id": "aa2177f7-a701-457a-baf7-973c47be8b04",
   "metadata": {},
   "outputs": [
    {
     "data": {
      "text/html": [
       "<div>\n",
       "<style scoped>\n",
       "    .dataframe tbody tr th:only-of-type {\n",
       "        vertical-align: middle;\n",
       "    }\n",
       "\n",
       "    .dataframe tbody tr th {\n",
       "        vertical-align: top;\n",
       "    }\n",
       "\n",
       "    .dataframe thead th {\n",
       "        text-align: right;\n",
       "    }\n",
       "</style>\n",
       "<table border=\"1\" class=\"dataframe\">\n",
       "  <thead>\n",
       "    <tr style=\"text-align: right;\">\n",
       "      <th></th>\n",
       "      <th>faithfulness</th>\n",
       "    </tr>\n",
       "  </thead>\n",
       "  <tbody>\n",
       "    <tr>\n",
       "      <th>0</th>\n",
       "      <td>NaN</td>\n",
       "    </tr>\n",
       "    <tr>\n",
       "      <th>0</th>\n",
       "      <td>NaN</td>\n",
       "    </tr>\n",
       "    <tr>\n",
       "      <th>0</th>\n",
       "      <td>1.00</td>\n",
       "    </tr>\n",
       "    <tr>\n",
       "      <th>0</th>\n",
       "      <td>1.00</td>\n",
       "    </tr>\n",
       "    <tr>\n",
       "      <th>0</th>\n",
       "      <td>1.00</td>\n",
       "    </tr>\n",
       "    <tr>\n",
       "      <th>...</th>\n",
       "      <td>...</td>\n",
       "    </tr>\n",
       "    <tr>\n",
       "      <th>0</th>\n",
       "      <td>1.00</td>\n",
       "    </tr>\n",
       "    <tr>\n",
       "      <th>0</th>\n",
       "      <td>0.60</td>\n",
       "    </tr>\n",
       "    <tr>\n",
       "      <th>0</th>\n",
       "      <td>0.60</td>\n",
       "    </tr>\n",
       "    <tr>\n",
       "      <th>0</th>\n",
       "      <td>0.75</td>\n",
       "    </tr>\n",
       "    <tr>\n",
       "      <th>0</th>\n",
       "      <td>0.75</td>\n",
       "    </tr>\n",
       "  </tbody>\n",
       "</table>\n",
       "<p>600 rows × 1 columns</p>\n",
       "</div>"
      ],
      "text/plain": [
       "    faithfulness\n",
       "0            NaN\n",
       "0            NaN\n",
       "0           1.00\n",
       "0           1.00\n",
       "0           1.00\n",
       "..           ...\n",
       "0           1.00\n",
       "0           0.60\n",
       "0           0.60\n",
       "0           0.75\n",
       "0           0.75\n",
       "\n",
       "[600 rows x 1 columns]"
      ]
     },
     "execution_count": 32,
     "metadata": {},
     "output_type": "execute_result"
    }
   ],
   "source": [
    "metrics"
   ]
  },
  {
   "cell_type": "code",
   "execution_count": 39,
   "id": "22c84c4c-90e7-4bd4-b56c-596a5460bdfd",
   "metadata": {},
   "outputs": [],
   "source": [
    "results = pd.concat([results.reset_index(drop= True), metrics.reset_index(drop= True)], axis=1)"
   ]
  },
  {
   "cell_type": "code",
   "execution_count": 146,
   "id": "d99dcb8d-ad7e-4ed2-9ada-6dd8d1e4762c",
   "metadata": {},
   "outputs": [],
   "source": [
    "results['prompt'] = results['prompt'] + 1"
   ]
  },
  {
   "cell_type": "markdown",
   "id": "9e57bfa3-cc77-4caa-a13b-359303aa9a4b",
   "metadata": {},
   "source": [
    "### Количество выполненных тестов %"
   ]
  },
  {
   "cell_type": "code",
   "execution_count": 147,
   "id": "a943b6ab-5e20-4939-b432-041e4ba5aea9",
   "metadata": {},
   "outputs": [
    {
     "data": {
      "text/html": [
       "<div>\n",
       "<style scoped>\n",
       "    .dataframe tbody tr th:only-of-type {\n",
       "        vertical-align: middle;\n",
       "    }\n",
       "\n",
       "    .dataframe tbody tr th {\n",
       "        vertical-align: top;\n",
       "    }\n",
       "\n",
       "    .dataframe thead th {\n",
       "        text-align: right;\n",
       "    }\n",
       "</style>\n",
       "<table border=\"1\" class=\"dataframe\">\n",
       "  <thead>\n",
       "    <tr style=\"text-align: right;\">\n",
       "      <th></th>\n",
       "      <th></th>\n",
       "      <th>Тема</th>\n",
       "      <th>Социальная сеть</th>\n",
       "      <th>Целевая аудитория</th>\n",
       "      <th>Дополнительная информация</th>\n",
       "      <th>faithfulness</th>\n",
       "    </tr>\n",
       "    <tr>\n",
       "      <th>prompt</th>\n",
       "      <th>model</th>\n",
       "      <th></th>\n",
       "      <th></th>\n",
       "      <th></th>\n",
       "      <th></th>\n",
       "      <th></th>\n",
       "    </tr>\n",
       "  </thead>\n",
       "  <tbody>\n",
       "    <tr>\n",
       "      <th rowspan=\"3\" valign=\"top\">1</th>\n",
       "      <th>gemma-2-9b-it-Q8_0_L</th>\n",
       "      <td>1.0</td>\n",
       "      <td>1.0</td>\n",
       "      <td>1.000</td>\n",
       "      <td>1.000</td>\n",
       "      <td>0.550</td>\n",
       "    </tr>\n",
       "    <tr>\n",
       "      <th>saiga-llama-3-q8_0</th>\n",
       "      <td>1.0</td>\n",
       "      <td>1.0</td>\n",
       "      <td>0.975</td>\n",
       "      <td>0.700</td>\n",
       "      <td>0.900</td>\n",
       "    </tr>\n",
       "    <tr>\n",
       "      <th>suzume-llama-3-8b-Q8_0</th>\n",
       "      <td>1.0</td>\n",
       "      <td>1.0</td>\n",
       "      <td>1.000</td>\n",
       "      <td>0.750</td>\n",
       "      <td>0.850</td>\n",
       "    </tr>\n",
       "    <tr>\n",
       "      <th rowspan=\"3\" valign=\"top\">2</th>\n",
       "      <th>gemma-2-9b-it-Q8_0_L</th>\n",
       "      <td>1.0</td>\n",
       "      <td>1.0</td>\n",
       "      <td>1.000</td>\n",
       "      <td>0.975</td>\n",
       "      <td>0.600</td>\n",
       "    </tr>\n",
       "    <tr>\n",
       "      <th>saiga-llama-3-q8_0</th>\n",
       "      <td>1.0</td>\n",
       "      <td>1.0</td>\n",
       "      <td>0.975</td>\n",
       "      <td>0.325</td>\n",
       "      <td>0.875</td>\n",
       "    </tr>\n",
       "    <tr>\n",
       "      <th>suzume-llama-3-8b-Q8_0</th>\n",
       "      <td>1.0</td>\n",
       "      <td>1.0</td>\n",
       "      <td>1.000</td>\n",
       "      <td>0.600</td>\n",
       "      <td>0.875</td>\n",
       "    </tr>\n",
       "    <tr>\n",
       "      <th rowspan=\"3\" valign=\"top\">4</th>\n",
       "      <th>gemma-2-9b-it-Q8_0_L</th>\n",
       "      <td>1.0</td>\n",
       "      <td>1.0</td>\n",
       "      <td>1.000</td>\n",
       "      <td>1.000</td>\n",
       "      <td>0.725</td>\n",
       "    </tr>\n",
       "    <tr>\n",
       "      <th>saiga-llama-3-q8_0</th>\n",
       "      <td>1.0</td>\n",
       "      <td>1.0</td>\n",
       "      <td>1.000</td>\n",
       "      <td>0.650</td>\n",
       "      <td>0.750</td>\n",
       "    </tr>\n",
       "    <tr>\n",
       "      <th>suzume-llama-3-8b-Q8_0</th>\n",
       "      <td>1.0</td>\n",
       "      <td>1.0</td>\n",
       "      <td>1.000</td>\n",
       "      <td>0.975</td>\n",
       "      <td>0.800</td>\n",
       "    </tr>\n",
       "    <tr>\n",
       "      <th rowspan=\"3\" valign=\"top\">5</th>\n",
       "      <th>gemma-2-9b-it-Q8_0_L</th>\n",
       "      <td>1.0</td>\n",
       "      <td>1.0</td>\n",
       "      <td>1.000</td>\n",
       "      <td>1.000</td>\n",
       "      <td>0.500</td>\n",
       "    </tr>\n",
       "    <tr>\n",
       "      <th>saiga-llama-3-q8_0</th>\n",
       "      <td>1.0</td>\n",
       "      <td>1.0</td>\n",
       "      <td>1.000</td>\n",
       "      <td>0.425</td>\n",
       "      <td>0.850</td>\n",
       "    </tr>\n",
       "    <tr>\n",
       "      <th>suzume-llama-3-8b-Q8_0</th>\n",
       "      <td>1.0</td>\n",
       "      <td>1.0</td>\n",
       "      <td>1.000</td>\n",
       "      <td>0.925</td>\n",
       "      <td>0.875</td>\n",
       "    </tr>\n",
       "    <tr>\n",
       "      <th rowspan=\"3\" valign=\"top\">6</th>\n",
       "      <th>gemma-2-9b-it-Q8_0_L</th>\n",
       "      <td>1.0</td>\n",
       "      <td>1.0</td>\n",
       "      <td>1.000</td>\n",
       "      <td>0.900</td>\n",
       "      <td>0.700</td>\n",
       "    </tr>\n",
       "    <tr>\n",
       "      <th>saiga-llama-3-q8_0</th>\n",
       "      <td>1.0</td>\n",
       "      <td>1.0</td>\n",
       "      <td>1.000</td>\n",
       "      <td>1.000</td>\n",
       "      <td>0.850</td>\n",
       "    </tr>\n",
       "    <tr>\n",
       "      <th>suzume-llama-3-8b-Q8_0</th>\n",
       "      <td>1.0</td>\n",
       "      <td>1.0</td>\n",
       "      <td>1.000</td>\n",
       "      <td>1.000</td>\n",
       "      <td>0.775</td>\n",
       "    </tr>\n",
       "  </tbody>\n",
       "</table>\n",
       "</div>"
      ],
      "text/plain": [
       "                               Тема  Социальная сеть  Целевая аудитория  \\\n",
       "prompt model                                                              \n",
       "1      gemma-2-9b-it-Q8_0_L     1.0              1.0              1.000   \n",
       "       saiga-llama-3-q8_0       1.0              1.0              0.975   \n",
       "       suzume-llama-3-8b-Q8_0   1.0              1.0              1.000   \n",
       "2      gemma-2-9b-it-Q8_0_L     1.0              1.0              1.000   \n",
       "       saiga-llama-3-q8_0       1.0              1.0              0.975   \n",
       "       suzume-llama-3-8b-Q8_0   1.0              1.0              1.000   \n",
       "4      gemma-2-9b-it-Q8_0_L     1.0              1.0              1.000   \n",
       "       saiga-llama-3-q8_0       1.0              1.0              1.000   \n",
       "       suzume-llama-3-8b-Q8_0   1.0              1.0              1.000   \n",
       "5      gemma-2-9b-it-Q8_0_L     1.0              1.0              1.000   \n",
       "       saiga-llama-3-q8_0       1.0              1.0              1.000   \n",
       "       suzume-llama-3-8b-Q8_0   1.0              1.0              1.000   \n",
       "6      gemma-2-9b-it-Q8_0_L     1.0              1.0              1.000   \n",
       "       saiga-llama-3-q8_0       1.0              1.0              1.000   \n",
       "       suzume-llama-3-8b-Q8_0   1.0              1.0              1.000   \n",
       "\n",
       "                               Дополнительная информация  faithfulness  \n",
       "prompt model                                                            \n",
       "1      gemma-2-9b-it-Q8_0_L                        1.000         0.550  \n",
       "       saiga-llama-3-q8_0                          0.700         0.900  \n",
       "       suzume-llama-3-8b-Q8_0                      0.750         0.850  \n",
       "2      gemma-2-9b-it-Q8_0_L                        0.975         0.600  \n",
       "       saiga-llama-3-q8_0                          0.325         0.875  \n",
       "       suzume-llama-3-8b-Q8_0                      0.600         0.875  \n",
       "4      gemma-2-9b-it-Q8_0_L                        1.000         0.725  \n",
       "       saiga-llama-3-q8_0                          0.650         0.750  \n",
       "       suzume-llama-3-8b-Q8_0                      0.975         0.800  \n",
       "5      gemma-2-9b-it-Q8_0_L                        1.000         0.500  \n",
       "       saiga-llama-3-q8_0                          0.425         0.850  \n",
       "       suzume-llama-3-8b-Q8_0                      0.925         0.875  \n",
       "6      gemma-2-9b-it-Q8_0_L                        0.900         0.700  \n",
       "       saiga-llama-3-q8_0                          1.000         0.850  \n",
       "       suzume-llama-3-8b-Q8_0                      1.000         0.775  "
      ]
     },
     "execution_count": 147,
     "metadata": {},
     "output_type": "execute_result"
    }
   ],
   "source": [
    "results.set_index(['prompt', 'model']).groupby(level=['prompt', 'model'])[\n",
    "    [\"Тема\", \"Социальная сеть\", \"Целевая аудитория\", \"Дополнительная информация\", \"faithfulness\"]].count() / \\\n",
    "    (results.shape[0] / len(available_promts) / len(models))"
   ]
  },
  {
   "cell_type": "markdown",
   "id": "ebf5f9be-521f-4300-981d-96083f00d80f",
   "metadata": {},
   "source": [
    "### Количество выполненных тестов %"
   ]
  },
  {
   "cell_type": "code",
   "execution_count": 148,
   "id": "2092dfd0-abe9-4e1e-94b0-1424359e4811",
   "metadata": {},
   "outputs": [
    {
     "data": {
      "text/html": [
       "<div>\n",
       "<style scoped>\n",
       "    .dataframe tbody tr th:only-of-type {\n",
       "        vertical-align: middle;\n",
       "    }\n",
       "\n",
       "    .dataframe tbody tr th {\n",
       "        vertical-align: top;\n",
       "    }\n",
       "\n",
       "    .dataframe thead th {\n",
       "        text-align: right;\n",
       "    }\n",
       "</style>\n",
       "<table border=\"1\" class=\"dataframe\">\n",
       "  <thead>\n",
       "    <tr style=\"text-align: right;\">\n",
       "      <th></th>\n",
       "      <th>faithfulness</th>\n",
       "    </tr>\n",
       "    <tr>\n",
       "      <th>model</th>\n",
       "      <th></th>\n",
       "    </tr>\n",
       "  </thead>\n",
       "  <tbody>\n",
       "    <tr>\n",
       "      <th>gemma-2-9b-it-Q8_0_L</th>\n",
       "      <td>0.615</td>\n",
       "    </tr>\n",
       "    <tr>\n",
       "      <th>saiga-llama-3-q8_0</th>\n",
       "      <td>0.845</td>\n",
       "    </tr>\n",
       "    <tr>\n",
       "      <th>suzume-llama-3-8b-Q8_0</th>\n",
       "      <td>0.835</td>\n",
       "    </tr>\n",
       "  </tbody>\n",
       "</table>\n",
       "</div>"
      ],
      "text/plain": [
       "                        faithfulness\n",
       "model                               \n",
       "gemma-2-9b-it-Q8_0_L           0.615\n",
       "saiga-llama-3-q8_0             0.845\n",
       "suzume-llama-3-8b-Q8_0         0.835"
      ]
     },
     "execution_count": 148,
     "metadata": {},
     "output_type": "execute_result"
    }
   ],
   "source": [
    "results.set_index(['model']).groupby(level=['model'])[\n",
    "    [\"faithfulness\"]].count() / (results.shape[0] / len(models))"
   ]
  },
  {
   "cell_type": "markdown",
   "id": "3dbb647e-b3f6-4739-9137-8ed365d2880f",
   "metadata": {},
   "source": [
    "### Количество выполненных тестов %"
   ]
  },
  {
   "cell_type": "code",
   "execution_count": 149,
   "id": "a646d143-c229-4369-b409-decbb8301919",
   "metadata": {},
   "outputs": [
    {
     "data": {
      "text/html": [
       "<div>\n",
       "<style scoped>\n",
       "    .dataframe tbody tr th:only-of-type {\n",
       "        vertical-align: middle;\n",
       "    }\n",
       "\n",
       "    .dataframe tbody tr th {\n",
       "        vertical-align: top;\n",
       "    }\n",
       "\n",
       "    .dataframe thead th {\n",
       "        text-align: right;\n",
       "    }\n",
       "</style>\n",
       "<table border=\"1\" class=\"dataframe\">\n",
       "  <thead>\n",
       "    <tr style=\"text-align: right;\">\n",
       "      <th></th>\n",
       "      <th>faithfulness</th>\n",
       "    </tr>\n",
       "    <tr>\n",
       "      <th>prompt</th>\n",
       "      <th></th>\n",
       "    </tr>\n",
       "  </thead>\n",
       "  <tbody>\n",
       "    <tr>\n",
       "      <th>1</th>\n",
       "      <td>0.460</td>\n",
       "    </tr>\n",
       "    <tr>\n",
       "      <th>2</th>\n",
       "      <td>0.470</td>\n",
       "    </tr>\n",
       "    <tr>\n",
       "      <th>4</th>\n",
       "      <td>0.455</td>\n",
       "    </tr>\n",
       "    <tr>\n",
       "      <th>5</th>\n",
       "      <td>0.445</td>\n",
       "    </tr>\n",
       "    <tr>\n",
       "      <th>6</th>\n",
       "      <td>0.465</td>\n",
       "    </tr>\n",
       "  </tbody>\n",
       "</table>\n",
       "</div>"
      ],
      "text/plain": [
       "        faithfulness\n",
       "prompt              \n",
       "1              0.460\n",
       "2              0.470\n",
       "4              0.455\n",
       "5              0.445\n",
       "6              0.465"
      ]
     },
     "execution_count": 149,
     "metadata": {},
     "output_type": "execute_result"
    }
   ],
   "source": [
    "results.set_index(['prompt']).groupby(level=['prompt'])[\n",
    "    [\"faithfulness\"]].count() / (results.shape[0] / len(models))"
   ]
  },
  {
   "cell_type": "markdown",
   "id": "3b7886c3-eaf5-4f82-8416-e02fe0b398f8",
   "metadata": {},
   "source": [
    "### Средняя оценка промпта"
   ]
  },
  {
   "cell_type": "code",
   "execution_count": 150,
   "id": "13d12673-dfb3-4054-abb9-710cc1803221",
   "metadata": {},
   "outputs": [
    {
     "data": {
      "text/html": [
       "<div>\n",
       "<style scoped>\n",
       "    .dataframe tbody tr th:only-of-type {\n",
       "        vertical-align: middle;\n",
       "    }\n",
       "\n",
       "    .dataframe tbody tr th {\n",
       "        vertical-align: top;\n",
       "    }\n",
       "\n",
       "    .dataframe thead th {\n",
       "        text-align: right;\n",
       "    }\n",
       "</style>\n",
       "<table border=\"1\" class=\"dataframe\">\n",
       "  <thead>\n",
       "    <tr style=\"text-align: right;\">\n",
       "      <th></th>\n",
       "      <th>faithfulness</th>\n",
       "    </tr>\n",
       "    <tr>\n",
       "      <th>prompt</th>\n",
       "      <th></th>\n",
       "    </tr>\n",
       "  </thead>\n",
       "  <tbody>\n",
       "    <tr>\n",
       "      <th>1</th>\n",
       "      <td>0.024450</td>\n",
       "    </tr>\n",
       "    <tr>\n",
       "      <th>2</th>\n",
       "      <td>0.024078</td>\n",
       "    </tr>\n",
       "    <tr>\n",
       "      <th>4</th>\n",
       "      <td>0.022013</td>\n",
       "    </tr>\n",
       "    <tr>\n",
       "      <th>5</th>\n",
       "      <td>0.024335</td>\n",
       "    </tr>\n",
       "    <tr>\n",
       "      <th>6</th>\n",
       "      <td>0.019983</td>\n",
       "    </tr>\n",
       "  </tbody>\n",
       "</table>\n",
       "</div>"
      ],
      "text/plain": [
       "        faithfulness\n",
       "prompt              \n",
       "1           0.024450\n",
       "2           0.024078\n",
       "4           0.022013\n",
       "5           0.024335\n",
       "6           0.019983"
      ]
     },
     "execution_count": 150,
     "metadata": {},
     "output_type": "execute_result"
    }
   ],
   "source": [
    "results.set_index(['prompt']).groupby(level=['prompt'])[\n",
    "    [\"faithfulness\"]].mean() / (results.shape[0] / len(available_promts) / len(models))"
   ]
  },
  {
   "cell_type": "markdown",
   "id": "46753d78-5a09-48c7-a595-dfe7d4fac8a3",
   "metadata": {},
   "source": [
    "### Средняя оценка модели"
   ]
  },
  {
   "cell_type": "code",
   "execution_count": 151,
   "id": "be4e07f7-d891-4e36-ac47-8630666d37f2",
   "metadata": {},
   "outputs": [
    {
     "data": {
      "text/html": [
       "<div>\n",
       "<style scoped>\n",
       "    .dataframe tbody tr th:only-of-type {\n",
       "        vertical-align: middle;\n",
       "    }\n",
       "\n",
       "    .dataframe tbody tr th {\n",
       "        vertical-align: top;\n",
       "    }\n",
       "\n",
       "    .dataframe thead th {\n",
       "        text-align: right;\n",
       "    }\n",
       "</style>\n",
       "<table border=\"1\" class=\"dataframe\">\n",
       "  <thead>\n",
       "    <tr style=\"text-align: right;\">\n",
       "      <th></th>\n",
       "      <th>faithfulness</th>\n",
       "    </tr>\n",
       "    <tr>\n",
       "      <th>model</th>\n",
       "      <th></th>\n",
       "    </tr>\n",
       "  </thead>\n",
       "  <tbody>\n",
       "    <tr>\n",
       "      <th>gemma-2-9b-it-Q8_0_L</th>\n",
       "      <td>0.024254</td>\n",
       "    </tr>\n",
       "    <tr>\n",
       "      <th>saiga-llama-3-q8_0</th>\n",
       "      <td>0.023059</td>\n",
       "    </tr>\n",
       "    <tr>\n",
       "      <th>suzume-llama-3-8b-Q8_0</th>\n",
       "      <td>0.021916</td>\n",
       "    </tr>\n",
       "  </tbody>\n",
       "</table>\n",
       "</div>"
      ],
      "text/plain": [
       "                        faithfulness\n",
       "model                               \n",
       "gemma-2-9b-it-Q8_0_L        0.024254\n",
       "saiga-llama-3-q8_0          0.023059\n",
       "suzume-llama-3-8b-Q8_0      0.021916"
      ]
     },
     "execution_count": 151,
     "metadata": {},
     "output_type": "execute_result"
    }
   ],
   "source": [
    "results.set_index(['model']).groupby(level=['model'])[\n",
    "    [\"faithfulness\"]].mean() / (results.shape[0] / len(available_promts) / len(models))"
   ]
  },
  {
   "cell_type": "markdown",
   "id": "12555e77-3fd6-4155-a63e-45bb511fd637",
   "metadata": {},
   "source": [
    "### Средняя оценка"
   ]
  },
  {
   "cell_type": "code",
   "execution_count": 152,
   "id": "0af00a63-9d61-448d-af13-889497c2885c",
   "metadata": {},
   "outputs": [
    {
     "data": {
      "text/html": [
       "<div>\n",
       "<style scoped>\n",
       "    .dataframe tbody tr th:only-of-type {\n",
       "        vertical-align: middle;\n",
       "    }\n",
       "\n",
       "    .dataframe tbody tr th {\n",
       "        vertical-align: top;\n",
       "    }\n",
       "\n",
       "    .dataframe thead th {\n",
       "        text-align: right;\n",
       "    }\n",
       "</style>\n",
       "<table border=\"1\" class=\"dataframe\">\n",
       "  <thead>\n",
       "    <tr style=\"text-align: right;\">\n",
       "      <th></th>\n",
       "      <th></th>\n",
       "      <th>faithfulness</th>\n",
       "    </tr>\n",
       "    <tr>\n",
       "      <th>prompt</th>\n",
       "      <th>model</th>\n",
       "      <th></th>\n",
       "    </tr>\n",
       "  </thead>\n",
       "  <tbody>\n",
       "    <tr>\n",
       "      <th rowspan=\"3\" valign=\"top\">1</th>\n",
       "      <th>gemma-2-9b-it-Q8_0_L</th>\n",
       "      <td>0.025000</td>\n",
       "    </tr>\n",
       "    <tr>\n",
       "      <th>saiga-llama-3-q8_0</th>\n",
       "      <td>0.024687</td>\n",
       "    </tr>\n",
       "    <tr>\n",
       "      <th>suzume-llama-3-8b-Q8_0</th>\n",
       "      <td>0.023844</td>\n",
       "    </tr>\n",
       "    <tr>\n",
       "      <th rowspan=\"3\" valign=\"top\">2</th>\n",
       "      <th>gemma-2-9b-it-Q8_0_L</th>\n",
       "      <td>0.025000</td>\n",
       "    </tr>\n",
       "    <tr>\n",
       "      <th>saiga-llama-3-q8_0</th>\n",
       "      <td>0.023893</td>\n",
       "    </tr>\n",
       "    <tr>\n",
       "      <th>suzume-llama-3-8b-Q8_0</th>\n",
       "      <td>0.023631</td>\n",
       "    </tr>\n",
       "    <tr>\n",
       "      <th rowspan=\"3\" valign=\"top\">4</th>\n",
       "      <th>gemma-2-9b-it-Q8_0_L</th>\n",
       "      <td>0.024765</td>\n",
       "    </tr>\n",
       "    <tr>\n",
       "      <th>saiga-llama-3-q8_0</th>\n",
       "      <td>0.021833</td>\n",
       "    </tr>\n",
       "    <tr>\n",
       "      <th>suzume-llama-3-8b-Q8_0</th>\n",
       "      <td>0.019688</td>\n",
       "    </tr>\n",
       "    <tr>\n",
       "      <th rowspan=\"3\" valign=\"top\">5</th>\n",
       "      <th>gemma-2-9b-it-Q8_0_L</th>\n",
       "      <td>0.024792</td>\n",
       "    </tr>\n",
       "    <tr>\n",
       "      <th>saiga-llama-3-q8_0</th>\n",
       "      <td>0.024853</td>\n",
       "    </tr>\n",
       "    <tr>\n",
       "      <th>suzume-llama-3-8b-Q8_0</th>\n",
       "      <td>0.023571</td>\n",
       "    </tr>\n",
       "    <tr>\n",
       "      <th rowspan=\"3\" valign=\"top\">6</th>\n",
       "      <th>gemma-2-9b-it-Q8_0_L</th>\n",
       "      <td>0.022113</td>\n",
       "    </tr>\n",
       "    <tr>\n",
       "      <th>saiga-llama-3-q8_0</th>\n",
       "      <td>0.019763</td>\n",
       "    </tr>\n",
       "    <tr>\n",
       "      <th>suzume-llama-3-8b-Q8_0</th>\n",
       "      <td>0.018300</td>\n",
       "    </tr>\n",
       "  </tbody>\n",
       "</table>\n",
       "</div>"
      ],
      "text/plain": [
       "                               faithfulness\n",
       "prompt model                               \n",
       "1      gemma-2-9b-it-Q8_0_L        0.025000\n",
       "       saiga-llama-3-q8_0          0.024687\n",
       "       suzume-llama-3-8b-Q8_0      0.023844\n",
       "2      gemma-2-9b-it-Q8_0_L        0.025000\n",
       "       saiga-llama-3-q8_0          0.023893\n",
       "       suzume-llama-3-8b-Q8_0      0.023631\n",
       "4      gemma-2-9b-it-Q8_0_L        0.024765\n",
       "       saiga-llama-3-q8_0          0.021833\n",
       "       suzume-llama-3-8b-Q8_0      0.019688\n",
       "5      gemma-2-9b-it-Q8_0_L        0.024792\n",
       "       saiga-llama-3-q8_0          0.024853\n",
       "       suzume-llama-3-8b-Q8_0      0.023571\n",
       "6      gemma-2-9b-it-Q8_0_L        0.022113\n",
       "       saiga-llama-3-q8_0          0.019763\n",
       "       suzume-llama-3-8b-Q8_0      0.018300"
      ]
     },
     "execution_count": 152,
     "metadata": {},
     "output_type": "execute_result"
    }
   ],
   "source": [
    "results.set_index(['prompt', 'model']).groupby(level=['prompt', 'model'])[\n",
    "    [\"faithfulness\"]].mean() / (results.shape[0] / len(available_promts) / len(models))"
   ]
  },
  {
   "cell_type": "markdown",
   "id": "81e7510e-b706-4988-91d4-f06ab7ffa2cd",
   "metadata": {},
   "source": [
    "### Оценка извлечения соц сети"
   ]
  },
  {
   "cell_type": "code",
   "execution_count": 153,
   "id": "12bf2b98-8c3b-464f-864d-91e9f0d40f5f",
   "metadata": {},
   "outputs": [
    {
     "data": {
      "text/plain": [
       "model                   Социальная сеть\n",
       "gemma-2-9b-it-Q8_0_L    Телеграм           0.340\n",
       "                        ВКонтакте          0.210\n",
       "                        Twitter            0.125\n",
       "                        Instagram          0.120\n",
       "                        Telegram           0.085\n",
       "                        Инстаграм          0.080\n",
       "                        Твиттер            0.025\n",
       "                        ВК                 0.015\n",
       "saiga-llama-3-q8_0      Телеграм           0.235\n",
       "                        ВКонтакте          0.225\n",
       "                        Телеграмм          0.165\n",
       "                        Instagram          0.130\n",
       "                        Twitter            0.090\n",
       "                        Инстаграм          0.080\n",
       "                        Твиттер            0.060\n",
       "                        Telegram           0.015\n",
       "suzume-llama-3-8b-Q8_0  ВКонтакте          0.225\n",
       "                        Instagram          0.215\n",
       "                        Телеграм           0.210\n",
       "                        Telegram           0.195\n",
       "                        Twitter            0.150\n",
       "                        Телеграмм          0.005\n",
       "Name: proportion, dtype: float64"
      ]
     },
     "execution_count": 153,
     "metadata": {},
     "output_type": "execute_result"
    }
   ],
   "source": [
    "results.groupby('model')['Социальная сеть'].value_counts(normalize=True)"
   ]
  },
  {
   "cell_type": "code",
   "execution_count": 154,
   "id": "ce670bb9-5a10-444a-bd10-e2c76833f60e",
   "metadata": {},
   "outputs": [
    {
     "data": {
      "text/plain": [
       "prompt  Социальная сеть\n",
       "1       Телеграм           0.425000\n",
       "        ВКонтакте          0.216667\n",
       "        Инстаграм          0.133333\n",
       "        Твиттер            0.091667\n",
       "        Instagram          0.066667\n",
       "        Twitter            0.058333\n",
       "        ВК                 0.008333\n",
       "2       Телеграм           0.425000\n",
       "        ВКонтакте          0.216667\n",
       "        Инстаграм          0.133333\n",
       "        Twitter            0.100000\n",
       "        Instagram          0.066667\n",
       "        Твиттер            0.050000\n",
       "        ВК                 0.008333\n",
       "4       ВКонтакте          0.216667\n",
       "        Instagram          0.208333\n",
       "        Телеграм           0.200000\n",
       "        Twitter            0.150000\n",
       "        Telegram           0.133333\n",
       "        Телеграмм          0.083333\n",
       "        ВК                 0.008333\n",
       "5       ВКонтакте          0.225000\n",
       "        Телеграм           0.225000\n",
       "        Instagram          0.200000\n",
       "        Twitter            0.150000\n",
       "        Телеграмм          0.133333\n",
       "        Telegram           0.066667\n",
       "6       Telegram           0.291667\n",
       "        Instagram          0.233333\n",
       "        ВКонтакте          0.225000\n",
       "        Twitter            0.150000\n",
       "        Телеграмм          0.066667\n",
       "        Телеграм           0.033333\n",
       "Name: proportion, dtype: float64"
      ]
     },
     "execution_count": 154,
     "metadata": {},
     "output_type": "execute_result"
    }
   ],
   "source": [
    "results.groupby('prompt')['Социальная сеть'].value_counts(normalize=True)"
   ]
  },
  {
   "cell_type": "code",
   "execution_count": 155,
   "id": "2f059802-622a-4e55-9570-db3e9d4eed4f",
   "metadata": {},
   "outputs": [
    {
     "data": {
      "text/plain": [
       "Социальная сеть\n",
       "Телеграм     157\n",
       "ВКонтакте    132\n",
       "Instagram     93\n",
       "Twitter       73\n",
       "Telegram      59\n",
       "Телеграмм     34\n",
       "Инстаграм     32\n",
       "Твиттер       17\n",
       "ВК             3\n",
       "Name: count, dtype: int64"
      ]
     },
     "execution_count": 155,
     "metadata": {},
     "output_type": "execute_result"
    }
   ],
   "source": [
    "results[\"Социальная сеть\"].value_counts()"
   ]
  },
  {
   "cell_type": "markdown",
   "id": "a8a9ea6c-4262-4d6c-80ff-4e392769e065",
   "metadata": {},
   "source": [
    "### Оценка извлечения допольнительной информации"
   ]
  },
  {
   "cell_type": "code",
   "execution_count": 156,
   "id": "0775001b-9eed-4bec-8cb2-f6cf503699a6",
   "metadata": {},
   "outputs": [
    {
     "data": {
      "text/plain": [
       "prompt\n",
       "1     98\n",
       "2     76\n",
       "4    105\n",
       "5     94\n",
       "6    116\n",
       "Name: Дополнительная информация, dtype: int64"
      ]
     },
     "execution_count": 156,
     "metadata": {},
     "output_type": "execute_result"
    }
   ],
   "source": [
    "results.groupby('prompt')[\"Дополнительная информация\"].count()\n"
   ]
  },
  {
   "cell_type": "code",
   "execution_count": 157,
   "id": "510dabe1-9db2-4989-806a-716909816049",
   "metadata": {},
   "outputs": [
    {
     "data": {
      "text/html": [
       "<div>\n",
       "<style scoped>\n",
       "    .dataframe tbody tr th:only-of-type {\n",
       "        vertical-align: middle;\n",
       "    }\n",
       "\n",
       "    .dataframe tbody tr th {\n",
       "        vertical-align: top;\n",
       "    }\n",
       "\n",
       "    .dataframe thead th {\n",
       "        text-align: right;\n",
       "    }\n",
       "</style>\n",
       "<table border=\"1\" class=\"dataframe\">\n",
       "  <thead>\n",
       "    <tr style=\"text-align: right;\">\n",
       "      <th></th>\n",
       "      <th></th>\n",
       "      <th>Дополнительная информация</th>\n",
       "    </tr>\n",
       "    <tr>\n",
       "      <th>prompt</th>\n",
       "      <th>model</th>\n",
       "      <th></th>\n",
       "    </tr>\n",
       "  </thead>\n",
       "  <tbody>\n",
       "    <tr>\n",
       "      <th rowspan=\"3\" valign=\"top\">1</th>\n",
       "      <th>gemma-2-9b-it-Q8_0_L</th>\n",
       "      <td>40</td>\n",
       "    </tr>\n",
       "    <tr>\n",
       "      <th>saiga-llama-3-q8_0</th>\n",
       "      <td>28</td>\n",
       "    </tr>\n",
       "    <tr>\n",
       "      <th>suzume-llama-3-8b-Q8_0</th>\n",
       "      <td>30</td>\n",
       "    </tr>\n",
       "    <tr>\n",
       "      <th rowspan=\"3\" valign=\"top\">2</th>\n",
       "      <th>gemma-2-9b-it-Q8_0_L</th>\n",
       "      <td>39</td>\n",
       "    </tr>\n",
       "    <tr>\n",
       "      <th>saiga-llama-3-q8_0</th>\n",
       "      <td>13</td>\n",
       "    </tr>\n",
       "    <tr>\n",
       "      <th>suzume-llama-3-8b-Q8_0</th>\n",
       "      <td>24</td>\n",
       "    </tr>\n",
       "    <tr>\n",
       "      <th rowspan=\"3\" valign=\"top\">4</th>\n",
       "      <th>gemma-2-9b-it-Q8_0_L</th>\n",
       "      <td>40</td>\n",
       "    </tr>\n",
       "    <tr>\n",
       "      <th>saiga-llama-3-q8_0</th>\n",
       "      <td>26</td>\n",
       "    </tr>\n",
       "    <tr>\n",
       "      <th>suzume-llama-3-8b-Q8_0</th>\n",
       "      <td>39</td>\n",
       "    </tr>\n",
       "    <tr>\n",
       "      <th rowspan=\"3\" valign=\"top\">5</th>\n",
       "      <th>gemma-2-9b-it-Q8_0_L</th>\n",
       "      <td>40</td>\n",
       "    </tr>\n",
       "    <tr>\n",
       "      <th>saiga-llama-3-q8_0</th>\n",
       "      <td>17</td>\n",
       "    </tr>\n",
       "    <tr>\n",
       "      <th>suzume-llama-3-8b-Q8_0</th>\n",
       "      <td>37</td>\n",
       "    </tr>\n",
       "    <tr>\n",
       "      <th rowspan=\"3\" valign=\"top\">6</th>\n",
       "      <th>gemma-2-9b-it-Q8_0_L</th>\n",
       "      <td>36</td>\n",
       "    </tr>\n",
       "    <tr>\n",
       "      <th>saiga-llama-3-q8_0</th>\n",
       "      <td>40</td>\n",
       "    </tr>\n",
       "    <tr>\n",
       "      <th>suzume-llama-3-8b-Q8_0</th>\n",
       "      <td>40</td>\n",
       "    </tr>\n",
       "  </tbody>\n",
       "</table>\n",
       "</div>"
      ],
      "text/plain": [
       "                               Дополнительная информация\n",
       "prompt model                                            \n",
       "1      gemma-2-9b-it-Q8_0_L                           40\n",
       "       saiga-llama-3-q8_0                             28\n",
       "       suzume-llama-3-8b-Q8_0                         30\n",
       "2      gemma-2-9b-it-Q8_0_L                           39\n",
       "       saiga-llama-3-q8_0                             13\n",
       "       suzume-llama-3-8b-Q8_0                         24\n",
       "4      gemma-2-9b-it-Q8_0_L                           40\n",
       "       saiga-llama-3-q8_0                             26\n",
       "       suzume-llama-3-8b-Q8_0                         39\n",
       "5      gemma-2-9b-it-Q8_0_L                           40\n",
       "       saiga-llama-3-q8_0                             17\n",
       "       suzume-llama-3-8b-Q8_0                         37\n",
       "6      gemma-2-9b-it-Q8_0_L                           36\n",
       "       saiga-llama-3-q8_0                             40\n",
       "       suzume-llama-3-8b-Q8_0                         40"
      ]
     },
     "execution_count": 157,
     "metadata": {},
     "output_type": "execute_result"
    }
   ],
   "source": [
    "results.set_index(['prompt', 'model']).groupby(level=['prompt', 'model'])[\n",
    "    [\"Дополнительная информация\"]].count()"
   ]
  },
  {
   "cell_type": "code",
   "execution_count": 51,
   "id": "4c5ff41a-ff26-4821-aa9e-ff9435c83e6d",
   "metadata": {},
   "outputs": [
    {
     "data": {
      "text/plain": [
       "'Какие книги стоит прочитать каждому?'"
      ]
     },
     "execution_count": 51,
     "metadata": {},
     "output_type": "execute_result"
    }
   ],
   "source": [
    "results.iloc[0][\"Тема\"]"
   ]
  },
  {
   "cell_type": "code",
   "execution_count": 56,
   "id": "d763bcbb-f90a-42ff-8692-089002cf6e4b",
   "metadata": {},
   "outputs": [
    {
     "data": {
      "text/plain": [
       "'Любители литературы, стремящиеся расширить свой кругозор и найти вдохновение'"
      ]
     },
     "execution_count": 56,
     "metadata": {},
     "output_type": "execute_result"
    }
   ],
   "source": [
    "results.iloc[0][\"Целевая аудитория\"]"
   ]
  },
  {
   "cell_type": "code",
   "execution_count": 57,
   "id": "898f0e98-5f70-47f6-8ac6-073dde097e9a",
   "metadata": {},
   "outputs": [
    {
     "data": {
      "text/plain": [
       "'Публикация поможет привлечь внимание к книгам, которые могут изменить жизнь читателя.'"
      ]
     },
     "execution_count": 57,
     "metadata": {},
     "output_type": "execute_result"
    }
   ],
   "source": [
    "results.iloc[0][\"Дополнительная информация\"]"
   ]
  },
  {
   "cell_type": "code",
   "execution_count": 84,
   "id": "7630ab00-2b63-40ef-b81a-164bcd778eb5",
   "metadata": {},
   "outputs": [
    {
     "data": {
      "text/plain": [
       "'Публикации должны содержать техники медитации и её преимущества.'"
      ]
     },
     "execution_count": 84,
     "metadata": {},
     "output_type": "execute_result"
    }
   ],
   "source": [
    "results[results[\"prompt\"] == 0].iloc[14][\"Дополнительная информация\"]"
   ]
  },
  {
   "cell_type": "code",
   "execution_count": 85,
   "id": "5d170d24-444d-4d9a-a0e4-70de2c4ee304",
   "metadata": {},
   "outputs": [
    {
     "data": {
      "text/plain": [
       "'Поделиться техниками медитации и её преимуществами'"
      ]
     },
     "execution_count": 85,
     "metadata": {},
     "output_type": "execute_result"
    }
   ],
   "source": [
    "results[results[\"prompt\"] == 5].iloc[14][\"Дополнительная информация\"]"
   ]
  },
  {
   "cell_type": "code",
   "execution_count": 117,
   "id": "d18e8ecc-277e-46b2-8705-13f9c11f42ea",
   "metadata": {},
   "outputs": [
    {
     "name": "stdout",
     "output_type": "stream",
     "text": [
      "gemma-2-9b-it-Q8_0_L  :  Предложить список сортов томатов, пригодных для сибирского климата. Указать особенности каждого сорта (урожайность, сроки созревания, устойчивость к болезням).\n",
      "\n",
      "saiga-llama-3-q8_0  :  Использовать хэштеги #томаты #сад #грунт. Дать советы по выбору подходящих сортов и уходу за ними\n",
      "\n",
      "suzume-llama-3-8b-Q8_0  :  Использовать ссылки на статьи и видео о выращивании томатов. Предложить несколько сортов томатов, подходящих для климата Сибири, с описанием их особенностей и преимуществ.\n",
      "\n"
     ]
    }
   ],
   "source": [
    "num_message = 5\n",
    "prompt = 6\n",
    "\n",
    "for _, row in results[(results[\"num_message\"] == num_message) & (results[\"prompt\"] == prompt)][[\"model\", \"Дополнительная информация\"]].iterrows():\n",
    "    print(row.model, \" : \", row[\"Дополнительная информация\"])\n",
    "    print()"
   ]
  },
  {
   "cell_type": "code",
   "execution_count": 139,
   "id": "06fb542f-e0cd-426f-b15f-e7c2dba4cfb7",
   "metadata": {},
   "outputs": [
    {
     "name": "stdout",
     "output_type": "stream",
     "text": [
      "gemma-2-9b-it-Q8_0_L  :  Публикация для обсуждения влияния социальных сетей на психическое состояние\n",
      "\n",
      "saiga-llama-3-q8_0  :  Обсуждение влияния социальных сетей на наше психическое состояние\n",
      "\n",
      "suzume-llama-3-8b-Q8_0  :  Обсуждение влияния социальных сетей на психическое состояние\n",
      "\n"
     ]
    }
   ],
   "source": [
    "num_message = 22\n",
    "prompt = 0\n",
    "\n",
    "for _, row in results[(results[\"num_message\"] == num_message) & (results[\"prompt\"] == prompt)][[\"model\", \"Дополнительная информация\"]].iterrows():\n",
    "    print(row.model, \" : \", row[\"Дополнительная информация\"])\n",
    "    print()"
   ]
  },
  {
   "cell_type": "code",
   "execution_count": 134,
   "id": "313df1c2-e247-451e-90c7-66ca0f0921d0",
   "metadata": {},
   "outputs": [
    {
     "data": {
      "text/plain": [
       "'Влияние социальных сетей на психическое здоровье: Эта тема будет актуальна для всех, кто проводит много времени в интернете. Публикация в социальной сети поможет обсудить, как социальные сети влияют на наше психическое состояние. Телеграм'"
      ]
     },
     "execution_count": 134,
     "metadata": {},
     "output_type": "execute_result"
    }
   ],
   "source": [
    "message_samples[22]"
   ]
  },
  {
   "cell_type": "markdown",
   "id": "9df42d61-46ac-4891-baa8-260505cda2f7",
   "metadata": {},
   "source": [
    "### Результаты stage extraction  \n",
    "\n",
    "#### Промпт  \n",
    "***№ 1.*** Хороший базовый вариант для извлечения информации. Ограничевает модель в формулировках, что приводит к формированию скудных описаний.   Дополнительную информацию для 2-ух из 3-ех моделей генерировал только в 50% случаев.  \n",
    "***№ 2.*** Вариант с самым простым описанием. Высокие оценки, но проблема с формулировкой информации. Модели полностью переписывают содержание сообщения и плохо извлекают дополнительную информацию.  \n",
    "***№ 3.*** Был удален, тк у него были прицеденты на повреждение JSON структуры. Это критично и приводило бы к падению агента.  \n",
    "***№ 4.*** Вариант с примером заполнения JSON показал результат ниже среднего, это было связано с заимствованием информации из примера в тестовых кейсах.  \n",
    "***№ 5.*** Вариант с описанием ожидаемой информации для JSON ключей. Высокие оценки тестов, но проблема как и с №1 в плохом формировании дополнительной информации.  \n",
    "***№ 6.*** Вариант включающий все техники. Достаточно высокие оценки по всем моделям при высоком извлечении дополнительной информации. Меньше проблем с формулировками.  \n",
    "\n",
    "#### Модели  \n",
    "На текущем этапе появились проблемы с оцениванием модели gemma, возможно, это связано с использованием бОльшей версии как модель оценки.  \n",
    "Проблемные кейсы были отсмотрены вручную, явных проблем не обнаружено.  \n",
    "На текущем этапе все модели применимы с той или иной степени, необходимо оценить их поведение на следующих этапах. Наибольший вес будет иметь этап генерации самого поста."
   ]
  },
  {
   "cell_type": "code",
   "execution_count": null,
   "id": "b050d066-0294-406c-8c78-bcc0e16b270b",
   "metadata": {},
   "outputs": [],
   "source": []
  }
 ],
 "metadata": {
  "kernelspec": {
   "display_name": "Python 3 (ipykernel)",
   "language": "python",
   "name": "python3"
  },
  "language_info": {
   "codemirror_mode": {
    "name": "ipython",
    "version": 3
   },
   "file_extension": ".py",
   "mimetype": "text/x-python",
   "name": "python",
   "nbconvert_exporter": "python",
   "pygments_lexer": "ipython3",
   "version": "3.12.4"
  }
 },
 "nbformat": 4,
 "nbformat_minor": 5
}
