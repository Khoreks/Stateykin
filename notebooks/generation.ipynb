{
 "cells": [
  {
   "cell_type": "code",
   "execution_count": 71,
   "id": "3cd59b6f-40f3-4010-ac61-dfe57f0727bc",
   "metadata": {},
   "outputs": [
    {
     "data": {
      "text/html": [
       "<div>\n",
       "<style scoped>\n",
       "    .dataframe tbody tr th:only-of-type {\n",
       "        vertical-align: middle;\n",
       "    }\n",
       "\n",
       "    .dataframe tbody tr th {\n",
       "        vertical-align: top;\n",
       "    }\n",
       "\n",
       "    .dataframe thead th {\n",
       "        text-align: right;\n",
       "    }\n",
       "</style>\n",
       "<table border=\"1\" class=\"dataframe\">\n",
       "  <thead>\n",
       "    <tr style=\"text-align: right;\">\n",
       "      <th></th>\n",
       "      <th>Тема</th>\n",
       "      <th>Социальная сеть</th>\n",
       "      <th>Целевая аудитория</th>\n",
       "      <th>Дополнительная информация</th>\n",
       "      <th>num_message</th>\n",
       "      <th>context</th>\n",
       "    </tr>\n",
       "  </thead>\n",
       "  <tbody>\n",
       "    <tr>\n",
       "      <th>200</th>\n",
       "      <td>Список книг для расширения кругозора и поиска ...</td>\n",
       "      <td>ВКонтакте</td>\n",
       "      <td>Любители литературы, интересующиеся саморазвит...</td>\n",
       "      <td>Предложить список из 5-7 книг разных жанров с ...</td>\n",
       "      <td>0</td>\n",
       "      <td>- 2015 год\\n- \"Удовольствие от Х\"\\n- \"Голая ст...</td>\n",
       "    </tr>\n",
       "    <tr>\n",
       "      <th>201</th>\n",
       "      <td>Сколько книг нужно читать в год?</td>\n",
       "      <td>Telegram</td>\n",
       "      <td>Любой пользователь, интересующийся саморазвити...</td>\n",
       "      <td>Поделиться личным опытом чтения. Дать советы п...</td>\n",
       "      <td>1</td>\n",
       "      <td>- Прочитайте 30 книг за 30 дней.\\n- Не читайте...</td>\n",
       "    </tr>\n",
       "    <tr>\n",
       "      <th>202</th>\n",
       "      <td>Топ-5 упражнений для утренней зарядки</td>\n",
       "      <td>Instagram</td>\n",
       "      <td>Люди, интересующиеся здоровым образом жизни и ...</td>\n",
       "      <td>Использовать визуальный контент: видео или фот...</td>\n",
       "      <td>2</td>\n",
       "      <td>\\n-  Утренняя зарядка должна быть регулярной.\\...</td>\n",
       "    </tr>\n",
       "    <tr>\n",
       "      <th>203</th>\n",
       "      <td>История успеха известного спортсмена: преодоле...</td>\n",
       "      <td>ВКонтакте</td>\n",
       "      <td>Люди всех возрастов, интересующиеся спортом и ...</td>\n",
       "      <td>Рассказать о жизненном пути спортсмена, его пр...</td>\n",
       "      <td>3</td>\n",
       "      <td>- 1960-70 годы - пик популярности Adidas.\\n- 1...</td>\n",
       "    </tr>\n",
       "    <tr>\n",
       "      <th>204</th>\n",
       "      <td>Как правильно обрезать плодовые деревья весной...</td>\n",
       "      <td>Telegram</td>\n",
       "      <td>Садоводы и огородники</td>\n",
       "      <td>NaN</td>\n",
       "      <td>4</td>\n",
       "      <td>Формирующая обрезка груши в первые годы жизни ...</td>\n",
       "    </tr>\n",
       "  </tbody>\n",
       "</table>\n",
       "</div>"
      ],
      "text/plain": [
       "                                                  Тема Социальная сеть  \\\n",
       "200  Список книг для расширения кругозора и поиска ...       ВКонтакте   \n",
       "201                   Сколько книг нужно читать в год?        Telegram   \n",
       "202              Топ-5 упражнений для утренней зарядки       Instagram   \n",
       "203  История успеха известного спортсмена: преодоле...       ВКонтакте   \n",
       "204  Как правильно обрезать плодовые деревья весной...        Telegram   \n",
       "\n",
       "                                     Целевая аудитория  \\\n",
       "200  Любители литературы, интересующиеся саморазвит...   \n",
       "201  Любой пользователь, интересующийся саморазвити...   \n",
       "202  Люди, интересующиеся здоровым образом жизни и ...   \n",
       "203  Люди всех возрастов, интересующиеся спортом и ...   \n",
       "204                              Садоводы и огородники   \n",
       "\n",
       "                             Дополнительная информация  num_message  \\\n",
       "200  Предложить список из 5-7 книг разных жанров с ...            0   \n",
       "201  Поделиться личным опытом чтения. Дать советы п...            1   \n",
       "202  Использовать визуальный контент: видео или фот...            2   \n",
       "203  Рассказать о жизненном пути спортсмена, его пр...            3   \n",
       "204                                                NaN            4   \n",
       "\n",
       "                                               context  \n",
       "200  - 2015 год\\n- \"Удовольствие от Х\"\\n- \"Голая ст...  \n",
       "201  - Прочитайте 30 книг за 30 дней.\\n- Не читайте...  \n",
       "202  \\n-  Утренняя зарядка должна быть регулярной.\\...  \n",
       "203  - 1960-70 годы - пик популярности Adidas.\\n- 1...  \n",
       "204  Формирующая обрезка груши в первые годы жизни ...  "
      ]
     },
     "execution_count": 71,
     "metadata": {},
     "output_type": "execute_result"
    }
   ],
   "source": [
    "import pandas as pd\n",
    "\n",
    "model = \"gemma-2-9b-it-Q8_0_L\"\n",
    "selected_search_prompt = 2\n",
    "selected_extraction_prompt = 5\n",
    "selected_summary_prompt = 1\n",
    "\n",
    "summary = pd.read_csv('./data/summarization_results.csv')\n",
    "summary[\"summary\"] = summary[\"summary\"].apply(lambda x: \"\" if x == \"[]\" else x)\n",
    "\n",
    "queries = pd.read_csv('./data/web_search_results.csv')\n",
    "queries = queries[(queries[\"prompt\"] == selected_search_prompt) & (queries[\"model\"] == model)]\n",
    "\n",
    "page_information = pd.read_csv('./data/page_information.csv')\n",
    "page_information[\"query\"] = page_information[\"query\"].apply(lambda x: x.replace(\" -cyberleninka -youtube -видео -pdf\", \"\"))\n",
    "\n",
    "topics = pd.read_csv('./data/extraction_results.csv')\n",
    "topics = topics[(topics[\"prompt\"] == selected_extraction_prompt) & (topics[\"model\"] == model)]\n",
    "\n",
    "summary_dict = dict(zip(summary[\"query\"], summary[\"summary\"]))\n",
    "queries_dict = dict(zip(queries[\"num_message\"], queries[\"queries\"]))\n",
    "\n",
    "data = topics[[\"Тема\", \"Социальная сеть\", \"Целевая аудитория\", \"Дополнительная информация\", \"num_message\"]].copy()\n",
    "data[\"context\"] = data[\"num_message\"].apply(lambda x: \"\\n\".join([summary_dict[q] for q in eval(queries_dict[x])]))\n",
    "\n",
    "data.head()"
   ]
  },
  {
   "cell_type": "code",
   "execution_count": 72,
   "id": "9252cfbe-02b4-450d-b244-7405b314a1f6",
   "metadata": {},
   "outputs": [],
   "source": [
    "from langchain_community.llms import LlamaCpp\n",
    "from langchain_community.chat_models import ChatOllama\n",
    "from langchain_core.callbacks import CallbackManager, StreamingStdOutCallbackHandler\n",
    "\n",
    "\n",
    "llama3_tokens = {\n",
    "    'first_token': '<|begin_of_text|>',\n",
    "    'start_header': '<|start_header_id|>', \n",
    "    'end_header': '<|end_header_id|>', \n",
    "    'end_message': '<|eot_id|>'\n",
    "}\n",
    "gemma2_tokens = {\n",
    "    'first_token': '',\n",
    "    'start_header': '<start_of_turn>',\n",
    "    'end_header': '',\n",
    "    'end_message': '<end_of_turn>'\n",
    "}\n",
    "\n",
    "def get_llm(path):\n",
    "\n",
    "    model = LlamaCpp(\n",
    "        model_path=path,\n",
    "        temperature=0,\n",
    "        n_ctx=8192,\n",
    "        max_tokens=2000,\n",
    "        top_p=1,\n",
    "        repeat_penalty=1.1,\n",
    "        # callback_manager=CallbackManager([StreamingStdOutCallbackHandler()]),\n",
    "        verbose=False,\n",
    "        n_gpu_layers=33\n",
    "    )\n",
    "    return model\n",
    "\n",
    "def get_chat(model_name):\n",
    "    chat = ChatOllama(model=model_name, temperature=0)\n",
    "    return chat"
   ]
  },
  {
   "cell_type": "code",
   "execution_count": 79,
   "id": "c47117eb-c0a8-4e34-b438-066b64c3653f",
   "metadata": {},
   "outputs": [],
   "source": [
    "generation_prompt_candidate_1 = \"\"\"{first_token}{start_header}system{end_header}\n",
    "\n",
    "Ты — русскоязычный автоматический ассистент для генерации статей и постов в социальные сети. Твоя задача — синтезировать результаты веб-поиска для создания качественного контента.\n",
    "\n",
    "Инструкции:\n",
    "\n",
    "Используй только необходимую информацию из контекста веб-поиска.\n",
    "Не придумывай факты и не добавляй вымышленные данные.\n",
    "Следуй требованиям к тексту, указанным ниже.\n",
    "Сохраняй цельность и логичность поста.\n",
    "Требования к тексту:\n",
    "\n",
    "Тема: «{topic}»\n",
    "Социальная сеть: «{platform}»\n",
    "Целевая аудитория: «{audience}»\n",
    "Дополнительная информация: «{additional_information}»\n",
    "Контекст веб-поиска: «{context}»\n",
    "Пример формата поста:\n",
    "\n",
    "Введение: Кратко введи в тему, привлеки внимание аудитории.\n",
    "Основная часть: Представь ключевые факты и информацию, выделенные в результате веб-поиска.\n",
    "Заключение: Подведи итог, предложи действия или задавай вопросы аудитории для вовлечения.\n",
    "Контент:\n",
    "\n",
    "{end_message}{start_header}assistant{end_header}\\n\"\"\"\n",
    "\n",
    "generation_prompt_candidate_2 = \"\"\"{first_token}{start_header}system{end_header}\n",
    "\n",
    "Ты — русскоязычный автоматический ассистент для генерации статей и постов в социальные сети. Твоя задача — использовать результаты веб-поиска для создания информативного и привлекательного контента.\n",
    "\n",
    "Инструкции:\n",
    "\n",
    "Используй только проверенную информацию из контекста веб-поиска.\n",
    "Не добавляй вымышленные данные.\n",
    "Создай текст, который соответствует требованиям ниже.\n",
    "Убедись, что пост логичен и цельный.\n",
    "Требования к тексту:\n",
    "\n",
    "Тема: «{topic}»\n",
    "Социальная сеть: «{platform}»\n",
    "Целевая аудитория: «{audience}»\n",
    "Дополнительная информация: «{additional_information}»\n",
    "Контекст веб-поиска: «{context}»\n",
    "Формат поста:\n",
    "\n",
    "Заголовок: Привлекающий внимание и отражающий суть темы.\n",
    "Введение: Краткий обзор темы.\n",
    "Основная часть: Основные факты и информация из контекста веб-поиска.\n",
    "Заключение: Резюме и призыв к действию.\n",
    "Контент:\n",
    "\n",
    "{end_message}{start_header}assistant{end_header}\\n\"\"\"\n",
    "\n",
    "generation_prompt_candidate_3 = \"\"\"{first_token}{start_header}system{end_header}\n",
    "\n",
    "Ты — русскоязычный автоматический ассистент для создания статей и постов в социальные сети. Твоя цель — использовать результаты веб-поиска для создания информативного и интересного контента.\n",
    "\n",
    "Инструкции:\n",
    "\n",
    "Бери информацию только из контекста веб-поиска.\n",
    "Не добавляй вымышленные или неподтвержденные данные.\n",
    "Следуй структуре и требованиям к тексту, описанным ниже и учитывай формат социальной сети.\n",
    "Убедись, что текст логичен и связен.\n",
    "Требования к тексту:\n",
    "\n",
    "Тема: «{topic}»\n",
    "Социальная сеть: «{platform}»\n",
    "Целевая аудитория: «{audience}»\n",
    "Дополнительная информация: «{additional_information}»\n",
    "Контекст веб-поиска: «{context}»\n",
    "Структура поста:\n",
    "\n",
    "Заголовок: Яркий и цепляющий.\n",
    "Введение: Привлечение внимания, краткий обзор темы.\n",
    "Основная часть: Подробная информация и факты из контекста веб-поиска.\n",
    "Заключение: Итоговые мысли и призыв к взаимодействию с аудиторией.\n",
    "\n",
    "Особенности социальной сети:\n",
    "\n",
    "Facebook: Используй четкие и информативные заголовки, добавь ссылки и изображения.\n",
    "Instagram: Краткость. Используй хэштеги и эмодзи.\n",
    "Twitter: Лаконичность, не более 280 символов. Включи хэштеги и упоминания.\n",
    "LinkedIn: Профессиональный и деловой тон. Включи ссылки на источники и исследования.\n",
    "Вконтакте: Вовлекающие заголовки, ориентация на активное взаимодействие с аудиторией в комментариях.\n",
    "Телеграмм: Компактные и содержательные, часто используются для быстрого информирования и взаимодействия через каналы.\n",
    "\n",
    "Контент:\n",
    "\n",
    "{end_message}{start_header}assistant{end_header}\\n\"\"\"\n",
    "\n",
    "generation_candidates = [\n",
    "    generation_prompt_candidate_1,\n",
    "    generation_prompt_candidate_2,\n",
    "    generation_prompt_candidate_3\n",
    "]"
   ]
  },
  {
   "cell_type": "code",
   "execution_count": 83,
   "id": "17237730-d622-410d-93a8-a05f8b3f7907",
   "metadata": {},
   "outputs": [],
   "source": [
    "from langchain_core.output_parsers import JsonOutputParser, StrOutputParser\n",
    "from langchain_core.prompts import PromptTemplate\n",
    "\n",
    "import pandas as pd\n",
    "import tqdm\n",
    "from langchain_core.exceptions import OutputParserException\n",
    "\n",
    "\n",
    "def get_generation_prompt(prompt):\n",
    "    generation_prompt = PromptTemplate(\n",
    "        template=prompt,\n",
    "        input_variables=[\"first_token\", \"start_header\", \"end_header\", \"end_message\", \"topic\", \n",
    "                         \"platform\", \"audience\", \"additional_information\", \"context\"],\n",
    "    )\n",
    "    return generation_prompt"
   ]
  },
  {
   "cell_type": "code",
   "execution_count": 86,
   "id": "f6426889-9c2d-408d-97a5-1ba7ba01b0c5",
   "metadata": {},
   "outputs": [
    {
     "name": "stderr",
     "output_type": "stream",
     "text": [
      "100%|██████████████████████████████████████████████████████████████████████████████████| 40/40 [04:32<00:00,  6.81s/it]\n",
      "100%|██████████████████████████████████████████████████████████████████████████████████| 40/40 [05:44<00:00,  8.60s/it]\n",
      "100%|██████████████████████████████████████████████████████████████████████████████████| 40/40 [04:50<00:00,  7.27s/it]\n"
     ]
    }
   ],
   "source": [
    "from langchain_core.output_parsers import StrOutputParser\n",
    "\n",
    "llm = get_chat(model)\n",
    "input_dict = gemma2_tokens.copy()\n",
    "\n",
    "results = pd.DataFrame()\n",
    "\n",
    "for candidate in generation_candidates:\n",
    "    generation_prompt = get_generation_prompt(candidate)\n",
    "    generation_chain = generation_prompt | llm | StrOutputParser()\n",
    "    outputs = {}\n",
    "\n",
    "    for num, row in tqdm.tqdm(data.reset_index().iterrows(), total=40):\n",
    "        input_dict[\"topic\"] = row[\"Тема\"]\n",
    "        input_dict[\"platform\"] = row[\"Социальная сеть\"]\n",
    "        input_dict[\"audience\"] = row[\"Целевая аудитория\"]\n",
    "        input_dict[\"additional_information\"] = row[\"Дополнительная информация\"]\n",
    "        input_dict[\"context\"] = row[\"context\"]\n",
    "        try:\n",
    "            output = {\"content\": generation_chain.invoke(input_dict)}\n",
    "        except Exception as error:\n",
    "            print(error)\n",
    "            output ={\"content\": \"\"}\n",
    "        \n",
    "        # output = {key: output.get(key, None) for key in [\"queries\"]}\n",
    "        output[\"num_message\"] = num\n",
    "        for key in output.keys():\n",
    "            outputs[key] = outputs.get(key, []) + [output[key]]\n",
    "\n",
    "    df = pd.DataFrame.from_dict(outputs)\n",
    "    df['stage'] = \"generation\"\n",
    "    df['prompt'] = generation_candidates.index(candidate)\n",
    "    results = pd.concat([results, df], axis=0)\n",
    "    results.to_csv('./data/generation_results.csv', index=False)"
   ]
  },
  {
   "cell_type": "code",
   "execution_count": 87,
   "id": "76a6700d-7f57-4207-87df-5a85a601c4c1",
   "metadata": {},
   "outputs": [
    {
     "data": {
      "text/html": [
       "<div>\n",
       "<style scoped>\n",
       "    .dataframe tbody tr th:only-of-type {\n",
       "        vertical-align: middle;\n",
       "    }\n",
       "\n",
       "    .dataframe tbody tr th {\n",
       "        vertical-align: top;\n",
       "    }\n",
       "\n",
       "    .dataframe thead th {\n",
       "        text-align: right;\n",
       "    }\n",
       "</style>\n",
       "<table border=\"1\" class=\"dataframe\">\n",
       "  <thead>\n",
       "    <tr style=\"text-align: right;\">\n",
       "      <th></th>\n",
       "      <th>content</th>\n",
       "      <th>num_message</th>\n",
       "      <th>stage</th>\n",
       "      <th>prompt</th>\n",
       "    </tr>\n",
       "  </thead>\n",
       "  <tbody>\n",
       "    <tr>\n",
       "      <th>0</th>\n",
       "      <td>##  📚 Ищешь вдохновение и хочешь расширить сво...</td>\n",
       "      <td>0</td>\n",
       "      <td>generation</td>\n",
       "      <td>0</td>\n",
       "    </tr>\n",
       "    <tr>\n",
       "      <th>1</th>\n",
       "      <td>##  Сколько книг нужно читать в год? 🤔 \\n\\nЭто...</td>\n",
       "      <td>1</td>\n",
       "      <td>generation</td>\n",
       "      <td>0</td>\n",
       "    </tr>\n",
       "    <tr>\n",
       "      <th>2</th>\n",
       "      <td>##  ☀️ Утренняя зарядка - залог продуктивного ...</td>\n",
       "      <td>2</td>\n",
       "      <td>generation</td>\n",
       "      <td>0</td>\n",
       "    </tr>\n",
       "    <tr>\n",
       "      <th>3</th>\n",
       "      <td>##  Когда трудности становятся трамплином к ус...</td>\n",
       "      <td>3</td>\n",
       "      <td>generation</td>\n",
       "      <td>0</td>\n",
       "    </tr>\n",
       "    <tr>\n",
       "      <th>4</th>\n",
       "      <td>##  🌸 Весенняя обрезка плодовых деревьев: не п...</td>\n",
       "      <td>4</td>\n",
       "      <td>generation</td>\n",
       "      <td>0</td>\n",
       "    </tr>\n",
       "    <tr>\n",
       "      <th>...</th>\n",
       "      <td>...</td>\n",
       "      <td>...</td>\n",
       "      <td>...</td>\n",
       "      <td>...</td>\n",
       "    </tr>\n",
       "    <tr>\n",
       "      <th>35</th>\n",
       "      <td>##  🚀 Как построить команду мечты? 🏆\\n\\nРабота...</td>\n",
       "      <td>35</td>\n",
       "      <td>generation</td>\n",
       "      <td>2</td>\n",
       "    </tr>\n",
       "    <tr>\n",
       "      <th>36</th>\n",
       "      <td>##  🤢  Задыхаемся от смога? Как воздух влияет ...</td>\n",
       "      <td>36</td>\n",
       "      <td>generation</td>\n",
       "      <td>2</td>\n",
       "    </tr>\n",
       "    <tr>\n",
       "      <th>37</th>\n",
       "      <td>##  Хочешь быть харизматичным? Развивай свои к...</td>\n",
       "      <td>37</td>\n",
       "      <td>generation</td>\n",
       "      <td>2</td>\n",
       "    </tr>\n",
       "    <tr>\n",
       "      <th>38</th>\n",
       "      <td>##  Путешествия - это не просто отдых, а личны...</td>\n",
       "      <td>38</td>\n",
       "      <td>generation</td>\n",
       "      <td>2</td>\n",
       "    </tr>\n",
       "    <tr>\n",
       "      <th>39</th>\n",
       "      <td>##  Хочешь добиться своих целей? 💪 Начни с сам...</td>\n",
       "      <td>39</td>\n",
       "      <td>generation</td>\n",
       "      <td>2</td>\n",
       "    </tr>\n",
       "  </tbody>\n",
       "</table>\n",
       "<p>120 rows × 4 columns</p>\n",
       "</div>"
      ],
      "text/plain": [
       "                                              content  num_message  \\\n",
       "0   ##  📚 Ищешь вдохновение и хочешь расширить сво...            0   \n",
       "1   ##  Сколько книг нужно читать в год? 🤔 \\n\\nЭто...            1   \n",
       "2   ##  ☀️ Утренняя зарядка - залог продуктивного ...            2   \n",
       "3   ##  Когда трудности становятся трамплином к ус...            3   \n",
       "4   ##  🌸 Весенняя обрезка плодовых деревьев: не п...            4   \n",
       "..                                                ...          ...   \n",
       "35  ##  🚀 Как построить команду мечты? 🏆\\n\\nРабота...           35   \n",
       "36  ##  🤢  Задыхаемся от смога? Как воздух влияет ...           36   \n",
       "37  ##  Хочешь быть харизматичным? Развивай свои к...           37   \n",
       "38  ##  Путешествия - это не просто отдых, а личны...           38   \n",
       "39  ##  Хочешь добиться своих целей? 💪 Начни с сам...           39   \n",
       "\n",
       "         stage  prompt  \n",
       "0   generation       0  \n",
       "1   generation       0  \n",
       "2   generation       0  \n",
       "3   generation       0  \n",
       "4   generation       0  \n",
       "..         ...     ...  \n",
       "35  generation       2  \n",
       "36  generation       2  \n",
       "37  generation       2  \n",
       "38  generation       2  \n",
       "39  generation       2  \n",
       "\n",
       "[120 rows x 4 columns]"
      ]
     },
     "execution_count": 87,
     "metadata": {},
     "output_type": "execute_result"
    }
   ],
   "source": [
    "results"
   ]
  },
  {
   "cell_type": "code",
   "execution_count": 93,
   "id": "43b7c667-3be0-49f8-9392-12496ad1bf39",
   "metadata": {},
   "outputs": [
    {
     "data": {
      "text/plain": [
       "'##  Чистый воздух - залог здоровья! 🍃\\n\\nМы все хотим быть здоровыми и энергичными, но мало кто задумывается о том, как на наше здоровье влияет окружающая среда. 😮  \\n\\n**Оказывается, загрязнение воздуха - одна из главных угроз для нашего организма.** Выхлопные газы, промышленные выбросы и мусоросжигательные заводы выбрасывают в атмосферу вредные вещества, которые попадают в наши легкие и кровь. 😔\\n\\n**Что же это значит для нас?** \\n\\n* **Сердечно-сосудистые заболевания**,\\n* **Проблемы с репродуктивной системой**,\\n* **Болезни нервной системы**,\\n* **Сахарный диабет**,\\n* **Рак**,\\n* **Заболевания легких** - вот лишь некоторые из последствий загрязнения воздуха. 😨\\n\\n**Но есть и хорошие новости!** 💪 Мы можем бороться с этой проблемой:\\n\\n* **Переход на возобновляемые источники энергии**,\\n* **Развитие экологичного транспорта**,\\n* **Озеленение городов**,\\n* **Создание велосипедной инфраструктуры** - все это поможет нам дышать чистым воздухом. 🌳🚲\\n\\n**А что вы можете сделать для себя?** 🤔\\n\\n* Установите дома очиститель воздуха,\\n* Гуляйте на свежем воздухе вдали от промышленных зон,\\n* Поддерживайте экологические инициативы!\\n\\n\\nДавайте вместе сделаем мир чище и здоровее! 💚 \\n'"
      ]
     },
     "execution_count": 93,
     "metadata": {},
     "output_type": "execute_result"
    }
   ],
   "source": [
    "results[results[\"num_message\"] == 36].iloc[0].content"
   ]
  },
  {
   "cell_type": "code",
   "execution_count": 94,
   "id": "4ac41985-49a4-4ff3-bde7-05da300bb74e",
   "metadata": {},
   "outputs": [
    {
     "data": {
      "text/markdown": [
       "##  Чистый воздух - залог здоровья! 🍃\n",
       "\n",
       "Мы все хотим быть здоровыми и энергичными, но мало кто задумывается о том, как на наше здоровье влияет окружающая среда. 😮  \n",
       "\n",
       "**Оказывается, загрязнение воздуха - одна из главных угроз для нашего организма.** Выхлопные газы, промышленные выбросы и мусоросжигательные заводы выбрасывают в атмосферу вредные вещества, которые попадают в наши легкие и кровь. 😔\n",
       "\n",
       "**Что же это значит для нас?** \n",
       "\n",
       "* **Сердечно-сосудистые заболевания**,\n",
       "* **Проблемы с репродуктивной системой**,\n",
       "* **Болезни нервной системы**,\n",
       "* **Сахарный диабет**,\n",
       "* **Рак**,\n",
       "* **Заболевания легких** - вот лишь некоторые из последствий загрязнения воздуха. 😨\n",
       "\n",
       "**Но есть и хорошие новости!** 💪 Мы можем бороться с этой проблемой:\n",
       "\n",
       "* **Переход на возобновляемые источники энергии**,\n",
       "* **Развитие экологичного транспорта**,\n",
       "* **Озеленение городов**,\n",
       "* **Создание велосипедной инфраструктуры** - все это поможет нам дышать чистым воздухом. 🌳🚲\n",
       "\n",
       "**А что вы можете сделать для себя?** 🤔\n",
       "\n",
       "* Установите дома очиститель воздуха,\n",
       "* Гуляйте на свежем воздухе вдали от промышленных зон,\n",
       "* Поддерживайте экологические инициативы!\n",
       "\n",
       "\n",
       "Давайте вместе сделаем мир чище и здоровее! 💚 \n"
      ],
      "text/plain": [
       "<IPython.core.display.Markdown object>"
      ]
     },
     "metadata": {},
     "output_type": "display_data"
    }
   ],
   "source": [
    "from IPython.display import display, Markdown\n",
    "\n",
    "display(Markdown(results[results[\"num_message\"] == 36].iloc[0].content))"
   ]
  },
  {
   "cell_type": "code",
   "execution_count": 95,
   "id": "1ab3fbb7-e97f-413f-9536-41213f4539bf",
   "metadata": {},
   "outputs": [
    {
     "data": {
      "text/markdown": [
       "##  🤢  Задыхаемся в городе? Как воздух влияет на наше здоровье! 🌳\n",
       "\n",
       "Мы все знаем, что свежий воздух полезен, но знали ли вы, что загрязнение воздуха может серьезно угрожать нашему здоровью? 😔  Это не просто неприятный запах - это реальная опасность, которая приводит к болезням и даже преждевременной смерти. \n",
       "\n",
       "**Что же загрязняет наш воздух?** 🏭🚗💨\n",
       "\n",
       "* Выхлопные газы от автомобилей\n",
       "* Сжигание угля на промышленных предприятиях\n",
       "* Мусоросжигательные заводы\n",
       "\n",
       "Самыми опасными являются мельчайшие частицы, которые проникают глубоко в наши легкие и даже кровь!  🩸 🫁\n",
       "\n",
       "**Влияние загрязнения воздуха на здоровье:**\n",
       "\n",
       "* Заболевания сердечно-сосудистой системы\n",
       "* Проблемы с репродуктивной системой\n",
       "* Болезни нервной системы\n",
       "* Сахарный диабет\n",
       "* Рак\n",
       "* Болезни легких\n",
       "\n",
       "😱  Даже беременность может быть подвержена риску из-за загрязнения воздуха, повышая вероятность рождения детей с пороками развития. 👶\n",
       "\n",
       "**Но есть и хорошие новости! 💪** Мы можем бороться с загрязнением воздуха:\n",
       "\n",
       "* Внедрять современные фильтры на промышленных предприятиях\n",
       "* Переходить на возобновляемые источники энергии\n",
       "* Создавать велосипедную инфраструктуру\n",
       "* Перерабатывать вторсырье\n",
       "* Озеленять города\n",
       "* Развивать экологичное сельское хозяйство\n",
       "\n",
       "**А что вы можете сделать для себя?** 🏡🚶‍♀️🌳\n",
       "\n",
       "* Установите дома кондиционер, очиститель и увлажнитель воздуха.\n",
       "* Гуляйте на свежем воздухе вдали от городов.\n",
       "* Поддерживайте инициативы по защите окружающей среды!\n",
       "\n",
       "\n",
       "Давайте вместе сделаем воздух чище и жизнь здоровее! 💚  #здоровье #окружающаясреда #загрязнениевоздуха #экология \n",
       "\n"
      ],
      "text/plain": [
       "<IPython.core.display.Markdown object>"
      ]
     },
     "metadata": {},
     "output_type": "display_data"
    }
   ],
   "source": [
    "display(Markdown(results[results[\"num_message\"] == 36].iloc[1].content))"
   ]
  },
  {
   "cell_type": "code",
   "execution_count": 96,
   "id": "dda072a9-f649-4f8d-a992-7cdba3bfc2a2",
   "metadata": {},
   "outputs": [
    {
     "data": {
      "text/markdown": [
       "##  🤢  Задыхаемся от смога? Как воздух влияет на наше здоровье! 💨\n",
       "\n",
       "Мы все хотим быть здоровыми, но мало кто задумывается о том, как на нас влияет окружающая среда. А ведь именно она – наш главный союзник или враг в борьбе за благополучие! 🌎\n",
       "\n",
       "Сегодня поговорим о загрязнении воздуха, которое становится всё более актуальной проблемой.  🚗🏭💨 Выхлопные газы, промышленные выбросы и мусоросжигательные заводы выбрасывают в атмосферу вредные вещества, которые негативно сказываются на нашем здоровье. 🤧\n",
       "\n",
       "**Самые опасные из них – мелкие твердые частицы (сажа, пыль), которые проникают в кровь и нарушают работу сосудов.**  🩸 Это приводит к:\n",
       "\n",
       "* Заболеваниям сердца и сосудов\n",
       "* Проблемам с репродуктивной системой\n",
       "* Болезням нервной системы\n",
       "* Сахарному диабету\n",
       "* Рак\n",
       "* Хроническим заболеваниям легких\n",
       "\n",
       "😱 А это ещё не всё! \n",
       "\n",
       "**Загрязнение воздуха даже повышает вероятность рождения детей с пороками развития.**  👶\n",
       "\n",
       "Но есть и хорошие новости! 💪 Мы можем бороться с этой проблемой:\n",
       "\n",
       "* Внедрять современные фильтры на промышленных предприятиях\n",
       "* Переходить на возобновляемые источники энергии ☀️\n",
       "* Создавать велосипедную инфраструктуру 🚲\n",
       "* Перерабатывать вторсырье ♻️\n",
       "* Озеленять города🌳\n",
       "* Развивать экологичное сельское хозяйство 🌾\n",
       "\n",
       "**А что вы можете сделать для себя?** 🤔\n",
       "\n",
       "* Установите дома кондиционер, очиститель, увлажнитель и ионизатор воздуха.\n",
       "* Гуляйте на свежем воздухе вдали от городов.\n",
       "* Поддерживайте инициативы по улучшению экологической обстановки! 🤝\n",
       "\n",
       "\n",
       "**Давайте вместе сделаем мир чище и здоровее!  🌎❤️**\n",
       "\n",
       "#здоровье #окружающаясреда #загрязнениевоздуха #экология #чистыйвоздух #смог #берегисебя #будьтездоровы\n",
       "\n",
       "\n",
       "\n"
      ],
      "text/plain": [
       "<IPython.core.display.Markdown object>"
      ]
     },
     "metadata": {},
     "output_type": "display_data"
    }
   ],
   "source": [
    "display(Markdown(results[results[\"num_message\"] == 36].iloc[2].content))"
   ]
  },
  {
   "cell_type": "code",
   "execution_count": 129,
   "id": "fdc83193-5fa9-43a3-b250-11862eb46f41",
   "metadata": {},
   "outputs": [],
   "source": [
    "import nest_asyncio\n",
    "nest_asyncio.apply()"
   ]
  },
  {
   "cell_type": "code",
   "execution_count": 159,
   "id": "796cb158-39e7-4f14-bd5c-9fb3f13ed068",
   "metadata": {},
   "outputs": [],
   "source": [
    "with open(\"../data/user_messages.txt\", \"r\", encoding='UTF-8') as file:\n",
    "    messages = [line.rstrip() for line in file]\n",
    "\n",
    "test_dataset = pd.DataFrame()\n",
    "test_dataset[\"question\"] = messages * 3\n",
    "test_dataset[\"contexts\"] = test_dataset[\"question\"].apply(lambda x: [summary_dict[q] for q in eval(queries_dict[messages.index(x)])])\n",
    "test_dataset[\"answer\"] = results[\"content\"].tolist()\n",
    "test_dataset[\"ground_truth\"] = test_dataset[\"answer\"].copy()"
   ]
  },
  {
   "cell_type": "code",
   "execution_count": 165,
   "id": "3cb77ab2-8201-4818-8382-703c64c414bf",
   "metadata": {},
   "outputs": [
    {
     "data": {
      "application/vnd.jupyter.widget-view+json": {
       "model_id": "e0b8c9a9ec584b68b0f17cb9ab1e0ffb",
       "version_major": 2,
       "version_minor": 0
      },
      "text/plain": [
       "Evaluating:   0%|          | 0/4 [00:00<?, ?it/s]"
      ]
     },
     "metadata": {},
     "output_type": "display_data"
    },
    {
     "name": "stderr",
     "output_type": "stream",
     "text": [
      "C:\\Users\\Khoreks\\AppData\\Local\\Temp\\ipykernel_25680\\3813381523.py:38: FutureWarning: The behavior of DataFrame concatenation with empty or all-NA entries is deprecated. In a future version, this will no longer exclude empty or all-NA columns when determining the result dtypes. To retain the old behavior, exclude the relevant entries before the concat operation.\n",
      "  metrics = pd.concat([metrics, pd.DataFrame([r])], axis=0)\n"
     ]
    },
    {
     "data": {
      "application/vnd.jupyter.widget-view+json": {
       "model_id": "c57702dfb1f74be6bd515b3fb2f6ce5d",
       "version_major": 2,
       "version_minor": 0
      },
      "text/plain": [
       "Evaluating:   0%|          | 0/4 [00:00<?, ?it/s]"
      ]
     },
     "metadata": {},
     "output_type": "display_data"
    },
    {
     "data": {
      "application/vnd.jupyter.widget-view+json": {
       "model_id": "3c895ab2650040aebbec46e64562ffc5",
       "version_major": 2,
       "version_minor": 0
      },
      "text/plain": [
       "Evaluating:   0%|          | 0/4 [00:00<?, ?it/s]"
      ]
     },
     "metadata": {},
     "output_type": "display_data"
    },
    {
     "data": {
      "application/vnd.jupyter.widget-view+json": {
       "model_id": "666f4ee21885451d8cd2a303baa727a2",
       "version_major": 2,
       "version_minor": 0
      },
      "text/plain": [
       "Evaluating:   0%|          | 0/4 [00:00<?, ?it/s]"
      ]
     },
     "metadata": {},
     "output_type": "display_data"
    },
    {
     "name": "stderr",
     "output_type": "stream",
     "text": [
      "Failed to parse output. Returning None.\n",
      "D:\\programs\\miniconda3\\envs\\llm_eval\\Lib\\site-packages\\ragas\\evaluation.py:304: RuntimeWarning: Mean of empty slice\n",
      "  value = np.nanmean(self.scores[cn])\n"
     ]
    },
    {
     "data": {
      "application/vnd.jupyter.widget-view+json": {
       "model_id": "7f3419dac0d547188502c9318b910d61",
       "version_major": 2,
       "version_minor": 0
      },
      "text/plain": [
       "Evaluating:   0%|          | 0/4 [00:00<?, ?it/s]"
      ]
     },
     "metadata": {},
     "output_type": "display_data"
    },
    {
     "name": "stderr",
     "output_type": "stream",
     "text": [
      "Failed to parse output. Returning None.\n",
      "Failed to parse output. Returning None.\n",
      "D:\\programs\\miniconda3\\envs\\llm_eval\\Lib\\site-packages\\ragas\\evaluation.py:304: RuntimeWarning: Mean of empty slice\n",
      "  value = np.nanmean(self.scores[cn])\n"
     ]
    },
    {
     "data": {
      "application/vnd.jupyter.widget-view+json": {
       "model_id": "32b733ae899e47cda1597b8098448b6c",
       "version_major": 2,
       "version_minor": 0
      },
      "text/plain": [
       "Evaluating:   0%|          | 0/4 [00:00<?, ?it/s]"
      ]
     },
     "metadata": {},
     "output_type": "display_data"
    },
    {
     "name": "stderr",
     "output_type": "stream",
     "text": [
      "Failed to parse output. Returning None.\n",
      "D:\\programs\\miniconda3\\envs\\llm_eval\\Lib\\site-packages\\ragas\\evaluation.py:304: RuntimeWarning: Mean of empty slice\n",
      "  value = np.nanmean(self.scores[cn])\n"
     ]
    },
    {
     "data": {
      "application/vnd.jupyter.widget-view+json": {
       "model_id": "a2a85167f9d24d438562fff7586f5a96",
       "version_major": 2,
       "version_minor": 0
      },
      "text/plain": [
       "Evaluating:   0%|          | 0/4 [00:00<?, ?it/s]"
      ]
     },
     "metadata": {},
     "output_type": "display_data"
    },
    {
     "data": {
      "application/vnd.jupyter.widget-view+json": {
       "model_id": "72a50560499e47d7bc5ce742505ffa65",
       "version_major": 2,
       "version_minor": 0
      },
      "text/plain": [
       "Evaluating:   0%|          | 0/4 [00:00<?, ?it/s]"
      ]
     },
     "metadata": {},
     "output_type": "display_data"
    },
    {
     "name": "stderr",
     "output_type": "stream",
     "text": [
      "Failed to parse output. Returning None.\n",
      "D:\\programs\\miniconda3\\envs\\llm_eval\\Lib\\site-packages\\ragas\\evaluation.py:304: RuntimeWarning: Mean of empty slice\n",
      "  value = np.nanmean(self.scores[cn])\n"
     ]
    },
    {
     "data": {
      "application/vnd.jupyter.widget-view+json": {
       "model_id": "941df586bf0f43f999bd4b6678b11eb2",
       "version_major": 2,
       "version_minor": 0
      },
      "text/plain": [
       "Evaluating:   0%|          | 0/4 [00:00<?, ?it/s]"
      ]
     },
     "metadata": {},
     "output_type": "display_data"
    },
    {
     "data": {
      "application/vnd.jupyter.widget-view+json": {
       "model_id": "c608a90b19f74c43b3620a7780de2d27",
       "version_major": 2,
       "version_minor": 0
      },
      "text/plain": [
       "Evaluating:   0%|          | 0/4 [00:00<?, ?it/s]"
      ]
     },
     "metadata": {},
     "output_type": "display_data"
    },
    {
     "data": {
      "application/vnd.jupyter.widget-view+json": {
       "model_id": "a1740e221e2348e1bf8dad5422489f7f",
       "version_major": 2,
       "version_minor": 0
      },
      "text/plain": [
       "Evaluating:   0%|          | 0/4 [00:00<?, ?it/s]"
      ]
     },
     "metadata": {},
     "output_type": "display_data"
    },
    {
     "name": "stderr",
     "output_type": "stream",
     "text": [
      "Failed to parse output. Returning None.\n",
      "D:\\programs\\miniconda3\\envs\\llm_eval\\Lib\\site-packages\\ragas\\evaluation.py:304: RuntimeWarning: Mean of empty slice\n",
      "  value = np.nanmean(self.scores[cn])\n"
     ]
    },
    {
     "data": {
      "application/vnd.jupyter.widget-view+json": {
       "model_id": "6e71065b3b954cfe9040428391f67e5f",
       "version_major": 2,
       "version_minor": 0
      },
      "text/plain": [
       "Evaluating:   0%|          | 0/4 [00:00<?, ?it/s]"
      ]
     },
     "metadata": {},
     "output_type": "display_data"
    },
    {
     "name": "stderr",
     "output_type": "stream",
     "text": [
      "Failed to parse output. Returning None.\n",
      "D:\\programs\\miniconda3\\envs\\llm_eval\\Lib\\site-packages\\ragas\\evaluation.py:304: RuntimeWarning: Mean of empty slice\n",
      "  value = np.nanmean(self.scores[cn])\n"
     ]
    },
    {
     "data": {
      "application/vnd.jupyter.widget-view+json": {
       "model_id": "81f3d9faad1c441493edf543697ea3b6",
       "version_major": 2,
       "version_minor": 0
      },
      "text/plain": [
       "Evaluating:   0%|          | 0/4 [00:00<?, ?it/s]"
      ]
     },
     "metadata": {},
     "output_type": "display_data"
    },
    {
     "name": "stderr",
     "output_type": "stream",
     "text": [
      "Failed to parse output. Returning None.\n",
      "D:\\programs\\miniconda3\\envs\\llm_eval\\Lib\\site-packages\\ragas\\evaluation.py:304: RuntimeWarning: Mean of empty slice\n",
      "  value = np.nanmean(self.scores[cn])\n"
     ]
    },
    {
     "data": {
      "application/vnd.jupyter.widget-view+json": {
       "model_id": "eb4e876bb7c94570a65ff0ac7e505829",
       "version_major": 2,
       "version_minor": 0
      },
      "text/plain": [
       "Evaluating:   0%|          | 0/4 [00:00<?, ?it/s]"
      ]
     },
     "metadata": {},
     "output_type": "display_data"
    },
    {
     "data": {
      "application/vnd.jupyter.widget-view+json": {
       "model_id": "c8ebd08459544d4ab34435811a20d2c2",
       "version_major": 2,
       "version_minor": 0
      },
      "text/plain": [
       "Evaluating:   0%|          | 0/4 [00:00<?, ?it/s]"
      ]
     },
     "metadata": {},
     "output_type": "display_data"
    },
    {
     "data": {
      "application/vnd.jupyter.widget-view+json": {
       "model_id": "9edcbb9c710c4008b00ba8803993625c",
       "version_major": 2,
       "version_minor": 0
      },
      "text/plain": [
       "Evaluating:   0%|          | 0/4 [00:00<?, ?it/s]"
      ]
     },
     "metadata": {},
     "output_type": "display_data"
    },
    {
     "data": {
      "application/vnd.jupyter.widget-view+json": {
       "model_id": "d944e7f3e280450f9b824ad9c5098624",
       "version_major": 2,
       "version_minor": 0
      },
      "text/plain": [
       "Evaluating:   0%|          | 0/4 [00:00<?, ?it/s]"
      ]
     },
     "metadata": {},
     "output_type": "display_data"
    },
    {
     "data": {
      "application/vnd.jupyter.widget-view+json": {
       "model_id": "51d33901c0fc45e1917ba9ab57502c03",
       "version_major": 2,
       "version_minor": 0
      },
      "text/plain": [
       "Evaluating:   0%|          | 0/4 [00:00<?, ?it/s]"
      ]
     },
     "metadata": {},
     "output_type": "display_data"
    },
    {
     "data": {
      "application/vnd.jupyter.widget-view+json": {
       "model_id": "0988ce1677ac44259edf768051034966",
       "version_major": 2,
       "version_minor": 0
      },
      "text/plain": [
       "Evaluating:   0%|          | 0/4 [00:00<?, ?it/s]"
      ]
     },
     "metadata": {},
     "output_type": "display_data"
    },
    {
     "data": {
      "application/vnd.jupyter.widget-view+json": {
       "model_id": "9567ef052cdc4d35baebb82ee7476122",
       "version_major": 2,
       "version_minor": 0
      },
      "text/plain": [
       "Evaluating:   0%|          | 0/4 [00:00<?, ?it/s]"
      ]
     },
     "metadata": {},
     "output_type": "display_data"
    },
    {
     "name": "stderr",
     "output_type": "stream",
     "text": [
      "Failed to parse output. Returning None.\n",
      "D:\\programs\\miniconda3\\envs\\llm_eval\\Lib\\site-packages\\ragas\\evaluation.py:304: RuntimeWarning: Mean of empty slice\n",
      "  value = np.nanmean(self.scores[cn])\n"
     ]
    },
    {
     "data": {
      "application/vnd.jupyter.widget-view+json": {
       "model_id": "411192c325454945b630fe038eb4eb15",
       "version_major": 2,
       "version_minor": 0
      },
      "text/plain": [
       "Evaluating:   0%|          | 0/4 [00:00<?, ?it/s]"
      ]
     },
     "metadata": {},
     "output_type": "display_data"
    },
    {
     "data": {
      "application/vnd.jupyter.widget-view+json": {
       "model_id": "fbf9a6f815594febb73c0cea48ccd3bc",
       "version_major": 2,
       "version_minor": 0
      },
      "text/plain": [
       "Evaluating:   0%|          | 0/4 [00:00<?, ?it/s]"
      ]
     },
     "metadata": {},
     "output_type": "display_data"
    },
    {
     "data": {
      "application/vnd.jupyter.widget-view+json": {
       "model_id": "6e8aa3030fd2400a9f9879e4f0f31bd8",
       "version_major": 2,
       "version_minor": 0
      },
      "text/plain": [
       "Evaluating:   0%|          | 0/4 [00:00<?, ?it/s]"
      ]
     },
     "metadata": {},
     "output_type": "display_data"
    },
    {
     "name": "stderr",
     "output_type": "stream",
     "text": [
      "Failed to parse output. Returning None.\n",
      "Failed to parse output. Returning None.\n",
      "Failed to parse output. Returning None.\n",
      "Failed to parse output. Returning None.\n",
      "Failed to parse output. Returning None.\n",
      "Runner in Executor raised an exception\n",
      "Traceback (most recent call last):\n",
      "  File \"D:\\programs\\miniconda3\\envs\\llm_eval\\Lib\\site-packages\\ragas\\executor.py\", line 104, in wrapped_callable_async\n",
      "    result = await callable(*args, **kwargs)\n",
      "             ^^^^^^^^^^^^^^^^^^^^^^^^^^^^^^^\n",
      "  File \"D:\\programs\\miniconda3\\envs\\llm_eval\\Lib\\site-packages\\ragas\\metrics\\base.py\", line 134, in ascore\n",
      "    raise e\n",
      "  File \"D:\\programs\\miniconda3\\envs\\llm_eval\\Lib\\site-packages\\ragas\\metrics\\base.py\", line 127, in ascore\n",
      "    score = await asyncio.wait_for(\n",
      "            ^^^^^^^^^^^^^^^^^^^^^^^\n",
      "  File \"D:\\programs\\miniconda3\\envs\\llm_eval\\Lib\\asyncio\\tasks.py\", line 520, in wait_for\n",
      "    return await fut\n",
      "           ^^^^^^^^^\n",
      "  File \"D:\\programs\\miniconda3\\envs\\llm_eval\\Lib\\site-packages\\ragas\\metrics\\_context_precision.py\", line 183, in _ascore\n",
      "    answers = ContextPrecisionVerifications(__root__=answers)\n",
      "              ^^^^^^^^^^^^^^^^^^^^^^^^^^^^^^^^^^^^^^^^^^^^^^^\n",
      "  File \"D:\\programs\\miniconda3\\envs\\llm_eval\\Lib\\site-packages\\pydantic\\v1\\main.py\", line 341, in __init__\n",
      "    raise validation_error\n",
      "pydantic.v1.error_wrappers.ValidationError: 2 validation errors for ContextPrecisionVerifications\n",
      "__root__ -> 0 -> reason\n",
      "  field required (type=value_error.missing)\n",
      "__root__ -> 0 -> verdict\n",
      "  field required (type=value_error.missing)\n",
      "Failed to parse output. Returning None.\n",
      "D:\\programs\\miniconda3\\envs\\llm_eval\\Lib\\site-packages\\ragas\\evaluation.py:304: RuntimeWarning: Mean of empty slice\n",
      "  value = np.nanmean(self.scores[cn])\n"
     ]
    },
    {
     "data": {
      "application/vnd.jupyter.widget-view+json": {
       "model_id": "9636a45c1ff54ceaba42b1579e22991f",
       "version_major": 2,
       "version_minor": 0
      },
      "text/plain": [
       "Evaluating:   0%|          | 0/4 [00:00<?, ?it/s]"
      ]
     },
     "metadata": {},
     "output_type": "display_data"
    },
    {
     "data": {
      "application/vnd.jupyter.widget-view+json": {
       "model_id": "207f24740f494f7f96587f9b460fce49",
       "version_major": 2,
       "version_minor": 0
      },
      "text/plain": [
       "Evaluating:   0%|          | 0/4 [00:00<?, ?it/s]"
      ]
     },
     "metadata": {},
     "output_type": "display_data"
    },
    {
     "data": {
      "application/vnd.jupyter.widget-view+json": {
       "model_id": "6b6004d9ae0d408590037ae1ee23df9a",
       "version_major": 2,
       "version_minor": 0
      },
      "text/plain": [
       "Evaluating:   0%|          | 0/4 [00:00<?, ?it/s]"
      ]
     },
     "metadata": {},
     "output_type": "display_data"
    },
    {
     "data": {
      "application/vnd.jupyter.widget-view+json": {
       "model_id": "d3fadd8ed437420ba431083f0a169202",
       "version_major": 2,
       "version_minor": 0
      },
      "text/plain": [
       "Evaluating:   0%|          | 0/4 [00:00<?, ?it/s]"
      ]
     },
     "metadata": {},
     "output_type": "display_data"
    },
    {
     "name": "stderr",
     "output_type": "stream",
     "text": [
      "Failed to parse output. Returning None.\n",
      "D:\\programs\\miniconda3\\envs\\llm_eval\\Lib\\site-packages\\ragas\\evaluation.py:304: RuntimeWarning: Mean of empty slice\n",
      "  value = np.nanmean(self.scores[cn])\n"
     ]
    },
    {
     "data": {
      "application/vnd.jupyter.widget-view+json": {
       "model_id": "dc398a5cee914482a22bc100c7030557",
       "version_major": 2,
       "version_minor": 0
      },
      "text/plain": [
       "Evaluating:   0%|          | 0/4 [00:00<?, ?it/s]"
      ]
     },
     "metadata": {},
     "output_type": "display_data"
    },
    {
     "data": {
      "application/vnd.jupyter.widget-view+json": {
       "model_id": "6966b04b37524a6ab63c1053ece0587a",
       "version_major": 2,
       "version_minor": 0
      },
      "text/plain": [
       "Evaluating:   0%|          | 0/4 [00:00<?, ?it/s]"
      ]
     },
     "metadata": {},
     "output_type": "display_data"
    },
    {
     "name": "stderr",
     "output_type": "stream",
     "text": [
      "Failed to parse output. Returning None.\n",
      "D:\\programs\\miniconda3\\envs\\llm_eval\\Lib\\site-packages\\ragas\\evaluation.py:304: RuntimeWarning: Mean of empty slice\n",
      "  value = np.nanmean(self.scores[cn])\n"
     ]
    },
    {
     "data": {
      "application/vnd.jupyter.widget-view+json": {
       "model_id": "ecd3b67e1d1d476885187ba71fc0b769",
       "version_major": 2,
       "version_minor": 0
      },
      "text/plain": [
       "Evaluating:   0%|          | 0/4 [00:00<?, ?it/s]"
      ]
     },
     "metadata": {},
     "output_type": "display_data"
    },
    {
     "data": {
      "application/vnd.jupyter.widget-view+json": {
       "model_id": "b2b5c18204a24f8eac4094afd3c44ad9",
       "version_major": 2,
       "version_minor": 0
      },
      "text/plain": [
       "Evaluating:   0%|          | 0/4 [00:00<?, ?it/s]"
      ]
     },
     "metadata": {},
     "output_type": "display_data"
    },
    {
     "data": {
      "application/vnd.jupyter.widget-view+json": {
       "model_id": "27178c06bd624b4e93d8ecf626c68be9",
       "version_major": 2,
       "version_minor": 0
      },
      "text/plain": [
       "Evaluating:   0%|          | 0/4 [00:00<?, ?it/s]"
      ]
     },
     "metadata": {},
     "output_type": "display_data"
    },
    {
     "data": {
      "application/vnd.jupyter.widget-view+json": {
       "model_id": "1ed988f9870146559a8d2c0dbdea2f21",
       "version_major": 2,
       "version_minor": 0
      },
      "text/plain": [
       "Evaluating:   0%|          | 0/4 [00:00<?, ?it/s]"
      ]
     },
     "metadata": {},
     "output_type": "display_data"
    },
    {
     "data": {
      "application/vnd.jupyter.widget-view+json": {
       "model_id": "74f6684f9d524fe78c10f7dd7ed389b6",
       "version_major": 2,
       "version_minor": 0
      },
      "text/plain": [
       "Evaluating:   0%|          | 0/4 [00:00<?, ?it/s]"
      ]
     },
     "metadata": {},
     "output_type": "display_data"
    },
    {
     "data": {
      "application/vnd.jupyter.widget-view+json": {
       "model_id": "296e98e24823440c90d5530210eb8ac8",
       "version_major": 2,
       "version_minor": 0
      },
      "text/plain": [
       "Evaluating:   0%|          | 0/4 [00:00<?, ?it/s]"
      ]
     },
     "metadata": {},
     "output_type": "display_data"
    },
    {
     "name": "stderr",
     "output_type": "stream",
     "text": [
      "Failed to parse output. Returning None.\n",
      "Failed to parse output. Returning None.\n",
      "D:\\programs\\miniconda3\\envs\\llm_eval\\Lib\\site-packages\\ragas\\evaluation.py:304: RuntimeWarning: Mean of empty slice\n",
      "  value = np.nanmean(self.scores[cn])\n"
     ]
    },
    {
     "data": {
      "application/vnd.jupyter.widget-view+json": {
       "model_id": "9bafced7896644d1b71b60d5ded13297",
       "version_major": 2,
       "version_minor": 0
      },
      "text/plain": [
       "Evaluating:   0%|          | 0/4 [00:00<?, ?it/s]"
      ]
     },
     "metadata": {},
     "output_type": "display_data"
    },
    {
     "name": "stderr",
     "output_type": "stream",
     "text": [
      "Failed to parse output. Returning None.\n",
      "D:\\programs\\miniconda3\\envs\\llm_eval\\Lib\\site-packages\\ragas\\evaluation.py:304: RuntimeWarning: Mean of empty slice\n",
      "  value = np.nanmean(self.scores[cn])\n"
     ]
    },
    {
     "data": {
      "application/vnd.jupyter.widget-view+json": {
       "model_id": "be51c7e6b82a4a7c89566ecf4f18807e",
       "version_major": 2,
       "version_minor": 0
      },
      "text/plain": [
       "Evaluating:   0%|          | 0/4 [00:00<?, ?it/s]"
      ]
     },
     "metadata": {},
     "output_type": "display_data"
    },
    {
     "name": "stderr",
     "output_type": "stream",
     "text": [
      "Failed to parse output. Returning None.\n",
      "D:\\programs\\miniconda3\\envs\\llm_eval\\Lib\\site-packages\\ragas\\evaluation.py:304: RuntimeWarning: Mean of empty slice\n",
      "  value = np.nanmean(self.scores[cn])\n"
     ]
    },
    {
     "data": {
      "application/vnd.jupyter.widget-view+json": {
       "model_id": "92363e4319234782899cc4d3325ac660",
       "version_major": 2,
       "version_minor": 0
      },
      "text/plain": [
       "Evaluating:   0%|          | 0/4 [00:00<?, ?it/s]"
      ]
     },
     "metadata": {},
     "output_type": "display_data"
    },
    {
     "name": "stderr",
     "output_type": "stream",
     "text": [
      "Failed to parse output. Returning None.\n",
      "D:\\programs\\miniconda3\\envs\\llm_eval\\Lib\\site-packages\\ragas\\evaluation.py:304: RuntimeWarning: Mean of empty slice\n",
      "  value = np.nanmean(self.scores[cn])\n"
     ]
    },
    {
     "data": {
      "application/vnd.jupyter.widget-view+json": {
       "model_id": "0298d8934fdb4a46a5aadf87c6f5bb07",
       "version_major": 2,
       "version_minor": 0
      },
      "text/plain": [
       "Evaluating:   0%|          | 0/4 [00:00<?, ?it/s]"
      ]
     },
     "metadata": {},
     "output_type": "display_data"
    },
    {
     "data": {
      "application/vnd.jupyter.widget-view+json": {
       "model_id": "3c618a637e554cc98e34cadc985aaed4",
       "version_major": 2,
       "version_minor": 0
      },
      "text/plain": [
       "Evaluating:   0%|          | 0/4 [00:00<?, ?it/s]"
      ]
     },
     "metadata": {},
     "output_type": "display_data"
    },
    {
     "data": {
      "application/vnd.jupyter.widget-view+json": {
       "model_id": "8f5c1c11fff54302a248850313b33ca1",
       "version_major": 2,
       "version_minor": 0
      },
      "text/plain": [
       "Evaluating:   0%|          | 0/4 [00:00<?, ?it/s]"
      ]
     },
     "metadata": {},
     "output_type": "display_data"
    },
    {
     "name": "stderr",
     "output_type": "stream",
     "text": [
      "Failed to parse output. Returning None.\n",
      "D:\\programs\\miniconda3\\envs\\llm_eval\\Lib\\site-packages\\ragas\\evaluation.py:304: RuntimeWarning: Mean of empty slice\n",
      "  value = np.nanmean(self.scores[cn])\n"
     ]
    },
    {
     "data": {
      "application/vnd.jupyter.widget-view+json": {
       "model_id": "b9907fe96eeb4edf99c3953956e8cae4",
       "version_major": 2,
       "version_minor": 0
      },
      "text/plain": [
       "Evaluating:   0%|          | 0/4 [00:00<?, ?it/s]"
      ]
     },
     "metadata": {},
     "output_type": "display_data"
    },
    {
     "name": "stderr",
     "output_type": "stream",
     "text": [
      "Failed to parse output. Returning None.\n",
      "D:\\programs\\miniconda3\\envs\\llm_eval\\Lib\\site-packages\\ragas\\evaluation.py:304: RuntimeWarning: Mean of empty slice\n",
      "  value = np.nanmean(self.scores[cn])\n"
     ]
    },
    {
     "data": {
      "application/vnd.jupyter.widget-view+json": {
       "model_id": "9000186076af4c44ae532d93849d714f",
       "version_major": 2,
       "version_minor": 0
      },
      "text/plain": [
       "Evaluating:   0%|          | 0/4 [00:00<?, ?it/s]"
      ]
     },
     "metadata": {},
     "output_type": "display_data"
    },
    {
     "data": {
      "application/vnd.jupyter.widget-view+json": {
       "model_id": "074b872b7dd84f99ac57548b781d1549",
       "version_major": 2,
       "version_minor": 0
      },
      "text/plain": [
       "Evaluating:   0%|          | 0/4 [00:00<?, ?it/s]"
      ]
     },
     "metadata": {},
     "output_type": "display_data"
    },
    {
     "name": "stderr",
     "output_type": "stream",
     "text": [
      "Failed to parse output. Returning None.\n",
      "D:\\programs\\miniconda3\\envs\\llm_eval\\Lib\\site-packages\\ragas\\evaluation.py:304: RuntimeWarning: Mean of empty slice\n",
      "  value = np.nanmean(self.scores[cn])\n"
     ]
    },
    {
     "data": {
      "application/vnd.jupyter.widget-view+json": {
       "model_id": "ab49e6541bf14f0b8d50066c72eb79f1",
       "version_major": 2,
       "version_minor": 0
      },
      "text/plain": [
       "Evaluating:   0%|          | 0/4 [00:00<?, ?it/s]"
      ]
     },
     "metadata": {},
     "output_type": "display_data"
    },
    {
     "name": "stderr",
     "output_type": "stream",
     "text": [
      "Failed to parse output. Returning None.\n",
      "Failed to parse output. Returning None.\n",
      "D:\\programs\\miniconda3\\envs\\llm_eval\\Lib\\site-packages\\ragas\\evaluation.py:304: RuntimeWarning: Mean of empty slice\n",
      "  value = np.nanmean(self.scores[cn])\n"
     ]
    },
    {
     "data": {
      "application/vnd.jupyter.widget-view+json": {
       "model_id": "bf07c50d884e430394c3ebdd5ed8924f",
       "version_major": 2,
       "version_minor": 0
      },
      "text/plain": [
       "Evaluating:   0%|          | 0/4 [00:00<?, ?it/s]"
      ]
     },
     "metadata": {},
     "output_type": "display_data"
    },
    {
     "name": "stderr",
     "output_type": "stream",
     "text": [
      "Failed to parse output. Returning None.\n",
      "Failed to parse output. Returning None.\n",
      "D:\\programs\\miniconda3\\envs\\llm_eval\\Lib\\site-packages\\ragas\\evaluation.py:304: RuntimeWarning: Mean of empty slice\n",
      "  value = np.nanmean(self.scores[cn])\n"
     ]
    },
    {
     "data": {
      "application/vnd.jupyter.widget-view+json": {
       "model_id": "27dcd07def6940d2b8f6a9284edfebbd",
       "version_major": 2,
       "version_minor": 0
      },
      "text/plain": [
       "Evaluating:   0%|          | 0/4 [00:00<?, ?it/s]"
      ]
     },
     "metadata": {},
     "output_type": "display_data"
    },
    {
     "data": {
      "application/vnd.jupyter.widget-view+json": {
       "model_id": "1a0acead2c0148c7897fac1c677cf9c3",
       "version_major": 2,
       "version_minor": 0
      },
      "text/plain": [
       "Evaluating:   0%|          | 0/4 [00:00<?, ?it/s]"
      ]
     },
     "metadata": {},
     "output_type": "display_data"
    },
    {
     "name": "stderr",
     "output_type": "stream",
     "text": [
      "Failed to parse output. Returning None.\n",
      "D:\\programs\\miniconda3\\envs\\llm_eval\\Lib\\site-packages\\ragas\\evaluation.py:304: RuntimeWarning: Mean of empty slice\n",
      "  value = np.nanmean(self.scores[cn])\n"
     ]
    },
    {
     "data": {
      "application/vnd.jupyter.widget-view+json": {
       "model_id": "d55840596b7b4ab9b93ab74474f4487d",
       "version_major": 2,
       "version_minor": 0
      },
      "text/plain": [
       "Evaluating:   0%|          | 0/4 [00:00<?, ?it/s]"
      ]
     },
     "metadata": {},
     "output_type": "display_data"
    },
    {
     "name": "stderr",
     "output_type": "stream",
     "text": [
      "Failed to parse output. Returning None.\n",
      "D:\\programs\\miniconda3\\envs\\llm_eval\\Lib\\site-packages\\ragas\\evaluation.py:304: RuntimeWarning: Mean of empty slice\n",
      "  value = np.nanmean(self.scores[cn])\n"
     ]
    },
    {
     "data": {
      "application/vnd.jupyter.widget-view+json": {
       "model_id": "33e361680e934f6da521b15639196688",
       "version_major": 2,
       "version_minor": 0
      },
      "text/plain": [
       "Evaluating:   0%|          | 0/4 [00:00<?, ?it/s]"
      ]
     },
     "metadata": {},
     "output_type": "display_data"
    },
    {
     "name": "stderr",
     "output_type": "stream",
     "text": [
      "Failed to parse output. Returning None.\n",
      "D:\\programs\\miniconda3\\envs\\llm_eval\\Lib\\site-packages\\ragas\\evaluation.py:304: RuntimeWarning: Mean of empty slice\n",
      "  value = np.nanmean(self.scores[cn])\n"
     ]
    },
    {
     "data": {
      "application/vnd.jupyter.widget-view+json": {
       "model_id": "7d9523bc6cac45c183ffb224e664071d",
       "version_major": 2,
       "version_minor": 0
      },
      "text/plain": [
       "Evaluating:   0%|          | 0/4 [00:00<?, ?it/s]"
      ]
     },
     "metadata": {},
     "output_type": "display_data"
    },
    {
     "name": "stderr",
     "output_type": "stream",
     "text": [
      "Failed to parse output. Returning None.\n",
      "Failed to parse output. Returning None.\n",
      "Runner in Executor raised an exception\n",
      "Traceback (most recent call last):\n",
      "  File \"D:\\programs\\miniconda3\\envs\\llm_eval\\Lib\\site-packages\\ragas\\executor.py\", line 104, in wrapped_callable_async\n",
      "    result = await callable(*args, **kwargs)\n",
      "             ^^^^^^^^^^^^^^^^^^^^^^^^^^^^^^^\n",
      "  File \"D:\\programs\\miniconda3\\envs\\llm_eval\\Lib\\site-packages\\ragas\\metrics\\base.py\", line 134, in ascore\n",
      "    raise e\n",
      "  File \"D:\\programs\\miniconda3\\envs\\llm_eval\\Lib\\site-packages\\ragas\\metrics\\base.py\", line 127, in ascore\n",
      "    score = await asyncio.wait_for(\n",
      "            ^^^^^^^^^^^^^^^^^^^^^^^\n",
      "  File \"D:\\programs\\miniconda3\\envs\\llm_eval\\Lib\\asyncio\\tasks.py\", line 520, in wait_for\n",
      "    return await fut\n",
      "           ^^^^^^^^^\n",
      "  File \"D:\\programs\\miniconda3\\envs\\llm_eval\\Lib\\site-packages\\ragas\\metrics\\_context_precision.py\", line 183, in _ascore\n",
      "    answers = ContextPrecisionVerifications(__root__=answers)\n",
      "              ^^^^^^^^^^^^^^^^^^^^^^^^^^^^^^^^^^^^^^^^^^^^^^^\n",
      "  File \"D:\\programs\\miniconda3\\envs\\llm_eval\\Lib\\site-packages\\pydantic\\v1\\main.py\", line 341, in __init__\n",
      "    raise validation_error\n",
      "pydantic.v1.error_wrappers.ValidationError: 2 validation errors for ContextPrecisionVerifications\n",
      "__root__ -> 1 -> reason\n",
      "  field required (type=value_error.missing)\n",
      "__root__ -> 1 -> verdict\n",
      "  field required (type=value_error.missing)\n",
      "D:\\programs\\miniconda3\\envs\\llm_eval\\Lib\\site-packages\\ragas\\evaluation.py:304: RuntimeWarning: Mean of empty slice\n",
      "  value = np.nanmean(self.scores[cn])\n"
     ]
    },
    {
     "data": {
      "application/vnd.jupyter.widget-view+json": {
       "model_id": "c7a5254d7c014903a635ae6bb0b18b15",
       "version_major": 2,
       "version_minor": 0
      },
      "text/plain": [
       "Evaluating:   0%|          | 0/4 [00:00<?, ?it/s]"
      ]
     },
     "metadata": {},
     "output_type": "display_data"
    },
    {
     "data": {
      "application/vnd.jupyter.widget-view+json": {
       "model_id": "a0821e4323964c859d51c92f7502574a",
       "version_major": 2,
       "version_minor": 0
      },
      "text/plain": [
       "Evaluating:   0%|          | 0/4 [00:00<?, ?it/s]"
      ]
     },
     "metadata": {},
     "output_type": "display_data"
    },
    {
     "data": {
      "application/vnd.jupyter.widget-view+json": {
       "model_id": "8975040f747a439285c3bfcfcd1259db",
       "version_major": 2,
       "version_minor": 0
      },
      "text/plain": [
       "Evaluating:   0%|          | 0/4 [00:00<?, ?it/s]"
      ]
     },
     "metadata": {},
     "output_type": "display_data"
    },
    {
     "name": "stderr",
     "output_type": "stream",
     "text": [
      "Failed to parse output. Returning None.\n",
      "D:\\programs\\miniconda3\\envs\\llm_eval\\Lib\\site-packages\\ragas\\evaluation.py:304: RuntimeWarning: Mean of empty slice\n",
      "  value = np.nanmean(self.scores[cn])\n"
     ]
    },
    {
     "data": {
      "application/vnd.jupyter.widget-view+json": {
       "model_id": "e50abd457015471eb9504fb3b0869c3f",
       "version_major": 2,
       "version_minor": 0
      },
      "text/plain": [
       "Evaluating:   0%|          | 0/4 [00:00<?, ?it/s]"
      ]
     },
     "metadata": {},
     "output_type": "display_data"
    },
    {
     "name": "stderr",
     "output_type": "stream",
     "text": [
      "Failed to parse output. Returning None.\n",
      "D:\\programs\\miniconda3\\envs\\llm_eval\\Lib\\site-packages\\ragas\\evaluation.py:304: RuntimeWarning: Mean of empty slice\n",
      "  value = np.nanmean(self.scores[cn])\n"
     ]
    },
    {
     "data": {
      "application/vnd.jupyter.widget-view+json": {
       "model_id": "2923d95a03864236bb0d2bc3633974cd",
       "version_major": 2,
       "version_minor": 0
      },
      "text/plain": [
       "Evaluating:   0%|          | 0/4 [00:00<?, ?it/s]"
      ]
     },
     "metadata": {},
     "output_type": "display_data"
    },
    {
     "data": {
      "application/vnd.jupyter.widget-view+json": {
       "model_id": "0620aab295244bb588108dc76891c716",
       "version_major": 2,
       "version_minor": 0
      },
      "text/plain": [
       "Evaluating:   0%|          | 0/4 [00:00<?, ?it/s]"
      ]
     },
     "metadata": {},
     "output_type": "display_data"
    },
    {
     "data": {
      "application/vnd.jupyter.widget-view+json": {
       "model_id": "c79463be016642dda93c52835b7f35ff",
       "version_major": 2,
       "version_minor": 0
      },
      "text/plain": [
       "Evaluating:   0%|          | 0/4 [00:00<?, ?it/s]"
      ]
     },
     "metadata": {},
     "output_type": "display_data"
    },
    {
     "data": {
      "application/vnd.jupyter.widget-view+json": {
       "model_id": "0019901fd14841a8bf96461b9fe6ce45",
       "version_major": 2,
       "version_minor": 0
      },
      "text/plain": [
       "Evaluating:   0%|          | 0/4 [00:00<?, ?it/s]"
      ]
     },
     "metadata": {},
     "output_type": "display_data"
    },
    {
     "data": {
      "application/vnd.jupyter.widget-view+json": {
       "model_id": "3d301e0d3f41463290636c088ac603ce",
       "version_major": 2,
       "version_minor": 0
      },
      "text/plain": [
       "Evaluating:   0%|          | 0/4 [00:00<?, ?it/s]"
      ]
     },
     "metadata": {},
     "output_type": "display_data"
    },
    {
     "data": {
      "application/vnd.jupyter.widget-view+json": {
       "model_id": "bb0ffadae28648948e4978748fa3f6c3",
       "version_major": 2,
       "version_minor": 0
      },
      "text/plain": [
       "Evaluating:   0%|          | 0/4 [00:00<?, ?it/s]"
      ]
     },
     "metadata": {},
     "output_type": "display_data"
    },
    {
     "data": {
      "application/vnd.jupyter.widget-view+json": {
       "model_id": "cbe3ef0c42b34dd1b45c4c735145b6dc",
       "version_major": 2,
       "version_minor": 0
      },
      "text/plain": [
       "Evaluating:   0%|          | 0/4 [00:00<?, ?it/s]"
      ]
     },
     "metadata": {},
     "output_type": "display_data"
    },
    {
     "data": {
      "application/vnd.jupyter.widget-view+json": {
       "model_id": "ba9dbd0705fe42ccac5a8bf294c113b4",
       "version_major": 2,
       "version_minor": 0
      },
      "text/plain": [
       "Evaluating:   0%|          | 0/4 [00:00<?, ?it/s]"
      ]
     },
     "metadata": {},
     "output_type": "display_data"
    },
    {
     "name": "stderr",
     "output_type": "stream",
     "text": [
      "Failed to parse output. Returning None.\n",
      "Failed to parse output. Returning None.\n",
      "Failed to parse output. Returning None.\n",
      "Runner in Executor raised an exception\n",
      "Traceback (most recent call last):\n",
      "  File \"D:\\programs\\miniconda3\\envs\\llm_eval\\Lib\\site-packages\\ragas\\executor.py\", line 104, in wrapped_callable_async\n",
      "    result = await callable(*args, **kwargs)\n",
      "             ^^^^^^^^^^^^^^^^^^^^^^^^^^^^^^^\n",
      "  File \"D:\\programs\\miniconda3\\envs\\llm_eval\\Lib\\site-packages\\ragas\\metrics\\base.py\", line 134, in ascore\n",
      "    raise e\n",
      "  File \"D:\\programs\\miniconda3\\envs\\llm_eval\\Lib\\site-packages\\ragas\\metrics\\base.py\", line 127, in ascore\n",
      "    score = await asyncio.wait_for(\n",
      "            ^^^^^^^^^^^^^^^^^^^^^^^\n",
      "  File \"D:\\programs\\miniconda3\\envs\\llm_eval\\Lib\\asyncio\\tasks.py\", line 520, in wait_for\n",
      "    return await fut\n",
      "           ^^^^^^^^^\n",
      "  File \"D:\\programs\\miniconda3\\envs\\llm_eval\\Lib\\site-packages\\ragas\\metrics\\_context_precision.py\", line 183, in _ascore\n",
      "    answers = ContextPrecisionVerifications(__root__=answers)\n",
      "              ^^^^^^^^^^^^^^^^^^^^^^^^^^^^^^^^^^^^^^^^^^^^^^^\n",
      "  File \"D:\\programs\\miniconda3\\envs\\llm_eval\\Lib\\site-packages\\pydantic\\v1\\main.py\", line 341, in __init__\n",
      "    raise validation_error\n",
      "pydantic.v1.error_wrappers.ValidationError: 2 validation errors for ContextPrecisionVerifications\n",
      "__root__ -> 0 -> reason\n",
      "  field required (type=value_error.missing)\n",
      "__root__ -> 0 -> verdict\n",
      "  field required (type=value_error.missing)\n",
      "Failed to parse output. Returning None.\n",
      "Failed to parse output. Returning None.\n",
      "Failed to parse output. Returning None.\n",
      "D:\\programs\\miniconda3\\envs\\llm_eval\\Lib\\site-packages\\ragas\\evaluation.py:304: RuntimeWarning: Mean of empty slice\n",
      "  value = np.nanmean(self.scores[cn])\n"
     ]
    },
    {
     "data": {
      "application/vnd.jupyter.widget-view+json": {
       "model_id": "ba41e0bff7734da0b6c125a6531287a8",
       "version_major": 2,
       "version_minor": 0
      },
      "text/plain": [
       "Evaluating:   0%|          | 0/4 [00:00<?, ?it/s]"
      ]
     },
     "metadata": {},
     "output_type": "display_data"
    },
    {
     "data": {
      "application/vnd.jupyter.widget-view+json": {
       "model_id": "36ffe3d851294fb2a1dd8f47b29ceee8",
       "version_major": 2,
       "version_minor": 0
      },
      "text/plain": [
       "Evaluating:   0%|          | 0/4 [00:00<?, ?it/s]"
      ]
     },
     "metadata": {},
     "output_type": "display_data"
    },
    {
     "data": {
      "application/vnd.jupyter.widget-view+json": {
       "model_id": "705231232a654c9d89498c2786154c25",
       "version_major": 2,
       "version_minor": 0
      },
      "text/plain": [
       "Evaluating:   0%|          | 0/4 [00:00<?, ?it/s]"
      ]
     },
     "metadata": {},
     "output_type": "display_data"
    },
    {
     "data": {
      "application/vnd.jupyter.widget-view+json": {
       "model_id": "56963225b6af4a4493578b8476d99e53",
       "version_major": 2,
       "version_minor": 0
      },
      "text/plain": [
       "Evaluating:   0%|          | 0/4 [00:00<?, ?it/s]"
      ]
     },
     "metadata": {},
     "output_type": "display_data"
    },
    {
     "name": "stderr",
     "output_type": "stream",
     "text": [
      "Failed to parse output. Returning None.\n",
      "D:\\programs\\miniconda3\\envs\\llm_eval\\Lib\\site-packages\\ragas\\evaluation.py:304: RuntimeWarning: Mean of empty slice\n",
      "  value = np.nanmean(self.scores[cn])\n"
     ]
    },
    {
     "data": {
      "application/vnd.jupyter.widget-view+json": {
       "model_id": "2fde24ca52e84ea6b66d72b80c0b2e59",
       "version_major": 2,
       "version_minor": 0
      },
      "text/plain": [
       "Evaluating:   0%|          | 0/4 [00:00<?, ?it/s]"
      ]
     },
     "metadata": {},
     "output_type": "display_data"
    },
    {
     "name": "stderr",
     "output_type": "stream",
     "text": [
      "Failed to parse output. Returning None.\n",
      "D:\\programs\\miniconda3\\envs\\llm_eval\\Lib\\site-packages\\ragas\\evaluation.py:304: RuntimeWarning: Mean of empty slice\n",
      "  value = np.nanmean(self.scores[cn])\n"
     ]
    },
    {
     "data": {
      "application/vnd.jupyter.widget-view+json": {
       "model_id": "a25fa0b24581437ca5399e830d2961fe",
       "version_major": 2,
       "version_minor": 0
      },
      "text/plain": [
       "Evaluating:   0%|          | 0/4 [00:00<?, ?it/s]"
      ]
     },
     "metadata": {},
     "output_type": "display_data"
    },
    {
     "data": {
      "application/vnd.jupyter.widget-view+json": {
       "model_id": "b149558f078f4afb897862d60a241af1",
       "version_major": 2,
       "version_minor": 0
      },
      "text/plain": [
       "Evaluating:   0%|          | 0/4 [00:00<?, ?it/s]"
      ]
     },
     "metadata": {},
     "output_type": "display_data"
    },
    {
     "data": {
      "application/vnd.jupyter.widget-view+json": {
       "model_id": "e61c24c7a91a4d56a19e010f89be4e13",
       "version_major": 2,
       "version_minor": 0
      },
      "text/plain": [
       "Evaluating:   0%|          | 0/4 [00:00<?, ?it/s]"
      ]
     },
     "metadata": {},
     "output_type": "display_data"
    },
    {
     "name": "stderr",
     "output_type": "stream",
     "text": [
      "Failed to parse output. Returning None.\n",
      "D:\\programs\\miniconda3\\envs\\llm_eval\\Lib\\site-packages\\ragas\\evaluation.py:304: RuntimeWarning: Mean of empty slice\n",
      "  value = np.nanmean(self.scores[cn])\n"
     ]
    },
    {
     "data": {
      "application/vnd.jupyter.widget-view+json": {
       "model_id": "fd8ba48e12f544c0a93bc414c42887d6",
       "version_major": 2,
       "version_minor": 0
      },
      "text/plain": [
       "Evaluating:   0%|          | 0/4 [00:00<?, ?it/s]"
      ]
     },
     "metadata": {},
     "output_type": "display_data"
    },
    {
     "name": "stderr",
     "output_type": "stream",
     "text": [
      "Failed to parse output. Returning None.\n",
      "Failed to parse output. Returning None.\n",
      "D:\\programs\\miniconda3\\envs\\llm_eval\\Lib\\site-packages\\ragas\\evaluation.py:304: RuntimeWarning: Mean of empty slice\n",
      "  value = np.nanmean(self.scores[cn])\n"
     ]
    },
    {
     "data": {
      "application/vnd.jupyter.widget-view+json": {
       "model_id": "b24b06e1095540b5b1020b90c02aa99c",
       "version_major": 2,
       "version_minor": 0
      },
      "text/plain": [
       "Evaluating:   0%|          | 0/4 [00:00<?, ?it/s]"
      ]
     },
     "metadata": {},
     "output_type": "display_data"
    },
    {
     "data": {
      "application/vnd.jupyter.widget-view+json": {
       "model_id": "60345edeb0b34cd4975de866769d411d",
       "version_major": 2,
       "version_minor": 0
      },
      "text/plain": [
       "Evaluating:   0%|          | 0/4 [00:00<?, ?it/s]"
      ]
     },
     "metadata": {},
     "output_type": "display_data"
    },
    {
     "data": {
      "application/vnd.jupyter.widget-view+json": {
       "model_id": "b5c54ca5dabb48f89ae4ed263f4906b8",
       "version_major": 2,
       "version_minor": 0
      },
      "text/plain": [
       "Evaluating:   0%|          | 0/4 [00:00<?, ?it/s]"
      ]
     },
     "metadata": {},
     "output_type": "display_data"
    },
    {
     "name": "stderr",
     "output_type": "stream",
     "text": [
      "Failed to parse output. Returning None.\n",
      "Failed to parse output. Returning None.\n",
      "D:\\programs\\miniconda3\\envs\\llm_eval\\Lib\\site-packages\\ragas\\evaluation.py:304: RuntimeWarning: Mean of empty slice\n",
      "  value = np.nanmean(self.scores[cn])\n"
     ]
    },
    {
     "data": {
      "application/vnd.jupyter.widget-view+json": {
       "model_id": "a0667a106d9942ac9c3336facc930184",
       "version_major": 2,
       "version_minor": 0
      },
      "text/plain": [
       "Evaluating:   0%|          | 0/4 [00:00<?, ?it/s]"
      ]
     },
     "metadata": {},
     "output_type": "display_data"
    },
    {
     "name": "stderr",
     "output_type": "stream",
     "text": [
      "Failed to parse output. Returning None.\n",
      "D:\\programs\\miniconda3\\envs\\llm_eval\\Lib\\site-packages\\ragas\\evaluation.py:304: RuntimeWarning: Mean of empty slice\n",
      "  value = np.nanmean(self.scores[cn])\n"
     ]
    },
    {
     "data": {
      "application/vnd.jupyter.widget-view+json": {
       "model_id": "9a1869b67e264899b2669cde8b66c809",
       "version_major": 2,
       "version_minor": 0
      },
      "text/plain": [
       "Evaluating:   0%|          | 0/4 [00:00<?, ?it/s]"
      ]
     },
     "metadata": {},
     "output_type": "display_data"
    },
    {
     "name": "stderr",
     "output_type": "stream",
     "text": [
      "Failed to parse output. Returning None.\n",
      "D:\\programs\\miniconda3\\envs\\llm_eval\\Lib\\site-packages\\ragas\\evaluation.py:304: RuntimeWarning: Mean of empty slice\n",
      "  value = np.nanmean(self.scores[cn])\n"
     ]
    },
    {
     "data": {
      "application/vnd.jupyter.widget-view+json": {
       "model_id": "5562ad99bc484a5f8ca8f3456ec4da14",
       "version_major": 2,
       "version_minor": 0
      },
      "text/plain": [
       "Evaluating:   0%|          | 0/4 [00:00<?, ?it/s]"
      ]
     },
     "metadata": {},
     "output_type": "display_data"
    },
    {
     "name": "stderr",
     "output_type": "stream",
     "text": [
      "Failed to parse output. Returning None.\n",
      "D:\\programs\\miniconda3\\envs\\llm_eval\\Lib\\site-packages\\ragas\\evaluation.py:304: RuntimeWarning: Mean of empty slice\n",
      "  value = np.nanmean(self.scores[cn])\n"
     ]
    },
    {
     "data": {
      "application/vnd.jupyter.widget-view+json": {
       "model_id": "27440c04bcd84c99af5817e28b68f14e",
       "version_major": 2,
       "version_minor": 0
      },
      "text/plain": [
       "Evaluating:   0%|          | 0/4 [00:00<?, ?it/s]"
      ]
     },
     "metadata": {},
     "output_type": "display_data"
    },
    {
     "data": {
      "application/vnd.jupyter.widget-view+json": {
       "model_id": "6220032e6f5c4580815dc7ca4bcb676e",
       "version_major": 2,
       "version_minor": 0
      },
      "text/plain": [
       "Evaluating:   0%|          | 0/4 [00:00<?, ?it/s]"
      ]
     },
     "metadata": {},
     "output_type": "display_data"
    },
    {
     "data": {
      "application/vnd.jupyter.widget-view+json": {
       "model_id": "19d3378b2cb7408f91f7629124daeb12",
       "version_major": 2,
       "version_minor": 0
      },
      "text/plain": [
       "Evaluating:   0%|          | 0/4 [00:00<?, ?it/s]"
      ]
     },
     "metadata": {},
     "output_type": "display_data"
    },
    {
     "data": {
      "application/vnd.jupyter.widget-view+json": {
       "model_id": "56c4b48447024fc4bfb3f9aa9a5729ab",
       "version_major": 2,
       "version_minor": 0
      },
      "text/plain": [
       "Evaluating:   0%|          | 0/4 [00:00<?, ?it/s]"
      ]
     },
     "metadata": {},
     "output_type": "display_data"
    },
    {
     "data": {
      "application/vnd.jupyter.widget-view+json": {
       "model_id": "c7a2406f4db749fa84157a18808e1057",
       "version_major": 2,
       "version_minor": 0
      },
      "text/plain": [
       "Evaluating:   0%|          | 0/4 [00:00<?, ?it/s]"
      ]
     },
     "metadata": {},
     "output_type": "display_data"
    },
    {
     "data": {
      "application/vnd.jupyter.widget-view+json": {
       "model_id": "ad98c821bc81494b9c303a9926b1d8de",
       "version_major": 2,
       "version_minor": 0
      },
      "text/plain": [
       "Evaluating:   0%|          | 0/4 [00:00<?, ?it/s]"
      ]
     },
     "metadata": {},
     "output_type": "display_data"
    },
    {
     "name": "stderr",
     "output_type": "stream",
     "text": [
      "Failed to parse output. Returning None.\n",
      "D:\\programs\\miniconda3\\envs\\llm_eval\\Lib\\site-packages\\ragas\\evaluation.py:304: RuntimeWarning: Mean of empty slice\n",
      "  value = np.nanmean(self.scores[cn])\n"
     ]
    },
    {
     "data": {
      "application/vnd.jupyter.widget-view+json": {
       "model_id": "3d22933985c647dd98155092b0516ed7",
       "version_major": 2,
       "version_minor": 0
      },
      "text/plain": [
       "Evaluating:   0%|          | 0/4 [00:00<?, ?it/s]"
      ]
     },
     "metadata": {},
     "output_type": "display_data"
    },
    {
     "name": "stderr",
     "output_type": "stream",
     "text": [
      "Failed to parse output. Returning None.\n",
      "Failed to parse output. Returning None.\n",
      "D:\\programs\\miniconda3\\envs\\llm_eval\\Lib\\site-packages\\ragas\\evaluation.py:304: RuntimeWarning: Mean of empty slice\n",
      "  value = np.nanmean(self.scores[cn])\n"
     ]
    },
    {
     "data": {
      "application/vnd.jupyter.widget-view+json": {
       "model_id": "083482f3cb1d4fb9ba64105524f2154e",
       "version_major": 2,
       "version_minor": 0
      },
      "text/plain": [
       "Evaluating:   0%|          | 0/4 [00:00<?, ?it/s]"
      ]
     },
     "metadata": {},
     "output_type": "display_data"
    },
    {
     "data": {
      "application/vnd.jupyter.widget-view+json": {
       "model_id": "67f51182bf8540af9fe7f5a0c067007d",
       "version_major": 2,
       "version_minor": 0
      },
      "text/plain": [
       "Evaluating:   0%|          | 0/4 [00:00<?, ?it/s]"
      ]
     },
     "metadata": {},
     "output_type": "display_data"
    },
    {
     "data": {
      "application/vnd.jupyter.widget-view+json": {
       "model_id": "592406a200904cc29c1628c34970bbb4",
       "version_major": 2,
       "version_minor": 0
      },
      "text/plain": [
       "Evaluating:   0%|          | 0/4 [00:00<?, ?it/s]"
      ]
     },
     "metadata": {},
     "output_type": "display_data"
    },
    {
     "data": {
      "application/vnd.jupyter.widget-view+json": {
       "model_id": "f49472343171470a99cab6ab7d606a19",
       "version_major": 2,
       "version_minor": 0
      },
      "text/plain": [
       "Evaluating:   0%|          | 0/4 [00:00<?, ?it/s]"
      ]
     },
     "metadata": {},
     "output_type": "display_data"
    },
    {
     "data": {
      "application/vnd.jupyter.widget-view+json": {
       "model_id": "cd75590f5cae4718ae252e2240910f7a",
       "version_major": 2,
       "version_minor": 0
      },
      "text/plain": [
       "Evaluating:   0%|          | 0/4 [00:00<?, ?it/s]"
      ]
     },
     "metadata": {},
     "output_type": "display_data"
    },
    {
     "name": "stderr",
     "output_type": "stream",
     "text": [
      "Failed to parse output. Returning None.\n",
      "D:\\programs\\miniconda3\\envs\\llm_eval\\Lib\\site-packages\\ragas\\evaluation.py:304: RuntimeWarning: Mean of empty slice\n",
      "  value = np.nanmean(self.scores[cn])\n"
     ]
    },
    {
     "data": {
      "application/vnd.jupyter.widget-view+json": {
       "model_id": "21676ee864264038b2c20228a86582c8",
       "version_major": 2,
       "version_minor": 0
      },
      "text/plain": [
       "Evaluating:   0%|          | 0/4 [00:00<?, ?it/s]"
      ]
     },
     "metadata": {},
     "output_type": "display_data"
    },
    {
     "name": "stderr",
     "output_type": "stream",
     "text": [
      "Failed to parse output. Returning None.\n",
      "Failed to parse output. Returning None.\n",
      "Runner in Executor raised an exception\n",
      "Traceback (most recent call last):\n",
      "  File \"D:\\programs\\miniconda3\\envs\\llm_eval\\Lib\\site-packages\\ragas\\executor.py\", line 104, in wrapped_callable_async\n",
      "    result = await callable(*args, **kwargs)\n",
      "             ^^^^^^^^^^^^^^^^^^^^^^^^^^^^^^^\n",
      "  File \"D:\\programs\\miniconda3\\envs\\llm_eval\\Lib\\site-packages\\ragas\\metrics\\base.py\", line 134, in ascore\n",
      "    raise e\n",
      "  File \"D:\\programs\\miniconda3\\envs\\llm_eval\\Lib\\site-packages\\ragas\\metrics\\base.py\", line 127, in ascore\n",
      "    score = await asyncio.wait_for(\n",
      "            ^^^^^^^^^^^^^^^^^^^^^^^\n",
      "  File \"D:\\programs\\miniconda3\\envs\\llm_eval\\Lib\\asyncio\\tasks.py\", line 520, in wait_for\n",
      "    return await fut\n",
      "           ^^^^^^^^^\n",
      "  File \"D:\\programs\\miniconda3\\envs\\llm_eval\\Lib\\site-packages\\ragas\\metrics\\_context_precision.py\", line 183, in _ascore\n",
      "    answers = ContextPrecisionVerifications(__root__=answers)\n",
      "              ^^^^^^^^^^^^^^^^^^^^^^^^^^^^^^^^^^^^^^^^^^^^^^^\n",
      "  File \"D:\\programs\\miniconda3\\envs\\llm_eval\\Lib\\site-packages\\pydantic\\v1\\main.py\", line 341, in __init__\n",
      "    raise validation_error\n",
      "pydantic.v1.error_wrappers.ValidationError: 2 validation errors for ContextPrecisionVerifications\n",
      "__root__ -> 1 -> reason\n",
      "  field required (type=value_error.missing)\n",
      "__root__ -> 1 -> verdict\n",
      "  field required (type=value_error.missing)\n",
      "Failed to parse output. Returning None.\n",
      "D:\\programs\\miniconda3\\envs\\llm_eval\\Lib\\site-packages\\ragas\\evaluation.py:304: RuntimeWarning: Mean of empty slice\n",
      "  value = np.nanmean(self.scores[cn])\n"
     ]
    },
    {
     "data": {
      "application/vnd.jupyter.widget-view+json": {
       "model_id": "016849cf595d4ad7aab735c99d9c2373",
       "version_major": 2,
       "version_minor": 0
      },
      "text/plain": [
       "Evaluating:   0%|          | 0/4 [00:00<?, ?it/s]"
      ]
     },
     "metadata": {},
     "output_type": "display_data"
    },
    {
     "name": "stderr",
     "output_type": "stream",
     "text": [
      "Failed to parse output. Returning None.\n",
      "D:\\programs\\miniconda3\\envs\\llm_eval\\Lib\\site-packages\\ragas\\evaluation.py:304: RuntimeWarning: Mean of empty slice\n",
      "  value = np.nanmean(self.scores[cn])\n"
     ]
    },
    {
     "data": {
      "application/vnd.jupyter.widget-view+json": {
       "model_id": "39905ba080634ac083bbade03eb32092",
       "version_major": 2,
       "version_minor": 0
      },
      "text/plain": [
       "Evaluating:   0%|          | 0/4 [00:00<?, ?it/s]"
      ]
     },
     "metadata": {},
     "output_type": "display_data"
    },
    {
     "name": "stderr",
     "output_type": "stream",
     "text": [
      "Failed to parse output. Returning None.\n",
      "D:\\programs\\miniconda3\\envs\\llm_eval\\Lib\\site-packages\\ragas\\evaluation.py:304: RuntimeWarning: Mean of empty slice\n",
      "  value = np.nanmean(self.scores[cn])\n"
     ]
    },
    {
     "data": {
      "application/vnd.jupyter.widget-view+json": {
       "model_id": "e819eda6445540349bc96e3a81432dda",
       "version_major": 2,
       "version_minor": 0
      },
      "text/plain": [
       "Evaluating:   0%|          | 0/4 [00:00<?, ?it/s]"
      ]
     },
     "metadata": {},
     "output_type": "display_data"
    },
    {
     "data": {
      "application/vnd.jupyter.widget-view+json": {
       "model_id": "087c6661ff194249b8fc248fa86f5ceb",
       "version_major": 2,
       "version_minor": 0
      },
      "text/plain": [
       "Evaluating:   0%|          | 0/4 [00:00<?, ?it/s]"
      ]
     },
     "metadata": {},
     "output_type": "display_data"
    },
    {
     "data": {
      "application/vnd.jupyter.widget-view+json": {
       "model_id": "52da03a0bc77494295c79d86753b0076",
       "version_major": 2,
       "version_minor": 0
      },
      "text/plain": [
       "Evaluating:   0%|          | 0/4 [00:00<?, ?it/s]"
      ]
     },
     "metadata": {},
     "output_type": "display_data"
    },
    {
     "name": "stderr",
     "output_type": "stream",
     "text": [
      "Failed to parse output. Returning None.\n",
      "D:\\programs\\miniconda3\\envs\\llm_eval\\Lib\\site-packages\\ragas\\evaluation.py:304: RuntimeWarning: Mean of empty slice\n",
      "  value = np.nanmean(self.scores[cn])\n"
     ]
    },
    {
     "data": {
      "application/vnd.jupyter.widget-view+json": {
       "model_id": "a70795f36e4746e2a34248908c9f81d3",
       "version_major": 2,
       "version_minor": 0
      },
      "text/plain": [
       "Evaluating:   0%|          | 0/4 [00:00<?, ?it/s]"
      ]
     },
     "metadata": {},
     "output_type": "display_data"
    },
    {
     "data": {
      "application/vnd.jupyter.widget-view+json": {
       "model_id": "b35ace50f2404bac9d8d618d9eb38b21",
       "version_major": 2,
       "version_minor": 0
      },
      "text/plain": [
       "Evaluating:   0%|          | 0/4 [00:00<?, ?it/s]"
      ]
     },
     "metadata": {},
     "output_type": "display_data"
    },
    {
     "data": {
      "application/vnd.jupyter.widget-view+json": {
       "model_id": "33de48a6bff7463380ba919d85d2d125",
       "version_major": 2,
       "version_minor": 0
      },
      "text/plain": [
       "Evaluating:   0%|          | 0/4 [00:00<?, ?it/s]"
      ]
     },
     "metadata": {},
     "output_type": "display_data"
    },
    {
     "data": {
      "application/vnd.jupyter.widget-view+json": {
       "model_id": "8c623f5b1e1744f2adfd26ae03608c9c",
       "version_major": 2,
       "version_minor": 0
      },
      "text/plain": [
       "Evaluating:   0%|          | 0/4 [00:00<?, ?it/s]"
      ]
     },
     "metadata": {},
     "output_type": "display_data"
    },
    {
     "data": {
      "application/vnd.jupyter.widget-view+json": {
       "model_id": "3e480ca0b63e456c8d7ed35049ed8e07",
       "version_major": 2,
       "version_minor": 0
      },
      "text/plain": [
       "Evaluating:   0%|          | 0/4 [00:00<?, ?it/s]"
      ]
     },
     "metadata": {},
     "output_type": "display_data"
    },
    {
     "data": {
      "application/vnd.jupyter.widget-view+json": {
       "model_id": "37cb8ad48dbc47149d626fafa03318e0",
       "version_major": 2,
       "version_minor": 0
      },
      "text/plain": [
       "Evaluating:   0%|          | 0/4 [00:00<?, ?it/s]"
      ]
     },
     "metadata": {},
     "output_type": "display_data"
    },
    {
     "data": {
      "application/vnd.jupyter.widget-view+json": {
       "model_id": "0ed663bfbc004a3886ae1d0e94fd9ed3",
       "version_major": 2,
       "version_minor": 0
      },
      "text/plain": [
       "Evaluating:   0%|          | 0/4 [00:00<?, ?it/s]"
      ]
     },
     "metadata": {},
     "output_type": "display_data"
    },
    {
     "name": "stderr",
     "output_type": "stream",
     "text": [
      "Failed to parse output. Returning None.\n",
      "Failed to parse output. Returning None.\n",
      "Failed to parse output. Returning None.\n",
      "Failed to parse output. Returning None.\n",
      "Failed to parse output. Returning None.\n",
      "Failed to parse output. Returning None.\n",
      "Runner in Executor raised an exception\n",
      "Traceback (most recent call last):\n",
      "  File \"D:\\programs\\miniconda3\\envs\\llm_eval\\Lib\\site-packages\\ragas\\executor.py\", line 104, in wrapped_callable_async\n",
      "    result = await callable(*args, **kwargs)\n",
      "             ^^^^^^^^^^^^^^^^^^^^^^^^^^^^^^^\n",
      "  File \"D:\\programs\\miniconda3\\envs\\llm_eval\\Lib\\site-packages\\ragas\\metrics\\base.py\", line 134, in ascore\n",
      "    raise e\n",
      "  File \"D:\\programs\\miniconda3\\envs\\llm_eval\\Lib\\site-packages\\ragas\\metrics\\base.py\", line 127, in ascore\n",
      "    score = await asyncio.wait_for(\n",
      "            ^^^^^^^^^^^^^^^^^^^^^^^\n",
      "  File \"D:\\programs\\miniconda3\\envs\\llm_eval\\Lib\\asyncio\\tasks.py\", line 520, in wait_for\n",
      "    return await fut\n",
      "           ^^^^^^^^^\n",
      "  File \"D:\\programs\\miniconda3\\envs\\llm_eval\\Lib\\site-packages\\ragas\\metrics\\_context_precision.py\", line 183, in _ascore\n",
      "    answers = ContextPrecisionVerifications(__root__=answers)\n",
      "              ^^^^^^^^^^^^^^^^^^^^^^^^^^^^^^^^^^^^^^^^^^^^^^^\n",
      "  File \"D:\\programs\\miniconda3\\envs\\llm_eval\\Lib\\site-packages\\pydantic\\v1\\main.py\", line 341, in __init__\n",
      "    raise validation_error\n",
      "pydantic.v1.error_wrappers.ValidationError: 2 validation errors for ContextPrecisionVerifications\n",
      "__root__ -> 0 -> reason\n",
      "  field required (type=value_error.missing)\n",
      "__root__ -> 0 -> verdict\n",
      "  field required (type=value_error.missing)\n",
      "D:\\programs\\miniconda3\\envs\\llm_eval\\Lib\\site-packages\\ragas\\evaluation.py:304: RuntimeWarning: Mean of empty slice\n",
      "  value = np.nanmean(self.scores[cn])\n"
     ]
    },
    {
     "data": {
      "application/vnd.jupyter.widget-view+json": {
       "model_id": "6dc3992801f0465ab61e7a105a31535f",
       "version_major": 2,
       "version_minor": 0
      },
      "text/plain": [
       "Evaluating:   0%|          | 0/4 [00:00<?, ?it/s]"
      ]
     },
     "metadata": {},
     "output_type": "display_data"
    },
    {
     "name": "stderr",
     "output_type": "stream",
     "text": [
      "Failed to parse output. Returning None.\n",
      "D:\\programs\\miniconda3\\envs\\llm_eval\\Lib\\site-packages\\ragas\\evaluation.py:304: RuntimeWarning: Mean of empty slice\n",
      "  value = np.nanmean(self.scores[cn])\n"
     ]
    },
    {
     "data": {
      "application/vnd.jupyter.widget-view+json": {
       "model_id": "c2111194a9c340eaacee596ffbfb6f1f",
       "version_major": 2,
       "version_minor": 0
      },
      "text/plain": [
       "Evaluating:   0%|          | 0/4 [00:00<?, ?it/s]"
      ]
     },
     "metadata": {},
     "output_type": "display_data"
    },
    {
     "data": {
      "application/vnd.jupyter.widget-view+json": {
       "model_id": "f27ea0061f224f3aa634080b05a8db01",
       "version_major": 2,
       "version_minor": 0
      },
      "text/plain": [
       "Evaluating:   0%|          | 0/4 [00:00<?, ?it/s]"
      ]
     },
     "metadata": {},
     "output_type": "display_data"
    },
    {
     "name": "stderr",
     "output_type": "stream",
     "text": [
      "Failed to parse output. Returning None.\n",
      "D:\\programs\\miniconda3\\envs\\llm_eval\\Lib\\site-packages\\ragas\\evaluation.py:304: RuntimeWarning: Mean of empty slice\n",
      "  value = np.nanmean(self.scores[cn])\n"
     ]
    },
    {
     "data": {
      "application/vnd.jupyter.widget-view+json": {
       "model_id": "762a67ac560f42b1ab95a3bbdecf552b",
       "version_major": 2,
       "version_minor": 0
      },
      "text/plain": [
       "Evaluating:   0%|          | 0/4 [00:00<?, ?it/s]"
      ]
     },
     "metadata": {},
     "output_type": "display_data"
    },
    {
     "data": {
      "application/vnd.jupyter.widget-view+json": {
       "model_id": "8042433af00e454580166441d475e515",
       "version_major": 2,
       "version_minor": 0
      },
      "text/plain": [
       "Evaluating:   0%|          | 0/4 [00:00<?, ?it/s]"
      ]
     },
     "metadata": {},
     "output_type": "display_data"
    },
    {
     "name": "stderr",
     "output_type": "stream",
     "text": [
      "Failed to parse output. Returning None.\n",
      "D:\\programs\\miniconda3\\envs\\llm_eval\\Lib\\site-packages\\ragas\\evaluation.py:304: RuntimeWarning: Mean of empty slice\n",
      "  value = np.nanmean(self.scores[cn])\n"
     ]
    },
    {
     "data": {
      "application/vnd.jupyter.widget-view+json": {
       "model_id": "fca7ece942e34b29a5e200a5e466bda1",
       "version_major": 2,
       "version_minor": 0
      },
      "text/plain": [
       "Evaluating:   0%|          | 0/4 [00:00<?, ?it/s]"
      ]
     },
     "metadata": {},
     "output_type": "display_data"
    },
    {
     "data": {
      "application/vnd.jupyter.widget-view+json": {
       "model_id": "3aa1b1b423014e1f8272aea3d8a9cd35",
       "version_major": 2,
       "version_minor": 0
      },
      "text/plain": [
       "Evaluating:   0%|          | 0/4 [00:00<?, ?it/s]"
      ]
     },
     "metadata": {},
     "output_type": "display_data"
    },
    {
     "name": "stderr",
     "output_type": "stream",
     "text": [
      "Failed to parse output. Returning None.\n",
      "D:\\programs\\miniconda3\\envs\\llm_eval\\Lib\\site-packages\\ragas\\evaluation.py:304: RuntimeWarning: Mean of empty slice\n",
      "  value = np.nanmean(self.scores[cn])\n"
     ]
    },
    {
     "data": {
      "application/vnd.jupyter.widget-view+json": {
       "model_id": "dc70bf273987491fbf44a3199bf803e5",
       "version_major": 2,
       "version_minor": 0
      },
      "text/plain": [
       "Evaluating:   0%|          | 0/4 [00:00<?, ?it/s]"
      ]
     },
     "metadata": {},
     "output_type": "display_data"
    },
    {
     "data": {
      "application/vnd.jupyter.widget-view+json": {
       "model_id": "4f21858044c845808f7f24d382804776",
       "version_major": 2,
       "version_minor": 0
      },
      "text/plain": [
       "Evaluating:   0%|          | 0/4 [00:00<?, ?it/s]"
      ]
     },
     "metadata": {},
     "output_type": "display_data"
    },
    {
     "data": {
      "application/vnd.jupyter.widget-view+json": {
       "model_id": "b8d77c571865486badf9cc27ccc67a4f",
       "version_major": 2,
       "version_minor": 0
      },
      "text/plain": [
       "Evaluating:   0%|          | 0/4 [00:00<?, ?it/s]"
      ]
     },
     "metadata": {},
     "output_type": "display_data"
    },
    {
     "data": {
      "application/vnd.jupyter.widget-view+json": {
       "model_id": "f8f4838558854f60a6072979fa73a9d7",
       "version_major": 2,
       "version_minor": 0
      },
      "text/plain": [
       "Evaluating:   0%|          | 0/4 [00:00<?, ?it/s]"
      ]
     },
     "metadata": {},
     "output_type": "display_data"
    },
    {
     "name": "stderr",
     "output_type": "stream",
     "text": [
      "Failed to parse output. Returning None.\n",
      "D:\\programs\\miniconda3\\envs\\llm_eval\\Lib\\site-packages\\ragas\\evaluation.py:304: RuntimeWarning: Mean of empty slice\n",
      "  value = np.nanmean(self.scores[cn])\n"
     ]
    },
    {
     "data": {
      "application/vnd.jupyter.widget-view+json": {
       "model_id": "d0ac68a6dfca4c7780249c7aca1009af",
       "version_major": 2,
       "version_minor": 0
      },
      "text/plain": [
       "Evaluating:   0%|          | 0/4 [00:00<?, ?it/s]"
      ]
     },
     "metadata": {},
     "output_type": "display_data"
    },
    {
     "name": "stderr",
     "output_type": "stream",
     "text": [
      "Failed to parse output. Returning None.\n",
      "D:\\programs\\miniconda3\\envs\\llm_eval\\Lib\\site-packages\\ragas\\evaluation.py:304: RuntimeWarning: Mean of empty slice\n",
      "  value = np.nanmean(self.scores[cn])\n"
     ]
    },
    {
     "data": {
      "application/vnd.jupyter.widget-view+json": {
       "model_id": "8c8b730116624d639501b865a249a64e",
       "version_major": 2,
       "version_minor": 0
      },
      "text/plain": [
       "Evaluating:   0%|          | 0/4 [00:00<?, ?it/s]"
      ]
     },
     "metadata": {},
     "output_type": "display_data"
    },
    {
     "data": {
      "application/vnd.jupyter.widget-view+json": {
       "model_id": "cc026205572e41158ecdf00e551febc1",
       "version_major": 2,
       "version_minor": 0
      },
      "text/plain": [
       "Evaluating:   0%|          | 0/4 [00:00<?, ?it/s]"
      ]
     },
     "metadata": {},
     "output_type": "display_data"
    },
    {
     "name": "stderr",
     "output_type": "stream",
     "text": [
      "Failed to parse output. Returning None.\n",
      "D:\\programs\\miniconda3\\envs\\llm_eval\\Lib\\site-packages\\ragas\\evaluation.py:304: RuntimeWarning: Mean of empty slice\n",
      "  value = np.nanmean(self.scores[cn])\n"
     ]
    },
    {
     "data": {
      "application/vnd.jupyter.widget-view+json": {
       "model_id": "44dfb8fc862f451e826b23e993567ea1",
       "version_major": 2,
       "version_minor": 0
      },
      "text/plain": [
       "Evaluating:   0%|          | 0/4 [00:00<?, ?it/s]"
      ]
     },
     "metadata": {},
     "output_type": "display_data"
    },
    {
     "name": "stderr",
     "output_type": "stream",
     "text": [
      "Failed to parse output. Returning None.\n",
      "D:\\programs\\miniconda3\\envs\\llm_eval\\Lib\\site-packages\\ragas\\evaluation.py:304: RuntimeWarning: Mean of empty slice\n",
      "  value = np.nanmean(self.scores[cn])\n"
     ]
    },
    {
     "data": {
      "application/vnd.jupyter.widget-view+json": {
       "model_id": "3b7d484fd28b403f97f1f4e7438723d6",
       "version_major": 2,
       "version_minor": 0
      },
      "text/plain": [
       "Evaluating:   0%|          | 0/4 [00:00<?, ?it/s]"
      ]
     },
     "metadata": {},
     "output_type": "display_data"
    },
    {
     "data": {
      "application/vnd.jupyter.widget-view+json": {
       "model_id": "8d939a78db6847e0a1c120eebd3e9a2a",
       "version_major": 2,
       "version_minor": 0
      },
      "text/plain": [
       "Evaluating:   0%|          | 0/4 [00:00<?, ?it/s]"
      ]
     },
     "metadata": {},
     "output_type": "display_data"
    }
   ],
   "source": [
    "from ragas.metrics import (\n",
    "    answer_relevancy,\n",
    "    faithfulness,\n",
    "    context_recall,\n",
    "    context_precision,\n",
    ")\n",
    "from ragas import evaluate\n",
    "from langchain_community.embeddings import OllamaEmbeddings\n",
    "from datasets import Dataset\n",
    "\n",
    "metrics = pd.DataFrame(\n",
    "    columns=[\n",
    "        \"context_precision\",\n",
    "        \"faithfulness\",\n",
    "        \"answer_relevancy\",\n",
    "        \"context_recall\"\n",
    "    ])\n",
    "\n",
    "critic_model = \"gemma-2-27b-it-Q6_K_L\"\n",
    "langchain_llm = ChatOllama(model=critic_model, temperature=0)\n",
    "langchain_embeddings = OllamaEmbeddings(model=critic_model)\n",
    "\n",
    "for idx, sample in test_dataset.iterrows():\n",
    "\n",
    "    r = evaluate(\n",
    "        Dataset.from_pandas(pd.DataFrame(sample).T[['question', 'ground_truth', 'answer', 'contexts']]),\n",
    "        metrics=[context_precision,\n",
    "                    faithfulness,\n",
    "                    answer_relevancy,\n",
    "                    context_recall],\n",
    "        llm=langchain_llm,\n",
    "        embeddings=langchain_embeddings,\n",
    "        raise_exceptions=False\n",
    "    )\n",
    "\n",
    "    r = dict(r)\n",
    "    metrics = pd.concat([metrics, pd.DataFrame([r])], axis=0)"
   ]
  },
  {
   "cell_type": "code",
   "execution_count": 167,
   "id": "cd7b839b-8760-4fe4-b939-109280f8addd",
   "metadata": {},
   "outputs": [],
   "source": [
    "metrics.to_csv('./total_metrics.csv', index=False)"
   ]
  },
  {
   "cell_type": "code",
   "execution_count": 178,
   "id": "2022d4ab-ca14-49ae-bc3d-1640ba5d803c",
   "metadata": {},
   "outputs": [
    {
     "data": {
      "text/html": [
       "<div>\n",
       "<style scoped>\n",
       "    .dataframe tbody tr th:only-of-type {\n",
       "        vertical-align: middle;\n",
       "    }\n",
       "\n",
       "    .dataframe tbody tr th {\n",
       "        vertical-align: top;\n",
       "    }\n",
       "\n",
       "    .dataframe thead th {\n",
       "        text-align: right;\n",
       "    }\n",
       "</style>\n",
       "<table border=\"1\" class=\"dataframe\">\n",
       "  <thead>\n",
       "    <tr style=\"text-align: right;\">\n",
       "      <th></th>\n",
       "      <th>context_precision</th>\n",
       "      <th>faithfulness</th>\n",
       "      <th>answer_relevancy</th>\n",
       "      <th>context_recall</th>\n",
       "    </tr>\n",
       "    <tr>\n",
       "      <th>prompt</th>\n",
       "      <th></th>\n",
       "      <th></th>\n",
       "      <th></th>\n",
       "      <th></th>\n",
       "    </tr>\n",
       "  </thead>\n",
       "  <tbody>\n",
       "    <tr>\n",
       "      <th>0</th>\n",
       "      <td>0.679487</td>\n",
       "      <td>0.808976</td>\n",
       "      <td>0.142682</td>\n",
       "      <td>0.626406</td>\n",
       "    </tr>\n",
       "    <tr>\n",
       "      <th>1</th>\n",
       "      <td>0.723684</td>\n",
       "      <td>0.666081</td>\n",
       "      <td>0.140762</td>\n",
       "      <td>0.568128</td>\n",
       "    </tr>\n",
       "    <tr>\n",
       "      <th>2</th>\n",
       "      <td>0.710526</td>\n",
       "      <td>0.779070</td>\n",
       "      <td>0.139452</td>\n",
       "      <td>0.588633</td>\n",
       "    </tr>\n",
       "  </tbody>\n",
       "</table>\n",
       "</div>"
      ],
      "text/plain": [
       "        context_precision  faithfulness  answer_relevancy  context_recall\n",
       "prompt                                                                   \n",
       "0                0.679487      0.808976          0.142682        0.626406\n",
       "1                0.723684      0.666081          0.140762        0.568128\n",
       "2                0.710526      0.779070          0.139452        0.588633"
      ]
     },
     "execution_count": 178,
     "metadata": {},
     "output_type": "execute_result"
    }
   ],
   "source": [
    "pd.concat([metrics.reset_index(drop=True), results[[\"prompt\"]].reset_index(drop=True)], axis=1).set_index(['prompt']).groupby(level=['prompt'])[\n",
    "    [\"context_precision\", \"faithfulness\", \"answer_relevancy\", \"context_recall\"]].mean()"
   ]
  },
  {
   "cell_type": "code",
   "execution_count": 180,
   "id": "5a60a5ec-52a5-4685-8006-96f4c04802e2",
   "metadata": {},
   "outputs": [
    {
     "data": {
      "text/html": [
       "<div>\n",
       "<style scoped>\n",
       "    .dataframe tbody tr th:only-of-type {\n",
       "        vertical-align: middle;\n",
       "    }\n",
       "\n",
       "    .dataframe tbody tr th {\n",
       "        vertical-align: top;\n",
       "    }\n",
       "\n",
       "    .dataframe thead th {\n",
       "        text-align: right;\n",
       "    }\n",
       "</style>\n",
       "<table border=\"1\" class=\"dataframe\">\n",
       "  <thead>\n",
       "    <tr style=\"text-align: right;\">\n",
       "      <th></th>\n",
       "      <th>context_precision</th>\n",
       "      <th>faithfulness</th>\n",
       "      <th>answer_relevancy</th>\n",
       "      <th>context_recall</th>\n",
       "    </tr>\n",
       "    <tr>\n",
       "      <th>prompt</th>\n",
       "      <th></th>\n",
       "      <th></th>\n",
       "      <th></th>\n",
       "      <th></th>\n",
       "    </tr>\n",
       "  </thead>\n",
       "  <tbody>\n",
       "    <tr>\n",
       "      <th>0</th>\n",
       "      <td>39</td>\n",
       "      <td>27</td>\n",
       "      <td>39</td>\n",
       "      <td>35</td>\n",
       "    </tr>\n",
       "    <tr>\n",
       "      <th>1</th>\n",
       "      <td>38</td>\n",
       "      <td>22</td>\n",
       "      <td>39</td>\n",
       "      <td>33</td>\n",
       "    </tr>\n",
       "    <tr>\n",
       "      <th>2</th>\n",
       "      <td>38</td>\n",
       "      <td>27</td>\n",
       "      <td>39</td>\n",
       "      <td>34</td>\n",
       "    </tr>\n",
       "  </tbody>\n",
       "</table>\n",
       "</div>"
      ],
      "text/plain": [
       "        context_precision  faithfulness  answer_relevancy  context_recall\n",
       "prompt                                                                   \n",
       "0                      39            27                39              35\n",
       "1                      38            22                39              33\n",
       "2                      38            27                39              34"
      ]
     },
     "execution_count": 180,
     "metadata": {},
     "output_type": "execute_result"
    }
   ],
   "source": [
    "pd.concat([metrics.reset_index(drop=True), results[[\"prompt\"]].reset_index(drop=True)], axis=1).set_index(['prompt']).groupby(level=['prompt'])[\n",
    "    [\"context_precision\", \"faithfulness\", \"answer_relevancy\", \"context_recall\"]].count()"
   ]
  },
  {
   "cell_type": "markdown",
   "id": "c2925e8a-a40c-4f6d-a3e3-bb0d31b44525",
   "metadata": {},
   "source": [
    "1. Меньше копипасты из контекста, самый выоский показатель верных утверждений.  \n",
    "2. Много ошибок в работе на стадии тестирования.  \n",
    "3. Заимствует больше текста из контекста из за чего происходит просадка по релевантности ответа.  "
   ]
  },
  {
   "cell_type": "code",
   "execution_count": null,
   "id": "5595cf4d-47c6-4775-b622-03fb91d7e5b0",
   "metadata": {},
   "outputs": [],
   "source": []
  }
 ],
 "metadata": {
  "kernelspec": {
   "display_name": "Python 3 (ipykernel)",
   "language": "python",
   "name": "python3"
  },
  "language_info": {
   "codemirror_mode": {
    "name": "ipython",
    "version": 3
   },
   "file_extension": ".py",
   "mimetype": "text/x-python",
   "name": "python",
   "nbconvert_exporter": "python",
   "pygments_lexer": "ipython3",
   "version": "3.12.4"
  }
 },
 "nbformat": 4,
 "nbformat_minor": 5
}
